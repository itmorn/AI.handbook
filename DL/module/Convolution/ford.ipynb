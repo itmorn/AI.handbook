{
 "cells": [
  {
   "cell_type": "markdown",
   "id": "a6755790",
   "metadata": {},
   "source": [
    "[![](./imgs/colab-badge.svg)](https://colab.research.google.com/github/itmorn/AI.handbook/blob/main/DL/module/Convolution/ford.ipynb)"
   ]
  },
  {
   "cell_type": "markdown",
   "id": "c926b307",
   "metadata": {},
   "source": [
    "# Fold\n",
    "Combines an array of sliding local blocks into a large containing tensor.\n",
    "将一个 滑动局部块数组 合并为一个大的张量。\n",
    "\n",
    "定义：  \n",
    "torch.nn.Fold(output_size, kernel_size, dilation=1, padding=0, stride=1)\n",
    "\n",
    "参数：   \n",
    "output_size (int or tuple): the shape of the spatial dimensions of the output (i.e., ``output.sizes()[2:]``)\n",
    "输出的空间维度的形状\n",
    "\n",
    "kernel_size (int or tuple): the size of the sliding blocks\n",
    "滑动块的大小\n",
    "\n",
    "stride (int or tuple, optional): the stride of the sliding blocks in the input spatial dimensions. Default: 1\n",
    "输入空间维度中滑动块的步幅。默认值:1\n",
    "\n",
    "padding (int or tuple, optional): implicit zero padding to be added on both sides of input. Default: 0\n",
    "在输入的两边添加隐式的零填充。默认值:0\n",
    "\n",
    "dilation (int or tuple, optional): a parameter that controls the stride of elements within the neighborhood. Default: 1\n",
    "控制邻域内元素步幅的参数。默认值:1\n"
   ]
  },
  {
   "cell_type": "markdown",
   "id": "9a6b3ced",
   "metadata": {},
   "source": [
    "## 图解参数\n",
    "<p align=\"center\">\n",
    "<a href=\"https://raw.githubusercontent.com/itmorn/AI.handbook/main/DL/module/Convolution/imgsFord/ford.svg\">\n",
    "<img src=\"./imgsFord/ford.svg\"\n",
    "    width=\"2000\" /></a></p>"
   ]
  },
  {
   "cell_type": "code",
   "execution_count": 1,
   "id": "80e2ae0c",
   "metadata": {},
   "outputs": [
    {
     "name": "stdout",
     "output_type": "stream",
     "text": [
      "x\n",
      " tensor([[[ 1.,  2.,  3.,  4.],\n",
      "         [ 5.,  6.,  7.,  8.],\n",
      "         [ 9., 10., 11., 12.],\n",
      "         [13., 14., 15., 16.]]])\n",
      "x_unfold\n",
      " tensor([[ 1.,  3.,  9., 11.],\n",
      "        [ 2.,  4., 10., 12.],\n",
      "        [ 5.,  7., 13., 15.],\n",
      "        [ 6.,  8., 14., 16.]])\n",
      "x_fold\n",
      " tensor([[[34.]]])\n"
     ]
    }
   ],
   "source": [
    "import torch\n",
    "import torch.nn as nn\n",
    "\n",
    "x = torch.Tensor( [[[  1,  2,  3,  4],\n",
    "   \t\t\t\t\t[  5,  6,  7,  8],\n",
    "   \t\t\t\t\t[  9, 10, 11, 12],\n",
    "   \t\t\t\t\t[ 13, 14, 15, 16]]])\n",
    "\n",
    "print(\"x\\n\",x)\n",
    "\n",
    "unfold = nn.Unfold(kernel_size=(2,2), stride=2)\n",
    "x_unfold = unfold(x) \n",
    "print(\"x_unfold\\n\",x_unfold)\n",
    "\n",
    "fold = nn.Fold(output_size=(3,3), kernel_size=(2,2), stride=1, dilation=1,padding=0)\n",
    "fold = nn.Fold(output_size=(4,4), kernel_size=(4,1), stride=1, dilation=1,padding=0)\n",
    "fold = nn.Fold(output_size=(4,4), kernel_size=(2,2), stride=2, dilation=1,padding=0)\n",
    "fold = nn.Fold(output_size=(5,5), kernel_size=(2,2), stride=2, dilation=2,padding=0)\n",
    "fold = nn.Fold(output_size=(3,3), kernel_size=(2,2), stride=2, dilation=2,padding=1)\n",
    "fold = nn.Fold(output_size=(1,1), kernel_size=(2,2), stride=2, dilation=2,padding=2)\n",
    "\n",
    "x_fold = fold(x_unfold)\n",
    "print(\"x_fold\\n\",x_fold)\n",
    "\n"
   ]
  }
 ],
 "metadata": {
  "kernelspec": {
   "display_name": "Python 3.8.13 ('general38')",
   "language": "python",
   "name": "python3"
  },
  "language_info": {
   "codemirror_mode": {
    "name": "ipython",
    "version": 3
   },
   "file_extension": ".py",
   "mimetype": "text/x-python",
   "name": "python",
   "nbconvert_exporter": "python",
   "pygments_lexer": "ipython3",
   "version": "3.8.13"
  },
  "vscode": {
   "interpreter": {
    "hash": "4e00c79739f2fdf113306667eb0b8e68d4274855301e6df90bc305a954991b52"
   }
  }
 },
 "nbformat": 4,
 "nbformat_minor": 5
}
