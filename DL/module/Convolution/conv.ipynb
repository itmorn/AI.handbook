{
 "cells": [
  {
   "cell_type": "markdown",
   "id": "36e625b5",
   "metadata": {},
   "source": [
    "[![](https://colab.research.google.com/assets/colab-badge.svg)](https://colab.research.google.com/github/itmorn/AI.handbook/blob/main/DL/module/Convolution/conv.ipynb)"
   ]
  },
  {
   "cell_type": "markdown",
   "id": "14a8662b",
   "metadata": {},
   "source": [
    "# Conv1d"
   ]
  },
  {
   "cell_type": "markdown",
   "id": "fb34edbc",
   "metadata": {},
   "source": [
    "对由多个输入平面组成的输入信号应用1D卷积。\n",
    "\n",
    "定义：  \n",
    "torch.nn.Conv1d(in_channels, out_channels, kernel_size, stride=1, padding=0, dilation=1, groups=1, bias=True, padding_mode='zeros', device=None, dtype=None)\n",
    "\n",
    "参数：  \n",
    "in_channels (int): Number of channels in the input image\n",
    "输入图像中的通道数\n",
    "\n",
    "out_channels (int): Number of channels produced by the convolution\n",
    "卷积产生的通道数\n",
    "\n",
    "kernel_size (int or tuple): Size of the convolving kernel\n",
    "卷积核的大小\n",
    "\n",
    "stride (int or tuple, optional): Stride of the convolution. Default: 1\n",
    "卷积步幅。默认值:1\n",
    "\n",
    "padding (int, tuple or str, optional): Padding added to both sides of the input. Default: 0\n",
    "输入框两边的添加的Padding尺寸。默认值:0\n",
    "\n",
    "padding_mode (str, optional): ``'zeros'``, ``'reflect'``, ``'replicate'`` or ``'circular'``. Default: ``'zeros'``\n",
    "添加Padding的方式\n",
    "\n",
    "dilation (int or tuple, optional): Spacing between kernel elements. Default: 1\n",
    "卷积核元素之间的间距\n",
    "\n",
    "groups (int, optional): Number of blocked connections from input channels to output channels. Default: 1\n",
    "分组卷积\n",
    "\n",
    "bias (bool, optional): If ``True``, adds a learnable bias to the output. Default: ``True``\n",
    "添加一个可学习的偏置项\n",
    "\n"
   ]
  },
  {
   "cell_type": "markdown",
   "id": "3006d014",
   "metadata": {},
   "source": [
    "## in_channels、out_channels、kernel_size\n",
    "\n",
    "<p align=\"center\">\n",
    "<img src=\"./imgs/conv1d.svg\"\n",
    "    width=\"1200\" /></p>"
   ]
  },
  {
   "cell_type": "code",
   "execution_count": 12,
   "id": "05f9d3e2",
   "metadata": {},
   "outputs": [
    {
     "name": "stdout",
     "output_type": "stream",
     "text": [
      "input: tensor([[[-0.7747,  0.7926, -0.0062, -0.4377,  0.7148],\n",
      "         [ 0.3590, -0.1242,  2.0345, -0.3479, -0.4007]],\n",
      "\n",
      "        [[ 0.8059, -0.1021,  0.3168, -0.8889,  1.1768],\n",
      "         [ 0.8074,  0.9144,  1.6259, -0.6535, -0.0865]]])\n",
      "m.weight: Parameter containing:\n",
      "tensor([[[-0.0783, -0.0347, -0.0791],\n",
      "         [-0.3860,  0.3662, -0.0087]],\n",
      "\n",
      "        [[-0.2497, -0.3820, -0.3683],\n",
      "         [ 0.0319,  0.0496,  0.0144]]], requires_grad=True)\n",
      "output: tensor([[[-0.1682,  0.7688, -0.9502],\n",
      "         [-0.0725,  0.0577, -0.0527]],\n",
      "\n",
      "        [[-0.0756,  0.3155, -0.9533],\n",
      "         [-0.1843,  0.3324, -0.1548]]], grad_fn=<ConvolutionBackward0>)\n"
     ]
    }
   ],
   "source": [
    "import torch\n",
    "import torch.nn as nn\n",
    "torch.manual_seed(666)\n",
    "\n",
    "batch_size = 2\n",
    "in_channels = 2\n",
    "sequence_length = 5\n",
    "input = torch.randn(batch_size, in_channels, sequence_length)\n",
    "print(\"input:\",input)\n",
    "\n",
    "m = nn.Conv1d(in_channels=in_channels, out_channels=2, kernel_size=3, stride=1, padding=0,\n",
    "              dilation=1, groups=1, bias=False, padding_mode='zeros', device=None, dtype=None)\n",
    "\n",
    "print(\"m.weight:\",m.weight)\n",
    "\n",
    "output = m(input)\n",
    "print(\"output:\",output)\n"
   ]
  },
  {
   "cell_type": "code",
   "execution_count": 15,
   "id": "4680baca",
   "metadata": {},
   "outputs": [
    {
     "name": "stdout",
     "output_type": "stream",
     "text": [
      "-0.16810998000000002\n",
      "-0.07245857\n"
     ]
    }
   ],
   "source": [
    "import numpy as np\n",
    "input_part = np.array([\n",
    "    [-0.7747, 0.7926, -0.0062],\n",
    "    [0.3590, -0.1242, 2.0345]\n",
    "])\n",
    "\n",
    "kernel_1 = np.array([\n",
    "    [-0.0783, -0.0347, -0.0791],\n",
    "    [-0.3860, 0.3662, -0.0087]\n",
    "])\n",
    "print(np.sum(input_part*kernel_1))\n",
    "\n",
    "kernel_2 = np.array([\n",
    "    [-0.2497, -0.3820, -0.3683],\n",
    "    [0.0319,  0.0496,  0.0144]\n",
    "])\n",
    "print(np.sum(input_part*kernel_2))\n"
   ]
  },
  {
   "cell_type": "markdown",
   "id": "78102bae",
   "metadata": {},
   "source": [
    "# 参考资料\n",
    "\n",
    "[《人工智能导论：模型与算法》](https://item.jd.com/12653461.html)\n",
    "\n",
    "[《统计学习方法》](https://item.jd.com/12522197.html)\n",
    "\n",
    "[《机器学习》](https://item.jd.com/12762673.html)\n",
    "\n",
    "[FIVE KEY ASSUMPTIONS OF LINEAR REGRESSION ALGORITHM](https://dataaspirant.com/assumptions-of-linear-regression-algorithm/)"
   ]
  }
 ],
 "metadata": {
  "kernelspec": {
   "display_name": "Python 3.8.13 ('general38')",
   "language": "python",
   "name": "python3"
  },
  "language_info": {
   "codemirror_mode": {
    "name": "ipython",
    "version": 3
   },
   "file_extension": ".py",
   "mimetype": "text/x-python",
   "name": "python",
   "nbconvert_exporter": "python",
   "pygments_lexer": "ipython3",
   "version": "3.8.13"
  },
  "vscode": {
   "interpreter": {
    "hash": "4e00c79739f2fdf113306667eb0b8e68d4274855301e6df90bc305a954991b52"
   }
  }
 },
 "nbformat": 4,
 "nbformat_minor": 5
}
