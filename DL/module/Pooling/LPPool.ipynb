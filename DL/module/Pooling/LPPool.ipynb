{
 "cells": [
  {
   "cell_type": "markdown",
   "id": "6c202a11",
   "metadata": {},
   "source": [
    "[![](https://colab.research.google.com/assets/colab-badge.svg)](https://colab.research.google.com/github/itmorn/AI.handbook/blob/main/DL/module/Pooling/LPPool.ipynb)"
   ]
  },
  {
   "cell_type": "markdown",
   "id": "14a8662b",
   "metadata": {},
   "source": [
    "# LPPool2d\n",
    "Applies a 2D power-average pooling over an input signal composed of several input planes.  \n",
    "对由多个输入平面组成的输入信号上应用2D幂平均池。\n",
    " \n",
    "定义：        \n",
    "torch.nn.LPPool2d(norm_type, kernel_size, stride=None, ceil_mode=False)\n",
    "\n",
    "\n",
    "参数:   \n",
    "norm_type  \n",
    "计算时需要指定的正参数p  \n",
    "$$f(X) = \\sqrt[p]{\\sum_{x \\in X} x^{p}}$$\n",
    "\n",
    "kernel_size (Union[int, Tuple[int, int]]) – the size of the window  \n",
    "需要执行分数最大池化的窗口大小\n",
    "\n",
    "stride (Union[int, Tuple[int, int]]) – the stride of the window. Default value is kernel_size  \n",
    "窗口的步幅。默认值为kernel_size\n",
    "\n",
    "ceil_mode (bool) – when True, will use ceil instead of floor to compute the output shape  \n",
    "当为True时，将使用' ceil '而不是' floor '来计算输出形状"
   ]
  },
  {
   "cell_type": "code",
   "execution_count": 8,
   "id": "4b08cfc9",
   "metadata": {},
   "outputs": [
    {
     "name": "stdout",
     "output_type": "stream",
     "text": [
      "input:\n",
      " tensor([[[ 1.,  2.,  3.,  4.],\n",
      "         [ 5.,  6.,  7.,  8.],\n",
      "         [ 9., 10., 11., 12.],\n",
      "         [13., 14., 15., 16.]]])\n",
      "output:\n",
      " tensor([[[ 8.1240, 11.7473],\n",
      "         [23.3666, 27.3130]]])\n"
     ]
    }
   ],
   "source": [
    "import torch\n",
    "import torch.nn as nn\n",
    "torch.manual_seed(666)\n",
    "\n",
    "input = torch.Tensor([[[ 1,  2,  3,  4],\n",
    "   \t\t\t\t\t  [  5,  6,  7,  8],\n",
    "   \t\t\t\t\t  [  9, 10, 11, 12],\n",
    "   \t\t\t\t\t  [ 13, 14, 15, 16]]])\n",
    "print(\"input:\\n\",input)\n",
    "\n",
    "m = nn.LPPool2d(norm_type=2, kernel_size=2, stride=2,ceil_mode=True)\n",
    "\n",
    "output = m(input)\n",
    "print(\"output:\\n\",output) "
   ]
  },
  {
   "cell_type": "code",
   "execution_count": 9,
   "id": "2e0355d9",
   "metadata": {},
   "outputs": [
    {
     "name": "stdout",
     "output_type": "stream",
     "text": [
      "8.12403840463596\n"
     ]
    }
   ],
   "source": [
    "import numpy as np\n",
    "input_part = np.array([\n",
    "    [1, 2],\n",
    "    [5, 6]\n",
    "])\n",
    "p=2\n",
    "print((np.sum(input_part**p))**(1/p))\n",
    "\n"
   ]
  }
 ],
 "metadata": {
  "kernelspec": {
   "display_name": "Python 3.8.13 ('general38')",
   "language": "python",
   "name": "python3"
  },
  "language_info": {
   "codemirror_mode": {
    "name": "ipython",
    "version": 3
   },
   "file_extension": ".py",
   "mimetype": "text/x-python",
   "name": "python",
   "nbconvert_exporter": "python",
   "pygments_lexer": "ipython3",
   "version": "3.8.13"
  },
  "vscode": {
   "interpreter": {
    "hash": "4e00c79739f2fdf113306667eb0b8e68d4274855301e6df90bc305a954991b52"
   }
  }
 },
 "nbformat": 4,
 "nbformat_minor": 5
}
