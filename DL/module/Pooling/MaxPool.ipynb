{
 "cells": [
  {
   "cell_type": "markdown",
   "id": "6c202a11",
   "metadata": {},
   "source": [
    "[![](https://colab.research.google.com/assets/colab-badge.svg)](https://colab.research.google.com/github/itmorn/AI.handbook/blob/main/DL/module/Pooling/MaxPool.ipynb)"
   ]
  },
  {
   "cell_type": "markdown",
   "id": "14a8662b",
   "metadata": {},
   "source": [
    "# MaxPool2d\n",
    "Applies a 2D max pooling over an input signal composed of several input planes.\n",
    "对由多个输入平面组成的输入信号应用2D最大池化。\n",
    " \n",
    "定义：       \n",
    "torch.nn.MaxPool2d(kernel_size, stride=None, padding=0, dilation=1, return_indices=False, ceil_mode=False)\n",
    "\n",
    "参数：  \n",
    "kernel_size: the size of the window to take a max over  \n",
    "核尺寸： 需要执行max的窗口大小\n",
    "\n",
    "stride: the stride of the window. Default value is :attr:`kernel_size`  \n",
    "步幅： window的步幅。默认值为:kernel_size\n",
    " \n",
    "padding: implicit zero padding to be added on both sides  \n",
    "填充: 在两边添加隐式的零填充\n",
    "\n",
    "dilation: a parameter that controls the stride of elements in the window  \n",
    "膨胀: 控制window中元素的间隔\n",
    "\n",
    "return_indices: if ``True``, will return the max indices along with the outputs.Useful for :class:`torch.nn.MaxUnpool2d` later  \n",
    "返回索引: 如果True，将返回输出的最大索引。对MaxUnpool2d有用  \n",
    "\n",
    "ceil_mode: when True, will use `ceil` instead of `floor` to compute the output shape  \n",
    "ceil模式: 当为True时，将使用' ceil '而不是' floor '来计算输出形状"
   ]
  },
  {
   "cell_type": "markdown",
   "id": "f18b8acf",
   "metadata": {},
   "source": [
    "## 图解参数\n",
    "\n",
    "<p align=\"center\">\n",
    "<a href=\"https://raw.githubusercontent.com/itmorn/AI.handbook/main/DL/module/Pooling/imgsMaxPool/MaxPool.svg\">\n",
    "<img src=\"./imgsMaxPool/MaxPool.svg\"\n",
    "    width=\"2000\" /></a></p>"
   ]
  },
  {
   "cell_type": "code",
   "execution_count": 6,
   "id": "a6df8cb5",
   "metadata": {},
   "outputs": [
    {
     "name": "stdout",
     "output_type": "stream",
     "text": [
      "input:\n",
      " tensor([[[ 1.,  2.,  3.,  4.],\n",
      "         [ 5.,  6.,  7.,  8.],\n",
      "         [ 9., 10., 11., 12.],\n",
      "         [13., 14., 15., 16.]]])\n",
      "output:\n",
      " tensor([[[11., 12.],\n",
      "         [15., 16.]]])\n"
     ]
    }
   ],
   "source": [
    "import torch\n",
    "import torch.nn as nn\n",
    "\n",
    "input = torch.Tensor([[[ 1,  2,  3,  4],\n",
    "   \t\t\t\t\t  [  5,  6,  7,  8],\n",
    "   \t\t\t\t\t  [  9, 10, 11, 12],\n",
    "   \t\t\t\t\t  [ 13, 14, 15, 16]]])\n",
    "\n",
    "print(\"input:\\n\",input)\n",
    "\n",
    "m = nn.MaxPool2d(kernel_size=2, stride=None, padding=0, dilation=1, return_indices=False, ceil_mode=False)\n",
    "m = nn.MaxPool2d(kernel_size=3, stride=None, padding=0, dilation=1, return_indices=False, ceil_mode=True)\n",
    "# m = nn.MaxPool2d(kernel_size=3, stride=None, padding=0, dilation=1, return_indices=False, ceil_mode=True)\n",
    "# m = nn.MaxPool2d(kernel_size=3, stride=1, padding=0, dilation=1, return_indices=False, ceil_mode=False)\n",
    "# m = nn.MaxPool2d(kernel_size=3, stride=None, padding=1, dilation=1, return_indices=False, ceil_mode=False)\n",
    "# m = nn.MaxPool2d(kernel_size=2, stride=3, padding=1, dilation=2, return_indices=False, ceil_mode=False)\n",
    "\n",
    "\n",
    "output = m(input)\n",
    "print(\"output:\\n\",output)"
   ]
  },
  {
   "cell_type": "markdown",
   "id": "0dc20f67",
   "metadata": {},
   "source": [
    "# MaxPool1d和MaxPool3d和MaxPool2d类似\n",
    "部分原理可参考Conv部分（里面有针对1、2、3维更详细的图解）  \n",
    "[![](https://colab.research.google.com/assets/colab-badge.svg)](https://colab.research.google.com/github/itmorn/AI.handbook/blob/main/DL/module/Convolution/Conv.ipynb)"
   ]
  }
 ],
 "metadata": {
  "kernelspec": {
   "display_name": "Python 3.8.13 ('general38')",
   "language": "python",
   "name": "python3"
  },
  "language_info": {
   "codemirror_mode": {
    "name": "ipython",
    "version": 3
   },
   "file_extension": ".py",
   "mimetype": "text/x-python",
   "name": "python",
   "nbconvert_exporter": "python",
   "pygments_lexer": "ipython3",
   "version": "3.8.13"
  },
  "vscode": {
   "interpreter": {
    "hash": "4e00c79739f2fdf113306667eb0b8e68d4274855301e6df90bc305a954991b52"
   }
  }
 },
 "nbformat": 4,
 "nbformat_minor": 5
}
