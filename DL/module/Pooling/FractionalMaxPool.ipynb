{
 "cells": [
  {
   "cell_type": "markdown",
   "id": "6c202a11",
   "metadata": {},
   "source": [
    "[![](https://colab.research.google.com/assets/colab-badge.svg)](https://colab.research.google.com/github/itmorn/AI.handbook/blob/main/DL/module/Pooling/FractionalMaxPool.ipynb)"
   ]
  },
  {
   "cell_type": "markdown",
   "id": "14a8662b",
   "metadata": {},
   "source": [
    "# FractionalMaxPool2d\n",
    "Applies a 2D fractional max pooling over an input signal composed of several input planes.\n",
    "对由多个输入平面组成的输入信号应用2D分数最大池化。\n",
    "用户可以指定一个分数，该算子在执行最大值池化的同时，使得输出的尺寸 = 输入尺寸 * 分数  \n",
    " \n",
    "定义：        \n",
    "torch.nn.FractionalMaxPool2d(kernel_size, output_size=None, output_ratio=None, return_indices=False, _random_samples=None)\n",
    "\n",
    "参数:   \n",
    "kernel_size (Union[int, Tuple[int, int]]) – the size of the window to take a max over. Can be a single number k (for a square kernel of k x k) or a tuple (kh, kw).  \n",
    "需要执行分数最大池化的窗口大小\n",
    "\n",
    "output_size (Union[int, Tuple[int, int]]) – the target output size of the image of the form oH x oW. Can be a tuple (oH, oW) or a single number oH for a square image oH x oH.    \n",
    "图像的目标输出大小\n",
    "\n",
    "output_ratio (Union[float, Tuple[float, float]]) – If one wants to have an output size as a ratio of the input size, this option can be given. This has to be a number or tuple in the range (0, 1).   \n",
    "如果想要输出大小与输入大小的比例，可以用这个选项。\n",
    "\n",
    "return_indices (bool) – if True, will return the indices along with the outputs. Useful to pass to nn.MaxUnpool2d(). Default: False..  \n",
    "返回索引: 如果True，将返回输出的最大索引。对MaxUnpool2d有用  "
   ]
  },
  {
   "cell_type": "code",
   "execution_count": 86,
   "id": "4b08cfc9",
   "metadata": {},
   "outputs": [
    {
     "name": "stdout",
     "output_type": "stream",
     "text": [
      "output:\n",
      " tensor([[[ 0.7926,  1.6640,  0.7148,  2.0345,  0.9017,  0.1841,  0.3168],\n",
      "         [ 1.1768,  0.7238,  1.3477,  0.4811,  0.3937,  1.9797,  0.7723],\n",
      "         [ 0.7608,  0.6152,  0.8625,  2.2317,  0.3444,  1.0192,  0.8957],\n",
      "         [ 1.9689,  1.2166,  1.3088,  0.4610,  1.4115,  1.4704,  1.9934],\n",
      "         [ 0.2263,  1.6159,  1.0392,  0.9616,  1.9838, -0.6058,  1.4160],\n",
      "         [ 1.3601,  2.7006,  1.1341,  1.4991,  0.7380,  0.7552,  0.1519],\n",
      "         [ 1.8518,  1.1248,  1.0109,  2.6233,  1.8769, -0.0417,  1.7403]]])\n"
     ]
    }
   ],
   "source": [
    "import torch\n",
    "import torch.nn as nn\n",
    "torch.manual_seed(666)\n",
    "\n",
    "C = 1  # 输入通道数\n",
    "H = 15  # 输入高度\n",
    "W = 15  # 输入宽度\n",
    "input = torch.randn(C, H, W)\n",
    "\n",
    "# 调节output_ratio=0.5，算法可以自动选择池化方式\n",
    "m = nn.FractionalMaxPool2d(kernel_size=2, output_size=None, output_ratio=0.5, return_indices=False)\n",
    "\n",
    "output = m(input)\n",
    "print(\"output:\\n\",output)"
   ]
  }
 ],
 "metadata": {
  "kernelspec": {
   "display_name": "Python 3.8.13 ('general38')",
   "language": "python",
   "name": "python3"
  },
  "language_info": {
   "codemirror_mode": {
    "name": "ipython",
    "version": 3
   },
   "file_extension": ".py",
   "mimetype": "text/x-python",
   "name": "python",
   "nbconvert_exporter": "python",
   "pygments_lexer": "ipython3",
   "version": "3.8.13"
  },
  "vscode": {
   "interpreter": {
    "hash": "4e00c79739f2fdf113306667eb0b8e68d4274855301e6df90bc305a954991b52"
   }
  }
 },
 "nbformat": 4,
 "nbformat_minor": 5
}
