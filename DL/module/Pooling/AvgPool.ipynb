{
 "cells": [
  {
   "cell_type": "markdown",
   "id": "6c202a11",
   "metadata": {},
   "source": [
    "[![](https://colab.research.google.com/assets/colab-badge.svg)](https://colab.research.google.com/github/itmorn/AI.handbook/blob/main/DL/module/Pooling/AvgPool.ipynb)"
   ]
  },
  {
   "cell_type": "markdown",
   "id": "14a8662b",
   "metadata": {},
   "source": [
    "# AvgPool2d\n",
    "Applies a 2D average pooling over an input signal composed of several input planes.\n",
    "对由多个输入平面组成的输入信号应用2D平均池化。\n",
    " \n",
    "定义：        \n",
    "torch.nn.AvgPool2d(kernel_size, stride=None, padding=0, ceil_mode=False, count_include_pad=True, divisor_override=None)\n",
    "\n",
    "\n",
    "参数:   \n",
    "kernel_size (Union[int, Tuple[int, int]]) – the size of the window.  \n",
    "    需要执行平均池化的窗口大小\n",
    "\n",
    "stride (Union[int, Tuple[int, int]]) – the stride of the window. Default value is kernel_size.    \n",
    "    window的步幅。默认值为:kernel_size\n",
    "\n",
    "padding (Union[int, Tuple[int, int]]) – implicit zero padding to be added on both sides.  \n",
    "    添加隐式的零填充\n",
    "\n",
    "ceil_mode (bool) – when True, will use ceil instead of floor to compute the output shape.   \n",
    "    ceil模式: 当为True时，将使用' ceil '而不是' floor '来计算输出形状。卷积核如果部分超出张量时，ceil模式下正常计算，floor模式下丢弃。\n",
    "\n",
    "count_include_pad (bool) – when True, will include the zero-padding in the averaging calculation.  \n",
    "    当为True时，将在平均计算中包括零填充。\n",
    "\n",
    "divisor_override (Optional[int]) – if specified, it will be used as divisor, otherwise size of the pooling region will be used.\n",
    "    如果指定了，它将被用作除数，否则将使用池化区域的大小。\n"
   ]
  },
  {
   "cell_type": "markdown",
   "id": "f18b8acf",
   "metadata": {},
   "source": [
    "## 图解参数\n",
    "\n",
    "<p align=\"center\">\n",
    "<a href=\"https://raw.githubusercontent.com/itmorn/AI.handbook/main/DL/module/Pooling/imgsAvgPool/AvgPool.svg\">\n",
    "<img src=\"./imgsAvgPool/AvgPool.svg\"\n",
    "    width=\"2000\" /></a></p>"
   ]
  },
  {
   "cell_type": "code",
   "execution_count": 12,
   "id": "a6df8cb5",
   "metadata": {},
   "outputs": [
    {
     "name": "stdout",
     "output_type": "stream",
     "text": [
      "input:\n",
      " tensor([[[ 1.,  2.,  3.,  4.],\n",
      "         [ 5.,  6.,  7.,  8.],\n",
      "         [ 9., 10., 11., 12.],\n",
      "         [13., 14., 15., 16.]]])\n",
      "output:\n",
      " tensor([[[ 7., 11.],\n",
      "         [23., 27.]]])\n"
     ]
    }
   ],
   "source": [
    "import torch\n",
    "import torch.nn as nn\n",
    "\n",
    "input = torch.Tensor([[[ 1,  2,  3,  4],\n",
    "   \t\t\t\t\t  [  5,  6,  7,  8],\n",
    "   \t\t\t\t\t  [  9, 10, 11, 12],\n",
    "   \t\t\t\t\t  [ 13, 14, 15, 16]]])\n",
    "\n",
    "print(\"input:\\n\",input)\n",
    "\n",
    "m = nn.AvgPool2d(kernel_size=2, stride=None, padding=0, ceil_mode=False, count_include_pad=True, divisor_override=None)\n",
    "m = nn.AvgPool2d(kernel_size=3, stride=None, padding=0, ceil_mode=False, count_include_pad=True, divisor_override=None)\n",
    "m = nn.AvgPool2d(kernel_size=3, stride=None, padding=0, ceil_mode=True, count_include_pad=True, divisor_override=None)\n",
    "m = nn.AvgPool2d(kernel_size=3, stride=1,    padding=0, ceil_mode=False, count_include_pad=True, divisor_override=None)\n",
    "m = nn.AvgPool2d(kernel_size=3, stride=None, padding=1, ceil_mode=False, count_include_pad=True, divisor_override=None)\n",
    "m = nn.AvgPool2d(kernel_size=3, stride=None, padding=1, ceil_mode=False, count_include_pad=False, divisor_override=None)\n",
    "m = nn.AvgPool2d(kernel_size=2, stride=None, padding=0, ceil_mode=False, count_include_pad=True, divisor_override=2)\n",
    "\n",
    "output = m(input)\n",
    "print(\"output:\\n\",output)"
   ]
  },
  {
   "cell_type": "markdown",
   "id": "0dc20f67",
   "metadata": {},
   "source": [
    "# AvgPool1d 、 AvgPool3d 和 AvgPool2d 类似\n",
    "部分原理可参考Conv部分（里面有针对1、2、3维更详细的图解）  \n",
    "[![](https://colab.research.google.com/assets/colab-badge.svg)](https://colab.research.google.com/github/itmorn/AI.handbook/blob/main/DL/module/Convolution/Conv.ipynb)"
   ]
  }
 ],
 "metadata": {
  "kernelspec": {
   "display_name": "Python 3.8.13 ('general38')",
   "language": "python",
   "name": "python3"
  },
  "language_info": {
   "codemirror_mode": {
    "name": "ipython",
    "version": 3
   },
   "file_extension": ".py",
   "mimetype": "text/x-python",
   "name": "python",
   "nbconvert_exporter": "python",
   "pygments_lexer": "ipython3",
   "version": "3.8.13"
  },
  "vscode": {
   "interpreter": {
    "hash": "4e00c79739f2fdf113306667eb0b8e68d4274855301e6df90bc305a954991b52"
   }
  }
 },
 "nbformat": 4,
 "nbformat_minor": 5
}
