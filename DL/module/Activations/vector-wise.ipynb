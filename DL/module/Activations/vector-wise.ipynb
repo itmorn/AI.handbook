{
 "cells": [
  {
   "attachments": {},
   "cell_type": "markdown",
   "id": "6c202a11",
   "metadata": {},
   "source": [
    "[![](https://colab.research.google.com/assets/colab-badge.svg)](https://colab.research.google.com/github/itmorn/AI.handbook/blob/main/DL/module/Activations/vector-wise.ipynb)"
   ]
  },
  {
   "attachments": {},
   "cell_type": "markdown",
   "id": "14a8662b",
   "metadata": {},
   "source": [
    "# Softmin\n",
    "Applies the Softmin function to an n-dimensional input Tensor rescaling them so that the elements of the n-dimensional output Tensor lie in the range [0, 1] and sum to 1.  \n",
    "将Softmin函数应用到一个n维输入张量，重新缩放它们，使n维输出张量的元素位于[0,1]范围内，并且和为1。\n",
    "\n",
    "\n",
    "公式：  \n",
    "$$\\text{Softmin}(x_{i}) = \\frac{\\exp(-x_i)}{\\sum_j \\exp(-x_j)}$$\n",
    "\n",
    "定义：  \n",
    "torch.nn.Softmin(dim=None)\n",
    "\n",
    "参数:  \n",
    "- dim (int): A dimension along which Softmin will be computed (so every slice along dim will sum to 1).  Softmin将沿着这个维度计算(因此沿着dim的每个切片的和将为1)\n"
   ]
  },
  {
   "cell_type": "code",
   "execution_count": 3,
   "id": "4b08cfc9",
   "metadata": {},
   "outputs": [
    {
     "data": {
      "image/png": "[encoded data removed]",
      "text/plain": [
       "<Figure size 640x480 with 1 Axes>"
      ]
     },
     "metadata": {},
     "output_type": "display_data"
    }
   ],
   "source": [
    "import torch\n",
    "import torch.nn as nn\n",
    "import matplotlib.pyplot as plt\n",
    "\n",
    "input = torch.arange(start=-10,end=10,step=0.4, dtype=torch.float)\n",
    "\n",
    "m = nn.Softmin(dim=0)\n",
    "\n",
    "output = m(input)\n",
    "plt.scatter(input,output,marker=\".\")\n",
    "plt.show()"
   ]
  },
  {
   "attachments": {},
   "cell_type": "markdown",
   "id": "292accfb",
   "metadata": {},
   "source": [
    "# Softmax\n",
    "Applies the Softmax function to an n-dimensional input Tensor rescaling them so that the elements of the n-dimensional output Tensor lie in the range [0,1] and sum to 1.\n",
    "将Softmax函数应用到一个n维输入张量，重新缩放它们，使n维输出张量的元素位于[0,1]范围内，并且和为1。\n",
    "\n",
    "公式：  \n",
    "$$\\text{Softmax}(x_{i}) = \\frac{\\exp(x_i)}{\\sum_j \\exp(x_j)}$$\n",
    "\n",
    "定义：  \n",
    "torch.nn.Softmax(dim=None)\n",
    "\n",
    "参数:  \n",
    "- dim (int): A dimension along which Softmin will be computed (so every slice along dim will sum to 1).  Softmin将沿着这个维度计算(因此沿着dim的每个切片的和将为1)\n"
   ]
  },
  {
   "cell_type": "code",
   "execution_count": 4,
   "id": "6102f972",
   "metadata": {},
   "outputs": [
    {
     "data": {
      "image/png": "[encoded data removed]",
      "text/plain": [
       "<Figure size 640x480 with 1 Axes>"
      ]
     },
     "metadata": {},
     "output_type": "display_data"
    }
   ],
   "source": [
    "import torch\n",
    "import torch.nn as nn\n",
    "import matplotlib.pyplot as plt\n",
    "\n",
    "input = torch.arange(start=-10,end=10,step=0.4, dtype=torch.float)\n",
    "\n",
    "m = nn.Softmax(dim=0)\n",
    "\n",
    "output = m(input)\n",
    "plt.scatter(input,output,marker=\".\")\n",
    "plt.show()"
   ]
  },
  {
   "attachments": {},
   "cell_type": "markdown",
   "id": "bff124dc",
   "metadata": {},
   "source": [
    "# Softmax2d\n",
    "Applies SoftMax over features to each spatial location.\n",
    "在每个空间位置应用SoftMax。  \n",
    "\n",
    "公式：  \n",
    "When given an image of Channels x Height x Width, it will apply $Softmax$ to each location $(Channels, h_i, w_j)$\n",
    "\n",
    "定义：  \n",
    "torch.nn.Softmax2d()"
   ]
  },
  {
   "cell_type": "code",
   "execution_count": 10,
   "id": "230a4852",
   "metadata": {},
   "outputs": [
    {
     "name": "stdout",
     "output_type": "stream",
     "text": [
      "input:\n",
      " tensor([[[-0.7747,  0.7926, -0.3170],\n",
      "         [ 1.6640,  0.7148,  0.3590],\n",
      "         [-0.1242,  2.0345, -0.3479]],\n",
      "\n",
      "        [[-0.4007,  0.1841,  0.0934],\n",
      "         [ 0.3168, -0.8889,  1.1768],\n",
      "         [ 0.8074,  0.9144,  1.6259]]])\n",
      "output:\n",
      " torch.Size([2, 3, 3])\n",
      "tensor([[[0.4076, 0.6476, 0.3988],\n",
      "         [0.7937, 0.8325, 0.3062],\n",
      "         [0.2826, 0.7540, 0.1220]],\n",
      "\n",
      "        [[0.5924, 0.3524, 0.6012],\n",
      "         [0.2063, 0.1675, 0.6938],\n",
      "         [0.7174, 0.2460, 0.8780]]])\n"
     ]
    }
   ],
   "source": [
    "import torch\n",
    "import torch.nn as nn\n",
    "torch.manual_seed(666)\n",
    "\n",
    "C = 2  # 输入通道数\n",
    "H = 3  # 输入高度\n",
    "W = 3  # 输入宽度\n",
    "input = torch.randn( C, H, W)\n",
    "print(\"input:\\n\", input)\n",
    "\n",
    "m = nn.Softmax2d()\n",
    "\n",
    "output = m(input)\n",
    "print(\"output:\\n\", output.shape)\n",
    "print(output)\n"
   ]
  },
  {
   "cell_type": "markdown",
   "id": "75e71196",
   "metadata": {},
   "source": [
    "# LogSoftmax\n",
    "\n",
    "Applies the $\\log(\\text{Softmax}(x))$ function to an n-dimensional input Tensor. The LogSoftmax formulation can be simplified as:\n",
    "\n",
    "\n",
    "公式：  \n",
    "$$\\text{LogSoftmax}(x_{i}) = \\log\\left(\\frac{\\exp(x_i) }{ \\sum_j \\exp(x_j)} \\right)$$\n",
    "\n",
    "定义：  \n",
    "torch.nn.LogSoftmax(dim=None)\n",
    "\n",
    "参数:  \n",
    "- dim (int) – A dimension along which LogSoftmax will be computed.  LogSoftmax将沿着这个维度计算.\n"
   ]
  },
  {
   "cell_type": "code",
   "execution_count": 13,
   "id": "5a00ba94",
   "metadata": {},
   "outputs": [
    {
     "name": "stdout",
     "output_type": "stream",
     "text": [
      "input:\n",
      " tensor([-1.0000e+01, -9.6000e+00, -9.2000e+00, -8.8000e+00, -8.4000e+00,\n",
      "        -8.0000e+00, -7.6000e+00, -7.2000e+00, -6.8000e+00, -6.4000e+00,\n",
      "        -6.0000e+00, -5.6000e+00, -5.2000e+00, -4.8000e+00, -4.4000e+00,\n",
      "        -4.0000e+00, -3.6000e+00, -3.2000e+00, -2.8000e+00, -2.4000e+00,\n",
      "        -2.0000e+00, -1.6000e+00, -1.2000e+00, -8.0000e-01, -4.0000e-01,\n",
      "        -5.9605e-09,  4.0000e-01,  8.0000e-01,  1.2000e+00,  1.6000e+00,\n",
      "         2.0000e+00,  2.4000e+00,  2.8000e+00,  3.2000e+00,  3.6000e+00,\n",
      "         4.0000e+00,  4.4000e+00,  4.8000e+00,  5.2000e+00,  5.6000e+00,\n",
      "         6.0000e+00,  6.4000e+00,  6.8000e+00,  7.2000e+00,  7.6000e+00,\n",
      "         8.0000e+00,  8.4000e+00,  8.8000e+00,  9.2000e+00,  9.6000e+00])\n",
      "output:\n",
      " tensor([-20.7096, -20.3096, -19.9096, -19.5096, -19.1096, -18.7096, -18.3096,\n",
      "        -17.9096, -17.5096, -17.1096, -16.7096, -16.3096, -15.9096, -15.5096,\n",
      "        -15.1096, -14.7096, -14.3096, -13.9096, -13.5096, -13.1096, -12.7096,\n",
      "        -12.3096, -11.9096, -11.5096, -11.1096, -10.7096, -10.3096,  -9.9096,\n",
      "         -9.5096,  -9.1096,  -8.7096,  -8.3096,  -7.9096,  -7.5096,  -7.1096,\n",
      "         -6.7096,  -6.3096,  -5.9096,  -5.5096,  -5.1096,  -4.7096,  -4.3096,\n",
      "         -3.9096,  -3.5096,  -3.1096,  -2.7096,  -2.3096,  -1.9096,  -1.5096,\n",
      "         -1.1096])\n"
     ]
    }
   ],
   "source": [
    "import torch\n",
    "import torch.nn as nn\n",
    "\n",
    "input = torch.arange(start=-10,end=10,step=0.4, dtype=torch.float)\n",
    "print(\"input:\\n\", input)\n",
    "\n",
    "m = nn.LogSoftmax(dim=0)\n",
    "\n",
    "output = m(input)\n",
    "print(\"output:\\n\", output)"
   ]
  }
 ],
 "metadata": {
  "kernelspec": {
   "display_name": "Python 3.8.13 ('general38')",
   "language": "python",
   "name": "python3"
  },
  "language_info": {
   "codemirror_mode": {
    "name": "ipython",
    "version": 3
   },
   "file_extension": ".py",
   "mimetype": "text/x-python",
   "name": "python",
   "nbconvert_exporter": "python",
   "pygments_lexer": "ipython3",
   "version": "3.8.13"
  },
  "vscode": {
   "interpreter": {
    "hash": "4e00c79739f2fdf113306667eb0b8e68d4274855301e6df90bc305a954991b52"
   }
  }
 },
 "nbformat": 4,
 "nbformat_minor": 5
}
