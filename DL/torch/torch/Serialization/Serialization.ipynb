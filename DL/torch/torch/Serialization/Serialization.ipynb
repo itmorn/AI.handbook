{
 "cells": [
  {
   "attachments": {},
   "cell_type": "markdown",
   "id": "6c202a11",
   "metadata": {},
   "source": [
    "[![](https://colab.research.google.com/assets/colab-badge.svg)](https://colab.research.google.com/github/itmorn/AI.handbook/blob/main/DL/torch/nn/Serialization/Serialization.ipynb)"
   ]
  },
  {
   "attachments": {},
   "cell_type": "markdown",
   "id": "14a8662b",
   "metadata": {},
   "source": [
    "# save\n",
    "将对象保存到磁盘文件。\n",
    "\n",
    "**定义**：  \n",
    "torch.save(obj, f, pickle_module=pickle, pickle_protocol=DEFAULT_PROTOCOL, _use_new_zipfile_serialization=True)\n",
    "\n",
    "**参数**:  \n",
    "- obj (object) – saved object  保存的对象\n",
    "\n",
    "- f (Union[str, PathLike, BinaryIO, IO[bytes]]) – a file-like object (has to implement write and flush) or a string or os.PathLike object containing a file name  一个类似文件的对象(必须实现写入和刷新)或字符串或os\n",
    "\n",
    "- pickle_module (Any) – module used for pickling metadata and objects  用于pickle元数据和对象的模块\n",
    "\n",
    "- pickle_protocol (int) – can be specified to override the default protocol  可指定覆盖默认协议"
   ]
  },
  {
   "cell_type": "code",
   "execution_count": 5,
   "id": "5b4d4adb",
   "metadata": {},
   "outputs": [],
   "source": [
    "# Save to file\n",
    "import io\n",
    "import torch\n",
    "\n",
    "x = torch.tensor([0, 1, 2, 3, 4])\n",
    "torch.save(x, 'tensors.pt')\n",
    "# Save to io.BytesIO buffer\n",
    "buffer = io.BytesIO()\n",
    "torch.save(x, buffer)"
   ]
  },
  {
   "attachments": {},
   "cell_type": "markdown",
   "id": "0d1e0036",
   "metadata": {},
   "source": [
    "# load\n",
    "从文件中加载使用torch.save()保存的对象。\n",
    "\n",
    "**定义**：  \n",
    "torch.load(f, map_location=None, pickle_module=pickle, *, weights_only=False, **pickle_load_args)\n",
    "\n",
    "**参数**:  \n",
    "- f (Union[str, PathLike, BinaryIO, IO[bytes]]) – a file-like object (has to implement read(), readline(), tell(), and seek()), or a string or os.PathLike object containing a file name  一个类似文件的对象(必须实现read()， readline()， tell()和seek())，或者一个字符串或os。\n",
    "\n",
    "- map_location (Optional[Union[Callable[[Tensor, str], Tensor], device, str, Dict[str, str]]]) – a function, torch.device, string or a dict specifying how to remap storage locations  指定如何重新映射存储位置\n",
    "\n",
    "- pickle_module (Optional[Any]) – module used for unpickling metadata and objects (has to match the pickle_module used to serialize file)  用于解pickle元数据和对象的模块\n",
    "\n",
    "- weights_only (bool) – Indicates whether unpickler should be restricted to loading only tensors, primitive types and dictionaries  指示unpickler是否应该限制为只加载张量、基本类型和字典\n",
    "\n",
    "- pickle_load_args (Any) – (Python 3 only) optional keyword arguments passed over to pickle_module.load() and pickle_module.Unpickler(), e.g., errors=....    可选关键字参数传递给pickle_module.load()和pickle_module.Unpickler()"
   ]
  },
  {
   "cell_type": "code",
   "execution_count": 14,
   "id": "ebf027be",
   "metadata": {},
   "outputs": [
    {
     "data": {
      "text/plain": [
       "tensor([0, 1, 2, 3, 4])"
      ]
     },
     "execution_count": 14,
     "metadata": {},
     "output_type": "execute_result"
    }
   ],
   "source": [
    "import torch\n",
    "torch.load('tensors.pt')\n",
    "torch.load('tensors.pt', map_location=torch.device('cpu'))\n",
    "torch.load('tensors.pt', map_location=lambda storage, loc: storage)\n",
    "# torch.load('tensors.pt', map_location=lambda storage, loc: storage.cuda(1))\n",
    "# torch.load('tensors.pt', map_location={'cuda:1':'cuda:0'})\n",
    "with open('tensors.pt', 'rb') as f:\n",
    "    buffer = io.BytesIO(f.read())\n",
    "torch.load(buffer)\n",
    "torch.load('tensors.pt', encoding='ascii')"
   ]
  }
 ],
 "metadata": {
  "kernelspec": {
   "display_name": "Python 3.8.13 ('general38')",
   "language": "python",
   "name": "python3"
  },
  "language_info": {
   "codemirror_mode": {
    "name": "ipython",
    "version": 3
   },
   "file_extension": ".py",
   "mimetype": "text/x-python",
   "name": "python",
   "nbconvert_exporter": "python",
   "pygments_lexer": "ipython3",
   "version": "3.8.13"
  },
  "vscode": {
   "interpreter": {
    "hash": "4e00c79739f2fdf113306667eb0b8e68d4274855301e6df90bc305a954991b52"
   }
  }
 },
 "nbformat": 4,
 "nbformat_minor": 5
}
