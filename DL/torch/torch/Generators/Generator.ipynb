{
 "cells": [
  {
   "attachments": {},
   "cell_type": "markdown",
   "id": "6c202a11",
   "metadata": {},
   "source": [
    "[![](https://colab.research.google.com/assets/colab-badge.svg)](https://colab.research.google.com/github/itmorn/AI.handbook/blob/main/DL/torch/nn/Generators/Generator.ipynb)"
   ]
  },
  {
   "attachments": {},
   "cell_type": "markdown",
   "id": "14a8662b",
   "metadata": {},
   "source": [
    "# Generator\n",
    "创建并返回一个生成器对象，该对象管理生成伪随机数的算法的状态。在许多就地随机抽样函数中用作关键字参数。\n",
    "\n",
    "**定义**：  \n",
    "torch.Generator(device='cpu')\n",
    "\n",
    "**参数**:  \n",
    "- device (torch.device, optional) – the desired device for the generator.  generator所需的设备"
   ]
  },
  {
   "attachments": {},
   "cell_type": "markdown",
   "id": "3dc29626",
   "metadata": {},
   "source": [
    "# get_state() → Tensor\n",
    "返回Generator状态（torch.ByteTensor）。"
   ]
  },
  {
   "cell_type": "code",
   "execution_count": null,
   "id": "d46263c0",
   "metadata": {},
   "outputs": [
    {
     "data": {
      "text/plain": [
       "tensor([  1, 209, 156,  ...,   0,   0,   0], dtype=torch.uint8)"
      ]
     },
     "metadata": {},
     "output_type": "display_data"
    }
   ],
   "source": [
    "import torch\n",
    "\n",
    "g_cpu = torch.Generator()\n",
    "# g_cuda = torch.Generator(device='cuda')\n",
    "g_cpu.get_state()"
   ]
  },
  {
   "attachments": {},
   "cell_type": "markdown",
   "id": "927a3e92",
   "metadata": {},
   "source": [
    "# initial_seed() → int\n",
    "返回用于生成随机数的初始种子。"
   ]
  },
  {
   "cell_type": "code",
   "execution_count": 34,
   "id": "6c71583f",
   "metadata": {},
   "outputs": [
    {
     "data": {
      "text/plain": [
       "67280421310721"
      ]
     },
     "execution_count": 34,
     "metadata": {},
     "output_type": "execute_result"
    }
   ],
   "source": [
    "import torch\n",
    "\n",
    "g_cpu = torch.Generator()\n",
    "g_cpu.initial_seed()"
   ]
  },
  {
   "attachments": {},
   "cell_type": "markdown",
   "id": "19ed0eca",
   "metadata": {},
   "source": [
    "# manual_seed(seed) → Generator\n",
    "设置生成随机数的种子。返回一个torch.Generator对象"
   ]
  },
  {
   "cell_type": "code",
   "execution_count": 40,
   "id": "b7e8fc7c",
   "metadata": {},
   "outputs": [
    {
     "data": {
      "text/plain": [
       "<torch._C.Generator at 0x2cda48e1470>"
      ]
     },
     "execution_count": 40,
     "metadata": {},
     "output_type": "execute_result"
    }
   ],
   "source": [
    "import torch\n",
    "g_cpu = torch.Generator()\n",
    "g_cpu.manual_seed(2147483647)"
   ]
  },
  {
   "attachments": {},
   "cell_type": "markdown",
   "id": "ac399a23",
   "metadata": {},
   "source": [
    "# seed() → int\n",
    "从random_device或当前时间获取一个非确定性随机数，并使用它来生成生成器。"
   ]
  },
  {
   "cell_type": "code",
   "execution_count": 42,
   "id": "5b7c1ecd",
   "metadata": {},
   "outputs": [
    {
     "data": {
      "text/plain": [
       "408987565747500"
      ]
     },
     "execution_count": 42,
     "metadata": {},
     "output_type": "execute_result"
    }
   ],
   "source": [
    "import torch\n",
    "g_cpu = torch.Generator()\n",
    "g_cpu.seed()"
   ]
  },
  {
   "attachments": {},
   "cell_type": "markdown",
   "id": "6a1fd066",
   "metadata": {},
   "source": [
    "# set_state(new_state) → void\n",
    "设置生成器状态。\n",
    "\n",
    "new_state (torch.ByteTensor) – The desired state."
   ]
  },
  {
   "cell_type": "code",
   "execution_count": 45,
   "id": "b329f826",
   "metadata": {},
   "outputs": [
    {
     "data": {
      "text/plain": [
       "<torch._C.Generator at 0x2cda48d4470>"
      ]
     },
     "execution_count": 45,
     "metadata": {},
     "output_type": "execute_result"
    }
   ],
   "source": [
    "import torch\n",
    "g_cpu = torch.Generator()\n",
    "g_cpu_other = torch.Generator()\n",
    "g_cpu.set_state(g_cpu_other.get_state())"
   ]
  }
 ],
 "metadata": {
  "kernelspec": {
   "display_name": "Python 3.8.13 ('general38')",
   "language": "python",
   "name": "python3"
  },
  "language_info": {
   "codemirror_mode": {
    "name": "ipython",
    "version": 3
   },
   "file_extension": ".py",
   "mimetype": "text/x-python",
   "name": "python",
   "nbconvert_exporter": "python",
   "pygments_lexer": "ipython3",
   "version": "3.8.13"
  },
  "vscode": {
   "interpreter": {
    "hash": "4e00c79739f2fdf113306667eb0b8e68d4274855301e6df90bc305a954991b52"
   }
  }
 },
 "nbformat": 4,
 "nbformat_minor": 5
}
