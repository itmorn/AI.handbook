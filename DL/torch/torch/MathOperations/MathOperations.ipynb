{
 "cells": [
  {
   "attachments": {},
   "cell_type": "markdown",
   "id": "6c202a11",
   "metadata": {},
   "source": [
    "[![](https://colab.research.google.com/assets/colab-badge.svg)](https://colab.research.google.com/github/itmorn/AI.handbook/blob/main/DL/torch/nn/MathOperations/MathOperations.ipynb)"
   ]
  },
  {
   "attachments": {},
   "cell_type": "markdown",
   "id": "a69d4294",
   "metadata": {},
   "source": [
    "# 按元素操作(Pointwise Ops)"
   ]
  },
  {
   "attachments": {},
   "cell_type": "markdown",
   "id": "14a8662b",
   "metadata": {},
   "source": [
    "## abs/absolute\n",
    "计算输入中每个元素的绝对值。\n",
    "$$\\text{out}_i=|\\text{input}_i|$$\n",
    "\n",
    "**定义**：  \n",
    "torch.abs(input, *, out=None) → Tensor\n",
    "\n",
    "**参数**：  \n",
    "- input (Tensor) – the input tensor.  输入张量\n",
    "\n",
    "- out (Tensor, optional) – the output tensor.  输出张量"
   ]
  },
  {
   "cell_type": "code",
   "execution_count": 1,
   "id": "43e9c6e4",
   "metadata": {},
   "outputs": [
    {
     "data": {
      "text/plain": [
       "tensor([1, 2, 3])"
      ]
     },
     "execution_count": 1,
     "metadata": {},
     "output_type": "execute_result"
    }
   ],
   "source": [
    "import torch\n",
    "\n",
    "torch.abs(torch.tensor([-1, -2, 3]))"
   ]
  },
  {
   "attachments": {},
   "cell_type": "markdown",
   "id": "90d8e03f",
   "metadata": {},
   "source": [
    "## acos/arccos\n",
    "计算输入中每个元素的逆余弦。\n",
    "\n",
    "$$\\text{out}_i=\\cos^{-1}(\\operatorname{input}_i)$$\n",
    "\n",
    "**定义**：  \n",
    "torch.acos(input, *, out=None) → Tensor\n",
    "\n",
    "**参数**：  \n",
    "- input (Tensor) – the input tensor.  输入张量\n",
    "\n",
    "- out (Tensor, optional) – the output tensor.  输出张量"
   ]
  },
  {
   "cell_type": "code",
   "execution_count": 7,
   "id": "049f8803",
   "metadata": {},
   "outputs": [
    {
     "name": "stdout",
     "output_type": "stream",
     "text": [
      "tensor([-0.3200,  0.1387, -3.0484, -0.4391])\n"
     ]
    },
    {
     "data": {
      "text/plain": [
       "tensor([1.8965, 1.4316,    nan, 2.0254])"
      ]
     },
     "execution_count": 7,
     "metadata": {},
     "output_type": "execute_result"
    }
   ],
   "source": [
    "import torch\n",
    "a = torch.randn(4)\n",
    "print(a)\n",
    "torch.acos(a)"
   ]
  },
  {
   "attachments": {},
   "cell_type": "markdown",
   "id": "6b2cf675",
   "metadata": {},
   "source": [
    "## acosh/arccosh\n",
    "返回输入元素的反双曲余弦的新张量。\n",
    "$$\\text{out}_i=\\cosh^{-1}(\\operatorname{input}_i)$$\n",
    "\n",
    "**定义**：  \n",
    "torch.acosh(input, *, out=None) → Tensor\n",
    "\n",
    "**参数**：  \n",
    "- input (Tensor) – the input tensor.  输入张量\n",
    "\n",
    "- out (Tensor, optional) – the output tensor.  输出张量"
   ]
  },
  {
   "cell_type": "code",
   "execution_count": 9,
   "id": "469bcb23",
   "metadata": {},
   "outputs": [
    {
     "data": {
      "text/plain": [
       "tensor([0.7808, 1.1149, 0.9426, 1.2994])"
      ]
     },
     "execution_count": 9,
     "metadata": {},
     "output_type": "execute_result"
    }
   ],
   "source": [
    "import torch\n",
    "a = torch.randn(4).uniform_(1, 2)\n",
    "a\n",
    "torch.acosh(a)"
   ]
  },
  {
   "attachments": {},
   "cell_type": "markdown",
   "id": "98dc0c8c",
   "metadata": {},
   "source": [
    "## add\n",
    "\n",
    "$$\\text{out}_i=\\text{input}_i+\\text{alpha}\\times\\text{other}_i$$\n",
    "\n",
    "**定义**：  \n",
    "torch.add(input, other, *, alpha=1, out=None) → Tensor\n",
    "\n",
    "**参数**：  \n",
    "- input (Tensor) – the input tensor.  输入张量\n",
    "\n",
    "- other (Tensor or Number) – the tensor or number to add to input.  要添加到输入中的张量或数字\n",
    "\n",
    "- alpha (Number) – the multiplier for other.  other的乘数\n",
    "\n",
    "- out (Tensor, optional) – the output tensor.  输出张量"
   ]
  },
  {
   "cell_type": "code",
   "execution_count": 15,
   "id": "94ad9cac",
   "metadata": {},
   "outputs": [
    {
     "name": "stdout",
     "output_type": "stream",
     "text": [
      "tensor([0, 1, 2, 3, 4, 5, 6, 7, 8, 9])\n"
     ]
    },
    {
     "data": {
      "text/plain": [
       "tensor([100, 101, 102, 103, 104, 105, 106, 107, 108, 109])"
      ]
     },
     "execution_count": 15,
     "metadata": {},
     "output_type": "execute_result"
    }
   ],
   "source": [
    "import torch\n",
    "a = torch.arange(10)\n",
    "print(a)\n",
    "torch.add(input=a, other=100)"
   ]
  },
  {
   "cell_type": "code",
   "execution_count": 16,
   "id": "9154a930",
   "metadata": {},
   "outputs": [
    {
     "data": {
      "text/plain": [
       "tensor([100, 101, 102, 103, 104, 105, 106, 107, 108, 109])"
      ]
     },
     "execution_count": 16,
     "metadata": {},
     "output_type": "execute_result"
    }
   ],
   "source": [
    "import torch\n",
    "a = torch.arange(10)\n",
    "b = torch.ones_like(a)\n",
    "torch.add(input=a, other=b, alpha=100)"
   ]
  },
  {
   "attachments": {},
   "cell_type": "markdown",
   "id": "380e8be3",
   "metadata": {},
   "source": [
    "## addcdiv\n",
    "执行tensor1与tensor2的逐元素除法，将结果乘以标量值并将其添加到输入中。\n",
    "\n",
    "$$\\text{out}_i=\\text{input}_i+\\text{value}\\times\\dfrac{\\text{tensor}1_i}{\\text{tensor}2_i}$$\n",
    "\n",
    "**定义**：  \n",
    "torch.addcdiv(input, tensor1, tensor2, *, value=1, out=None) → Tensor\n",
    "\n",
    "**参数**：  \n",
    "- input (Tensor) – the tensor to be added  要加的张量\n",
    "\n",
    "- tensor1 (Tensor) – the numerator tensor  分子张量\n",
    "\n",
    "- tensor2 (Tensor) – the denominator tensor  分母张量\n",
    "\n",
    "- value (Number, optional) – multiplier for tensor1 / tensor2.   tensor1 / tensor2的乘子\n",
    "\n",
    "- out (Tensor, optional) – the output tensor.  输出张量。"
   ]
  },
  {
   "cell_type": "code",
   "execution_count": 20,
   "id": "86b6d76a",
   "metadata": {},
   "outputs": [
    {
     "data": {
      "text/plain": [
       "tensor([[1.7674, 1.3758, 0.6647],\n",
       "        [1.2805, 1.1478, 0.7561],\n",
       "        [0.7085, 0.8800, 0.8634]])"
      ]
     },
     "execution_count": 20,
     "metadata": {},
     "output_type": "execute_result"
    }
   ],
   "source": [
    "import torch\n",
    "t = torch.randn(1, 3)\n",
    "t1 = torch.randn(3, 1)\n",
    "t2 = torch.randn(1, 3)\n",
    "torch.addcdiv(t, t1, t2, value=0.1)"
   ]
  },
  {
   "attachments": {},
   "cell_type": "markdown",
   "id": "0aa5db6f",
   "metadata": {},
   "source": [
    "## addcmul\n",
    "执行tensor1与tensor2的元素乘法，将结果乘以标量值并将其添加到输入中。\n",
    "$$\\text{out}_i=\\mathrm{input}_i+\\mathrm{value}\\times\\mathrm{tensor1}_i\\times\\mathrm{tensor2}_i$$\n",
    "\n",
    "**定义**：  \n",
    "torch.addcmul(input, tensor1, tensor2, *, value=1, out=None) → Tensor\n",
    "\n",
    "**参数**：  \n",
    "- input (Tensor) – the tensor to be added   要加的张量\n",
    "\n",
    "- tensor1 (Tensor) – the tensor to be multiplied  要乘的张量\n",
    "\n",
    "- tensor2 (Tensor) – the tensor to be multiplied  要乘的张量\n",
    "\n",
    "- value (Number, optional) – multiplier for tensor1∗tensor2.  tensor1∗tensor2的乘子\n",
    "\n",
    "- out (Tensor, optional) – the output tensor.  输出张量。"
   ]
  },
  {
   "cell_type": "code",
   "execution_count": 24,
   "id": "8393670a",
   "metadata": {},
   "outputs": [
    {
     "data": {
      "text/plain": [
       "tensor([[-1.5827, -0.7309,  2.5973],\n",
       "        [-1.6367, -0.8269,  2.6584],\n",
       "        [-1.6840, -0.9110,  2.7119]])"
      ]
     },
     "execution_count": 24,
     "metadata": {},
     "output_type": "execute_result"
    }
   ],
   "source": [
    "import torch\n",
    "t = torch.randn(1, 3)\n",
    "t1 = torch.randn(3, 1)\n",
    "t2 = torch.randn(1, 3)\n",
    "torch.addcmul(t, t1, t2, value=0.1)"
   ]
  },
  {
   "attachments": {},
   "cell_type": "markdown",
   "id": "776d450a",
   "metadata": {},
   "source": [
    "## angle\n",
    "计算给定输入张量的元素角度(弧度)。\n",
    "$$\\text{out}_i=angle(\\operatorname{input}_i)$$\n",
    "\n",
    "**定义**：  \n",
    "torch.angle(input, *, out=None) → Tensor\n",
    "\n",
    "**参数**：  \n",
    "- input (Tensor) – the input tensor.  输入张量\n",
    "\n",
    "- out (Tensor, optional) – the output tensor.  输出张量"
   ]
  },
  {
   "cell_type": "code",
   "execution_count": 25,
   "id": "e5c2b470",
   "metadata": {},
   "outputs": [
    {
     "data": {
      "text/plain": [
       "tensor([135.0001, 135.0001, -45.0000])"
      ]
     },
     "execution_count": 25,
     "metadata": {},
     "output_type": "execute_result"
    }
   ],
   "source": [
    "import torch\n",
    "torch.angle(torch.tensor([-1 + 1j, -2 + 2j, 3 - 3j]))*180/3.14159"
   ]
  },
  {
   "attachments": {},
   "cell_type": "markdown",
   "id": "95e64b5d",
   "metadata": {},
   "source": [
    "## asin/arcsin\n",
    "返回一个带有输入元素arcsin的新张量。\n",
    "\n",
    "$$\\text{out}_i=\\sin^{-1}(\\operatorname{input}_i)$$\n",
    "\n",
    "**定义**：  \n",
    "torch.asin(input, *, out=None) → Tensor\n",
    "\n",
    "**参数**：  \n",
    "- input (Tensor) – the input tensor.  输入张量\n",
    "\n",
    "- out (Tensor, optional) – the output tensor.  输出张量"
   ]
  },
  {
   "cell_type": "code",
   "execution_count": 27,
   "id": "ff87c5c4",
   "metadata": {},
   "outputs": [
    {
     "data": {
      "text/plain": [
       "tensor([   nan, 0.2574, 0.8200, 0.9444])"
      ]
     },
     "execution_count": 27,
     "metadata": {},
     "output_type": "execute_result"
    }
   ],
   "source": [
    "import torch\n",
    "a = torch.randn(4)\n",
    "torch.asin(a)"
   ]
  },
  {
   "attachments": {},
   "cell_type": "markdown",
   "id": "34562f3f",
   "metadata": {},
   "source": [
    "## asinh/arcsinh\n",
    "\n",
    "$$\\text{out}_i=\\sinh^{-1}(\\operatorname{input}_i)$$\n",
    "\n",
    "**定义**：  \n",
    "torch.asinh(input, *, out=None) → Tensor\n",
    "\n",
    "**参数**：  \n",
    "- input (Tensor) – the input tensor.  输入张量\n",
    "\n",
    "- out (Tensor, optional) – the output tensor.  输出张量"
   ]
  },
  {
   "cell_type": "code",
   "execution_count": 28,
   "id": "9aa78793",
   "metadata": {},
   "outputs": [
    {
     "data": {
      "text/plain": [
       "tensor([-0.1693,  1.0191, -0.1025, -0.0610])"
      ]
     },
     "execution_count": 28,
     "metadata": {},
     "output_type": "execute_result"
    }
   ],
   "source": [
    "import torch\n",
    "a = torch.randn(4)\n",
    "a\n",
    "torch.asinh(a)"
   ]
  },
  {
   "attachments": {},
   "cell_type": "markdown",
   "id": "a088b532",
   "metadata": {},
   "source": [
    "## atan/arctan\n",
    "\n",
    "\n",
    "返回一个带有输入元素arctan值的新张量。\n",
    "\n",
    "$$\\text{out}_i=\\tan^{-1}(\\operatorname{input}_i)$$\n",
    "\n",
    "**定义**：  \n",
    "torch.atan(input, *, out=None) → Tensor\n",
    "\n",
    "**参数**：  \n",
    "- input (Tensor) – the input tensor.  输入张量\n",
    "\n",
    "- out (Tensor, optional) – the output tensor.  输出张量"
   ]
  },
  {
   "cell_type": "code",
   "execution_count": 29,
   "id": "072ffeb1",
   "metadata": {},
   "outputs": [
    {
     "data": {
      "text/plain": [
       "tensor([ 0.7518, -0.7453, -0.4551,  0.6872])"
      ]
     },
     "execution_count": 29,
     "metadata": {},
     "output_type": "execute_result"
    }
   ],
   "source": [
    "import torch\n",
    "a = torch.randn(4)\n",
    "a\n",
    "torch.atan(a)"
   ]
  },
  {
   "attachments": {},
   "cell_type": "markdown",
   "id": "1d9b4753",
   "metadata": {},
   "source": [
    "## atanh/arctanh\n",
    "返回输入元素的反双曲正切的新张量。\n",
    "\n",
    "$$\\text{out}_i=\\tanh^{-1}(\\text{input}_i)$$\n",
    "\n",
    "**定义**：  \n",
    "torch.atanh(input, *, out=None) → Tensor\n",
    "\n",
    "**参数**：  \n",
    "- input (Tensor) – the input tensor.  输入张量\n",
    "\n",
    "- out (Tensor, optional) – the output tensor.  输出张量"
   ]
  },
  {
   "cell_type": "code",
   "execution_count": 30,
   "id": "6a497f8a",
   "metadata": {},
   "outputs": [
    {
     "data": {
      "text/plain": [
       "tensor([-0.0184, -0.6261, -1.1195, -0.7628])"
      ]
     },
     "execution_count": 30,
     "metadata": {},
     "output_type": "execute_result"
    }
   ],
   "source": [
    "import torch\n",
    "a = torch.randn(4).uniform_(-1, 1)\n",
    "a\n",
    "torch.atanh(a)"
   ]
  },
  {
   "attachments": {},
   "cell_type": "markdown",
   "id": "4dd6c76d",
   "metadata": {},
   "source": [
    "## atan2/arctan2\n",
    "\n",
    "$$\\operatorname{atan2}(y,x)=\\begin{cases}\\arctan(\\frac yx)&\\text{if }x>0,\\\\ \\arctan(\\frac yx)+\\pi&\\text{if }x<0\\text{ and }y\\ge0,\\\\\\arctan(\\frac yx)-\\pi&\\text{if }{x<0}\\text{ and }y<0,\\\\ +\\frac\\pi2&\\text{if }x=0\\text{ and }y>0,\\\\ -\\frac\\pi2&\\operatorname{if }x=0\\operatorname{ and }{y<0},\\\\ \\operatorname{undefined}&\\text{if }{x=0}\\text{ and }y=0.\\end{cases}$$\n",
    "\n",
    "https://stackoverflow.com/questions/35749246/python-atan-or-atan2-what-should-i-use\n",
    "\n",
    "**定义**：  \n",
    "torch.atan2(input, other, *, out=None) → Tensor\n",
    "\n",
    "**参数**：  \n",
    "- input (Tensor) – the first input tensor  第一个输入张量\n",
    "\n",
    "- other (Tensor) – the second input tensor  第二个输入张量\n",
    "\n",
    "- out (Tensor, optional) – the output tensor.  输出张量"
   ]
  },
  {
   "cell_type": "code",
   "execution_count": 31,
   "id": "814f2e36",
   "metadata": {},
   "outputs": [
    {
     "data": {
      "text/plain": [
       "tensor([-2.7770, -0.7276, -0.1640,  2.9073])"
      ]
     },
     "execution_count": 31,
     "metadata": {},
     "output_type": "execute_result"
    }
   ],
   "source": [
    "import torch\n",
    "a = torch.randn(4)\n",
    "a\n",
    "torch.atan2(a, torch.randn(4))"
   ]
  },
  {
   "attachments": {},
   "cell_type": "markdown",
   "id": "59d8e4f8",
   "metadata": {},
   "source": [
    "## bitwise_not/logical_not\n",
    "\n",
    "计算给定输入张量的位NOT。输入张量必须为整型或布尔型。对于bool张量，它计算逻辑NOT。\n",
    "\n",
    "**定义**：  \n",
    "torch.bitwise_not(input, *, out=None) → Tensor\n",
    "\n",
    "**参数**：  \n",
    "- input (Tensor) – the input tensor.  输入张量\n",
    "\n",
    "- out (Tensor, optional) – the output tensor.  输出张量\n"
   ]
  },
  {
   "cell_type": "code",
   "execution_count": 47,
   "id": "14e4a805",
   "metadata": {},
   "outputs": [
    {
     "data": {
      "text/plain": [
       "tensor([255, 254, 253], dtype=torch.uint8)"
      ]
     },
     "execution_count": 47,
     "metadata": {},
     "output_type": "execute_result"
    }
   ],
   "source": [
    "import torch\n",
    "torch.bitwise_not(torch.tensor([0, 1, 2], dtype=torch.uint8))\n",
    "# 0000 0000 -> 1111 1111\n",
    "# 0000 0001 -> 1111 1110\n",
    "# 0000 0010 -> 1111 1101 "
   ]
  },
  {
   "attachments": {},
   "cell_type": "markdown",
   "id": "a7ce205a",
   "metadata": {},
   "source": [
    "## bitwise_and/logical_and\n",
    "\n",
    "计算输入和其他的位与。输入张量必须为整型或布尔型。对于bool张量，它计算逻辑与。\n",
    "\n",
    "**定义**：  \n",
    "torch.bitwise_and(input, other, *, out=None) → Tensor\n",
    "\n",
    "**参数**：  \n",
    "- input – the first input tensor  第一个输入张量\n",
    "\n",
    "- other – the second input tensor  第二个输入张量\n",
    "\n",
    "- out (Tensor, optional) – the output tensor.  输出张量\n"
   ]
  },
  {
   "cell_type": "code",
   "execution_count": 48,
   "id": "1ff3b7d0",
   "metadata": {},
   "outputs": [
    {
     "data": {
      "text/plain": [
       "tensor([False,  True, False])"
      ]
     },
     "execution_count": 48,
     "metadata": {},
     "output_type": "execute_result"
    }
   ],
   "source": [
    "import torch\n",
    "torch.bitwise_and(torch.tensor([-1, -2, 3], dtype=torch.int8),\n",
    "                  torch.tensor([1, 0, 3], dtype=torch.int8))\n",
    "torch.bitwise_and(torch.tensor([True, True, False]),\n",
    "                  torch.tensor([False, True, False]))\n"
   ]
  },
  {
   "attachments": {},
   "cell_type": "markdown",
   "id": "46e8c006",
   "metadata": {},
   "source": [
    "## bitwise_or/logical_or\n",
    "\n",
    "计算输入和其他的位或。输入张量必须为整型或布尔型。对于bool张量，它计算逻辑或。\n",
    "\n",
    "**定义**：  \n",
    "torch.bitwise_or(input, other, *, out=None) → Tensor\n",
    "\n",
    "**参数**：  \n",
    "- input – the first input tensor  第一个输入张量\n",
    "\n",
    "- other – the second input tensor  第二个输入张量\n",
    "\n",
    "- out (Tensor, optional) – the output tensor.  输出张量\n"
   ]
  },
  {
   "cell_type": "code",
   "execution_count": 49,
   "id": "5c42526a",
   "metadata": {},
   "outputs": [
    {
     "data": {
      "text/plain": [
       "tensor([ True,  True, False])"
      ]
     },
     "execution_count": 49,
     "metadata": {},
     "output_type": "execute_result"
    }
   ],
   "source": [
    "import torch\n",
    "torch.bitwise_or(torch.tensor([-1, -2, 3], dtype=torch.int8),\n",
    "                  torch.tensor([1, 0, 3], dtype=torch.int8))\n",
    "torch.bitwise_or(torch.tensor([True, True, False]),\n",
    "                  torch.tensor([False, True, False]))\n"
   ]
  },
  {
   "attachments": {},
   "cell_type": "markdown",
   "id": "de0cf418",
   "metadata": {},
   "source": [
    "## bitwise_xor/logical_xor\n",
    "\n",
    "计算输入和其他的位异或。输入张量必须为整型或布尔型。对于bool张量，它计算逻辑异或。\n",
    "\n",
    "**定义**：  \n",
    "torch.bitwise_xor(input, other, *, out=None) → Tensor\n",
    "\n",
    "**参数**：  \n",
    "- input – the first input tensor  第一个输入张量\n",
    "\n",
    "- other – the second input tensor  第二个输入张量\n",
    "\n",
    "- out (Tensor, optional) – the output tensor.  输出张量\n"
   ]
  },
  {
   "cell_type": "code",
   "execution_count": 50,
   "id": "3a14d165",
   "metadata": {},
   "outputs": [
    {
     "data": {
      "text/plain": [
       "tensor([ True, False, False])"
      ]
     },
     "execution_count": 50,
     "metadata": {},
     "output_type": "execute_result"
    }
   ],
   "source": [
    "import torch\n",
    "torch.bitwise_xor(torch.tensor([-1, -2, 3], dtype=torch.int8),\n",
    "                  torch.tensor([1, 0, 3], dtype=torch.int8))\n",
    "torch.bitwise_xor(torch.tensor([True, True, False]),\n",
    "                  torch.tensor([False, True, False]))\n"
   ]
  },
  {
   "attachments": {},
   "cell_type": "markdown",
   "id": "ebafae62",
   "metadata": {},
   "source": [
    "## bitwise_left_shift\n",
    "计算输入的左算术移位。输入张量必须是整型的。\n",
    "$$\\text{out}_i=\\text{input}_i<<\\text{other}_i$$\n",
    "\n",
    "**定义**：  \n",
    "torch.bitwise_left_shift(input, other, *, out=None) → Tensor\n",
    "\n",
    "**参数**：  \n",
    "- input – the first input tensor  第一个输入张量\n",
    "\n",
    "- other – the second input tensor  第二个输入张量\n",
    "\n",
    "- out (Tensor, optional) – the output tensor.  输出张量\n"
   ]
  },
  {
   "cell_type": "code",
   "execution_count": 51,
   "id": "74a73ff4",
   "metadata": {},
   "outputs": [
    {
     "data": {
      "text/plain": [
       "tensor([-2, -2, 24], dtype=torch.int8)"
      ]
     },
     "execution_count": 51,
     "metadata": {},
     "output_type": "execute_result"
    }
   ],
   "source": [
    "import torch\n",
    "print(3<<3)\n",
    "torch.bitwise_left_shift(torch.tensor([-1, -2, 3], dtype=torch.int8),\n",
    "                         torch.tensor([1, 0, 3], dtype=torch.int8))\n"
   ]
  },
  {
   "attachments": {},
   "cell_type": "markdown",
   "id": "cdf87c30",
   "metadata": {},
   "source": [
    "## bitwise_right_shift\n",
    "计算输入的右算术移位。输入张量必须是整型的。\n",
    "$$\\text{out}_i=\\text{input}_i>>\\text{other}_i$$\n",
    "\n",
    "**定义**：  \n",
    "torch.bitwise_right_shift(input, other, *, out=None) → Tensor\n",
    "\n",
    "**参数**：  \n",
    "- input – the first input tensor  第一个输入张量\n",
    "\n",
    "- other – the second input tensor  第二个输入张量\n",
    "\n",
    "- out (Tensor, optional) – the output tensor.  输出张量\n"
   ]
  },
  {
   "cell_type": "code",
   "execution_count": 55,
   "id": "f2abb7bd",
   "metadata": {},
   "outputs": [
    {
     "name": "stdout",
     "output_type": "stream",
     "text": [
      "3\n"
     ]
    },
    {
     "data": {
      "text/plain": [
       "tensor([-1, -7,  3], dtype=torch.int8)"
      ]
     },
     "execution_count": 55,
     "metadata": {},
     "output_type": "execute_result"
    }
   ],
   "source": [
    "import torch\n",
    "print(31 >> 3)\n",
    "torch.bitwise_right_shift(torch.tensor([-2, -7, 31], dtype=torch.int8),\n",
    "                          torch.tensor([1, 0, 3], dtype=torch.int8))"
   ]
  },
  {
   "attachments": {},
   "cell_type": "markdown",
   "id": "d5879828",
   "metadata": {},
   "source": [
    "## ceil\n",
    "向上取整\n",
    "\n",
    "$$\\text{out}_i=\\lceil\\operatorname{input}_i\\rceil$$\n",
    "\n",
    "**定义**：  \n",
    "torch.ceil(input, *, out=None) → Tensor\n",
    "\n",
    "**参数**：  \n",
    "- input (Tensor) – the input tensor.  输入张量\n",
    "\n",
    "- out (Tensor, optional) – the output tensor.  输出张量\n"
   ]
  },
  {
   "cell_type": "code",
   "execution_count": 57,
   "id": "4f44f202",
   "metadata": {},
   "outputs": [
    {
     "name": "stdout",
     "output_type": "stream",
     "text": [
      "tensor([-0.3689, -0.0410,  1.4594, -1.5169])\n"
     ]
    },
    {
     "data": {
      "text/plain": [
       "tensor([-0., -0.,  2., -1.])"
      ]
     },
     "execution_count": 57,
     "metadata": {},
     "output_type": "execute_result"
    }
   ],
   "source": [
    "import torch\n",
    "a = torch.randn(4)\n",
    "print(a)\n",
    "torch.ceil(a)"
   ]
  },
  {
   "attachments": {},
   "cell_type": "markdown",
   "id": "5a97b265",
   "metadata": {},
   "source": [
    "## clamp/clip\n",
    "夹住.  \n",
    "将输入的所有元素固定在[min, max]范围内\n",
    "\n",
    "$$y_i=\\min(\\max(x_i,\\min\\text{value}_i),\\max\\text{value}_i)$$\n",
    "\n",
    "**定义**：  \n",
    "torch.clamp(input, min=None, max=None, *, out=None) → Tensor\n",
    "\n",
    "**参数**：  \n",
    "- input (Tensor) – the input tensor.  输入张量\n",
    "\n",
    "- min (Number or Tensor, optional) – lower-bound of the range to be clamped to  要夹紧的范围的下限\n",
    "\n",
    "- max (Number or Tensor, optional) – upper-bound of the range to be clamped to  要夹紧的范围的上限\n",
    "\n",
    "- out (Tensor, optional) – the output tensor.  输出张量\n"
   ]
  },
  {
   "cell_type": "code",
   "execution_count": 1,
   "id": "6538cbfa",
   "metadata": {},
   "outputs": [
    {
     "name": "stdout",
     "output_type": "stream",
     "text": [
      "tensor([-0.2149,  0.7258,  0.5111, -2.4046])\n",
      "tensor([-0.2149,  0.5000,  0.5000, -0.5000])\n",
      "tensor([-1.0000, -0.3333,  0.3333,  1.0000])\n"
     ]
    },
    {
     "data": {
      "text/plain": [
       "tensor([-0.2149,  0.7258,  0.5111,  1.0000])"
      ]
     },
     "execution_count": 1,
     "metadata": {},
     "output_type": "execute_result"
    }
   ],
   "source": [
    "import torch\n",
    "a = torch.randn(4)\n",
    "print(a)\n",
    "print(torch.clamp(a, min=-0.5, max=0.5))\n",
    "\n",
    "min = torch.linspace(-1, 1, steps=4)\n",
    "print(min)\n",
    "torch.clamp(a, min=min)"
   ]
  },
  {
   "attachments": {},
   "cell_type": "markdown",
   "id": "5e458645",
   "metadata": {},
   "source": [
    "## conj_physical\n",
    "计算给定输入张量的元素共轭。\n",
    "\n",
    "$$\\text{out}_i=conj(\\text{input}_i)$$\n",
    "\n",
    "**定义**：  \n",
    "torch.conj_physical(input, *, out=None) → Tensor\n",
    "\n",
    "**参数**：  \n",
    "- input (Tensor) – the input tensor.  输入张量\n",
    "\n",
    "- out (Tensor, optional) – the output tensor.  输出张量\n"
   ]
  },
  {
   "cell_type": "code",
   "execution_count": 2,
   "id": "51acf70e",
   "metadata": {},
   "outputs": [
    {
     "data": {
      "text/plain": [
       "tensor([-1.-1.j, -2.-2.j,  3.+3.j])"
      ]
     },
     "execution_count": 2,
     "metadata": {},
     "output_type": "execute_result"
    }
   ],
   "source": [
    "import torch\n",
    "torch.conj_physical(torch.tensor([-1 + 1j, -2 + 2j, 3 - 3j]))"
   ]
  },
  {
   "attachments": {},
   "cell_type": "markdown",
   "id": "1fc47410",
   "metadata": {},
   "source": [
    "## copysign\n",
    "用input的大小和other的符号创建一个新的浮点张量。\n",
    "$$\\operatorname{out}_i=\\begin{cases}-|\\operatorname{input}_i|&\\text{if other}_i\\leq-0.0\\\\ |\\operatorname{imput}_i|&\\text{if other}_i\\geq0.0\\end{cases}$$\n",
    "\n",
    "**定义**：  \n",
    "torch.copysign(input, other, *, out=None) → Tensor\n",
    "\n",
    "**参数**：  \n",
    "- input (Tensor) – the input tensor.  输入张量\n",
    "\n",
    "- out (Tensor, optional) – the output tensor.  输出张量\n"
   ]
  },
  {
   "cell_type": "code",
   "execution_count": 4,
   "id": "e86705d0",
   "metadata": {},
   "outputs": [
    {
     "name": "stdout",
     "output_type": "stream",
     "text": [
      "tensor([-0.2094, -0.7962,  0.0462,  0.0176])\n",
      "tensor([-0.3092, -0.5713,  0.0554, -0.6485])\n"
     ]
    },
    {
     "data": {
      "text/plain": [
       "tensor([-0.2094, -0.7962,  0.0462, -0.0176])"
      ]
     },
     "execution_count": 4,
     "metadata": {},
     "output_type": "execute_result"
    }
   ],
   "source": [
    "import torch\n",
    "a = torch.randn(4)\n",
    "print(a)\n",
    "b = torch.randn(4)\n",
    "print(b)\n",
    "\n",
    "torch.copysign(a, b)"
   ]
  },
  {
   "attachments": {},
   "cell_type": "markdown",
   "id": "d223c400",
   "metadata": {},
   "source": [
    "## cos\n",
    "\n",
    "$$\\text{out}_i=\\cos(\\text{input}_i)$$\n",
    "\n",
    "**定义**：  \n",
    "torch.cos(input, *, out=None) → Tensor\n",
    "\n",
    "**参数**：  \n",
    "- input (Tensor) – the input tensor.  输入张量\n",
    "\n",
    "- out (Tensor, optional) – the output tensor.  输出张量\n"
   ]
  },
  {
   "cell_type": "code",
   "execution_count": 7,
   "id": "7e708d4f",
   "metadata": {},
   "outputs": [
    {
     "data": {
      "text/plain": [
       "tensor([ 0.9805, -0.2416,  0.9493,  0.9866])"
      ]
     },
     "execution_count": 7,
     "metadata": {},
     "output_type": "execute_result"
    }
   ],
   "source": [
    "import torch\n",
    "a = torch.randn(4)\n",
    "torch.cos(a)"
   ]
  },
  {
   "attachments": {},
   "cell_type": "markdown",
   "id": "2c65a208",
   "metadata": {},
   "source": [
    "## cosh\n",
    "返回一个包含输入元素的双曲余弦的新张量。\n",
    "\n",
    "$$\\text{out}_i=\\cosh(\\operatorname{input}_i)$$\n",
    "\n",
    "**定义**：  \n",
    "torch.cosh(input, *, out=None) → Tensor\n",
    "\n",
    "**参数**：  \n",
    "- input (Tensor) – the input tensor.  输入张量\n",
    "\n",
    "- out (Tensor, optional) – the output tensor.  输出张量\n"
   ]
  },
  {
   "cell_type": "code",
   "execution_count": 8,
   "id": "8f455dcb",
   "metadata": {},
   "outputs": [
    {
     "data": {
      "text/plain": [
       "tensor([1.0995, 1.3152, 1.9244, 1.8898])"
      ]
     },
     "execution_count": 8,
     "metadata": {},
     "output_type": "execute_result"
    }
   ],
   "source": [
    "import torch\n",
    "a = torch.randn(4)\n",
    "torch.cosh(a)"
   ]
  },
  {
   "attachments": {},
   "cell_type": "markdown",
   "id": "7ed0c730",
   "metadata": {},
   "source": [
    "## deg2rad\n",
    "返回一个新的张量，其中输入的每个元素都从角度转换为弧度。\n",
    "\n",
    "**定义**：  \n",
    "torch.deg2rad(input, *, out=None) → Tensor\n",
    "\n",
    "**参数**：  \n",
    "- input (Tensor) – the input tensor.  输入张量\n",
    "\n",
    "- out (Tensor, optional) – the output tensor.  输出张量\n"
   ]
  },
  {
   "cell_type": "code",
   "execution_count": 9,
   "id": "e9a09507",
   "metadata": {},
   "outputs": [
    {
     "data": {
      "text/plain": [
       "tensor([[ 3.1416, -3.1416],\n",
       "        [ 6.2832, -6.2832],\n",
       "        [ 1.5708, -1.5708]])"
      ]
     },
     "execution_count": 9,
     "metadata": {},
     "output_type": "execute_result"
    }
   ],
   "source": [
    "import torch\n",
    "a = torch.tensor([[180.0, -180.0], [360.0, -360.0], [90.0, -90.0]])\n",
    "torch.deg2rad(a)"
   ]
  },
  {
   "attachments": {},
   "cell_type": "markdown",
   "id": "862f6ff4",
   "metadata": {},
   "source": [
    "## div/divide/true_divide\n",
    "将输入输入的每个元素除以其他输入的相应元素。\n",
    "\n",
    "true_divide和 torch.div() with rounding_mode=None一致.\n",
    "\n",
    "$$\\text{out}_i=\\dfrac{\\text{input}_i}{\\text{other}_i}$$\n",
    "\n",
    "**定义**：  \n",
    "torch.div(input, other, *, rounding_mode=None, out=None) → Tensor\n",
    "\n",
    "**参数**：  \n",
    "- input (Tensor) – the dividend 被除数\n",
    "\n",
    "- other (Tensor or Number) – the divisor 除数\n",
    "\n",
    "- out (Tensor, optional) – the output tensor.  输出张量\n",
    "\n",
    "- rounding_mode (str, optional) – None、trunc、floor "
   ]
  },
  {
   "cell_type": "code",
   "execution_count": 10,
   "id": "579a5049",
   "metadata": {},
   "outputs": [
    {
     "name": "stdout",
     "output_type": "stream",
     "text": [
      "tensor([ 0.7620,  2.5548, -0.5944, -0.7438,  0.9274])\n",
      "tensor([[-0.4620, -6.6051,  0.5676,  1.2639],\n",
      "        [ 0.2260, -3.4509, -1.2086,  6.8990],\n",
      "        [ 0.1322,  4.9764, -0.9564,  5.3484],\n",
      "        [-0.2278, -0.1068, -1.4678,  6.3938]])\n",
      "tensor([[-0., -6.,  0.,  1.],\n",
      "        [ 0., -3., -1.,  6.],\n",
      "        [ 0.,  4., -0.,  5.],\n",
      "        [-0., -0., -1.,  6.]])\n",
      "tensor([[-1., -7.,  0.,  1.],\n",
      "        [ 0., -4., -2.,  6.],\n",
      "        [ 0.,  4., -1.,  5.],\n",
      "        [-1., -1., -2.,  6.]])\n"
     ]
    }
   ],
   "source": [
    "import torch\n",
    "x = torch.tensor([ 0.3810,  1.2774, -0.2972, -0.3719,  0.4637])\n",
    "print(torch.div(x, 0.5))\n",
    "\n",
    "a = torch.tensor([[-0.3711, -1.9353, -0.4605, -0.2917],\n",
    "                  [ 0.1815, -1.0111,  0.9805, -1.5923],\n",
    "                  [ 0.1062,  1.4581,  0.7759, -1.2344],\n",
    "                  [-0.1830, -0.0313,  1.1908, -1.4757]])\n",
    "b = torch.tensor([ 0.8032,  0.2930, -0.8113, -0.2308])\n",
    "print(torch.div(a, b))\n",
    "\n",
    "print(torch.div(a, b, rounding_mode='trunc'))\n",
    "\n",
    "print(torch.div(a, b, rounding_mode='floor'))"
   ]
  },
  {
   "attachments": {},
   "cell_type": "markdown",
   "id": "04ee5256",
   "metadata": {},
   "source": [
    "## exp\n",
    "\n",
    "$$y_i=e^{x_i}$$\n",
    "\n",
    "**定义**：  \n",
    "torch.exp(input, *, out=None) → Tensor\n",
    "\n",
    "**参数**：  \n",
    "- input (Tensor) – the input tensor.  输入张量\n",
    "\n",
    "- out (Tensor, optional) – the output tensor.  输出张量\n"
   ]
  },
  {
   "cell_type": "code",
   "execution_count": 11,
   "id": "d4ba37b9",
   "metadata": {},
   "outputs": [
    {
     "data": {
      "text/plain": [
       "tensor([1., 2.])"
      ]
     },
     "execution_count": 11,
     "metadata": {},
     "output_type": "execute_result"
    }
   ],
   "source": [
    "import torch\n",
    "import math\n",
    "\n",
    "torch.exp(torch.tensor([0, math.log(2.)]))"
   ]
  },
  {
   "attachments": {},
   "cell_type": "markdown",
   "id": "f2ca642a",
   "metadata": {},
   "source": [
    "## trunc/fix\n",
    "\n",
    "返回一个新的张量，包含输入元素的截断整数值。\n",
    "\n",
    "**定义**：  \n",
    "torch.trunc(input, *, out=None) → Tensor\n",
    "\n",
    "**参数**：  \n",
    "- input (Tensor) – the input tensor.  输入张量\n",
    "\n",
    "- out (Tensor, optional) – the output tensor.  输出张量\n"
   ]
  },
  {
   "cell_type": "code",
   "execution_count": 13,
   "id": "81322e2c",
   "metadata": {},
   "outputs": [
    {
     "name": "stdout",
     "output_type": "stream",
     "text": [
      "tensor([ 1.0509, -1.0209, -0.1938, -0.1570])\n"
     ]
    },
    {
     "data": {
      "text/plain": [
       "tensor([ 1., -1., -0., -0.])"
      ]
     },
     "execution_count": 13,
     "metadata": {},
     "output_type": "execute_result"
    }
   ],
   "source": [
    "import torch\n",
    "a = torch.randn(4)\n",
    "print(a)\n",
    "torch.trunc(a)"
   ]
  },
  {
   "attachments": {},
   "cell_type": "markdown",
   "id": "cff8017d",
   "metadata": {},
   "source": [
    "## float_power\n",
    "提高输入的指数次幂\n",
    "\n",
    "**定义**：  \n",
    "torch.float_power(input, exponent, *, out=None) → Tensor\n",
    "\n",
    "**参数**：  \n",
    "- input (Tensor) – the input tensor.  输入张量\n",
    "\n",
    "- exponent (Tensor or Number) – the exponent value(s)  指数值\n",
    "\n",
    "- out (Tensor, optional) – the output tensor.  输出张量\n"
   ]
  },
  {
   "cell_type": "code",
   "execution_count": 14,
   "id": "0ca8bcca",
   "metadata": {},
   "outputs": [
    {
     "name": "stdout",
     "output_type": "stream",
     "text": [
      "tensor([1, 2, 3, 4])\n"
     ]
    },
    {
     "data": {
      "text/plain": [
       "tensor([1.0000e+00, 1.2500e-01, 8.1000e+01, 9.7656e-04], dtype=torch.float64)"
      ]
     },
     "execution_count": 14,
     "metadata": {},
     "output_type": "execute_result"
    }
   ],
   "source": [
    "import torch\n",
    "a = torch.arange(1, 5)\n",
    "print(a)\n",
    "exp = torch.tensor([2, -3, 4, -5])\n",
    "torch.float_power(a, exp)"
   ]
  },
  {
   "attachments": {},
   "cell_type": "markdown",
   "id": "32ce2195",
   "metadata": {},
   "source": [
    "## floor\n",
    "\n",
    "$$\\text{out}_i=\\lfloor\\operatorname{input}_i\\rfloor$$\n",
    "\n",
    "**定义**：  \n",
    "torch.floor(input, *, out=None) → Tensor\n",
    "\n",
    "**参数**：  \n",
    "- input (Tensor) – the input tensor.  输入张量\n",
    "\n",
    "- out (Tensor, optional) – the output tensor.  输出张量\n"
   ]
  },
  {
   "cell_type": "code",
   "execution_count": 15,
   "id": "19ba8242",
   "metadata": {},
   "outputs": [
    {
     "name": "stdout",
     "output_type": "stream",
     "text": [
      "tensor([ 1.2759,  1.7243, -1.9898,  0.4412])\n"
     ]
    },
    {
     "data": {
      "text/plain": [
       "tensor([ 1.,  1., -2.,  0.])"
      ]
     },
     "execution_count": 15,
     "metadata": {},
     "output_type": "execute_result"
    }
   ],
   "source": [
    "import torch\n",
    "a = torch.randn(4)\n",
    "print(a)\n",
    "torch.floor(a)"
   ]
  },
  {
   "attachments": {},
   "cell_type": "markdown",
   "id": "aaa883c1",
   "metadata": {},
   "source": [
    "## floor_divide\n",
    "\n",
    "$$\\text{out}_i=\\text{floor}\\left(\\dfrac{\\text{input}_i}{\\text{other}_i}\\right)$$\n",
    "\n",
    "**定义**：  \n",
    "torch.floor_divide(input, other, *, out=None) → Tensor\n",
    "\n",
    "**参数**：  \n",
    "- input (Tensor or Number) – the dividend 被除数\n",
    "\n",
    "- other (Tensor or Number) – the divisor  除数\n",
    "\n",
    "- out (Tensor, optional) – the output tensor.  输出张量\n"
   ]
  },
  {
   "cell_type": "code",
   "execution_count": 18,
   "id": "03df7005",
   "metadata": {},
   "outputs": [
    {
     "name": "stdout",
     "output_type": "stream",
     "text": [
      "tensor([2., 1.])\n",
      "tensor([2., 2.])\n"
     ]
    }
   ],
   "source": [
    "import torch\n",
    "a = torch.tensor([4.0, 3.0])\n",
    "b = torch.tensor([2.0, 2.0])\n",
    "print(torch.floor_divide(a, b))\n",
    "print(torch.floor_divide(a, 1.4))"
   ]
  },
  {
   "attachments": {},
   "cell_type": "markdown",
   "id": "f76410ef",
   "metadata": {},
   "source": [
    "## frac\n",
    "\n",
    "计算输入中每个元素的小数部分。\n",
    "\n",
    "$$\\text{out}_i=\\text{input}_i-\\lfloor|\\text{input}_i|\\rfloor*\\text{sgn}(\\text{input}_i)$$\n",
    "\n",
    "**定义**：  \n",
    "torch.frac(input, *, out=None) → Tensor"
   ]
  },
  {
   "cell_type": "code",
   "execution_count": 19,
   "id": "40dd2a27",
   "metadata": {},
   "outputs": [
    {
     "data": {
      "text/plain": [
       "tensor([ 0.0000,  0.5000, -0.2000])"
      ]
     },
     "execution_count": 19,
     "metadata": {},
     "output_type": "execute_result"
    }
   ],
   "source": [
    "import torch\n",
    "torch.frac(torch.tensor([1, 2.5, -3.2]))"
   ]
  },
  {
   "attachments": {},
   "cell_type": "markdown",
   "id": "16e7097f",
   "metadata": {},
   "source": [
    "## frexp\n",
    "将输入分解为尾数和指数张量\n",
    "\n",
    "$$\\mathrm{input}=\\mathrm{mantissa}\\times2^{\\mathrm{exponent}}.$$\n",
    "\n",
    "**定义**：  \n",
    "torch.frexp(input, *, out=None) -> (Tensor mantissa, Tensor exponent)\n",
    "\n",
    "**参数**：  \n",
    "- input (Tensor) – the input tensor.  输入张量\n",
    "\n",
    "- out (Tensor, optional) – the output tensor.  输出张量\n"
   ]
  },
  {
   "cell_type": "code",
   "execution_count": 20,
   "id": "c9c73860",
   "metadata": {},
   "outputs": [
    {
     "name": "stdout",
     "output_type": "stream",
     "text": [
      "tensor([0.0000, 0.5000, 0.5000, 0.7500, 0.5000, 0.6250, 0.7500, 0.8750, 0.5000])\n",
      "tensor([0, 1, 2, 2, 3, 3, 3, 3, 4], dtype=torch.int32)\n"
     ]
    }
   ],
   "source": [
    "import torch\n",
    "x = torch.arange(9.)\n",
    "mantissa, exponent = torch.frexp(x)\n",
    "print(mantissa)\n",
    "print(exponent)"
   ]
  },
  {
   "attachments": {},
   "cell_type": "markdown",
   "id": "c3425b9d",
   "metadata": {},
   "source": [
    "## ldexp\n",
    "\n",
    "$$\\text{out}_i=\\operatorname{input}_i*2_i^{\\operatorname{other}}$$\n",
    "\n",
    "**定义**：  \n",
    "torch.ldexp(input, other, *, out=None) → Tensor\n",
    "\n",
    "**参数**：  \n",
    "- input (Tensor) – the input tensor.  输入张量\n",
    "\n",
    "- other (Tensor) – a tensor of exponents, typically integers.  一个指数张量，通常是整数。\n",
    "\n",
    "- out (Tensor, optional) – the output tensor.  输出张量\n"
   ]
  },
  {
   "cell_type": "code",
   "execution_count": 25,
   "id": "8f5169a8",
   "metadata": {},
   "outputs": [
    {
     "data": {
      "text/plain": [
       "tensor([ 2.,  4.,  8., 16.])"
      ]
     },
     "execution_count": 25,
     "metadata": {},
     "output_type": "execute_result"
    }
   ],
   "source": [
    "import torch\n",
    "# torch.ldexp(torch.tensor([1.]), torch.tensor([1]))\n",
    "torch.ldexp(torch.tensor([1.0]), torch.tensor([1, 2, 3, 4]))"
   ]
  },
  {
   "attachments": {},
   "cell_type": "markdown",
   "id": "64c885b7",
   "metadata": {},
   "source": [
    "## lerp\n",
    "torch.lerp的全称是“torch linear interpolation”，它是PyTorch中的一个函数，用于对两个张量进行线性插值。\n",
    "\n",
    "$$\\text{out}_i=\\text{start}_i+\\text{weight}_i\\times(\\text{end}_i-\\text{start}_i)$$\n",
    "\n",
    "**定义**：  \n",
    "torch.lerp(input, end, weight, *, out=None)\n",
    "\n",
    "**参数**：  \n",
    "- input (Tensor) – the tensor with the starting points  起始点的张量\n",
    "\n",
    "- end (Tensor) – the tensor with the ending points  带有端点的张量\n",
    "\n",
    "- weight (float or tensor) – the weight for the interpolation formula  插值公式的权重\n",
    "\n",
    "- out (Tensor, optional) – the output tensor.  输出张量\n"
   ]
  },
  {
   "cell_type": "code",
   "execution_count": 26,
   "id": "c9f3dfdb",
   "metadata": {},
   "outputs": [
    {
     "name": "stdout",
     "output_type": "stream",
     "text": [
      "tensor([1., 2., 3., 4.])\n",
      "tensor([10., 10., 10., 10.])\n"
     ]
    },
    {
     "data": {
      "text/plain": [
       "tensor([5.5000, 6.0000, 6.5000, 7.0000])"
      ]
     },
     "execution_count": 26,
     "metadata": {},
     "output_type": "execute_result"
    }
   ],
   "source": [
    "import torch\n",
    "start = torch.arange(1., 5.)\n",
    "end = torch.empty(4).fill_(10)\n",
    "print(start)\n",
    "print(end)\n",
    "torch.lerp(start, end, 0.5)\n",
    "# torch.lerp(start, end, torch.full_like(start, 0.5))"
   ]
  },
  {
   "attachments": {},
   "cell_type": "markdown",
   "id": "c5d2f557",
   "metadata": {},
   "source": [
    "## lgamma\n",
    "\n",
    "$$\\operatorname{out}_i=\\ln\\Gamma(|\\operatorname{input}_i|)$$\n",
    "\n",
    "**定义**：  \n",
    "torch.lgamma(input, *, out=None) → Tensor\n",
    "\n",
    "**参数**：  \n",
    "- input (Tensor) – the input tensor.  输入张量\n",
    "\n",
    "- out (Tensor, optional) – the output tensor.  输出张量\n"
   ]
  },
  {
   "cell_type": "code",
   "execution_count": 27,
   "id": "4300aef2",
   "metadata": {},
   "outputs": [
    {
     "data": {
      "text/plain": [
       "tensor([ 0.5724,  0.0000, -0.1208])"
      ]
     },
     "execution_count": 27,
     "metadata": {},
     "output_type": "execute_result"
    }
   ],
   "source": [
    "import torch\n",
    "a = torch.arange(0.5, 2, 0.5)\n",
    "torch.lgamma(a)"
   ]
  },
  {
   "attachments": {},
   "cell_type": "markdown",
   "id": "bcf426f7",
   "metadata": {},
   "source": [
    "## log\n",
    "\n",
    "$$y_i=\\log_e(x_i)$$\n",
    "\n",
    "**定义**：  \n",
    "torch.log(input, *, out=None) → Tensor\n",
    "\n",
    "**参数**：  \n",
    "- input (Tensor) – the input tensor.  输入张量\n",
    "\n",
    "- out (Tensor, optional) – the output tensor.  输出张量\n"
   ]
  },
  {
   "cell_type": "code",
   "execution_count": 32,
   "id": "034025d8",
   "metadata": {},
   "outputs": [
    {
     "name": "stdout",
     "output_type": "stream",
     "text": [
      "tensor([  -inf, 0.0000, 0.6931, 1.0986, 1.3863])\n"
     ]
    }
   ],
   "source": [
    "import torch\n",
    "a = torch.arange(5)\n",
    "print(torch.log(a))"
   ]
  },
  {
   "attachments": {},
   "cell_type": "markdown",
   "id": "70734a5e",
   "metadata": {},
   "source": [
    "## log10\n",
    "\n",
    "$$y_i=\\log_{10}(x_i)$$\n",
    "\n",
    "**定义**：  \n",
    "torch.log10(input, *, out=None) → Tensor\n",
    "\n",
    "**参数**：  \n",
    "- input (Tensor) – the input tensor.  输入张量\n",
    "\n",
    "- out (Tensor, optional) – the output tensor.  输出张量"
   ]
  },
  {
   "cell_type": "code",
   "execution_count": 33,
   "id": "a0abb7ed",
   "metadata": {},
   "outputs": [
    {
     "name": "stdout",
     "output_type": "stream",
     "text": [
      "tensor([  -inf, 0.0000, 0.3010, 0.4771, 0.6021])\n"
     ]
    }
   ],
   "source": [
    "import torch\n",
    "a = torch.arange(5)\n",
    "print(torch.log10(a))"
   ]
  },
  {
   "attachments": {},
   "cell_type": "markdown",
   "id": "2983f926",
   "metadata": {},
   "source": [
    "## log2\n",
    "\n",
    "$$y_i=\\log_2(x_i)$$\n",
    "\n",
    "**定义**：  \n",
    "torch.log2(input, *, out=None) → Tensor\n",
    "\n",
    "**参数**：  \n",
    "- input (Tensor) – the input tensor.  输入张量\n",
    "\n",
    "- out (Tensor, optional) – the output tensor.  输出张量"
   ]
  },
  {
   "cell_type": "code",
   "execution_count": 34,
   "id": "1fb0f433",
   "metadata": {},
   "outputs": [
    {
     "name": "stdout",
     "output_type": "stream",
     "text": [
      "tensor([  -inf, 0.0000, 1.0000, 1.5850, 2.0000])\n"
     ]
    }
   ],
   "source": [
    "import torch\n",
    "a = torch.arange(5)\n",
    "print(torch.log2(a))"
   ]
  },
  {
   "attachments": {},
   "cell_type": "markdown",
   "id": "e7e5d36e",
   "metadata": {},
   "source": [
    "## logaddexp\n",
    "\n",
    "$$\\log\\left(e^x+e^y\\right)$$\n",
    "\n",
    "**定义**：  \n",
    "torch.logaddexp(input, other, *, out=None) → Tensor\n",
    "\n",
    "**参数**：  \n",
    "- input (Tensor) – the input tensor.  输入张量\n",
    "\n",
    "- other (Tensor) – the second input tensor  第二个输入张量\n",
    "\n",
    "- out (Tensor, optional) – the output tensor.  输出张量\n"
   ]
  },
  {
   "cell_type": "code",
   "execution_count": 38,
   "id": "582fb82f",
   "metadata": {},
   "outputs": [
    {
     "data": {
      "text/plain": [
       "tensor([100.,  -2.,  -3.])"
      ]
     },
     "execution_count": 38,
     "metadata": {},
     "output_type": "execute_result"
    }
   ],
   "source": [
    "import torch\n",
    "torch.logaddexp(torch.tensor([-1.0]), torch.tensor([-1.0, -2, -3]))\n",
    "torch.logaddexp(torch.tensor([100.0, -200, -300]), torch.tensor([-1.0, -2, -3]))\n",
    "# torch.logaddexp(torch.tensor([1.0, 2000, 30000]), torch.tensor([-1.0, -2, -3]))"
   ]
  },
  {
   "attachments": {},
   "cell_type": "markdown",
   "id": "7dd72a7f",
   "metadata": {},
   "source": [
    "## logaddexp2\n",
    "\n",
    "$$\\log\\left(2^x+2^y\\right)$$\n",
    "\n",
    "**定义**：  \n",
    "torch.logaddexp2(input, other, *, out=None) → Tensor\n",
    "\n",
    "**参数**：  \n",
    "- input (Tensor) – the input tensor.  输入张量\n",
    "\n",
    "- other (Tensor) – the second input tensor  第二个输入张量\n",
    "\n",
    "- out (Tensor, optional) – the output tensor.  输出张量\n"
   ]
  },
  {
   "cell_type": "code",
   "execution_count": 39,
   "id": "572391e5",
   "metadata": {},
   "outputs": [
    {
     "data": {
      "text/plain": [
       "tensor([100.,  -2.,  -3.])"
      ]
     },
     "execution_count": 39,
     "metadata": {},
     "output_type": "execute_result"
    }
   ],
   "source": [
    "import torch\n",
    "torch.logaddexp2(torch.tensor([-1.0]), torch.tensor([-1.0, -2, -3]))\n",
    "torch.logaddexp2(torch.tensor([100.0, -200, -300]), torch.tensor([-1.0, -2, -3]))\n",
    "# torch.logaddexp(torch.tensor([1.0, 2000, 30000]), torch.tensor([-1.0, -2, -3]))"
   ]
  },
  {
   "attachments": {},
   "cell_type": "markdown",
   "id": "6a57b559",
   "metadata": {},
   "source": [
    "## hypot\n",
    "hypot是“hypotenuse”的缩写，意思是直角三角形斜边的长度。\n",
    "\n",
    "$$\\text{out}_i=\\sqrt{\\text{input}_i^2+\\text{other}_i^2}$$\n",
    "\n",
    "**定义**：  \n",
    "torch.hypot(input, other, *, out=None) → Tensor\n",
    "\n",
    "**参数**：  \n",
    "- input (Tensor) – the first input tensor  第一个输入张量\n",
    "\n",
    "- other (Tensor) – the second input tensor  第二个输入张量\n",
    "\n",
    "- out (Tensor, optional) – the output tensor.  输出张量\n"
   ]
  },
  {
   "cell_type": "code",
   "execution_count": 41,
   "id": "205ecd07",
   "metadata": {},
   "outputs": [
    {
     "data": {
      "text/plain": [
       "tensor([5.0000, 5.6569, 6.4031])"
      ]
     },
     "execution_count": 41,
     "metadata": {},
     "output_type": "execute_result"
    }
   ],
   "source": [
    "import torch\n",
    "torch.hypot(torch.tensor([4.0]), torch.tensor([3.0, 4.0, 5.0]))"
   ]
  },
  {
   "attachments": {},
   "cell_type": "markdown",
   "id": "c1aa066a",
   "metadata": {},
   "source": [
    "## mul/multiply\n",
    "\n",
    "$$\\text{out}_i=\\operatorname{input}_i\\times\\operatorname{other}_i$$\n",
    "\n",
    "**定义**：  \n",
    "torch.mul(input, other, *, out=None) → Tensor\n",
    "\n",
    "**参数**：  \n",
    "- input (Tensor) – the first input tensor  第一个输入张量\n",
    "\n",
    "- other (Tensor) – the second input tensor  第二个输入张量\n",
    "\n",
    "- out (Tensor, optional) – the output tensor.  输出张量\n"
   ]
  },
  {
   "cell_type": "code",
   "execution_count": 42,
   "id": "dc9c914f",
   "metadata": {},
   "outputs": [
    {
     "data": {
      "text/plain": [
       "tensor([[-0.3786, -0.4678,  0.3203, -0.0144],\n",
       "        [-0.1728, -0.2135,  0.1462, -0.0066],\n",
       "        [ 0.4906,  0.6061, -0.4150,  0.0187],\n",
       "        [-0.9309, -1.1501,  0.7874, -0.0355]])"
      ]
     },
     "execution_count": 42,
     "metadata": {},
     "output_type": "execute_result"
    }
   ],
   "source": [
    "import torch\n",
    "a = torch.randn(3)\n",
    "a\n",
    "torch.mul(a, 100)\n",
    "\n",
    "b = torch.randn(4, 1)\n",
    "b\n",
    "c = torch.randn(1, 4)\n",
    "c\n",
    "torch.mul(b, c)"
   ]
  },
  {
   "attachments": {},
   "cell_type": "markdown",
   "id": "0422e380",
   "metadata": {},
   "source": [
    "## nan_to_num\n",
    "\n",
    "**定义**：  \n",
    "torch.nan_to_num(input, nan=0.0, posinf=None, neginf=None, *, out=None) → Tensor\n",
    "\n",
    "**参数**：  \n",
    "- input (Tensor) – the input tensor.  输入张量\n",
    "\n",
    "- nan (Number, optional) – the value to replace NaNs with. Default is zero.  要替换的nan的值。默认值为0。\n",
    "\n",
    "- posinf (Number, optional) – if a Number, the value to replace positive infinity values with. If None, positive infinity values are replaced with the greatest finite value representable by input’s dtype. Default is None.  如果是Number，则用该值替换正无穷大值。\n",
    "\n",
    "- neginf (Number, optional) – if a Number, the value to replace negative infinity values with. If None, negative infinity values are replaced with the lowest finite value representable by input’s dtype. Default is None.  如果是Number，则用该值替换负无穷大值。\n",
    "\n",
    "- out (Tensor, optional) – the output tensor.  输出张量\n"
   ]
  },
  {
   "cell_type": "code",
   "execution_count": 44,
   "id": "47c040f6",
   "metadata": {},
   "outputs": [
    {
     "name": "stdout",
     "output_type": "stream",
     "text": [
      "tensor([ 0.0000e+00,  3.4028e+38, -3.4028e+38,  3.1400e+00])\n",
      "tensor([ 2.0000e+00,  3.4028e+38, -3.4028e+38,  3.1400e+00])\n",
      "tensor([ 2.0000e+00,  1.0000e+00, -3.4028e+38,  3.1400e+00])\n"
     ]
    }
   ],
   "source": [
    "import torch\n",
    "x = torch.tensor([float('nan'), float('inf'), -float('inf'), 3.14])\n",
    "print(torch.nan_to_num(x))\n",
    "print(torch.nan_to_num(x, nan=2.0))\n",
    "print(torch.nan_to_num(x, nan=2.0, posinf=1.0))"
   ]
  },
  {
   "attachments": {},
   "cell_type": "markdown",
   "id": "7058076d",
   "metadata": {},
   "source": [
    "## neg/negative\n",
    "\n",
    "使用torch.neg函数可以比使用乘以-1的方式更快速地实现元素取相反数的操作，这是因为torch.neg函数使用了底层的硬件加速库，能够充分利用现代计算机的SIMD（Single Instruction, Multiple Data）指令集来进行并行计算。而直接通过乘以-1实现元素取相反数的操作则需要在Python解释器中执行循环，速度相对较慢。\n",
    "\n",
    "$$\\text{out}=-1\\times\\text{input}$$\n",
    "\n",
    "**定义**：  \n",
    "torch.neg(input, *, out=None) → Tensor\n",
    "\n",
    "**参数**：  \n",
    "- input (Tensor) – the input tensor.  输入张量\n",
    "\n",
    "- out (Tensor, optional) – the output tensor.  输出张量\n"
   ]
  },
  {
   "cell_type": "code",
   "execution_count": 47,
   "id": "f9af62c7",
   "metadata": {},
   "outputs": [],
   "source": [
    "import torch\n",
    "import time\n",
    "\n",
    "# 生成一个包含1亿个元素的随机张量\n",
    "x = torch.randn(100000000)"
   ]
  },
  {
   "cell_type": "code",
   "execution_count": 68,
   "id": "ddd0de60",
   "metadata": {},
   "outputs": [
    {
     "name": "stdout",
     "output_type": "stream",
     "text": [
      "multiply by -1 elapsed time:  1.286275863647461\n",
      "torch.neg elapsed time:  1.156123161315918\n",
      "multiply by -1 elapsed time:  1.2272710800170898\n"
     ]
    }
   ],
   "source": [
    "# 直接乘以-1实现元素取相反数\n",
    "start_time = time.time()\n",
    "for i in range(10):\n",
    "    z = x * -1\n",
    "print(\"multiply by -1 elapsed time: \", time.time() - start_time)\n",
    "\n",
    "# 使用torch.neg函数实现元素取相反数\n",
    "start_time = time.time()\n",
    "for i in range(10):\n",
    "    y = torch.neg(x)\n",
    "print(\"torch.neg elapsed time: \", time.time() - start_time)\n",
    "\n",
    "# 直接乘以-1实现元素取相反数\n",
    "start_time = time.time()\n",
    "for i in range(10):\n",
    "    z = x * -1\n",
    "print(\"multiply by -1 elapsed time: \", time.time() - start_time)"
   ]
  },
  {
   "attachments": {},
   "cell_type": "markdown",
   "id": "fc157b54",
   "metadata": {},
   "source": [
    "## nextafter\n",
    "\n",
    "torch.nextafter(input, other, *, out=None)是一个PyTorch中的数学函数，用于返回一个张量，在给定输入张量input的方向上，接近另一个张量other的浮点数。\n",
    "\n",
    "**定义**：  \n",
    "torch.nextafter(input, other, *, out=None) → Tensor\n",
    "\n",
    "**参数**：  \n",
    "- input (Tensor) – the first input tensor  第一个输入张量\n",
    "\n",
    "- other (Tensor) – the second input tensor  第二个输入张量\n",
    "\n",
    "- out (Tensor, optional) – the output tensor.  输出张量\n"
   ]
  },
  {
   "cell_type": "code",
   "execution_count": 71,
   "id": "2d2d481f",
   "metadata": {},
   "outputs": [
    {
     "name": "stdout",
     "output_type": "stream",
     "text": [
      "1.1920928955078125e-07\n"
     ]
    },
    {
     "data": {
      "text/plain": [
       "tensor([1.0000, 2.0000])"
      ]
     },
     "execution_count": 71,
     "metadata": {},
     "output_type": "execute_result"
    }
   ],
   "source": [
    "import torch\n",
    "eps = torch.finfo(torch.float32).eps\n",
    "print(eps)\n",
    "torch.nextafter(torch.tensor([1.0, 2.0]), torch.tensor([2.0, 1.0]))# == torch.tensor([eps + 1, 2 - eps])\n"
   ]
  },
  {
   "attachments": {},
   "cell_type": "markdown",
   "id": "54cc6474",
   "metadata": {},
   "source": [
    "## pow\n",
    "取输入中每个元素的指数幂，并将结果返回一个张量。\n",
    "\n",
    "$$\\text { out }_{i}=x_{i}^{\\text {exponent }}$$\n",
    "\n",
    "**定义**：  \n",
    "torch.pow(input, exponent, *, out=None) → Tensor\n",
    "\n",
    "**参数**：  \n",
    "- input (Tensor) – the input tensor.  输入张量\n",
    "\n",
    "- exponent (float or tensor) – the exponent value  指数\n",
    "\n",
    "- out (Tensor, optional) – the output tensor.  输出张量\n"
   ]
  },
  {
   "cell_type": "code",
   "execution_count": 3,
   "id": "1f34ac6f",
   "metadata": {},
   "outputs": [
    {
     "data": {
      "text/plain": [
       "tensor([  1.,   4.,  27., 256.])"
      ]
     },
     "execution_count": 3,
     "metadata": {},
     "output_type": "execute_result"
    }
   ],
   "source": [
    "import torch\n",
    "exp = torch.arange(1., 5.)\n",
    "a = torch.arange(1., 5.)\n",
    "torch.pow(a, exp)"
   ]
  },
  {
   "attachments": {},
   "cell_type": "markdown",
   "id": "90dfacd2",
   "metadata": {},
   "source": [
    "## rad2deg\n",
    "从弧度角度转换为角度。\n",
    "\n",
    "**定义**：  \n",
    "torch.rad2deg(input, *, out=None) → Tensor\n",
    "\n",
    "**参数**：  \n",
    "- input (Tensor) – the input tensor.  输入张量\n",
    "\n",
    "- out (Tensor, optional) – the output tensor.  输出张量\n"
   ]
  },
  {
   "cell_type": "code",
   "execution_count": 4,
   "id": "f5fefb05",
   "metadata": {},
   "outputs": [
    {
     "data": {
      "text/plain": [
       "tensor([[ 180.0233, -180.0233],\n",
       "        [ 359.9894, -359.9894],\n",
       "        [  89.9544,  -89.9544]])"
      ]
     },
     "execution_count": 4,
     "metadata": {},
     "output_type": "execute_result"
    }
   ],
   "source": [
    "import torch\n",
    "a = torch.tensor([[3.142, -3.142], [6.283, -6.283], [1.570, -1.570]])\n",
    "torch.rad2deg(a)"
   ]
  },
  {
   "attachments": {},
   "cell_type": "markdown",
   "id": "3f66eebc",
   "metadata": {},
   "source": [
    "## real\n",
    "返回张量实值的新张量\n",
    "\n",
    "**定义**：  \n",
    "torch.real(input) → Tensor\n",
    "\n",
    "**参数**：  \n",
    "- input (Tensor) – the input tensor.  输入张量\n",
    "\n",
    "- out (Tensor, optional) – the output tensor.  输出张量\n"
   ]
  },
  {
   "cell_type": "code",
   "execution_count": 6,
   "id": "dd344edb",
   "metadata": {},
   "outputs": [
    {
     "name": "stdout",
     "output_type": "stream",
     "text": [
      "tensor([-0.5457-0.3526j, -0.0999-1.4083j, -1.2670+0.4616j,  0.2325+0.0278j])\n"
     ]
    },
    {
     "data": {
      "text/plain": [
       "tensor([-0.5457, -0.0999, -1.2670,  0.2325])"
      ]
     },
     "execution_count": 6,
     "metadata": {},
     "output_type": "execute_result"
    }
   ],
   "source": [
    "import torch\n",
    "x=torch.randn(4, dtype=torch.cfloat)\n",
    "print(x)\n",
    "x.real"
   ]
  },
  {
   "attachments": {},
   "cell_type": "markdown",
   "metadata": {},
   "source": [
    "## reciprocal\n",
    "返回一个带有输入元素倒数的新张量\n",
    "\n",
    "$$\\text { out }_{i}=\\frac{1}{\\text { input }_{i}}$$\n",
    "\n",
    "**定义**：  \n",
    "torch.reciprocal(input, *, out=None) → Tensor\n",
    "\n",
    "**参数**：  \n",
    "- input (Tensor) – the input tensor.  输入张量\n",
    "\n",
    "- out (Tensor, optional) – the output tensor.  输出张量"
   ]
  },
  {
   "cell_type": "code",
   "execution_count": 14,
   "metadata": {},
   "outputs": [
    {
     "name": "stdout",
     "output_type": "stream",
     "text": [
      "tensor([-0.5763, -0.0010,  0.2238, -0.6988])\n"
     ]
    },
    {
     "data": {
      "text/plain": [
       "tensor([   -1.7352, -1047.4005,     4.4684,    -1.4311])"
      ]
     },
     "execution_count": 14,
     "metadata": {},
     "output_type": "execute_result"
    }
   ],
   "source": [
    "import torch\n",
    "a = torch.randn(4)\n",
    "print(a)\n",
    "torch.reciprocal(a)"
   ]
  },
  {
   "attachments": {},
   "cell_type": "markdown",
   "id": "5582d6be",
   "metadata": {},
   "source": [
    "## remainder\n",
    "剩余部分\n",
    "\n",
    "torch.remainder(a, b) == a - a.div(b, rounding_mode=\"floor\") * b\n",
    "\n",
    "**定义**：  \n",
    "torch.remainder(input, other, *, out=None) → Tensor\n",
    "\n",
    "**参数**：  \n",
    "- input (Tensor) – the input tensor.  输入张量\n",
    "\n",
    "- out (Tensor, optional) – the output tensor.  输出张量\n"
   ]
  },
  {
   "cell_type": "code",
   "execution_count": 19,
   "id": "cebd203b",
   "metadata": {},
   "outputs": [
    {
     "data": {
      "text/plain": [
       "tensor([True, True, True])"
      ]
     },
     "execution_count": 19,
     "metadata": {},
     "output_type": "execute_result"
    }
   ],
   "source": [
    "import torch\n",
    "a = torch.tensor([1,2,3])\n",
    "b = torch.tensor([1.1,2,3])\n",
    "torch.remainder(a, b) == a - a.div(b, rounding_mode=\"floor\") * b\n"
   ]
  },
  {
   "attachments": {},
   "cell_type": "markdown",
   "id": "9e353be6",
   "metadata": {},
   "source": [
    "## round\n",
    "输入元素舍入到最接近的整数。\n",
    "\n",
    "**定义**：  \n",
    "torch.round(input, *, decimals=0, out=None) → Tensor\n",
    "\n",
    "**参数**：  \n",
    "- input (Tensor) – the input tensor.  输入张量\n",
    "\n",
    "- decimals (int) – Number of decimal places to round to (default: 0). If decimals is negative, it specifies the number of positions to the left of the decimal point.  要四舍五入的小数位数(默认值:0)。如果decimals为负，则指定小数点左侧的位置数。\n",
    "\n",
    "- out (Tensor, optional) – the output tensor.  输出张量\n"
   ]
  },
  {
   "cell_type": "code",
   "execution_count": 20,
   "id": "66234b6c",
   "metadata": {},
   "outputs": [
    {
     "data": {
      "text/plain": [
       "tensor([1000.])"
      ]
     },
     "execution_count": 20,
     "metadata": {},
     "output_type": "execute_result"
    }
   ],
   "source": [
    "import torch\n",
    "torch.round(torch.tensor((4.7, -2.3, 9.1, -7.7)))\n",
    "\n",
    "# Values equidistant from two integers are rounded towards the\n",
    "#   the nearest even value (zero is treated as even)\n",
    "torch.round(torch.tensor([-0.5, 0.5, 1.5, 2.5]))\n",
    "\n",
    "# A positive decimals argument rounds to the to that decimal place\n",
    "torch.round(torch.tensor([0.1234567]), decimals=3)\n",
    "\n",
    "# A negative decimals argument rounds to the left of the decimal\n",
    "torch.round(torch.tensor([1200.1234567]), decimals=-3)"
   ]
  },
  {
   "attachments": {},
   "cell_type": "markdown",
   "id": "bd4c09a9",
   "metadata": {},
   "source": [
    "## rsqrt\n",
    "返回一个新的张量，它是输入的每个元素的平方根(square-root)的倒数。\n",
    "\n",
    "$$\\mathrm{out}_{i}={\\frac{1}{\\sqrt{\\mathrm{input}_{i}}}}$$\n",
    "\n",
    "**定义**：  \n",
    "torch.rsqrt(input, *, out=None) → Tensor\n",
    "\n",
    "**参数**：  \n",
    "- input (Tensor) – the input tensor.  输入张量\n",
    "\n",
    "- out (Tensor, optional) – the output tensor.  输出张量\n"
   ]
  },
  {
   "cell_type": "code",
   "execution_count": 21,
   "id": "254be6b2",
   "metadata": {},
   "outputs": [
    {
     "name": "stdout",
     "output_type": "stream",
     "text": [
      "tensor([-0.1304,  1.1480,  1.3253, -0.2133])\n"
     ]
    },
    {
     "data": {
      "text/plain": [
       "tensor([   nan, 0.9333, 0.8687,    nan])"
      ]
     },
     "execution_count": 21,
     "metadata": {},
     "output_type": "execute_result"
    }
   ],
   "source": [
    "import torch\n",
    "a = torch.randn(4)\n",
    "print(a)\n",
    "torch.rsqrt(a)"
   ]
  },
  {
   "attachments": {},
   "cell_type": "markdown",
   "id": "c1014e3b",
   "metadata": {},
   "source": [
    "## sign\n",
    "\n",
    "$$\\mathrm{out}_{i}=\\mathrm{sgn}(\\mathrm{input}_{i})$$\n",
    "\n",
    "\n",
    "**定义**：  \n",
    "torch.sign(input, *, out=None) → Tensor\n",
    "\n",
    "**参数**：  \n",
    "- input (Tensor) – the input tensor.  输入张量\n",
    "\n",
    "- out (Tensor, optional) – the output tensor.  输出张量\n"
   ]
  },
  {
   "cell_type": "code",
   "execution_count": 23,
   "id": "eea10d7c",
   "metadata": {},
   "outputs": [
    {
     "data": {
      "text/plain": [
       "tensor([ 1., -1.,  0.,  1.])"
      ]
     },
     "execution_count": 23,
     "metadata": {},
     "output_type": "execute_result"
    }
   ],
   "source": [
    "import torch\n",
    "a = torch.tensor([0.7, -1.2, 0., 2.3])\n",
    "torch.sign(a)"
   ]
  },
  {
   "attachments": {},
   "cell_type": "markdown",
   "id": "e94a3457",
   "metadata": {},
   "source": [
    "## signbit\n",
    "测试输入的每个元素是否设置了符号位。\n",
    "\n",
    "**定义**：  \n",
    "torch.signbit(input, *, out=None) → Tensor\n",
    "\n",
    "**参数**：  \n",
    "- input (Tensor) – the input tensor.  输入张量\n",
    "\n",
    "- out (Tensor, optional) – the output tensor.  输出张量\n"
   ]
  },
  {
   "cell_type": "code",
   "execution_count": 28,
   "id": "191ee615",
   "metadata": {},
   "outputs": [
    {
     "data": {
      "text/plain": [
       "tensor([ True, False])"
      ]
     },
     "execution_count": 28,
     "metadata": {},
     "output_type": "execute_result"
    }
   ],
   "source": [
    "import torch\n",
    "a = torch.tensor([0.7, -1.2, 0., 2.3])\n",
    "torch.signbit(a)\n",
    "a = torch.tensor([-0.0, 0.0])\n",
    "torch.signbit(a)"
   ]
  },
  {
   "attachments": {},
   "cell_type": "markdown",
   "id": "8b7fc547",
   "metadata": {},
   "source": [
    "## sin\n",
    "返回一个包含输入元素正弦值的新张量。\n",
    "\n",
    "\n",
    "$$\\mathrm{out}_{i}=\\mathrm{sin}(\\mathrm{input}_{i})$$\n",
    "\n",
    "**定义**：  \n",
    "torch.sin(input, *, out=None) → Tensor\n",
    "\n",
    "**参数**：  \n",
    "- input (Tensor) – the input tensor.  输入张量\n",
    "\n",
    "- out (Tensor, optional) – the output tensor.  输出张量\n"
   ]
  },
  {
   "cell_type": "code",
   "execution_count": 43,
   "id": "69dad372",
   "metadata": {},
   "outputs": [
    {
     "data": {
      "text/plain": [
       "tensor([-0.5208,  0.6776,  0.8882, -0.0439])"
      ]
     },
     "execution_count": 43,
     "metadata": {},
     "output_type": "execute_result"
    }
   ],
   "source": [
    "import torch\n",
    "a = torch.randn(4)\n",
    "a\n",
    "torch.sin(a)"
   ]
  },
  {
   "attachments": {},
   "cell_type": "markdown",
   "id": "5b8f05a0",
   "metadata": {},
   "source": [
    "## sinh\n",
    "\n",
    "$$\\mathrm{out}_{i}=\\mathrm{sinh}(\\mathrm{input}_{i})$$\n",
    "\n",
    "**定义**：  \n",
    "torch.sinh(input, *, out=None) → Tensor\n",
    "\n",
    "**参数**：  \n",
    "- input (Tensor) – the input tensor.  输入张量\n",
    "\n",
    "- out (Tensor, optional) – the output tensor.  输出张量\n"
   ]
  },
  {
   "cell_type": "code",
   "execution_count": 44,
   "id": "b7b8341e",
   "metadata": {},
   "outputs": [
    {
     "data": {
      "text/plain": [
       "tensor([-0.9483, -0.2341, -0.2973,  0.5988])"
      ]
     },
     "execution_count": 44,
     "metadata": {},
     "output_type": "execute_result"
    }
   ],
   "source": [
    "import torch\n",
    "a = torch.randn(4)\n",
    "a\n",
    "torch.sinh(a)"
   ]
  },
  {
   "attachments": {},
   "cell_type": "markdown",
   "id": "42b03108",
   "metadata": {},
   "source": [
    "## sqrt\n",
    "\n",
    "$$\\mathrm{out}_{i}=\\sqrt{\\mathrm{input}_{i}}$$\n",
    "\n",
    "**定义**：  \n",
    "torch.sqrt(input, *, out=None) → Tensor\n",
    "\n",
    "**参数**：  \n",
    "- input (Tensor) – the input tensor.  输入张量\n",
    "\n",
    "- out (Tensor, optional) – the output tensor.  输出张量\n"
   ]
  },
  {
   "cell_type": "code",
   "execution_count": 45,
   "id": "6851bd9a",
   "metadata": {},
   "outputs": [
    {
     "data": {
      "text/plain": [
       "tensor([1.1565, 0.4610,    nan, 0.9043])"
      ]
     },
     "execution_count": 45,
     "metadata": {},
     "output_type": "execute_result"
    }
   ],
   "source": [
    "import torch\n",
    "a = torch.randn(4)\n",
    "a\n",
    "torch.sqrt(a)"
   ]
  },
  {
   "attachments": {},
   "cell_type": "markdown",
   "id": "23763894",
   "metadata": {},
   "source": [
    "## square\n",
    "\n",
    "$$\\mathrm{out}_{i}=\\mathrm{input}_{i}^2$$\n",
    "\n",
    "**定义**：  \n",
    "torch.square(input, *, out=None) → Tensor\n",
    "\n",
    "**参数**：  \n",
    "- input (Tensor) – the input tensor.  输入张量\n",
    "\n",
    "- out (Tensor, optional) – the output tensor.  输出张量\n"
   ]
  },
  {
   "cell_type": "code",
   "execution_count": 46,
   "id": "633a9978",
   "metadata": {},
   "outputs": [
    {
     "data": {
      "text/plain": [
       "tensor([0.8419, 0.1745, 0.8047, 0.2729])"
      ]
     },
     "execution_count": 46,
     "metadata": {},
     "output_type": "execute_result"
    }
   ],
   "source": [
    "import torch\n",
    "a = torch.randn(4)\n",
    "a\n",
    "torch.square(a)"
   ]
  },
  {
   "attachments": {},
   "cell_type": "markdown",
   "id": "011efb6e",
   "metadata": {},
   "source": [
    "## sub/subtract\n",
    "\n",
    "$$\\mathrm{out}_{i}=\\mathrm{input}_{i}-\\mathrm{alpha}\\times\\mathrm{other}_{i}$$\n",
    "\n",
    "**定义**：  \n",
    "torch.sub(input, other, *, alpha=1, out=None) → Tensor\n",
    "\n",
    "**参数**：  \n",
    "- input (Tensor) – the input tensor.  输入张量\n",
    "\n",
    "- other (Tensor or Number) – the tensor or number to subtract from input.  从输入中减去的张量或数字\n",
    "\n",
    "- alpha (Number) – the multiplier for other.  乘数\n",
    "\n",
    "- out (Tensor, optional) – the output tensor.  输出张量\n"
   ]
  },
  {
   "cell_type": "code",
   "execution_count": 47,
   "id": "3863ccda",
   "metadata": {},
   "outputs": [
    {
     "data": {
      "text/plain": [
       "tensor([1, 0])"
      ]
     },
     "execution_count": 47,
     "metadata": {},
     "output_type": "execute_result"
    }
   ],
   "source": [
    "import torch\n",
    "a = torch.tensor((1, 2))\n",
    "b = torch.tensor((0, 1))\n",
    "torch.sub(a, b, alpha=2)"
   ]
  },
  {
   "attachments": {},
   "cell_type": "markdown",
   "id": "8a829518",
   "metadata": {},
   "source": [
    "## tan\n",
    "返回一个带有输入元素正切值的新张量。\n",
    "\n",
    "$$\\mathrm{out}_{i}=\\tan{(\\mathrm{input}_{i})}$$\n",
    "\n",
    "\n",
    "**定义**：  \n",
    "torch.tan(input, *, out=None) → Tensor\n",
    "\n",
    "**参数**：  \n",
    "- input (Tensor) – the input tensor.  输入张量\n",
    "\n",
    "- out (Tensor, optional) – the output tensor.  输出张量\n"
   ]
  },
  {
   "cell_type": "code",
   "execution_count": 48,
   "id": "7a20af47",
   "metadata": {},
   "outputs": [
    {
     "data": {
      "text/plain": [
       "tensor([-2.9891e-03, -9.0448e-01, -1.2860e-01,  4.1826e+00])"
      ]
     },
     "execution_count": 48,
     "metadata": {},
     "output_type": "execute_result"
    }
   ],
   "source": [
    "import torch\n",
    "a = torch.randn(4)\n",
    "a\n",
    "torch.tan(a)"
   ]
  },
  {
   "attachments": {},
   "cell_type": "markdown",
   "id": "45774527",
   "metadata": {},
   "source": [
    "## tanh\n",
    "返回一个带有输入元素的双曲正切的新张量。\n",
    "\n",
    "$$\\mathrm{out}_{i}=\\tanh{(\\mathrm{input}_{i})}$$\n",
    "\n",
    "\n",
    "**定义**：  \n",
    "torch.tanh(input, *, out=None) → Tensor\n",
    "\n",
    "**参数**：  \n",
    "- input (Tensor) – the input tensor.  输入张量\n",
    "\n",
    "- out (Tensor, optional) – the output tensor.  输出张量\n"
   ]
  },
  {
   "cell_type": "code",
   "execution_count": null,
   "id": "8a439114",
   "metadata": {},
   "outputs": [
    {
     "data": {
      "text/plain": [
       "tensor([-2.9891e-03, -9.0448e-01, -1.2860e-01,  4.1826e+00])"
      ]
     },
     "metadata": {},
     "output_type": "display_data"
    }
   ],
   "source": [
    "import torch\n",
    "a = torch.randn(4)\n",
    "a\n",
    "torch.tanh(a)"
   ]
  },
  {
   "attachments": {},
   "cell_type": "markdown",
   "id": "ab36501f",
   "metadata": {},
   "source": [
    "## trunc\n",
    "返回一个新的张量，包含输入元素的截断整数值。\n",
    "\n",
    "**定义**：  \n",
    "torch.trunc(input, *, out=None) → Tensor\n",
    "\n",
    "**参数**：  \n",
    "- input (Tensor) – the input tensor.  输入张量\n",
    "\n",
    "- out (Tensor, optional) – the output tensor.  输出张量\n"
   ]
  },
  {
   "cell_type": "code",
   "execution_count": null,
   "id": "3d9c65b5",
   "metadata": {},
   "outputs": [],
   "source": [
    "import torch\n"
   ]
  },
  {
   "cell_type": "markdown",
   "metadata": {},
   "source": [
    "## xx\n",
    "\n",
    "$$xxxx$$\n",
    "\n",
    "**定义**：  \n",
    "\n",
    "\n",
    "**参数**：  \n",
    "- input (Tensor) – the input tensor.  输入张量\n",
    "\n",
    "- out (Tensor, optional) – the output tensor.  输出张量\n"
   ]
  },
  {
   "cell_type": "code",
   "execution_count": null,
   "metadata": {},
   "outputs": [],
   "source": [
    "import torch\n"
   ]
  },
  {
   "cell_type": "markdown",
   "id": "3a6a4136",
   "metadata": {},
   "source": [
    "## xx\n",
    "\n",
    "$$xxxx$$\n",
    "\n",
    "**定义**：  \n",
    "\n",
    "\n",
    "**参数**：  \n",
    "- input (Tensor) – the input tensor.  输入张量\n",
    "\n",
    "- out (Tensor, optional) – the output tensor.  输出张量\n"
   ]
  },
  {
   "cell_type": "code",
   "execution_count": null,
   "id": "664a4674",
   "metadata": {},
   "outputs": [],
   "source": [
    "import torch\n"
   ]
  },
  {
   "cell_type": "markdown",
   "id": "f08cb995",
   "metadata": {},
   "source": [
    "## xx\n",
    "\n",
    "$$xxxx$$\n",
    "\n",
    "**定义**：  \n",
    "\n",
    "\n",
    "**参数**：  \n",
    "- input (Tensor) – the input tensor.  输入张量\n",
    "\n",
    "- out (Tensor, optional) – the output tensor.  输出张量\n"
   ]
  },
  {
   "cell_type": "code",
   "execution_count": null,
   "id": "e3c07346",
   "metadata": {},
   "outputs": [],
   "source": [
    "import torch\n"
   ]
  },
  {
   "cell_type": "markdown",
   "id": "d50c6691",
   "metadata": {},
   "source": [
    "## xx\n",
    "\n",
    "$$xxxx$$\n",
    "\n",
    "**定义**：  \n",
    "\n",
    "\n",
    "**参数**：  \n",
    "- input (Tensor) – the input tensor.  输入张量\n",
    "\n",
    "- out (Tensor, optional) – the output tensor.  输出张量\n"
   ]
  },
  {
   "cell_type": "code",
   "execution_count": null,
   "id": "b830f542",
   "metadata": {},
   "outputs": [],
   "source": [
    "import torch\n"
   ]
  },
  {
   "cell_type": "markdown",
   "id": "ef1a0d35",
   "metadata": {},
   "source": [
    "## xx\n",
    "\n",
    "$$xxxx$$\n",
    "\n",
    "**定义**：  \n",
    "\n",
    "\n",
    "**参数**：  \n",
    "- input (Tensor) – the input tensor.  输入张量\n",
    "\n",
    "- out (Tensor, optional) – the output tensor.  输出张量\n"
   ]
  },
  {
   "cell_type": "code",
   "execution_count": null,
   "id": "ce27e547",
   "metadata": {},
   "outputs": [],
   "source": [
    "import torch\n"
   ]
  }
 ],
 "metadata": {
  "kernelspec": {
   "display_name": "Python 3.8.13 ('general38')",
   "language": "python",
   "name": "python3"
  },
  "language_info": {
   "codemirror_mode": {
    "name": "ipython",
    "version": 3
   },
   "file_extension": ".py",
   "mimetype": "text/x-python",
   "name": "python",
   "nbconvert_exporter": "python",
   "pygments_lexer": "ipython3",
   "version": "3.8.13"
  },
  "vscode": {
   "interpreter": {
    "hash": "4e00c79739f2fdf113306667eb0b8e68d4274855301e6df90bc305a954991b52"
   }
  }
 },
 "nbformat": 4,
 "nbformat_minor": 5
}
