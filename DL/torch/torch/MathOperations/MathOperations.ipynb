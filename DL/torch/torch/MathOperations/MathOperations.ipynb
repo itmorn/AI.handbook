{
 "cells": [
  {
   "attachments": {},
   "cell_type": "markdown",
   "id": "6c202a11",
   "metadata": {},
   "source": [
    "[![](https://colab.research.google.com/assets/colab-badge.svg)](https://colab.research.google.com/github/itmorn/AI.handbook/blob/main/DL/torch/nn/MathOperations/MathOperations.ipynb)"
   ]
  },
  {
   "attachments": {},
   "cell_type": "markdown",
   "id": "a69d4294",
   "metadata": {},
   "source": [
    "# 按元素操作(Pointwise Ops)"
   ]
  },
  {
   "attachments": {},
   "cell_type": "markdown",
   "id": "14a8662b",
   "metadata": {},
   "source": [
    "## abs/absolute\n",
    "计算输入中每个元素的绝对值。\n",
    "$$\\text{out}_i=|\\text{input}_i|$$\n",
    "\n",
    "**定义**：  \n",
    "torch.abs(input, *, out=None) → Tensor\n",
    "\n",
    "**参数**：  \n",
    "- input (Tensor) – the input tensor.  输入张量\n",
    "\n",
    "- out (Tensor, optional) – the output tensor.  输出张量"
   ]
  },
  {
   "cell_type": "code",
   "execution_count": 1,
   "id": "43e9c6e4",
   "metadata": {},
   "outputs": [
    {
     "data": {
      "text/plain": [
       "tensor([1, 2, 3])"
      ]
     },
     "execution_count": 1,
     "metadata": {},
     "output_type": "execute_result"
    }
   ],
   "source": [
    "import torch\n",
    "\n",
    "torch.abs(torch.tensor([-1, -2, 3]))"
   ]
  },
  {
   "attachments": {},
   "cell_type": "markdown",
   "id": "90d8e03f",
   "metadata": {},
   "source": [
    "## acos/arccos\n",
    "计算输入中每个元素的逆余弦。\n",
    "\n",
    "$$\\text{out}_i=\\cos^{-1}(\\operatorname{input}_i)$$\n",
    "\n",
    "**定义**：  \n",
    "torch.acos(input, *, out=None) → Tensor\n",
    "\n",
    "**参数**：  \n",
    "- input (Tensor) – the input tensor.  输入张量\n",
    "\n",
    "- out (Tensor, optional) – the output tensor.  输出张量"
   ]
  },
  {
   "cell_type": "code",
   "execution_count": 7,
   "id": "049f8803",
   "metadata": {},
   "outputs": [
    {
     "name": "stdout",
     "output_type": "stream",
     "text": [
      "tensor([-0.3200,  0.1387, -3.0484, -0.4391])\n"
     ]
    },
    {
     "data": {
      "text/plain": [
       "tensor([1.8965, 1.4316,    nan, 2.0254])"
      ]
     },
     "execution_count": 7,
     "metadata": {},
     "output_type": "execute_result"
    }
   ],
   "source": [
    "import torch\n",
    "a = torch.randn(4)\n",
    "print(a)\n",
    "torch.acos(a)"
   ]
  },
  {
   "attachments": {},
   "cell_type": "markdown",
   "id": "6b2cf675",
   "metadata": {},
   "source": [
    "## acosh/arccosh\n",
    "返回输入元素的反双曲余弦的新张量。\n",
    "$$\\text{out}_i=\\cosh^{-1}(\\operatorname{input}_i)$$\n",
    "\n",
    "**定义**：  \n",
    "torch.acosh(input, *, out=None) → Tensor\n",
    "\n",
    "**参数**：  \n",
    "- input (Tensor) – the input tensor.  输入张量\n",
    "\n",
    "- out (Tensor, optional) – the output tensor.  输出张量"
   ]
  },
  {
   "cell_type": "code",
   "execution_count": 9,
   "id": "469bcb23",
   "metadata": {},
   "outputs": [
    {
     "data": {
      "text/plain": [
       "tensor([0.7808, 1.1149, 0.9426, 1.2994])"
      ]
     },
     "execution_count": 9,
     "metadata": {},
     "output_type": "execute_result"
    }
   ],
   "source": [
    "import torch\n",
    "a = torch.randn(4).uniform_(1, 2)\n",
    "a\n",
    "torch.acosh(a)"
   ]
  },
  {
   "attachments": {},
   "cell_type": "markdown",
   "id": "98dc0c8c",
   "metadata": {},
   "source": [
    "## add\n",
    "\n",
    "$$\\text{out}_i=\\text{input}_i+\\text{alpha}\\times\\text{other}_i$$\n",
    "\n",
    "**定义**：  \n",
    "torch.add(input, other, *, alpha=1, out=None) → Tensor\n",
    "\n",
    "**参数**：  \n",
    "- input (Tensor) – the input tensor.  输入张量\n",
    "\n",
    "- other (Tensor or Number) – the tensor or number to add to input.  要添加到输入中的张量或数字\n",
    "\n",
    "- alpha (Number) – the multiplier for other.  other的乘数\n",
    "\n",
    "- out (Tensor, optional) – the output tensor.  输出张量"
   ]
  },
  {
   "cell_type": "code",
   "execution_count": 15,
   "id": "94ad9cac",
   "metadata": {},
   "outputs": [
    {
     "name": "stdout",
     "output_type": "stream",
     "text": [
      "tensor([0, 1, 2, 3, 4, 5, 6, 7, 8, 9])\n"
     ]
    },
    {
     "data": {
      "text/plain": [
       "tensor([100, 101, 102, 103, 104, 105, 106, 107, 108, 109])"
      ]
     },
     "execution_count": 15,
     "metadata": {},
     "output_type": "execute_result"
    }
   ],
   "source": [
    "import torch\n",
    "a = torch.arange(10)\n",
    "print(a)\n",
    "torch.add(input=a, other=100)"
   ]
  },
  {
   "cell_type": "code",
   "execution_count": 16,
   "id": "9154a930",
   "metadata": {},
   "outputs": [
    {
     "data": {
      "text/plain": [
       "tensor([100, 101, 102, 103, 104, 105, 106, 107, 108, 109])"
      ]
     },
     "execution_count": 16,
     "metadata": {},
     "output_type": "execute_result"
    }
   ],
   "source": [
    "import torch\n",
    "a = torch.arange(10)\n",
    "b = torch.ones_like(a)\n",
    "torch.add(input=a, other=b, alpha=100)"
   ]
  },
  {
   "attachments": {},
   "cell_type": "markdown",
   "id": "380e8be3",
   "metadata": {},
   "source": [
    "## addcdiv\n",
    "执行tensor1与tensor2的逐元素除法，将结果乘以标量值并将其添加到输入中。\n",
    "\n",
    "$$\\text{out}_i=\\text{input}_i+\\text{value}\\times\\dfrac{\\text{tensor}1_i}{\\text{tensor}2_i}$$\n",
    "\n",
    "**定义**：  \n",
    "torch.addcdiv(input, tensor1, tensor2, *, value=1, out=None) → Tensor\n",
    "\n",
    "**参数**：  \n",
    "- input (Tensor) – the tensor to be added  要加的张量\n",
    "\n",
    "- tensor1 (Tensor) – the numerator tensor  分子张量\n",
    "\n",
    "- tensor2 (Tensor) – the denominator tensor  分母张量\n",
    "\n",
    "- value (Number, optional) – multiplier for tensor1 / tensor2.   tensor1 / tensor2的乘子\n",
    "\n",
    "- out (Tensor, optional) – the output tensor.  输出张量。"
   ]
  },
  {
   "cell_type": "code",
   "execution_count": 20,
   "id": "86b6d76a",
   "metadata": {},
   "outputs": [
    {
     "data": {
      "text/plain": [
       "tensor([[1.7674, 1.3758, 0.6647],\n",
       "        [1.2805, 1.1478, 0.7561],\n",
       "        [0.7085, 0.8800, 0.8634]])"
      ]
     },
     "execution_count": 20,
     "metadata": {},
     "output_type": "execute_result"
    }
   ],
   "source": [
    "import torch\n",
    "t = torch.randn(1, 3)\n",
    "t1 = torch.randn(3, 1)\n",
    "t2 = torch.randn(1, 3)\n",
    "torch.addcdiv(t, t1, t2, value=0.1)"
   ]
  },
  {
   "attachments": {},
   "cell_type": "markdown",
   "id": "0aa5db6f",
   "metadata": {},
   "source": [
    "## addcmul\n",
    "执行tensor1与tensor2的元素乘法，将结果乘以标量值并将其添加到输入中。\n",
    "$$\\text{out}_i=\\mathrm{input}_i+\\mathrm{value}\\times\\mathrm{tensor1}_i\\times\\mathrm{tensor2}_i$$\n",
    "\n",
    "**定义**：  \n",
    "torch.addcmul(input, tensor1, tensor2, *, value=1, out=None) → Tensor\n",
    "\n",
    "**参数**：  \n",
    "- input (Tensor) – the tensor to be added   要加的张量\n",
    "\n",
    "- tensor1 (Tensor) – the tensor to be multiplied  要乘的张量\n",
    "\n",
    "- tensor2 (Tensor) – the tensor to be multiplied  要乘的张量\n",
    "\n",
    "- value (Number, optional) – multiplier for tensor1∗tensor2.  tensor1∗tensor2的乘子\n",
    "\n",
    "- out (Tensor, optional) – the output tensor.  输出张量。"
   ]
  },
  {
   "cell_type": "code",
   "execution_count": 24,
   "id": "8393670a",
   "metadata": {},
   "outputs": [
    {
     "data": {
      "text/plain": [
       "tensor([[-1.5827, -0.7309,  2.5973],\n",
       "        [-1.6367, -0.8269,  2.6584],\n",
       "        [-1.6840, -0.9110,  2.7119]])"
      ]
     },
     "execution_count": 24,
     "metadata": {},
     "output_type": "execute_result"
    }
   ],
   "source": [
    "import torch\n",
    "t = torch.randn(1, 3)\n",
    "t1 = torch.randn(3, 1)\n",
    "t2 = torch.randn(1, 3)\n",
    "torch.addcmul(t, t1, t2, value=0.1)"
   ]
  },
  {
   "attachments": {},
   "cell_type": "markdown",
   "id": "776d450a",
   "metadata": {},
   "source": [
    "## angle\n",
    "计算给定输入张量的元素角度(弧度)。\n",
    "$$\\text{out}_i=angle(\\operatorname{input}_i)$$\n",
    "\n",
    "**定义**：  \n",
    "torch.angle(input, *, out=None) → Tensor\n",
    "\n",
    "**参数**：  \n",
    "- input (Tensor) – the input tensor.  输入张量\n",
    "\n",
    "- out (Tensor, optional) – the output tensor.  输出张量"
   ]
  },
  {
   "cell_type": "code",
   "execution_count": 25,
   "id": "e5c2b470",
   "metadata": {},
   "outputs": [
    {
     "data": {
      "text/plain": [
       "tensor([135.0001, 135.0001, -45.0000])"
      ]
     },
     "execution_count": 25,
     "metadata": {},
     "output_type": "execute_result"
    }
   ],
   "source": [
    "import torch\n",
    "torch.angle(torch.tensor([-1 + 1j, -2 + 2j, 3 - 3j]))*180/3.14159"
   ]
  },
  {
   "attachments": {},
   "cell_type": "markdown",
   "id": "95e64b5d",
   "metadata": {},
   "source": [
    "## asin/arcsin\n",
    "返回一个带有输入元素arcsin的新张量。\n",
    "\n",
    "$$\\text{out}_i=\\sin^{-1}(\\operatorname{input}_i)$$\n",
    "\n",
    "**定义**：  \n",
    "torch.asin(input, *, out=None) → Tensor\n",
    "\n",
    "**参数**：  \n",
    "- input (Tensor) – the input tensor.  输入张量\n",
    "\n",
    "- out (Tensor, optional) – the output tensor.  输出张量"
   ]
  },
  {
   "cell_type": "code",
   "execution_count": 27,
   "id": "ff87c5c4",
   "metadata": {},
   "outputs": [
    {
     "data": {
      "text/plain": [
       "tensor([   nan, 0.2574, 0.8200, 0.9444])"
      ]
     },
     "execution_count": 27,
     "metadata": {},
     "output_type": "execute_result"
    }
   ],
   "source": [
    "import torch\n",
    "a = torch.randn(4)\n",
    "torch.asin(a)"
   ]
  },
  {
   "attachments": {},
   "cell_type": "markdown",
   "id": "34562f3f",
   "metadata": {},
   "source": [
    "## asinh/arcsinh\n",
    "\n",
    "$$\\text{out}_i=\\sinh^{-1}(\\operatorname{input}_i)$$\n",
    "\n",
    "**定义**：  \n",
    "torch.asinh(input, *, out=None) → Tensor\n",
    "\n",
    "**参数**：  \n",
    "- input (Tensor) – the input tensor.  输入张量\n",
    "\n",
    "- out (Tensor, optional) – the output tensor.  输出张量"
   ]
  },
  {
   "cell_type": "code",
   "execution_count": 28,
   "id": "9aa78793",
   "metadata": {},
   "outputs": [
    {
     "data": {
      "text/plain": [
       "tensor([-0.1693,  1.0191, -0.1025, -0.0610])"
      ]
     },
     "execution_count": 28,
     "metadata": {},
     "output_type": "execute_result"
    }
   ],
   "source": [
    "import torch\n",
    "a = torch.randn(4)\n",
    "a\n",
    "torch.asinh(a)"
   ]
  },
  {
   "attachments": {},
   "cell_type": "markdown",
   "id": "a088b532",
   "metadata": {},
   "source": [
    "## atan/arctan\n",
    "\n",
    "\n",
    "返回一个带有输入元素arctan值的新张量。\n",
    "\n",
    "$$\\text{out}_i=\\tan^{-1}(\\operatorname{input}_i)$$\n",
    "\n",
    "**定义**：  \n",
    "torch.atan(input, *, out=None) → Tensor\n",
    "\n",
    "**参数**：  \n",
    "- input (Tensor) – the input tensor.  输入张量\n",
    "\n",
    "- out (Tensor, optional) – the output tensor.  输出张量"
   ]
  },
  {
   "cell_type": "code",
   "execution_count": 29,
   "id": "072ffeb1",
   "metadata": {},
   "outputs": [
    {
     "data": {
      "text/plain": [
       "tensor([ 0.7518, -0.7453, -0.4551,  0.6872])"
      ]
     },
     "execution_count": 29,
     "metadata": {},
     "output_type": "execute_result"
    }
   ],
   "source": [
    "import torch\n",
    "a = torch.randn(4)\n",
    "a\n",
    "torch.atan(a)"
   ]
  },
  {
   "attachments": {},
   "cell_type": "markdown",
   "id": "1d9b4753",
   "metadata": {},
   "source": [
    "## atanh/arctanh\n",
    "返回输入元素的反双曲正切的新张量。\n",
    "\n",
    "$$\\text{out}_i=\\tanh^{-1}(\\text{input}_i)$$\n",
    "\n",
    "**定义**：  \n",
    "torch.atanh(input, *, out=None) → Tensor\n",
    "\n",
    "**参数**：  \n",
    "- input (Tensor) – the input tensor.  输入张量\n",
    "\n",
    "- out (Tensor, optional) – the output tensor.  输出张量"
   ]
  },
  {
   "cell_type": "code",
   "execution_count": 30,
   "id": "6a497f8a",
   "metadata": {},
   "outputs": [
    {
     "data": {
      "text/plain": [
       "tensor([-0.0184, -0.6261, -1.1195, -0.7628])"
      ]
     },
     "execution_count": 30,
     "metadata": {},
     "output_type": "execute_result"
    }
   ],
   "source": [
    "import torch\n",
    "a = torch.randn(4).uniform_(-1, 1)\n",
    "a\n",
    "torch.atanh(a)"
   ]
  },
  {
   "attachments": {},
   "cell_type": "markdown",
   "id": "4dd6c76d",
   "metadata": {},
   "source": [
    "## atan2/arctan2\n",
    "\n",
    "$$\\operatorname{atan2}(y,x)=\\begin{cases}\\arctan(\\frac yx)&\\text{if }x>0,\\\\ \\arctan(\\frac yx)+\\pi&\\text{if }x<0\\text{ and }y\\ge0,\\\\\\arctan(\\frac yx)-\\pi&\\text{if }{x<0}\\text{ and }y<0,\\\\ +\\frac\\pi2&\\text{if }x=0\\text{ and }y>0,\\\\ -\\frac\\pi2&\\operatorname{if }x=0\\operatorname{ and }{y<0},\\\\ \\operatorname{undefined}&\\text{if }{x=0}\\text{ and }y=0.\\end{cases}$$\n",
    "\n",
    "https://stackoverflow.com/questions/35749246/python-atan-or-atan2-what-should-i-use\n",
    "\n",
    "**定义**：  \n",
    "torch.atan2(input, other, *, out=None) → Tensor\n",
    "\n",
    "**参数**：  \n",
    "- input (Tensor) – the first input tensor  第一个输入张量\n",
    "\n",
    "- other (Tensor) – the second input tensor  第二个输入张量\n",
    "\n",
    "- out (Tensor, optional) – the output tensor.  输出张量"
   ]
  },
  {
   "cell_type": "code",
   "execution_count": 31,
   "id": "814f2e36",
   "metadata": {},
   "outputs": [
    {
     "data": {
      "text/plain": [
       "tensor([-2.7770, -0.7276, -0.1640,  2.9073])"
      ]
     },
     "execution_count": 31,
     "metadata": {},
     "output_type": "execute_result"
    }
   ],
   "source": [
    "import torch\n",
    "a = torch.randn(4)\n",
    "a\n",
    "torch.atan2(a, torch.randn(4))"
   ]
  },
  {
   "attachments": {},
   "cell_type": "markdown",
   "id": "59d8e4f8",
   "metadata": {},
   "source": [
    "## bitwise_not/logical_not\n",
    "\n",
    "计算给定输入张量的位NOT。输入张量必须为整型或布尔型。对于bool张量，它计算逻辑NOT。\n",
    "\n",
    "**定义**：  \n",
    "torch.bitwise_not(input, *, out=None) → Tensor\n",
    "\n",
    "**参数**：  \n",
    "- input (Tensor) – the input tensor.  输入张量\n",
    "\n",
    "- out (Tensor, optional) – the output tensor.  输出张量\n"
   ]
  },
  {
   "cell_type": "code",
   "execution_count": 47,
   "id": "14e4a805",
   "metadata": {},
   "outputs": [
    {
     "data": {
      "text/plain": [
       "tensor([255, 254, 253], dtype=torch.uint8)"
      ]
     },
     "execution_count": 47,
     "metadata": {},
     "output_type": "execute_result"
    }
   ],
   "source": [
    "import torch\n",
    "torch.bitwise_not(torch.tensor([0, 1, 2], dtype=torch.uint8))\n",
    "# 0000 0000 -> 1111 1111\n",
    "# 0000 0001 -> 1111 1110\n",
    "# 0000 0010 -> 1111 1101 "
   ]
  },
  {
   "attachments": {},
   "cell_type": "markdown",
   "id": "a7ce205a",
   "metadata": {},
   "source": [
    "## bitwise_and/logical_and\n",
    "\n",
    "计算输入和其他的位与。输入张量必须为整型或布尔型。对于bool张量，它计算逻辑与。\n",
    "\n",
    "**定义**：  \n",
    "torch.bitwise_and(input, other, *, out=None) → Tensor\n",
    "\n",
    "**参数**：  \n",
    "- input – the first input tensor  第一个输入张量\n",
    "\n",
    "- other – the second input tensor  第二个输入张量\n",
    "\n",
    "- out (Tensor, optional) – the output tensor.  输出张量\n"
   ]
  },
  {
   "cell_type": "code",
   "execution_count": 48,
   "id": "1ff3b7d0",
   "metadata": {},
   "outputs": [
    {
     "data": {
      "text/plain": [
       "tensor([False,  True, False])"
      ]
     },
     "execution_count": 48,
     "metadata": {},
     "output_type": "execute_result"
    }
   ],
   "source": [
    "import torch\n",
    "torch.bitwise_and(torch.tensor([-1, -2, 3], dtype=torch.int8),\n",
    "                  torch.tensor([1, 0, 3], dtype=torch.int8))\n",
    "torch.bitwise_and(torch.tensor([True, True, False]),\n",
    "                  torch.tensor([False, True, False]))\n"
   ]
  },
  {
   "attachments": {},
   "cell_type": "markdown",
   "id": "46e8c006",
   "metadata": {},
   "source": [
    "## bitwise_or/logical_or\n",
    "\n",
    "计算输入和其他的位或。输入张量必须为整型或布尔型。对于bool张量，它计算逻辑或。\n",
    "\n",
    "**定义**：  \n",
    "torch.bitwise_or(input, other, *, out=None) → Tensor\n",
    "\n",
    "**参数**：  \n",
    "- input – the first input tensor  第一个输入张量\n",
    "\n",
    "- other – the second input tensor  第二个输入张量\n",
    "\n",
    "- out (Tensor, optional) – the output tensor.  输出张量\n"
   ]
  },
  {
   "cell_type": "code",
   "execution_count": 49,
   "id": "5c42526a",
   "metadata": {},
   "outputs": [
    {
     "data": {
      "text/plain": [
       "tensor([ True,  True, False])"
      ]
     },
     "execution_count": 49,
     "metadata": {},
     "output_type": "execute_result"
    }
   ],
   "source": [
    "import torch\n",
    "torch.bitwise_or(torch.tensor([-1, -2, 3], dtype=torch.int8),\n",
    "                  torch.tensor([1, 0, 3], dtype=torch.int8))\n",
    "torch.bitwise_or(torch.tensor([True, True, False]),\n",
    "                  torch.tensor([False, True, False]))\n"
   ]
  },
  {
   "attachments": {},
   "cell_type": "markdown",
   "id": "de0cf418",
   "metadata": {},
   "source": [
    "## bitwise_xor/logical_xor\n",
    "\n",
    "计算输入和其他的位异或。输入张量必须为整型或布尔型。对于bool张量，它计算逻辑异或。\n",
    "\n",
    "**定义**：  \n",
    "torch.bitwise_xor(input, other, *, out=None) → Tensor\n",
    "\n",
    "**参数**：  \n",
    "- input – the first input tensor  第一个输入张量\n",
    "\n",
    "- other – the second input tensor  第二个输入张量\n",
    "\n",
    "- out (Tensor, optional) – the output tensor.  输出张量\n"
   ]
  },
  {
   "cell_type": "code",
   "execution_count": 50,
   "id": "3a14d165",
   "metadata": {},
   "outputs": [
    {
     "data": {
      "text/plain": [
       "tensor([ True, False, False])"
      ]
     },
     "execution_count": 50,
     "metadata": {},
     "output_type": "execute_result"
    }
   ],
   "source": [
    "import torch\n",
    "torch.bitwise_xor(torch.tensor([-1, -2, 3], dtype=torch.int8),\n",
    "                  torch.tensor([1, 0, 3], dtype=torch.int8))\n",
    "torch.bitwise_xor(torch.tensor([True, True, False]),\n",
    "                  torch.tensor([False, True, False]))\n"
   ]
  },
  {
   "attachments": {},
   "cell_type": "markdown",
   "id": "ebafae62",
   "metadata": {},
   "source": [
    "## bitwise_left_shift\n",
    "计算输入的左算术移位。输入张量必须是整型的。\n",
    "$$\\text{out}_i=\\text{input}_i<<\\text{other}_i$$\n",
    "\n",
    "**定义**：  \n",
    "torch.bitwise_left_shift(input, other, *, out=None) → Tensor\n",
    "\n",
    "**参数**：  \n",
    "- input – the first input tensor  第一个输入张量\n",
    "\n",
    "- other – the second input tensor  第二个输入张量\n",
    "\n",
    "- out (Tensor, optional) – the output tensor.  输出张量\n"
   ]
  },
  {
   "cell_type": "code",
   "execution_count": 51,
   "id": "74a73ff4",
   "metadata": {},
   "outputs": [
    {
     "data": {
      "text/plain": [
       "tensor([-2, -2, 24], dtype=torch.int8)"
      ]
     },
     "execution_count": 51,
     "metadata": {},
     "output_type": "execute_result"
    }
   ],
   "source": [
    "import torch\n",
    "print(3<<3)\n",
    "torch.bitwise_left_shift(torch.tensor([-1, -2, 3], dtype=torch.int8),\n",
    "                         torch.tensor([1, 0, 3], dtype=torch.int8))\n"
   ]
  },
  {
   "attachments": {},
   "cell_type": "markdown",
   "id": "cdf87c30",
   "metadata": {},
   "source": [
    "## bitwise_right_shift\n",
    "计算输入的右算术移位。输入张量必须是整型的。\n",
    "$$\\text{out}_i=\\text{input}_i>>\\text{other}_i$$\n",
    "\n",
    "**定义**：  \n",
    "torch.bitwise_right_shift(input, other, *, out=None) → Tensor\n",
    "\n",
    "**参数**：  \n",
    "- input – the first input tensor  第一个输入张量\n",
    "\n",
    "- other – the second input tensor  第二个输入张量\n",
    "\n",
    "- out (Tensor, optional) – the output tensor.  输出张量\n"
   ]
  },
  {
   "cell_type": "code",
   "execution_count": 55,
   "id": "f2abb7bd",
   "metadata": {},
   "outputs": [
    {
     "name": "stdout",
     "output_type": "stream",
     "text": [
      "3\n"
     ]
    },
    {
     "data": {
      "text/plain": [
       "tensor([-1, -7,  3], dtype=torch.int8)"
      ]
     },
     "execution_count": 55,
     "metadata": {},
     "output_type": "execute_result"
    }
   ],
   "source": [
    "import torch\n",
    "print(31 >> 3)\n",
    "torch.bitwise_right_shift(torch.tensor([-2, -7, 31], dtype=torch.int8),\n",
    "                          torch.tensor([1, 0, 3], dtype=torch.int8))"
   ]
  },
  {
   "attachments": {},
   "cell_type": "markdown",
   "id": "d5879828",
   "metadata": {},
   "source": [
    "## ceil\n",
    "向上取整\n",
    "\n",
    "$$\\text{out}_i=\\lceil\\operatorname{input}_i\\rceil$$\n",
    "\n",
    "**定义**：  \n",
    "torch.ceil(input, *, out=None) → Tensor\n",
    "\n",
    "**参数**：  \n",
    "- input (Tensor) – the input tensor.  输入张量\n",
    "\n",
    "- out (Tensor, optional) – the output tensor.  输出张量\n"
   ]
  },
  {
   "cell_type": "code",
   "execution_count": 57,
   "id": "4f44f202",
   "metadata": {},
   "outputs": [
    {
     "name": "stdout",
     "output_type": "stream",
     "text": [
      "tensor([-0.3689, -0.0410,  1.4594, -1.5169])\n"
     ]
    },
    {
     "data": {
      "text/plain": [
       "tensor([-0., -0.,  2., -1.])"
      ]
     },
     "execution_count": 57,
     "metadata": {},
     "output_type": "execute_result"
    }
   ],
   "source": [
    "import torch\n",
    "a = torch.randn(4)\n",
    "print(a)\n",
    "torch.ceil(a)"
   ]
  },
  {
   "attachments": {},
   "cell_type": "markdown",
   "id": "5a97b265",
   "metadata": {},
   "source": [
    "## clamp/clip\n",
    "夹住.  \n",
    "将输入的所有元素固定在[min, max]范围内\n",
    "\n",
    "$$y_i=\\min(\\max(x_i,\\min\\text{value}_i),\\max\\text{value}_i)$$\n",
    "\n",
    "**定义**：  \n",
    "torch.clamp(input, min=None, max=None, *, out=None) → Tensor\n",
    "\n",
    "**参数**：  \n",
    "- input (Tensor) – the input tensor.  输入张量\n",
    "\n",
    "- min (Number or Tensor, optional) – lower-bound of the range to be clamped to  要夹紧的范围的下限\n",
    "\n",
    "- max (Number or Tensor, optional) – upper-bound of the range to be clamped to  要夹紧的范围的上限\n",
    "\n",
    "- out (Tensor, optional) – the output tensor.  输出张量\n"
   ]
  },
  {
   "cell_type": "code",
   "execution_count": 1,
   "id": "6538cbfa",
   "metadata": {},
   "outputs": [
    {
     "name": "stdout",
     "output_type": "stream",
     "text": [
      "tensor([-0.2149,  0.7258,  0.5111, -2.4046])\n",
      "tensor([-0.2149,  0.5000,  0.5000, -0.5000])\n",
      "tensor([-1.0000, -0.3333,  0.3333,  1.0000])\n"
     ]
    },
    {
     "data": {
      "text/plain": [
       "tensor([-0.2149,  0.7258,  0.5111,  1.0000])"
      ]
     },
     "execution_count": 1,
     "metadata": {},
     "output_type": "execute_result"
    }
   ],
   "source": [
    "import torch\n",
    "a = torch.randn(4)\n",
    "print(a)\n",
    "print(torch.clamp(a, min=-0.5, max=0.5))\n",
    "\n",
    "min = torch.linspace(-1, 1, steps=4)\n",
    "print(min)\n",
    "torch.clamp(a, min=min)"
   ]
  },
  {
   "attachments": {},
   "cell_type": "markdown",
   "id": "5e458645",
   "metadata": {},
   "source": [
    "## conj_physical\n",
    "计算给定输入张量的元素共轭。\n",
    "\n",
    "$$\\text{out}_i=conj(\\text{input}_i)$$\n",
    "\n",
    "**定义**：  \n",
    "torch.conj_physical(input, *, out=None) → Tensor\n",
    "\n",
    "**参数**：  \n",
    "- input (Tensor) – the input tensor.  输入张量\n",
    "\n",
    "- out (Tensor, optional) – the output tensor.  输出张量\n"
   ]
  },
  {
   "cell_type": "code",
   "execution_count": 2,
   "id": "51acf70e",
   "metadata": {},
   "outputs": [
    {
     "data": {
      "text/plain": [
       "tensor([-1.-1.j, -2.-2.j,  3.+3.j])"
      ]
     },
     "execution_count": 2,
     "metadata": {},
     "output_type": "execute_result"
    }
   ],
   "source": [
    "import torch\n",
    "torch.conj_physical(torch.tensor([-1 + 1j, -2 + 2j, 3 - 3j]))"
   ]
  },
  {
   "attachments": {},
   "cell_type": "markdown",
   "id": "1fc47410",
   "metadata": {},
   "source": [
    "## copysign\n",
    "用input的大小和other的符号创建一个新的浮点张量。\n",
    "$$\\operatorname{out}_i=\\begin{cases}-|\\operatorname{input}_i|&\\text{if other}_i\\leq-0.0\\\\ |\\operatorname{imput}_i|&\\text{if other}_i\\geq0.0\\end{cases}$$\n",
    "\n",
    "**定义**：  \n",
    "torch.copysign(input, other, *, out=None) → Tensor\n",
    "\n",
    "**参数**：  \n",
    "- input (Tensor) – the input tensor.  输入张量\n",
    "\n",
    "- out (Tensor, optional) – the output tensor.  输出张量\n"
   ]
  },
  {
   "cell_type": "code",
   "execution_count": 4,
   "id": "e86705d0",
   "metadata": {},
   "outputs": [
    {
     "name": "stdout",
     "output_type": "stream",
     "text": [
      "tensor([-0.2094, -0.7962,  0.0462,  0.0176])\n",
      "tensor([-0.3092, -0.5713,  0.0554, -0.6485])\n"
     ]
    },
    {
     "data": {
      "text/plain": [
       "tensor([-0.2094, -0.7962,  0.0462, -0.0176])"
      ]
     },
     "execution_count": 4,
     "metadata": {},
     "output_type": "execute_result"
    }
   ],
   "source": [
    "import torch\n",
    "a = torch.randn(4)\n",
    "print(a)\n",
    "b = torch.randn(4)\n",
    "print(b)\n",
    "\n",
    "torch.copysign(a, b)"
   ]
  },
  {
   "attachments": {},
   "cell_type": "markdown",
   "id": "d223c400",
   "metadata": {},
   "source": [
    "## cos\n",
    "\n",
    "$$\\text{out}_i=\\cos(\\text{input}_i)$$\n",
    "\n",
    "**定义**：  \n",
    "torch.cos(input, *, out=None) → Tensor\n",
    "\n",
    "**参数**：  \n",
    "- input (Tensor) – the input tensor.  输入张量\n",
    "\n",
    "- out (Tensor, optional) – the output tensor.  输出张量\n"
   ]
  },
  {
   "cell_type": "code",
   "execution_count": 7,
   "id": "7e708d4f",
   "metadata": {},
   "outputs": [
    {
     "data": {
      "text/plain": [
       "tensor([ 0.9805, -0.2416,  0.9493,  0.9866])"
      ]
     },
     "execution_count": 7,
     "metadata": {},
     "output_type": "execute_result"
    }
   ],
   "source": [
    "import torch\n",
    "a = torch.randn(4)\n",
    "torch.cos(a)"
   ]
  },
  {
   "attachments": {},
   "cell_type": "markdown",
   "id": "2c65a208",
   "metadata": {},
   "source": [
    "## cosh\n",
    "返回一个包含输入元素的双曲余弦的新张量。\n",
    "\n",
    "$$\\text{out}_i=\\cosh(\\operatorname{input}_i)$$\n",
    "\n",
    "**定义**：  \n",
    "torch.cosh(input, *, out=None) → Tensor\n",
    "\n",
    "**参数**：  \n",
    "- input (Tensor) – the input tensor.  输入张量\n",
    "\n",
    "- out (Tensor, optional) – the output tensor.  输出张量\n"
   ]
  },
  {
   "cell_type": "code",
   "execution_count": 8,
   "id": "8f455dcb",
   "metadata": {},
   "outputs": [
    {
     "data": {
      "text/plain": [
       "tensor([1.0995, 1.3152, 1.9244, 1.8898])"
      ]
     },
     "execution_count": 8,
     "metadata": {},
     "output_type": "execute_result"
    }
   ],
   "source": [
    "import torch\n",
    "a = torch.randn(4)\n",
    "torch.cosh(a)"
   ]
  },
  {
   "attachments": {},
   "cell_type": "markdown",
   "id": "7ed0c730",
   "metadata": {},
   "source": [
    "## deg2rad\n",
    "返回一个新的张量，其中输入的每个元素都从角度转换为弧度。\n",
    "\n",
    "**定义**：  \n",
    "torch.deg2rad(input, *, out=None) → Tensor\n",
    "\n",
    "**参数**：  \n",
    "- input (Tensor) – the input tensor.  输入张量\n",
    "\n",
    "- out (Tensor, optional) – the output tensor.  输出张量\n"
   ]
  },
  {
   "cell_type": "code",
   "execution_count": 9,
   "id": "e9a09507",
   "metadata": {},
   "outputs": [
    {
     "data": {
      "text/plain": [
       "tensor([[ 3.1416, -3.1416],\n",
       "        [ 6.2832, -6.2832],\n",
       "        [ 1.5708, -1.5708]])"
      ]
     },
     "execution_count": 9,
     "metadata": {},
     "output_type": "execute_result"
    }
   ],
   "source": [
    "import torch\n",
    "a = torch.tensor([[180.0, -180.0], [360.0, -360.0], [90.0, -90.0]])\n",
    "torch.deg2rad(a)"
   ]
  },
  {
   "attachments": {},
   "cell_type": "markdown",
   "id": "862f6ff4",
   "metadata": {},
   "source": [
    "## div/divide/true_divide\n",
    "将输入输入的每个元素除以其他输入的相应元素。\n",
    "\n",
    "true_divide和 torch.div() with rounding_mode=None一致.\n",
    "\n",
    "$$\\text{out}_i=\\dfrac{\\text{input}_i}{\\text{other}_i}$$\n",
    "\n",
    "**定义**：  \n",
    "torch.div(input, other, *, rounding_mode=None, out=None) → Tensor\n",
    "\n",
    "**参数**：  \n",
    "- input (Tensor) – the dividend 被除数\n",
    "\n",
    "- other (Tensor or Number) – the divisor 除数\n",
    "\n",
    "- out (Tensor, optional) – the output tensor.  输出张量\n",
    "\n",
    "- rounding_mode (str, optional) – None、trunc、floor "
   ]
  },
  {
   "cell_type": "code",
   "execution_count": 10,
   "id": "579a5049",
   "metadata": {},
   "outputs": [
    {
     "name": "stdout",
     "output_type": "stream",
     "text": [
      "tensor([ 0.7620,  2.5548, -0.5944, -0.7438,  0.9274])\n",
      "tensor([[-0.4620, -6.6051,  0.5676,  1.2639],\n",
      "        [ 0.2260, -3.4509, -1.2086,  6.8990],\n",
      "        [ 0.1322,  4.9764, -0.9564,  5.3484],\n",
      "        [-0.2278, -0.1068, -1.4678,  6.3938]])\n",
      "tensor([[-0., -6.,  0.,  1.],\n",
      "        [ 0., -3., -1.,  6.],\n",
      "        [ 0.,  4., -0.,  5.],\n",
      "        [-0., -0., -1.,  6.]])\n",
      "tensor([[-1., -7.,  0.,  1.],\n",
      "        [ 0., -4., -2.,  6.],\n",
      "        [ 0.,  4., -1.,  5.],\n",
      "        [-1., -1., -2.,  6.]])\n"
     ]
    }
   ],
   "source": [
    "import torch\n",
    "x = torch.tensor([ 0.3810,  1.2774, -0.2972, -0.3719,  0.4637])\n",
    "print(torch.div(x, 0.5))\n",
    "\n",
    "a = torch.tensor([[-0.3711, -1.9353, -0.4605, -0.2917],\n",
    "                  [ 0.1815, -1.0111,  0.9805, -1.5923],\n",
    "                  [ 0.1062,  1.4581,  0.7759, -1.2344],\n",
    "                  [-0.1830, -0.0313,  1.1908, -1.4757]])\n",
    "b = torch.tensor([ 0.8032,  0.2930, -0.8113, -0.2308])\n",
    "print(torch.div(a, b))\n",
    "\n",
    "print(torch.div(a, b, rounding_mode='trunc'))\n",
    "\n",
    "print(torch.div(a, b, rounding_mode='floor'))"
   ]
  },
  {
   "attachments": {},
   "cell_type": "markdown",
   "id": "04ee5256",
   "metadata": {},
   "source": [
    "## exp\n",
    "\n",
    "$$y_i=e^{x_i}$$\n",
    "\n",
    "**定义**：  \n",
    "torch.exp(input, *, out=None) → Tensor\n",
    "\n",
    "**参数**：  \n",
    "- input (Tensor) – the input tensor.  输入张量\n",
    "\n",
    "- out (Tensor, optional) – the output tensor.  输出张量\n"
   ]
  },
  {
   "cell_type": "code",
   "execution_count": 11,
   "id": "d4ba37b9",
   "metadata": {},
   "outputs": [
    {
     "data": {
      "text/plain": [
       "tensor([1., 2.])"
      ]
     },
     "execution_count": 11,
     "metadata": {},
     "output_type": "execute_result"
    }
   ],
   "source": [
    "import torch\n",
    "import math\n",
    "\n",
    "torch.exp(torch.tensor([0, math.log(2.)]))"
   ]
  },
  {
   "attachments": {},
   "cell_type": "markdown",
   "id": "f2ca642a",
   "metadata": {},
   "source": [
    "## trunc/fix\n",
    "\n",
    "返回一个新的张量，包含输入元素的截断整数值。\n",
    "\n",
    "**定义**：  \n",
    "torch.trunc(input, *, out=None) → Tensor\n",
    "\n",
    "**参数**：  \n",
    "- input (Tensor) – the input tensor.  输入张量\n",
    "\n",
    "- out (Tensor, optional) – the output tensor.  输出张量\n"
   ]
  },
  {
   "cell_type": "code",
   "execution_count": 13,
   "id": "81322e2c",
   "metadata": {},
   "outputs": [
    {
     "name": "stdout",
     "output_type": "stream",
     "text": [
      "tensor([ 1.0509, -1.0209, -0.1938, -0.1570])\n"
     ]
    },
    {
     "data": {
      "text/plain": [
       "tensor([ 1., -1., -0., -0.])"
      ]
     },
     "execution_count": 13,
     "metadata": {},
     "output_type": "execute_result"
    }
   ],
   "source": [
    "import torch\n",
    "a = torch.randn(4)\n",
    "print(a)\n",
    "torch.trunc(a)"
   ]
  },
  {
   "attachments": {},
   "cell_type": "markdown",
   "id": "cff8017d",
   "metadata": {},
   "source": [
    "## float_power\n",
    "提高输入的指数次幂\n",
    "\n",
    "**定义**：  \n",
    "torch.float_power(input, exponent, *, out=None) → Tensor\n",
    "\n",
    "**参数**：  \n",
    "- input (Tensor) – the input tensor.  输入张量\n",
    "\n",
    "- exponent (Tensor or Number) – the exponent value(s)  指数值\n",
    "\n",
    "- out (Tensor, optional) – the output tensor.  输出张量\n"
   ]
  },
  {
   "cell_type": "code",
   "execution_count": 14,
   "id": "0ca8bcca",
   "metadata": {},
   "outputs": [
    {
     "name": "stdout",
     "output_type": "stream",
     "text": [
      "tensor([1, 2, 3, 4])\n"
     ]
    },
    {
     "data": {
      "text/plain": [
       "tensor([1.0000e+00, 1.2500e-01, 8.1000e+01, 9.7656e-04], dtype=torch.float64)"
      ]
     },
     "execution_count": 14,
     "metadata": {},
     "output_type": "execute_result"
    }
   ],
   "source": [
    "import torch\n",
    "a = torch.arange(1, 5)\n",
    "print(a)\n",
    "exp = torch.tensor([2, -3, 4, -5])\n",
    "torch.float_power(a, exp)"
   ]
  },
  {
   "attachments": {},
   "cell_type": "markdown",
   "id": "32ce2195",
   "metadata": {},
   "source": [
    "## floor\n",
    "\n",
    "$$\\text{out}_i=\\lfloor\\operatorname{input}_i\\rfloor$$\n",
    "\n",
    "**定义**：  \n",
    "torch.floor(input, *, out=None) → Tensor\n",
    "\n",
    "**参数**：  \n",
    "- input (Tensor) – the input tensor.  输入张量\n",
    "\n",
    "- out (Tensor, optional) – the output tensor.  输出张量\n"
   ]
  },
  {
   "cell_type": "code",
   "execution_count": 15,
   "id": "19ba8242",
   "metadata": {},
   "outputs": [
    {
     "name": "stdout",
     "output_type": "stream",
     "text": [
      "tensor([ 1.2759,  1.7243, -1.9898,  0.4412])\n"
     ]
    },
    {
     "data": {
      "text/plain": [
       "tensor([ 1.,  1., -2.,  0.])"
      ]
     },
     "execution_count": 15,
     "metadata": {},
     "output_type": "execute_result"
    }
   ],
   "source": [
    "import torch\n",
    "a = torch.randn(4)\n",
    "print(a)\n",
    "torch.floor(a)"
   ]
  },
  {
   "attachments": {},
   "cell_type": "markdown",
   "id": "aaa883c1",
   "metadata": {},
   "source": [
    "## floor_divide\n",
    "\n",
    "$$\\text{out}_i=\\text{floor}\\left(\\dfrac{\\text{input}_i}{\\text{other}_i}\\right)$$\n",
    "\n",
    "**定义**：  \n",
    "torch.floor_divide(input, other, *, out=None) → Tensor\n",
    "\n",
    "**参数**：  \n",
    "- input (Tensor or Number) – the dividend 被除数\n",
    "\n",
    "- other (Tensor or Number) – the divisor  除数\n",
    "\n",
    "- out (Tensor, optional) – the output tensor.  输出张量\n"
   ]
  },
  {
   "cell_type": "code",
   "execution_count": 18,
   "id": "03df7005",
   "metadata": {},
   "outputs": [
    {
     "name": "stdout",
     "output_type": "stream",
     "text": [
      "tensor([2., 1.])\n",
      "tensor([2., 2.])\n"
     ]
    }
   ],
   "source": [
    "import torch\n",
    "a = torch.tensor([4.0, 3.0])\n",
    "b = torch.tensor([2.0, 2.0])\n",
    "print(torch.floor_divide(a, b))\n",
    "print(torch.floor_divide(a, 1.4))"
   ]
  },
  {
   "attachments": {},
   "cell_type": "markdown",
   "id": "f76410ef",
   "metadata": {},
   "source": [
    "## frac\n",
    "\n",
    "计算输入中每个元素的小数部分。\n",
    "\n",
    "$$\\text{out}_i=\\text{input}_i-\\lfloor|\\text{input}_i|\\rfloor*\\text{sgn}(\\text{input}_i)$$\n",
    "\n",
    "**定义**：  \n",
    "torch.frac(input, *, out=None) → Tensor"
   ]
  },
  {
   "cell_type": "code",
   "execution_count": 19,
   "id": "40dd2a27",
   "metadata": {},
   "outputs": [
    {
     "data": {
      "text/plain": [
       "tensor([ 0.0000,  0.5000, -0.2000])"
      ]
     },
     "execution_count": 19,
     "metadata": {},
     "output_type": "execute_result"
    }
   ],
   "source": [
    "import torch\n",
    "torch.frac(torch.tensor([1, 2.5, -3.2]))"
   ]
  },
  {
   "attachments": {},
   "cell_type": "markdown",
   "id": "16e7097f",
   "metadata": {},
   "source": [
    "## frexp\n",
    "将输入分解为尾数和指数张量\n",
    "\n",
    "$$\\mathrm{input}=\\mathrm{mantissa}\\times2^{\\mathrm{exponent}}.$$\n",
    "\n",
    "**定义**：  \n",
    "torch.frexp(input, *, out=None) -> (Tensor mantissa, Tensor exponent)\n",
    "\n",
    "**参数**：  \n",
    "- input (Tensor) – the input tensor.  输入张量\n",
    "\n",
    "- out (Tensor, optional) – the output tensor.  输出张量\n"
   ]
  },
  {
   "cell_type": "code",
   "execution_count": 20,
   "id": "c9c73860",
   "metadata": {},
   "outputs": [
    {
     "name": "stdout",
     "output_type": "stream",
     "text": [
      "tensor([0.0000, 0.5000, 0.5000, 0.7500, 0.5000, 0.6250, 0.7500, 0.8750, 0.5000])\n",
      "tensor([0, 1, 2, 2, 3, 3, 3, 3, 4], dtype=torch.int32)\n"
     ]
    }
   ],
   "source": [
    "import torch\n",
    "x = torch.arange(9.)\n",
    "mantissa, exponent = torch.frexp(x)\n",
    "print(mantissa)\n",
    "print(exponent)"
   ]
  },
  {
   "attachments": {},
   "cell_type": "markdown",
   "id": "c3425b9d",
   "metadata": {},
   "source": [
    "## ldexp\n",
    "\n",
    "$$\\text{out}_i=\\operatorname{input}_i*2_i^{\\operatorname{other}}$$\n",
    "\n",
    "**定义**：  \n",
    "torch.ldexp(input, other, *, out=None) → Tensor\n",
    "\n",
    "**参数**：  \n",
    "- input (Tensor) – the input tensor.  输入张量\n",
    "\n",
    "- other (Tensor) – a tensor of exponents, typically integers.  一个指数张量，通常是整数。\n",
    "\n",
    "- out (Tensor, optional) – the output tensor.  输出张量\n"
   ]
  },
  {
   "cell_type": "code",
   "execution_count": 25,
   "id": "8f5169a8",
   "metadata": {},
   "outputs": [
    {
     "data": {
      "text/plain": [
       "tensor([ 2.,  4.,  8., 16.])"
      ]
     },
     "execution_count": 25,
     "metadata": {},
     "output_type": "execute_result"
    }
   ],
   "source": [
    "import torch\n",
    "# torch.ldexp(torch.tensor([1.]), torch.tensor([1]))\n",
    "torch.ldexp(torch.tensor([1.0]), torch.tensor([1, 2, 3, 4]))"
   ]
  },
  {
   "attachments": {},
   "cell_type": "markdown",
   "id": "64c885b7",
   "metadata": {},
   "source": [
    "## lerp\n",
    "torch.lerp的全称是“torch linear interpolation”，它是PyTorch中的一个函数，用于对两个张量进行线性插值。\n",
    "\n",
    "$$\\text{out}_i=\\text{start}_i+\\text{weight}_i\\times(\\text{end}_i-\\text{start}_i)$$\n",
    "\n",
    "**定义**：  \n",
    "torch.lerp(input, end, weight, *, out=None)\n",
    "\n",
    "**参数**：  \n",
    "- input (Tensor) – the tensor with the starting points  起始点的张量\n",
    "\n",
    "- end (Tensor) – the tensor with the ending points  带有端点的张量\n",
    "\n",
    "- weight (float or tensor) – the weight for the interpolation formula  插值公式的权重\n",
    "\n",
    "- out (Tensor, optional) – the output tensor.  输出张量\n"
   ]
  },
  {
   "cell_type": "code",
   "execution_count": 26,
   "id": "c9f3dfdb",
   "metadata": {},
   "outputs": [
    {
     "name": "stdout",
     "output_type": "stream",
     "text": [
      "tensor([1., 2., 3., 4.])\n",
      "tensor([10., 10., 10., 10.])\n"
     ]
    },
    {
     "data": {
      "text/plain": [
       "tensor([5.5000, 6.0000, 6.5000, 7.0000])"
      ]
     },
     "execution_count": 26,
     "metadata": {},
     "output_type": "execute_result"
    }
   ],
   "source": [
    "import torch\n",
    "start = torch.arange(1., 5.)\n",
    "end = torch.empty(4).fill_(10)\n",
    "print(start)\n",
    "print(end)\n",
    "torch.lerp(start, end, 0.5)\n",
    "# torch.lerp(start, end, torch.full_like(start, 0.5))"
   ]
  },
  {
   "attachments": {},
   "cell_type": "markdown",
   "id": "c5d2f557",
   "metadata": {},
   "source": [
    "## lgamma\n",
    "\n",
    "$$\\operatorname{out}_i=\\ln\\Gamma(|\\operatorname{input}_i|)$$\n",
    "\n",
    "**定义**：  \n",
    "torch.lgamma(input, *, out=None) → Tensor\n",
    "\n",
    "**参数**：  \n",
    "- input (Tensor) – the input tensor.  输入张量\n",
    "\n",
    "- out (Tensor, optional) – the output tensor.  输出张量\n"
   ]
  },
  {
   "cell_type": "code",
   "execution_count": 27,
   "id": "4300aef2",
   "metadata": {},
   "outputs": [
    {
     "data": {
      "text/plain": [
       "tensor([ 0.5724,  0.0000, -0.1208])"
      ]
     },
     "execution_count": 27,
     "metadata": {},
     "output_type": "execute_result"
    }
   ],
   "source": [
    "import torch\n",
    "a = torch.arange(0.5, 2, 0.5)\n",
    "torch.lgamma(a)"
   ]
  },
  {
   "attachments": {},
   "cell_type": "markdown",
   "id": "bcf426f7",
   "metadata": {},
   "source": [
    "## log\n",
    "\n",
    "$$y_i=\\log_e(x_i)$$\n",
    "\n",
    "**定义**：  \n",
    "torch.log(input, *, out=None) → Tensor\n",
    "\n",
    "**参数**：  \n",
    "- input (Tensor) – the input tensor.  输入张量\n",
    "\n",
    "- out (Tensor, optional) – the output tensor.  输出张量\n"
   ]
  },
  {
   "cell_type": "code",
   "execution_count": 32,
   "id": "034025d8",
   "metadata": {},
   "outputs": [
    {
     "name": "stdout",
     "output_type": "stream",
     "text": [
      "tensor([  -inf, 0.0000, 0.6931, 1.0986, 1.3863])\n"
     ]
    }
   ],
   "source": [
    "import torch\n",
    "a = torch.arange(5)\n",
    "print(torch.log(a))"
   ]
  },
  {
   "attachments": {},
   "cell_type": "markdown",
   "id": "70734a5e",
   "metadata": {},
   "source": [
    "## log10\n",
    "\n",
    "$$y_i=\\log_{10}(x_i)$$\n",
    "\n",
    "**定义**：  \n",
    "torch.log10(input, *, out=None) → Tensor\n",
    "\n",
    "**参数**：  \n",
    "- input (Tensor) – the input tensor.  输入张量\n",
    "\n",
    "- out (Tensor, optional) – the output tensor.  输出张量"
   ]
  },
  {
   "cell_type": "code",
   "execution_count": 33,
   "id": "a0abb7ed",
   "metadata": {},
   "outputs": [
    {
     "name": "stdout",
     "output_type": "stream",
     "text": [
      "tensor([  -inf, 0.0000, 0.3010, 0.4771, 0.6021])\n"
     ]
    }
   ],
   "source": [
    "import torch\n",
    "a = torch.arange(5)\n",
    "print(torch.log10(a))"
   ]
  },
  {
   "attachments": {},
   "cell_type": "markdown",
   "id": "2983f926",
   "metadata": {},
   "source": [
    "## log2\n",
    "\n",
    "$$y_i=\\log_2(x_i)$$\n",
    "\n",
    "**定义**：  \n",
    "torch.log2(input, *, out=None) → Tensor\n",
    "\n",
    "**参数**：  \n",
    "- input (Tensor) – the input tensor.  输入张量\n",
    "\n",
    "- out (Tensor, optional) – the output tensor.  输出张量"
   ]
  },
  {
   "cell_type": "code",
   "execution_count": 34,
   "id": "1fb0f433",
   "metadata": {},
   "outputs": [
    {
     "name": "stdout",
     "output_type": "stream",
     "text": [
      "tensor([  -inf, 0.0000, 1.0000, 1.5850, 2.0000])\n"
     ]
    }
   ],
   "source": [
    "import torch\n",
    "a = torch.arange(5)\n",
    "print(torch.log2(a))"
   ]
  },
  {
   "attachments": {},
   "cell_type": "markdown",
   "id": "e7e5d36e",
   "metadata": {},
   "source": [
    "## logaddexp\n",
    "\n",
    "$$\\log\\left(e^x+e^y\\right)$$\n",
    "\n",
    "**定义**：  \n",
    "torch.logaddexp(input, other, *, out=None) → Tensor\n",
    "\n",
    "**参数**：  \n",
    "- input (Tensor) – the input tensor.  输入张量\n",
    "\n",
    "- other (Tensor) – the second input tensor  第二个输入张量\n",
    "\n",
    "- out (Tensor, optional) – the output tensor.  输出张量\n"
   ]
  },
  {
   "cell_type": "code",
   "execution_count": 38,
   "id": "582fb82f",
   "metadata": {},
   "outputs": [
    {
     "data": {
      "text/plain": [
       "tensor([100.,  -2.,  -3.])"
      ]
     },
     "execution_count": 38,
     "metadata": {},
     "output_type": "execute_result"
    }
   ],
   "source": [
    "import torch\n",
    "torch.logaddexp(torch.tensor([-1.0]), torch.tensor([-1.0, -2, -3]))\n",
    "torch.logaddexp(torch.tensor([100.0, -200, -300]), torch.tensor([-1.0, -2, -3]))\n",
    "# torch.logaddexp(torch.tensor([1.0, 2000, 30000]), torch.tensor([-1.0, -2, -3]))"
   ]
  },
  {
   "attachments": {},
   "cell_type": "markdown",
   "id": "7dd72a7f",
   "metadata": {},
   "source": [
    "## logaddexp2\n",
    "\n",
    "$$\\log\\left(2^x+2^y\\right)$$\n",
    "\n",
    "**定义**：  \n",
    "torch.logaddexp2(input, other, *, out=None) → Tensor\n",
    "\n",
    "**参数**：  \n",
    "- input (Tensor) – the input tensor.  输入张量\n",
    "\n",
    "- other (Tensor) – the second input tensor  第二个输入张量\n",
    "\n",
    "- out (Tensor, optional) – the output tensor.  输出张量\n"
   ]
  },
  {
   "cell_type": "code",
   "execution_count": 39,
   "id": "572391e5",
   "metadata": {},
   "outputs": [
    {
     "data": {
      "text/plain": [
       "tensor([100.,  -2.,  -3.])"
      ]
     },
     "execution_count": 39,
     "metadata": {},
     "output_type": "execute_result"
    }
   ],
   "source": [
    "import torch\n",
    "torch.logaddexp2(torch.tensor([-1.0]), torch.tensor([-1.0, -2, -3]))\n",
    "torch.logaddexp2(torch.tensor([100.0, -200, -300]), torch.tensor([-1.0, -2, -3]))\n",
    "# torch.logaddexp(torch.tensor([1.0, 2000, 30000]), torch.tensor([-1.0, -2, -3]))"
   ]
  },
  {
   "attachments": {},
   "cell_type": "markdown",
   "id": "6a57b559",
   "metadata": {},
   "source": [
    "## hypot\n",
    "hypot是“hypotenuse”的缩写，意思是直角三角形斜边的长度。\n",
    "\n",
    "$$\\text{out}_i=\\sqrt{\\text{input}_i^2+\\text{other}_i^2}$$\n",
    "\n",
    "**定义**：  \n",
    "torch.hypot(input, other, *, out=None) → Tensor\n",
    "\n",
    "**参数**：  \n",
    "- input (Tensor) – the first input tensor  第一个输入张量\n",
    "\n",
    "- other (Tensor) – the second input tensor  第二个输入张量\n",
    "\n",
    "- out (Tensor, optional) – the output tensor.  输出张量\n"
   ]
  },
  {
   "cell_type": "code",
   "execution_count": 41,
   "id": "205ecd07",
   "metadata": {},
   "outputs": [
    {
     "data": {
      "text/plain": [
       "tensor([5.0000, 5.6569, 6.4031])"
      ]
     },
     "execution_count": 41,
     "metadata": {},
     "output_type": "execute_result"
    }
   ],
   "source": [
    "import torch\n",
    "torch.hypot(torch.tensor([4.0]), torch.tensor([3.0, 4.0, 5.0]))"
   ]
  },
  {
   "attachments": {},
   "cell_type": "markdown",
   "id": "c1aa066a",
   "metadata": {},
   "source": [
    "## mul/multiply\n",
    "\n",
    "$$\\text{out}_i=\\operatorname{input}_i\\times\\operatorname{other}_i$$\n",
    "\n",
    "**定义**：  \n",
    "torch.mul(input, other, *, out=None) → Tensor\n",
    "\n",
    "**参数**：  \n",
    "- input (Tensor) – the first input tensor  第一个输入张量\n",
    "\n",
    "- other (Tensor) – the second input tensor  第二个输入张量\n",
    "\n",
    "- out (Tensor, optional) – the output tensor.  输出张量\n"
   ]
  },
  {
   "cell_type": "code",
   "execution_count": 42,
   "id": "dc9c914f",
   "metadata": {},
   "outputs": [
    {
     "data": {
      "text/plain": [
       "tensor([[-0.3786, -0.4678,  0.3203, -0.0144],\n",
       "        [-0.1728, -0.2135,  0.1462, -0.0066],\n",
       "        [ 0.4906,  0.6061, -0.4150,  0.0187],\n",
       "        [-0.9309, -1.1501,  0.7874, -0.0355]])"
      ]
     },
     "execution_count": 42,
     "metadata": {},
     "output_type": "execute_result"
    }
   ],
   "source": [
    "import torch\n",
    "a = torch.randn(3)\n",
    "a\n",
    "torch.mul(a, 100)\n",
    "\n",
    "b = torch.randn(4, 1)\n",
    "b\n",
    "c = torch.randn(1, 4)\n",
    "c\n",
    "torch.mul(b, c)"
   ]
  },
  {
   "attachments": {},
   "cell_type": "markdown",
   "id": "0422e380",
   "metadata": {},
   "source": [
    "## nan_to_num\n",
    "\n",
    "**定义**：  \n",
    "torch.nan_to_num(input, nan=0.0, posinf=None, neginf=None, *, out=None) → Tensor\n",
    "\n",
    "**参数**：  \n",
    "- input (Tensor) – the input tensor.  输入张量\n",
    "\n",
    "- nan (Number, optional) – the value to replace NaNs with. Default is zero.  要替换的nan的值。默认值为0。\n",
    "\n",
    "- posinf (Number, optional) – if a Number, the value to replace positive infinity values with. If None, positive infinity values are replaced with the greatest finite value representable by input’s dtype. Default is None.  如果是Number，则用该值替换正无穷大值。\n",
    "\n",
    "- neginf (Number, optional) – if a Number, the value to replace negative infinity values with. If None, negative infinity values are replaced with the lowest finite value representable by input’s dtype. Default is None.  如果是Number，则用该值替换负无穷大值。\n",
    "\n",
    "- out (Tensor, optional) – the output tensor.  输出张量\n"
   ]
  },
  {
   "cell_type": "code",
   "execution_count": 44,
   "id": "47c040f6",
   "metadata": {},
   "outputs": [
    {
     "name": "stdout",
     "output_type": "stream",
     "text": [
      "tensor([ 0.0000e+00,  3.4028e+38, -3.4028e+38,  3.1400e+00])\n",
      "tensor([ 2.0000e+00,  3.4028e+38, -3.4028e+38,  3.1400e+00])\n",
      "tensor([ 2.0000e+00,  1.0000e+00, -3.4028e+38,  3.1400e+00])\n"
     ]
    }
   ],
   "source": [
    "import torch\n",
    "x = torch.tensor([float('nan'), float('inf'), -float('inf'), 3.14])\n",
    "print(torch.nan_to_num(x))\n",
    "print(torch.nan_to_num(x, nan=2.0))\n",
    "print(torch.nan_to_num(x, nan=2.0, posinf=1.0))"
   ]
  },
  {
   "attachments": {},
   "cell_type": "markdown",
   "id": "7058076d",
   "metadata": {},
   "source": [
    "## neg/negative\n",
    "\n",
    "使用torch.neg函数可以比使用乘以-1的方式更快速地实现元素取相反数的操作，这是因为torch.neg函数使用了底层的硬件加速库，能够充分利用现代计算机的SIMD（Single Instruction, Multiple Data）指令集来进行并行计算。而直接通过乘以-1实现元素取相反数的操作则需要在Python解释器中执行循环，速度相对较慢。\n",
    "\n",
    "$$\\text{out}=-1\\times\\text{input}$$\n",
    "\n",
    "**定义**：  \n",
    "torch.neg(input, *, out=None) → Tensor\n",
    "\n",
    "**参数**：  \n",
    "- input (Tensor) – the input tensor.  输入张量\n",
    "\n",
    "- out (Tensor, optional) – the output tensor.  输出张量\n"
   ]
  },
  {
   "cell_type": "code",
   "execution_count": 47,
   "id": "f9af62c7",
   "metadata": {},
   "outputs": [],
   "source": [
    "import torch\n",
    "import time\n",
    "\n",
    "# 生成一个包含1亿个元素的随机张量\n",
    "x = torch.randn(100000000)"
   ]
  },
  {
   "cell_type": "code",
   "execution_count": 68,
   "id": "ddd0de60",
   "metadata": {},
   "outputs": [
    {
     "name": "stdout",
     "output_type": "stream",
     "text": [
      "multiply by -1 elapsed time:  1.286275863647461\n",
      "torch.neg elapsed time:  1.156123161315918\n",
      "multiply by -1 elapsed time:  1.2272710800170898\n"
     ]
    }
   ],
   "source": [
    "# 直接乘以-1实现元素取相反数\n",
    "start_time = time.time()\n",
    "for i in range(10):\n",
    "    z = x * -1\n",
    "print(\"multiply by -1 elapsed time: \", time.time() - start_time)\n",
    "\n",
    "# 使用torch.neg函数实现元素取相反数\n",
    "start_time = time.time()\n",
    "for i in range(10):\n",
    "    y = torch.neg(x)\n",
    "print(\"torch.neg elapsed time: \", time.time() - start_time)\n",
    "\n",
    "# 直接乘以-1实现元素取相反数\n",
    "start_time = time.time()\n",
    "for i in range(10):\n",
    "    z = x * -1\n",
    "print(\"multiply by -1 elapsed time: \", time.time() - start_time)"
   ]
  },
  {
   "attachments": {},
   "cell_type": "markdown",
   "id": "fc157b54",
   "metadata": {},
   "source": [
    "## nextafter\n",
    "\n",
    "torch.nextafter(input, other, *, out=None)是一个PyTorch中的数学函数，用于返回一个张量，在给定输入张量input的方向上，接近另一个张量other的浮点数。\n",
    "\n",
    "**定义**：  \n",
    "torch.nextafter(input, other, *, out=None) → Tensor\n",
    "\n",
    "**参数**：  \n",
    "- input (Tensor) – the first input tensor  第一个输入张量\n",
    "\n",
    "- other (Tensor) – the second input tensor  第二个输入张量\n",
    "\n",
    "- out (Tensor, optional) – the output tensor.  输出张量\n"
   ]
  },
  {
   "cell_type": "code",
   "execution_count": 71,
   "id": "2d2d481f",
   "metadata": {},
   "outputs": [
    {
     "name": "stdout",
     "output_type": "stream",
     "text": [
      "1.1920928955078125e-07\n"
     ]
    },
    {
     "data": {
      "text/plain": [
       "tensor([1.0000, 2.0000])"
      ]
     },
     "execution_count": 71,
     "metadata": {},
     "output_type": "execute_result"
    }
   ],
   "source": [
    "import torch\n",
    "eps = torch.finfo(torch.float32).eps\n",
    "print(eps)\n",
    "torch.nextafter(torch.tensor([1.0, 2.0]), torch.tensor([2.0, 1.0]))# == torch.tensor([eps + 1, 2 - eps])\n"
   ]
  },
  {
   "attachments": {},
   "cell_type": "markdown",
   "id": "54cc6474",
   "metadata": {},
   "source": [
    "## pow\n",
    "取输入中每个元素的指数幂，并将结果返回一个张量。\n",
    "\n",
    "$$\\text { out }_{i}=x_{i}^{\\text {exponent }}$$\n",
    "\n",
    "**定义**：  \n",
    "torch.pow(input, exponent, *, out=None) → Tensor\n",
    "\n",
    "**参数**：  \n",
    "- input (Tensor) – the input tensor.  输入张量\n",
    "\n",
    "- exponent (float or tensor) – the exponent value  指数\n",
    "\n",
    "- out (Tensor, optional) – the output tensor.  输出张量\n"
   ]
  },
  {
   "cell_type": "code",
   "execution_count": 3,
   "id": "1f34ac6f",
   "metadata": {},
   "outputs": [
    {
     "data": {
      "text/plain": [
       "tensor([  1.,   4.,  27., 256.])"
      ]
     },
     "execution_count": 3,
     "metadata": {},
     "output_type": "execute_result"
    }
   ],
   "source": [
    "import torch\n",
    "exp = torch.arange(1., 5.)\n",
    "a = torch.arange(1., 5.)\n",
    "torch.pow(a, exp)"
   ]
  },
  {
   "attachments": {},
   "cell_type": "markdown",
   "id": "90dfacd2",
   "metadata": {},
   "source": [
    "## rad2deg\n",
    "从弧度角度转换为角度。\n",
    "\n",
    "**定义**：  \n",
    "torch.rad2deg(input, *, out=None) → Tensor\n",
    "\n",
    "**参数**：  \n",
    "- input (Tensor) – the input tensor.  输入张量\n",
    "\n",
    "- out (Tensor, optional) – the output tensor.  输出张量\n"
   ]
  },
  {
   "cell_type": "code",
   "execution_count": 4,
   "id": "f5fefb05",
   "metadata": {},
   "outputs": [
    {
     "data": {
      "text/plain": [
       "tensor([[ 180.0233, -180.0233],\n",
       "        [ 359.9894, -359.9894],\n",
       "        [  89.9544,  -89.9544]])"
      ]
     },
     "execution_count": 4,
     "metadata": {},
     "output_type": "execute_result"
    }
   ],
   "source": [
    "import torch\n",
    "a = torch.tensor([[3.142, -3.142], [6.283, -6.283], [1.570, -1.570]])\n",
    "torch.rad2deg(a)"
   ]
  },
  {
   "attachments": {},
   "cell_type": "markdown",
   "id": "3f66eebc",
   "metadata": {},
   "source": [
    "## real\n",
    "返回张量实值的新张量\n",
    "\n",
    "**定义**：  \n",
    "torch.real(input) → Tensor\n",
    "\n",
    "**参数**：  \n",
    "- input (Tensor) – the input tensor.  输入张量\n",
    "\n",
    "- out (Tensor, optional) – the output tensor.  输出张量\n"
   ]
  },
  {
   "cell_type": "code",
   "execution_count": 6,
   "id": "dd344edb",
   "metadata": {},
   "outputs": [
    {
     "name": "stdout",
     "output_type": "stream",
     "text": [
      "tensor([-0.5457-0.3526j, -0.0999-1.4083j, -1.2670+0.4616j,  0.2325+0.0278j])\n"
     ]
    },
    {
     "data": {
      "text/plain": [
       "tensor([-0.5457, -0.0999, -1.2670,  0.2325])"
      ]
     },
     "execution_count": 6,
     "metadata": {},
     "output_type": "execute_result"
    }
   ],
   "source": [
    "import torch\n",
    "x=torch.randn(4, dtype=torch.cfloat)\n",
    "print(x)\n",
    "x.real"
   ]
  },
  {
   "attachments": {},
   "cell_type": "markdown",
   "metadata": {},
   "source": [
    "## reciprocal\n",
    "返回一个带有输入元素倒数的新张量\n",
    "\n",
    "$$\\text { out }_{i}=\\frac{1}{\\text { input }_{i}}$$\n",
    "\n",
    "**定义**：  \n",
    "torch.reciprocal(input, *, out=None) → Tensor\n",
    "\n",
    "**参数**：  \n",
    "- input (Tensor) – the input tensor.  输入张量\n",
    "\n",
    "- out (Tensor, optional) – the output tensor.  输出张量"
   ]
  },
  {
   "cell_type": "code",
   "execution_count": 14,
   "metadata": {},
   "outputs": [
    {
     "name": "stdout",
     "output_type": "stream",
     "text": [
      "tensor([-0.5763, -0.0010,  0.2238, -0.6988])\n"
     ]
    },
    {
     "data": {
      "text/plain": [
       "tensor([   -1.7352, -1047.4005,     4.4684,    -1.4311])"
      ]
     },
     "execution_count": 14,
     "metadata": {},
     "output_type": "execute_result"
    }
   ],
   "source": [
    "import torch\n",
    "a = torch.randn(4)\n",
    "print(a)\n",
    "torch.reciprocal(a)"
   ]
  },
  {
   "attachments": {},
   "cell_type": "markdown",
   "id": "5582d6be",
   "metadata": {},
   "source": [
    "## remainder\n",
    "剩余部分\n",
    "\n",
    "torch.remainder(a, b) == a - a.div(b, rounding_mode=\"floor\") * b\n",
    "\n",
    "**定义**：  \n",
    "torch.remainder(input, other, *, out=None) → Tensor\n",
    "\n",
    "**参数**：  \n",
    "- input (Tensor) – the input tensor.  输入张量\n",
    "\n",
    "- out (Tensor, optional) – the output tensor.  输出张量\n"
   ]
  },
  {
   "cell_type": "code",
   "execution_count": 19,
   "id": "cebd203b",
   "metadata": {},
   "outputs": [
    {
     "data": {
      "text/plain": [
       "tensor([True, True, True])"
      ]
     },
     "execution_count": 19,
     "metadata": {},
     "output_type": "execute_result"
    }
   ],
   "source": [
    "import torch\n",
    "a = torch.tensor([1,2,3])\n",
    "b = torch.tensor([1.1,2,3])\n",
    "torch.remainder(a, b) == a - a.div(b, rounding_mode=\"floor\") * b\n"
   ]
  },
  {
   "attachments": {},
   "cell_type": "markdown",
   "id": "9e353be6",
   "metadata": {},
   "source": [
    "## round\n",
    "输入元素舍入到最接近的整数。\n",
    "\n",
    "**定义**：  \n",
    "torch.round(input, *, decimals=0, out=None) → Tensor\n",
    "\n",
    "**参数**：  \n",
    "- input (Tensor) – the input tensor.  输入张量\n",
    "\n",
    "- decimals (int) – Number of decimal places to round to (default: 0). If decimals is negative, it specifies the number of positions to the left of the decimal point.  要四舍五入的小数位数(默认值:0)。如果decimals为负，则指定小数点左侧的位置数。\n",
    "\n",
    "- out (Tensor, optional) – the output tensor.  输出张量\n"
   ]
  },
  {
   "cell_type": "code",
   "execution_count": 20,
   "id": "66234b6c",
   "metadata": {},
   "outputs": [
    {
     "data": {
      "text/plain": [
       "tensor([1000.])"
      ]
     },
     "execution_count": 20,
     "metadata": {},
     "output_type": "execute_result"
    }
   ],
   "source": [
    "import torch\n",
    "torch.round(torch.tensor((4.7, -2.3, 9.1, -7.7)))\n",
    "\n",
    "# Values equidistant from two integers are rounded towards the\n",
    "#   the nearest even value (zero is treated as even)\n",
    "torch.round(torch.tensor([-0.5, 0.5, 1.5, 2.5]))\n",
    "\n",
    "# A positive decimals argument rounds to the to that decimal place\n",
    "torch.round(torch.tensor([0.1234567]), decimals=3)\n",
    "\n",
    "# A negative decimals argument rounds to the left of the decimal\n",
    "torch.round(torch.tensor([1200.1234567]), decimals=-3)"
   ]
  },
  {
   "attachments": {},
   "cell_type": "markdown",
   "id": "bd4c09a9",
   "metadata": {},
   "source": [
    "## rsqrt\n",
    "返回一个新的张量，它是输入的每个元素的平方根(square-root)的倒数。\n",
    "\n",
    "$$\\mathrm{out}_{i}={\\frac{1}{\\sqrt{\\mathrm{input}_{i}}}}$$\n",
    "\n",
    "**定义**：  \n",
    "torch.rsqrt(input, *, out=None) → Tensor\n",
    "\n",
    "**参数**：  \n",
    "- input (Tensor) – the input tensor.  输入张量\n",
    "\n",
    "- out (Tensor, optional) – the output tensor.  输出张量\n"
   ]
  },
  {
   "cell_type": "code",
   "execution_count": 21,
   "id": "254be6b2",
   "metadata": {},
   "outputs": [
    {
     "name": "stdout",
     "output_type": "stream",
     "text": [
      "tensor([-0.1304,  1.1480,  1.3253, -0.2133])\n"
     ]
    },
    {
     "data": {
      "text/plain": [
       "tensor([   nan, 0.9333, 0.8687,    nan])"
      ]
     },
     "execution_count": 21,
     "metadata": {},
     "output_type": "execute_result"
    }
   ],
   "source": [
    "import torch\n",
    "a = torch.randn(4)\n",
    "print(a)\n",
    "torch.rsqrt(a)"
   ]
  },
  {
   "attachments": {},
   "cell_type": "markdown",
   "id": "c1014e3b",
   "metadata": {},
   "source": [
    "## sign\n",
    "\n",
    "$$\\mathrm{out}_{i}=\\mathrm{sgn}(\\mathrm{input}_{i})$$\n",
    "\n",
    "\n",
    "**定义**：  \n",
    "torch.sign(input, *, out=None) → Tensor\n",
    "\n",
    "**参数**：  \n",
    "- input (Tensor) – the input tensor.  输入张量\n",
    "\n",
    "- out (Tensor, optional) – the output tensor.  输出张量\n"
   ]
  },
  {
   "cell_type": "code",
   "execution_count": 23,
   "id": "eea10d7c",
   "metadata": {},
   "outputs": [
    {
     "data": {
      "text/plain": [
       "tensor([ 1., -1.,  0.,  1.])"
      ]
     },
     "execution_count": 23,
     "metadata": {},
     "output_type": "execute_result"
    }
   ],
   "source": [
    "import torch\n",
    "a = torch.tensor([0.7, -1.2, 0., 2.3])\n",
    "torch.sign(a)"
   ]
  },
  {
   "attachments": {},
   "cell_type": "markdown",
   "id": "e94a3457",
   "metadata": {},
   "source": [
    "## signbit\n",
    "测试输入的每个元素是否设置了符号位。\n",
    "\n",
    "**定义**：  \n",
    "torch.signbit(input, *, out=None) → Tensor\n",
    "\n",
    "**参数**：  \n",
    "- input (Tensor) – the input tensor.  输入张量\n",
    "\n",
    "- out (Tensor, optional) – the output tensor.  输出张量\n"
   ]
  },
  {
   "cell_type": "code",
   "execution_count": 28,
   "id": "191ee615",
   "metadata": {},
   "outputs": [
    {
     "data": {
      "text/plain": [
       "tensor([ True, False])"
      ]
     },
     "execution_count": 28,
     "metadata": {},
     "output_type": "execute_result"
    }
   ],
   "source": [
    "import torch\n",
    "a = torch.tensor([0.7, -1.2, 0., 2.3])\n",
    "torch.signbit(a)\n",
    "a = torch.tensor([-0.0, 0.0])\n",
    "torch.signbit(a)"
   ]
  },
  {
   "attachments": {},
   "cell_type": "markdown",
   "id": "8b7fc547",
   "metadata": {},
   "source": [
    "## sin\n",
    "返回一个包含输入元素正弦值的新张量。\n",
    "\n",
    "\n",
    "$$\\mathrm{out}_{i}=\\mathrm{sin}(\\mathrm{input}_{i})$$\n",
    "\n",
    "**定义**：  \n",
    "torch.sin(input, *, out=None) → Tensor\n",
    "\n",
    "**参数**：  \n",
    "- input (Tensor) – the input tensor.  输入张量\n",
    "\n",
    "- out (Tensor, optional) – the output tensor.  输出张量\n"
   ]
  },
  {
   "cell_type": "code",
   "execution_count": 43,
   "id": "69dad372",
   "metadata": {},
   "outputs": [
    {
     "data": {
      "text/plain": [
       "tensor([-0.5208,  0.6776,  0.8882, -0.0439])"
      ]
     },
     "execution_count": 43,
     "metadata": {},
     "output_type": "execute_result"
    }
   ],
   "source": [
    "import torch\n",
    "a = torch.randn(4)\n",
    "a\n",
    "torch.sin(a)"
   ]
  },
  {
   "attachments": {},
   "cell_type": "markdown",
   "id": "5b8f05a0",
   "metadata": {},
   "source": [
    "## sinh\n",
    "\n",
    "$$\\mathrm{out}_{i}=\\mathrm{sinh}(\\mathrm{input}_{i})$$\n",
    "\n",
    "**定义**：  \n",
    "torch.sinh(input, *, out=None) → Tensor\n",
    "\n",
    "**参数**：  \n",
    "- input (Tensor) – the input tensor.  输入张量\n",
    "\n",
    "- out (Tensor, optional) – the output tensor.  输出张量\n"
   ]
  },
  {
   "cell_type": "code",
   "execution_count": 44,
   "id": "b7b8341e",
   "metadata": {},
   "outputs": [
    {
     "data": {
      "text/plain": [
       "tensor([-0.9483, -0.2341, -0.2973,  0.5988])"
      ]
     },
     "execution_count": 44,
     "metadata": {},
     "output_type": "execute_result"
    }
   ],
   "source": [
    "import torch\n",
    "a = torch.randn(4)\n",
    "a\n",
    "torch.sinh(a)"
   ]
  },
  {
   "attachments": {},
   "cell_type": "markdown",
   "id": "42b03108",
   "metadata": {},
   "source": [
    "## sqrt\n",
    "\n",
    "$$\\mathrm{out}_{i}=\\sqrt{\\mathrm{input}_{i}}$$\n",
    "\n",
    "**定义**：  \n",
    "torch.sqrt(input, *, out=None) → Tensor\n",
    "\n",
    "**参数**：  \n",
    "- input (Tensor) – the input tensor.  输入张量\n",
    "\n",
    "- out (Tensor, optional) – the output tensor.  输出张量\n"
   ]
  },
  {
   "cell_type": "code",
   "execution_count": 45,
   "id": "6851bd9a",
   "metadata": {},
   "outputs": [
    {
     "data": {
      "text/plain": [
       "tensor([1.1565, 0.4610,    nan, 0.9043])"
      ]
     },
     "execution_count": 45,
     "metadata": {},
     "output_type": "execute_result"
    }
   ],
   "source": [
    "import torch\n",
    "a = torch.randn(4)\n",
    "a\n",
    "torch.sqrt(a)"
   ]
  },
  {
   "attachments": {},
   "cell_type": "markdown",
   "id": "23763894",
   "metadata": {},
   "source": [
    "## square\n",
    "\n",
    "$$\\mathrm{out}_{i}=\\mathrm{input}_{i}^2$$\n",
    "\n",
    "**定义**：  \n",
    "torch.square(input, *, out=None) → Tensor\n",
    "\n",
    "**参数**：  \n",
    "- input (Tensor) – the input tensor.  输入张量\n",
    "\n",
    "- out (Tensor, optional) – the output tensor.  输出张量\n"
   ]
  },
  {
   "cell_type": "code",
   "execution_count": 46,
   "id": "633a9978",
   "metadata": {},
   "outputs": [
    {
     "data": {
      "text/plain": [
       "tensor([0.8419, 0.1745, 0.8047, 0.2729])"
      ]
     },
     "execution_count": 46,
     "metadata": {},
     "output_type": "execute_result"
    }
   ],
   "source": [
    "import torch\n",
    "a = torch.randn(4)\n",
    "a\n",
    "torch.square(a)"
   ]
  },
  {
   "attachments": {},
   "cell_type": "markdown",
   "id": "011efb6e",
   "metadata": {},
   "source": [
    "## sub/subtract\n",
    "\n",
    "$$\\mathrm{out}_{i}=\\mathrm{input}_{i}-\\mathrm{alpha}\\times\\mathrm{other}_{i}$$\n",
    "\n",
    "**定义**：  \n",
    "torch.sub(input, other, *, alpha=1, out=None) → Tensor\n",
    "\n",
    "**参数**：  \n",
    "- input (Tensor) – the input tensor.  输入张量\n",
    "\n",
    "- other (Tensor or Number) – the tensor or number to subtract from input.  从输入中减去的张量或数字\n",
    "\n",
    "- alpha (Number) – the multiplier for other.  乘数\n",
    "\n",
    "- out (Tensor, optional) – the output tensor.  输出张量\n"
   ]
  },
  {
   "cell_type": "code",
   "execution_count": 47,
   "id": "3863ccda",
   "metadata": {},
   "outputs": [
    {
     "data": {
      "text/plain": [
       "tensor([1, 0])"
      ]
     },
     "execution_count": 47,
     "metadata": {},
     "output_type": "execute_result"
    }
   ],
   "source": [
    "import torch\n",
    "a = torch.tensor((1, 2))\n",
    "b = torch.tensor((0, 1))\n",
    "torch.sub(a, b, alpha=2)"
   ]
  },
  {
   "attachments": {},
   "cell_type": "markdown",
   "id": "8a829518",
   "metadata": {},
   "source": [
    "## tan\n",
    "返回一个带有输入元素正切值的新张量。\n",
    "\n",
    "$$\\mathrm{out}_{i}=\\tan{(\\mathrm{input}_{i})}$$\n",
    "\n",
    "\n",
    "**定义**：  \n",
    "torch.tan(input, *, out=None) → Tensor\n",
    "\n",
    "**参数**：  \n",
    "- input (Tensor) – the input tensor.  输入张量\n",
    "\n",
    "- out (Tensor, optional) – the output tensor.  输出张量\n"
   ]
  },
  {
   "cell_type": "code",
   "execution_count": 48,
   "id": "7a20af47",
   "metadata": {},
   "outputs": [
    {
     "data": {
      "text/plain": [
       "tensor([-2.9891e-03, -9.0448e-01, -1.2860e-01,  4.1826e+00])"
      ]
     },
     "execution_count": 48,
     "metadata": {},
     "output_type": "execute_result"
    }
   ],
   "source": [
    "import torch\n",
    "a = torch.randn(4)\n",
    "a\n",
    "torch.tan(a)"
   ]
  },
  {
   "attachments": {},
   "cell_type": "markdown",
   "id": "45774527",
   "metadata": {},
   "source": [
    "## tanh\n",
    "返回一个带有输入元素的双曲正切的新张量。\n",
    "\n",
    "$$\\mathrm{out}_{i}=\\tanh{(\\mathrm{input}_{i})}$$\n",
    "\n",
    "\n",
    "**定义**：  \n",
    "torch.tanh(input, *, out=None) → Tensor\n",
    "\n",
    "**参数**：  \n",
    "- input (Tensor) – the input tensor.  输入张量\n",
    "\n",
    "- out (Tensor, optional) – the output tensor.  输出张量\n"
   ]
  },
  {
   "cell_type": "code",
   "execution_count": null,
   "id": "8a439114",
   "metadata": {},
   "outputs": [
    {
     "data": {
      "text/plain": [
       "tensor([-2.9891e-03, -9.0448e-01, -1.2860e-01,  4.1826e+00])"
      ]
     },
     "metadata": {},
     "output_type": "display_data"
    }
   ],
   "source": [
    "import torch\n",
    "a = torch.randn(4)\n",
    "a\n",
    "torch.tanh(a)"
   ]
  },
  {
   "attachments": {},
   "cell_type": "markdown",
   "id": "ab36501f",
   "metadata": {},
   "source": [
    "## trunc\n",
    "返回一个新的张量，包含输入元素的截断整数值。\n",
    "\n",
    "**定义**：  \n",
    "torch.trunc(input, *, out=None) → Tensor\n",
    "\n",
    "**参数**：  \n",
    "- input (Tensor) – the input tensor.  输入张量\n",
    "\n",
    "- out (Tensor, optional) – the output tensor.  输出张量\n"
   ]
  },
  {
   "cell_type": "code",
   "execution_count": 50,
   "id": "3d9c65b5",
   "metadata": {},
   "outputs": [
    {
     "data": {
      "text/plain": [
       "tensor([ 2., -1., -0., -1.])"
      ]
     },
     "execution_count": 50,
     "metadata": {},
     "output_type": "execute_result"
    }
   ],
   "source": [
    "import torch\n",
    "a = torch.randn(4)\n",
    "a\n",
    "torch.trunc(a)"
   ]
  },
  {
   "attachments": {},
   "cell_type": "markdown",
   "id": "3ba8a10f",
   "metadata": {},
   "source": [
    "# 归约操作(Reduction Ops)"
   ]
  },
  {
   "attachments": {},
   "cell_type": "markdown",
   "metadata": {},
   "source": [
    "## argmax\n",
    "返回输入张量中所有元素最大值的下标。\n",
    "\n",
    "**定义**：  \n",
    "torch.argmax(input) → LongTensor\n",
    "\n",
    "**参数**：  \n",
    "- input (Tensor) – the input tensor.  输入张量\n",
    "\n",
    "- dim (int) – the dimension to reduce. If None, the argmax of the flattened input is returned.  要缩减的维度。如果为None，则返回扁平输入的argmax。\n",
    "\n",
    "- keepdim (bool) – whether the output tensor has dim retained or not. Ignored if dim=None.  输出张量是否保留dim。如果dim=None则忽略。"
   ]
  },
  {
   "cell_type": "code",
   "execution_count": 55,
   "metadata": {},
   "outputs": [
    {
     "name": "stdout",
     "output_type": "stream",
     "text": [
      "tensor([[ 1.1409, -0.7183,  0.3690, -0.4920],\n",
      "        [ 1.2581, -1.4586,  0.4036, -1.6532],\n",
      "        [-0.5653, -1.8931, -0.4605, -1.4034],\n",
      "        [-2.0344, -1.8739, -1.4650,  1.7580]])\n"
     ]
    },
    {
     "data": {
      "text/plain": [
       "tensor(15)"
      ]
     },
     "execution_count": 55,
     "metadata": {},
     "output_type": "execute_result"
    }
   ],
   "source": [
    "import torch\n",
    "a = torch.randn(4, 4)\n",
    "print(a)\n",
    "torch.argmax(a)"
   ]
  },
  {
   "cell_type": "code",
   "execution_count": 60,
   "id": "1191893d",
   "metadata": {},
   "outputs": [
    {
     "name": "stdout",
     "output_type": "stream",
     "text": [
      "tensor([[-2.1566,  0.7073, -1.2339,  0.6396,  0.7272],\n",
      "        [-0.4054, -0.8575,  0.6742,  0.3118,  0.2698],\n",
      "        [ 0.4580, -1.6358, -0.6473, -1.4467,  0.8581],\n",
      "        [ 0.1854,  1.0184, -0.2967,  0.0136,  0.8025]])\n"
     ]
    },
    {
     "data": {
      "text/plain": [
       "tensor([4, 2, 4, 1])"
      ]
     },
     "execution_count": 60,
     "metadata": {},
     "output_type": "execute_result"
    }
   ],
   "source": [
    "import torch\n",
    "a = torch.randn(4, 5)\n",
    "print(a)\n",
    "torch.argmax(a, dim=1)"
   ]
  },
  {
   "attachments": {},
   "cell_type": "markdown",
   "id": "5aa15dd2",
   "metadata": {},
   "source": [
    "## argmin\n",
    "返回输入张量中所有元素最小值的下标。\n",
    "\n",
    "**定义**：  \n",
    "torch.argmin(input) → LongTensor\n",
    "\n",
    "**参数**：  \n",
    "- input (Tensor) – the input tensor.  输入张量\n",
    "\n",
    "- dim (int) – the dimension to reduce. If None, the argmax of the flattened input is returned.  要缩减的维度。如果为None，则返回扁平输入的argmax。\n",
    "\n",
    "- keepdim (bool) – whether the output tensor has dim retained or not. Ignored if dim=None.  输出张量是否保留dim。如果dim=None则忽略。"
   ]
  },
  {
   "cell_type": "code",
   "execution_count": 61,
   "id": "1fa60514",
   "metadata": {},
   "outputs": [
    {
     "name": "stdout",
     "output_type": "stream",
     "text": [
      "tensor([[ 1.5267,  0.3005,  1.0553,  0.3932],\n",
      "        [-0.9219,  0.2772,  1.1358, -0.2273],\n",
      "        [ 1.4570, -0.4484, -2.3515,  0.4772],\n",
      "        [-0.8745, -0.5868,  0.2526, -1.8395]])\n"
     ]
    },
    {
     "data": {
      "text/plain": [
       "tensor(10)"
      ]
     },
     "execution_count": 61,
     "metadata": {},
     "output_type": "execute_result"
    }
   ],
   "source": [
    "import torch\n",
    "a = torch.randn(4, 4)\n",
    "print(a)\n",
    "torch.argmin(a)"
   ]
  },
  {
   "cell_type": "code",
   "execution_count": 62,
   "id": "61d9f729",
   "metadata": {},
   "outputs": [
    {
     "name": "stdout",
     "output_type": "stream",
     "text": [
      "tensor([[ 1.2819,  0.7548,  0.4725, -0.1861,  0.5957],\n",
      "        [ 0.6694,  2.1737, -0.6378,  0.7197,  0.3884],\n",
      "        [-0.8662,  1.7931, -0.0273, -0.6162,  0.7632],\n",
      "        [-0.0275,  0.2515, -0.1027, -0.9140, -1.6479]])\n"
     ]
    },
    {
     "data": {
      "text/plain": [
       "tensor([3, 2, 0, 4])"
      ]
     },
     "execution_count": 62,
     "metadata": {},
     "output_type": "execute_result"
    }
   ],
   "source": [
    "import torch\n",
    "a = torch.randn(4, 5)\n",
    "print(a)\n",
    "torch.argmin(a, dim=1)"
   ]
  },
  {
   "attachments": {},
   "cell_type": "markdown",
   "id": "3a6a4136",
   "metadata": {},
   "source": [
    "## amax\n",
    "返回给定维度中输入张量的每个切片的最大值。\n",
    "\n",
    "**定义**：  \n",
    "torch.amax(input, dim, keepdim=False, *, out=None) → Tensor\n",
    "\n",
    "**参数**：  \n",
    "- input (Tensor) – the input tensor.  输入张量\n",
    "\n",
    "- dim (int) – the dimension to reduce. If None, the argmax of the flattened input is returned.  要缩减的维度。如果为None，则返回扁平输入的argmax。\n",
    "\n",
    "- keepdim (bool) – whether the output tensor has dim retained or not. Ignored if dim=None.  输出张量是否保留dim。如果dim=None则忽略。\n",
    "\n",
    "Amax /amin在相等的值之间均匀分布梯度，而max(dim)/min(dim)只将梯度传播到源张量中的单个索引。"
   ]
  },
  {
   "cell_type": "code",
   "execution_count": 67,
   "id": "664a4674",
   "metadata": {},
   "outputs": [
    {
     "name": "stdout",
     "output_type": "stream",
     "text": [
      "tensor([[ 0.0504,  1.9840,  0.8018, -1.2797],\n",
      "        [ 1.0845,  0.7170, -0.0696, -1.2218],\n",
      "        [ 0.9092,  0.2599,  1.5456, -1.1065],\n",
      "        [-0.6432,  0.2562, -1.3550, -1.4312]])\n"
     ]
    },
    {
     "data": {
      "text/plain": [
       "tensor([1.9840, 1.0845, 1.5456, 0.2562])"
      ]
     },
     "execution_count": 67,
     "metadata": {},
     "output_type": "execute_result"
    }
   ],
   "source": [
    "import torch\n",
    "a = torch.randn(4, 4)\n",
    "print(a)\n",
    "torch.amax(a, 1)"
   ]
  },
  {
   "attachments": {},
   "cell_type": "markdown",
   "id": "0eb44753",
   "metadata": {},
   "source": [
    "## amin\n",
    "返回给定维度中输入张量的每个切片的最大值。\n",
    "\n",
    "**定义**：  \n",
    "torch.amin(input, dim, keepdim=False, *, out=None) → Tensor\n",
    "\n",
    "**参数**：  \n",
    "- input (Tensor) – the input tensor.  输入张量\n",
    "\n",
    "- dim (int) – the dimension to reduce. If None, the argmax of the flattened input is returned.  要缩减的维度。如果为None，则返回扁平输入的argmax。\n",
    "\n",
    "- keepdim (bool) – whether the output tensor has dim retained or not. Ignored if dim=None.  输出张量是否保留dim。如果dim=None则忽略。\n",
    "\n",
    "Amax /amin在相等的值之间均匀分布梯度，而max(dim)/min(dim)只将梯度传播到源张量中的单个索引。"
   ]
  },
  {
   "cell_type": "code",
   "execution_count": 68,
   "id": "0f4a3811",
   "metadata": {},
   "outputs": [
    {
     "name": "stdout",
     "output_type": "stream",
     "text": [
      "tensor([[ 1.5521, -0.9138,  1.4119, -0.1798],\n",
      "        [ 0.0393,  0.4365,  1.3324, -1.0595],\n",
      "        [-0.5021,  0.2343,  0.7334, -0.6955],\n",
      "        [-0.4820,  0.1076, -0.9012, -2.6091]])\n"
     ]
    },
    {
     "data": {
      "text/plain": [
       "tensor([-0.9138, -1.0595, -0.6955, -2.6091])"
      ]
     },
     "execution_count": 68,
     "metadata": {},
     "output_type": "execute_result"
    }
   ],
   "source": [
    "import torch\n",
    "a = torch.randn(4, 4)\n",
    "print(a)\n",
    "torch.amin(a, 1)"
   ]
  },
  {
   "attachments": {},
   "cell_type": "markdown",
   "id": "f08cb995",
   "metadata": {},
   "source": [
    "## aminmax\n",
    "\n",
    "**定义**：  \n",
    "torch.aminmax(input, *, dim=None, keepdim=False, out=None) -> (Tensor min, Tensor max)\n",
    "\n",
    "**参数**：  \n",
    "- dim (Optional[int]) – The dimension along which to compute the values. If None, computes the values over the entire input tensor. Default is None.  计算值的维度。如果为None，则计算整个输入张量的值。默认为None。\n",
    "\n",
    "- keepdim (bool) – If True, the reduced dimensions will be kept in the output tensor as dimensions with size 1 for broadcasting, otherwise they will be removed, as if calling (torch.squeeze()). Default is False.  如果为True，减少的维度将在输出张量中保留为大小为1的维度用于广播，否则它们将被删除\n",
    "\n",
    "- out (Optional[Tuple[Tensor, Tensor]]) – Optional tensors on which to write the result. Must have the same shape and dtype as the expected output. Default is None.  可选的可写入结果的张量。必须具有与预期输出相同的形状和dtype。默认为None。"
   ]
  },
  {
   "cell_type": "code",
   "execution_count": 75,
   "id": "e3c07346",
   "metadata": {},
   "outputs": [
    {
     "data": {
      "text/plain": [
       "torch.return_types.aminmax(\n",
       "min=tensor(-3),\n",
       "max=tensor(5))"
      ]
     },
     "execution_count": 75,
     "metadata": {},
     "output_type": "execute_result"
    }
   ],
   "source": [
    "import torch\n",
    "torch.aminmax(torch.tensor([1, -3, 5]))\n",
    "\n",
    "# aminmax propagates NaNs\n",
    "# t = torch.aminmax(torch.tensor([1, -3, 5, torch.nan]))\n",
    "# t\n",
    "# torch.arange(10).view(2, 5)\n",
    "# t.aminmax(dim=0, keepdim=True)"
   ]
  },
  {
   "attachments": {},
   "cell_type": "markdown",
   "id": "d50c6691",
   "metadata": {},
   "source": [
    "## all\n",
    "测试输入中的所有元素是否都为True。\n",
    "\n",
    "**定义**：  \n",
    "torch.all(input) → Tensor"
   ]
  },
  {
   "cell_type": "code",
   "execution_count": 77,
   "id": "b830f542",
   "metadata": {},
   "outputs": [
    {
     "data": {
      "text/plain": [
       "tensor(False)"
      ]
     },
     "execution_count": 77,
     "metadata": {},
     "output_type": "execute_result"
    }
   ],
   "source": [
    "import torch\n",
    "a = torch.rand(1, 2).bool()\n",
    "a\n",
    "torch.all(a)\n",
    "\n",
    "a = torch.arange(0, 3)\n",
    "a\n",
    "torch.all(a)"
   ]
  },
  {
   "attachments": {},
   "cell_type": "markdown",
   "id": "ef1a0d35",
   "metadata": {},
   "source": [
    "## any\n",
    "\n",
    "测试输入中的存在元素的计算结果是否为True。\n",
    "\n",
    "**定义**：  \n",
    "torch.any(input) → Tensor"
   ]
  },
  {
   "cell_type": "code",
   "execution_count": 79,
   "id": "ce27e547",
   "metadata": {},
   "outputs": [
    {
     "data": {
      "text/plain": [
       "tensor(True)"
      ]
     },
     "execution_count": 79,
     "metadata": {},
     "output_type": "execute_result"
    }
   ],
   "source": [
    "import torch\n",
    "a = torch.rand(1, 2).bool()\n",
    "a\n",
    "torch.any(a)\n",
    "a = torch.arange(0, 3)\n",
    "a\n",
    "torch.any(a)"
   ]
  },
  {
   "attachments": {},
   "cell_type": "markdown",
   "id": "7f9b717f",
   "metadata": {},
   "source": [
    "## max\n",
    "返回输入张量中所有元素的最大值。\n",
    "\n",
    "**定义**：  \n",
    "torch.max(input) → Tensor\n",
    "\n",
    "**参数**：  \n",
    "- input (Tensor) – the input tensor.  输入张量\n",
    "\n",
    "- dim (int) – the dimension to reduce.  要缩减的维度\n",
    "\n",
    "- keepdim (bool) – whether the output tensor has dim retained or not. Default: False.  输出张量是否保留dim\n",
    "\n",
    "- out (tuple, optional) – the result tuple of two output tensors (max, max_indices)  两个输出张量的结果元组(max, max_indexes)"
   ]
  },
  {
   "cell_type": "code",
   "execution_count": 82,
   "id": "54a2bbcb",
   "metadata": {},
   "outputs": [
    {
     "data": {
      "text/plain": [
       "torch.return_types.max(\n",
       "values=tensor([1.4123, 0.3300, 1.9050, 2.7678]),\n",
       "indices=tensor([2, 0, 2, 3]))"
      ]
     },
     "execution_count": 82,
     "metadata": {},
     "output_type": "execute_result"
    }
   ],
   "source": [
    "import torch\n",
    "a = torch.randn(4, 4)\n",
    "a\n",
    "torch.max(a, 1)"
   ]
  },
  {
   "attachments": {},
   "cell_type": "markdown",
   "id": "df9390ac",
   "metadata": {},
   "source": [
    "## min\n",
    "返回输入张量中所有元素的最小值。\n",
    "\n",
    "**定义**：  \n",
    "torch.min(input) → Tensor\n",
    "\n",
    "**参数**：  \n",
    "- input (Tensor) – the input tensor.  输入张量\n",
    "\n",
    "- dim (int) – the dimension to reduce.  要缩减的维度\n",
    "\n",
    "- keepdim (bool) – whether the output tensor has dim retained or not. Default: False.  输出张量是否保留dim\n",
    "\n",
    "- out (tuple, optional) – the result tuple of two output tensors (max, max_indices)  两个输出张量的结果元组(max, max_indexes)"
   ]
  },
  {
   "cell_type": "code",
   "execution_count": 84,
   "id": "021d3f49",
   "metadata": {},
   "outputs": [
    {
     "data": {
      "text/plain": [
       "torch.return_types.min(\n",
       "values=tensor([-0.5533, -0.7688, -1.4919, -0.6106]),\n",
       "indices=tensor([1, 2, 2, 0]))"
      ]
     },
     "execution_count": 84,
     "metadata": {},
     "output_type": "execute_result"
    }
   ],
   "source": [
    "import torch\n",
    "a = torch.randn(4, 4)\n",
    "a\n",
    "torch.min(a, 1)"
   ]
  },
  {
   "attachments": {},
   "cell_type": "markdown",
   "id": "3d564e32",
   "metadata": {},
   "source": [
    "## dist\n",
    "返回input 和 other的距离。\n",
    "\n",
    "**定义**：  \n",
    "torch.dist(input, other, p=2) → Tensor\n",
    "\n",
    "**参数**：  \n",
    "- input (Tensor) – the input tensor.  输入张量\n",
    "\n",
    "- other (Tensor) – the Right-hand-side input tensor  输入张量\n",
    "\n",
    "- p (float, optional) – the norm to be computed  要计算的范数"
   ]
  },
  {
   "cell_type": "code",
   "execution_count": 112,
   "id": "d80f81c2",
   "metadata": {},
   "outputs": [
    {
     "name": "stdout",
     "output_type": "stream",
     "text": [
      "tensor([-2.1188,  0.0635, -1.4555, -0.0126])\n",
      "tensor([-0.1548, -0.0927,  2.5916,  0.4542])\n",
      "tensor(4.5253)\n",
      "tensor(4.5253)\n"
     ]
    }
   ],
   "source": [
    "import torch\n",
    "torch.manual_seed(666)\n",
    "x = torch.randn(4)\n",
    "print(x)\n",
    "y = torch.randn(4)\n",
    "print(y)\n",
    "p=2\n",
    "print(torch.dist(x, y, p))\n",
    "print(((x-y)**p).abs().sum()**(1/p))"
   ]
  },
  {
   "cell_type": "code",
   "execution_count": 107,
   "id": "dd1f46a6",
   "metadata": {},
   "outputs": [
    {
     "data": {
      "text/plain": [
       "tensor(6.6340)"
      ]
     },
     "execution_count": 107,
     "metadata": {},
     "output_type": "execute_result"
    }
   ],
   "source": []
  },
  {
   "attachments": {},
   "cell_type": "markdown",
   "id": "4eca1b71",
   "metadata": {},
   "source": [
    "## logsumexp\n",
    "返回给定维度dim中输入张量的每一行的指数和的对数。计算在数值上是稳定的。\n",
    "\n",
    "$$\\mathrm{logsumexp}(x)_{i}=\\log\\sum_{j}\\exp(x_{i j})$$\n",
    "\n",
    "**定义**：  \n",
    "torch.logsumexp(input, dim, keepdim=False, *, out=None)\n",
    "\n",
    "**参数**：  \n",
    "- input (Tensor) – the input tensor.  输入张量\n",
    "\n",
    "- dim (int or tuple of ints, optional) – the dimension or dimensions to reduce. If None, all dimensions are reduced.  要缩减的维度。如果为None，则减少所有维度。\n",
    "\n",
    "- keepdim (bool) – whether the output tensor has dim retained or not.  输出张量是否保留dim。\n",
    "\n",
    "- out (Tensor, optional) – the output tensor.  输出张量。"
   ]
  },
  {
   "cell_type": "code",
   "execution_count": 118,
   "id": "4992ae2a",
   "metadata": {},
   "outputs": [
    {
     "name": "stdout",
     "output_type": "stream",
     "text": [
      "tensor([0.3500, 1.0136, 2.7362])\n",
      "tensor([0.3500, 1.0136, 2.7362])\n"
     ]
    }
   ],
   "source": [
    "import torch\n",
    "torch.manual_seed(666)\n",
    "a = torch.randn(3, 3)\n",
    "print(torch.logsumexp(a, 1))\n",
    "# torch.dist(torch.logsumexp(a, 1), torch.log(torch.sum(torch.exp(a), 1)))\n",
    "print(torch.log(torch.sum(torch.exp(a), 1)))"
   ]
  },
  {
   "attachments": {},
   "cell_type": "markdown",
   "id": "486a85f6",
   "metadata": {},
   "source": [
    "## mean\n",
    "返回输入张量中所有元素的平均值。\n",
    "\n",
    "**定义**：  \n",
    "torch.mean(input, *, dtype=None) → Tensor\n",
    "\n",
    "**参数**：  \n",
    "- input (Tensor) – the input tensor.  输入张量\n",
    "\n",
    "- dtype (torch.dtype, optional) – the desired data type of returned tensor. If specified, the input tensor is casted to dtype before the operation is performed. This is useful for preventing data type overflows. Default: None.  返回张量的期望数据类型\n"
   ]
  },
  {
   "cell_type": "code",
   "execution_count": 120,
   "id": "d5d76e6f",
   "metadata": {},
   "outputs": [
    {
     "data": {
      "text/plain": [
       "tensor(0.1916)"
      ]
     },
     "execution_count": 120,
     "metadata": {},
     "output_type": "execute_result"
    }
   ],
   "source": [
    "import torch\n",
    "a = torch.randn(1, 3)\n",
    "a\n",
    "torch.mean(a)"
   ]
  },
  {
   "attachments": {},
   "cell_type": "markdown",
   "id": "49d5467a",
   "metadata": {},
   "source": [
    "## nanmean\n",
    "计算所有非nan元素在指定维度上的平均值。\n",
    "\n",
    "**定义**：  \n",
    "torch.nanmean(input, dim=None, keepdim=False, *, dtype=None, out=None) → Tensor\n",
    "\n",
    "**参数**：  \n",
    "- input (Tensor) – the input tensor.  输入张量\n",
    "\n",
    "- dim (int or tuple of ints, optional) – the dimension or dimensions to reduce. If None, all dimensions are reduced.  要缩减的维度\n",
    "\n",
    "- keepdim (bool) – whether the output tensor has dim retained or not.  输出张量是否保留dim。\n",
    "\n",
    "- dtype (torch.dtype, optional) – the desired data type of returned tensor. If specified, the input tensor is casted to dtype before the operation is performed. This is useful for preventing data type overflows. Default: None.  返回张量的期望数据类型\n",
    "\n",
    "- out (Tensor, optional) – the output tensor.  输出张量。"
   ]
  },
  {
   "cell_type": "code",
   "execution_count": 122,
   "id": "750f7369",
   "metadata": {},
   "outputs": [
    {
     "data": {
      "text/plain": [
       "tensor(1.8000)"
      ]
     },
     "execution_count": 122,
     "metadata": {},
     "output_type": "execute_result"
    }
   ],
   "source": [
    "import torch\n",
    "x = torch.tensor([[torch.nan, 1, 2], [1, 2, 3]])\n",
    "x.mean()\n",
    "x.nanmean()\n",
    "# x.mean(dim=0)\n",
    "# x.nanmean(dim=0)\n",
    "\n",
    "# torch.tensor([torch.nan]).nanmean()"
   ]
  },
  {
   "attachments": {},
   "cell_type": "markdown",
   "id": "0a1e869e",
   "metadata": {},
   "source": [
    "## median\n",
    "返回输入值的中位数。\n",
    "\n",
    "**定义**：  \n",
    "torch.median(input) → Tensor\n",
    "\n",
    "**参数**：  \n",
    "- input (Tensor) – the input tensor.  输入张量\n",
    "\n",
    "- dim (int) – the dimension to reduce.  要缩减的维度\n",
    "\n",
    "- keepdim (bool) – whether the output tensor has dim retained or not.  输出张量是否保留dim\n",
    "\n",
    "- out ((Tensor, Tensor), optional) – The first tensor will be populated with the median values and the second tensor, which must have dtype long, with their indices in the dimension dim of input."
   ]
  },
  {
   "cell_type": "code",
   "execution_count": 124,
   "id": "3695fb21",
   "metadata": {},
   "outputs": [
    {
     "name": "stdout",
     "output_type": "stream",
     "text": [
      "tensor([[ 0.0755,  0.7091, -1.0812]])\n"
     ]
    },
    {
     "data": {
      "text/plain": [
       "tensor(0.0755)"
      ]
     },
     "execution_count": 124,
     "metadata": {},
     "output_type": "execute_result"
    }
   ],
   "source": [
    "import torch\n",
    "a = torch.randn(1, 3)\n",
    "print(a)\n",
    "torch.median(a)"
   ]
  },
  {
   "attachments": {},
   "cell_type": "markdown",
   "id": "945b8f71",
   "metadata": {},
   "source": [
    "## nanmedian\n",
    "返回输入值的中位数，忽略NaN值。\n",
    "\n",
    "**定义**：  \n",
    "torch.nanmedian(input) → Tensor\n",
    "\n",
    "**参数**：  \n",
    "- input (Tensor) – the input tensor.  输入张量\n",
    "\n",
    "- dim (int) – the dimension to reduce.  要缩减的维度\n",
    "\n",
    "- keepdim (bool) – whether the output tensor has dim retained or not.  输出张量是否保留dim\n",
    "\n",
    "- out ((Tensor, Tensor), optional) – The first tensor will be populated with the median values and the second tensor, which must have dtype long, with their indices in the dimension dim of input."
   ]
  },
  {
   "cell_type": "code",
   "execution_count": 125,
   "id": "f18f29ca",
   "metadata": {},
   "outputs": [
    {
     "data": {
      "text/plain": [
       "torch.return_types.nanmedian(\n",
       "values=tensor([2., 1., 1.]),\n",
       "indices=tensor([0, 1, 0]))"
      ]
     },
     "execution_count": 125,
     "metadata": {},
     "output_type": "execute_result"
    }
   ],
   "source": [
    "import torch\n",
    "a = torch.tensor([[2, 3, 1], [float('nan'), 1, float('nan')]])\n",
    "a\n",
    "a.median(0)\n",
    "a.nanmedian(0)"
   ]
  },
  {
   "attachments": {},
   "cell_type": "markdown",
   "id": "ae1a32b8",
   "metadata": {},
   "source": [
    "## mode\n",
    "返回输入值的中位数，忽略NaN值。\n",
    "\n",
    "**定义**：  \n",
    "torch.mode(input, dim=- 1, keepdim=False, *, out=None)\n",
    "\n",
    "**参数**：  \n",
    "- input (Tensor) – the input tensor.  输入张量\n",
    "\n",
    "- dim (int) – the dimension to reduce.  要缩减的维度\n",
    "\n",
    "- keepdim (bool) – whether the output tensor has dim retained or not.  输出张量是否保留dim\n",
    "\n",
    "- out (tuple, optional) – the result tuple of two output tensors (values, indices)  两个输出张量(值，索引)的结果元组"
   ]
  },
  {
   "cell_type": "code",
   "execution_count": 135,
   "id": "d21638aa",
   "metadata": {},
   "outputs": [
    {
     "name": "stdout",
     "output_type": "stream",
     "text": [
      "tensor([0, 4, 9, 8, 4])\n"
     ]
    },
    {
     "data": {
      "text/plain": [
       "torch.return_types.mode(\n",
       "values=tensor(4),\n",
       "indices=tensor(4))"
      ]
     },
     "execution_count": 135,
     "metadata": {},
     "output_type": "execute_result"
    }
   ],
   "source": [
    "import torch\n",
    "torch.manual_seed(666)\n",
    "a = torch.randint(10, (5,))\n",
    "print(a)\n",
    "torch.mode(a,0)"
   ]
  },
  {
   "attachments": {},
   "cell_type": "markdown",
   "id": "727a11d2",
   "metadata": {},
   "source": [
    "## norm\n",
    "返回给定张量的矩阵范数或向量范数。\n",
    "\n",
    "**定义**：  \n",
    "torch.norm(input, p='fro', dim=None, keepdim=False, out=None, dtype=None)\n",
    "\n",
    "**参数**：  \n",
    "- input (Tensor) – the input tensor.  输入张量\n",
    "\n",
    "- p (int, float, inf, -inf, 'fro', 'nuc', optional) – fro(Frobenius norm)、nuc(nuclear norm)、Number(sum(abs(x)**ord)**(1./ord))\n",
    "\n",
    "- dim (int, tuple of ints, list of ints, optional) – Specifies which dimension or dimensions of input to calculate the norm across. If dim is None, the norm will be calculated across all dimensions of input. If the norm type indicated by p does not support the specified number of dimensions, an error will occur.  指定在输入的哪个或哪个维度上计算范数\n",
    "\n",
    "- keepdim (bool, optional) – whether the output tensors have dim retained or not. Ignored if dim = None and out = None. Default: False  输出张量是否保留dim\n",
    "\n",
    "- out (Tensor, optional) – the output tensor. Ignored if dim = None and out = None.  输出张量\n",
    "\n",
    "- dtype (torch.dtype, optional) – the desired data type of returned tensor. If specified, the input tensor is casted to dtype while performing the operation. Default: None.  返回张量的期望数据类型\n"
   ]
  },
  {
   "cell_type": "code",
   "execution_count": 139,
   "id": "0c6b35d0",
   "metadata": {},
   "outputs": [
    {
     "data": {
      "text/plain": [
       "tensor([5.0000, 3.1623])"
      ]
     },
     "execution_count": 139,
     "metadata": {},
     "output_type": "execute_result"
    }
   ],
   "source": [
    "import torch\n",
    "import torch\n",
    "a = torch.tensor([[3., 4],\n",
    "                  [1, 3]])\n",
    "torch.norm(a, dim=1)"
   ]
  },
  {
   "attachments": {},
   "cell_type": "markdown",
   "id": "a9b9f66e",
   "metadata": {},
   "source": [
    "## nansum\n",
    "返回所有元素的和，将非数字(nan)处理为零。\n",
    "\n",
    "**定义**：  \n",
    "torch.nansum(input, *, dtype=None) → Tensor\n",
    "\n",
    "**参数**：  \n",
    "- input (Tensor) – the input tensor.  输入张量\n",
    "\n",
    "- dim (int or tuple of ints, optional) – the dimension or dimensions to reduce. If None, all dimensions are reduced.  要缩减的维度\n",
    "\n",
    "- keepdim (bool) – whether the output tensor has dim retained or not.  输出张量是否保留dim。\n",
    "\n",
    "- dtype (torch.dtype, optional) – the desired data type of returned tensor. If specified, the input tensor is casted to dtype before the operation is performed. This is useful for preventing data type overflows. Default: None.  返回张量的期望数据类型"
   ]
  },
  {
   "cell_type": "code",
   "execution_count": 140,
   "id": "6fe94dcc",
   "metadata": {},
   "outputs": [
    {
     "data": {
      "text/plain": [
       "tensor(7.)"
      ]
     },
     "execution_count": 140,
     "metadata": {},
     "output_type": "execute_result"
    }
   ],
   "source": [
    "import torch\n",
    "a = torch.tensor([1., 2., float('nan'), 4.])\n",
    "torch.nansum(a)"
   ]
  },
  {
   "attachments": {},
   "cell_type": "markdown",
   "id": "73085a1d",
   "metadata": {},
   "source": [
    "## prod\n",
    "返回输入张量中所有元素的乘积。\n",
    "\n",
    "**定义**：  \n",
    "torch.prod(input, *, dtype=None) → Tensor\n",
    "\n",
    "**参数**：  \n",
    "- input (Tensor) – the input tensor.  输入张量\n",
    "\n",
    "- dim (int or tuple of ints, optional) – the dimension or dimensions to reduce. If None, all dimensions are reduced.  要缩减的维度\n",
    "\n",
    "- keepdim (bool) – whether the output tensor has dim retained or not.  输出张量是否保留dim。\n",
    "\n",
    "- dtype (torch.dtype, optional) – the desired data type of returned tensor. If specified, the input tensor is casted to dtype before the operation is performed. This is useful for preventing data type overflows. Default: None.  返回张量的期望数据类型"
   ]
  },
  {
   "cell_type": "code",
   "execution_count": 142,
   "id": "32e63e11",
   "metadata": {},
   "outputs": [
    {
     "name": "stdout",
     "output_type": "stream",
     "text": [
      "tensor([[ 0.7523, -0.2576],\n",
      "        [ 0.3773,  0.0753],\n",
      "        [-1.1425,  0.0812],\n",
      "        [-0.7525,  1.9844]])\n"
     ]
    },
    {
     "data": {
      "text/plain": [
       "tensor([-0.1938,  0.0284, -0.0928, -1.4934])"
      ]
     },
     "execution_count": 142,
     "metadata": {},
     "output_type": "execute_result"
    }
   ],
   "source": [
    "import torch\n",
    "a = torch.randn(4, 2)\n",
    "print(a)\n",
    "torch.prod(a, 1)"
   ]
  },
  {
   "attachments": {},
   "cell_type": "markdown",
   "id": "a0d84e17",
   "metadata": {},
   "source": [
    "## quantile\n",
    "计算输入张量的每一行的第q个分位数。\n",
    "\n",
    "**定义**：  \n",
    "torch.quantile(input, q, dim=None, keepdim=False, *, interpolation='linear', out=None) → Tensor\n",
    "\n",
    "**参数**：  \n",
    "- input (Tensor) – the input tensor.  输入张量\n",
    "\n",
    "- q (float or Tensor) – a scalar or 1D tensor of values in the range [0, 1].  范围为[0,1]的标量或一维张量\n",
    "\n",
    "- dim (int) – the dimension to reduce.  要缩减的维度\n",
    "\n",
    "- keepdim (bool) – whether the output tensor has dim retained or not.  输出张量是否保留dim\n",
    "\n",
    "- interpolation (str) – interpolation method to use when the desired quantile lies between two data points. Can be linear, lower, higher, midpoint and nearest. Default is linear.  当所需分位数位于两个数据点之间时使用的插值方法。\n",
    "\n",
    "- out (Tensor, optional) – the output tensor.  输出张量。"
   ]
  },
  {
   "cell_type": "code",
   "execution_count": 146,
   "id": "a1c02c39",
   "metadata": {},
   "outputs": [
    {
     "name": "stdout",
     "output_type": "stream",
     "text": [
      "tensor([[-2.1188,  0.0635, -1.4555],\n",
      "        [-0.0126, -0.1548, -0.0927]])\n"
     ]
    },
    {
     "data": {
      "text/plain": [
       "tensor(-0.1548)"
      ]
     },
     "execution_count": 146,
     "metadata": {},
     "output_type": "execute_result"
    }
   ],
   "source": [
    "import torch\n",
    "torch.manual_seed(666)\n",
    "a = torch.randn(2, 3)\n",
    "print(a)\n",
    "# q = torch.tensor([0.25, 0.5, 0.75])\n",
    "# torch.quantile(a, q, dim=1, keepdim=True)\n",
    "\n",
    "\n",
    "# torch.quantile(a, q, dim=1, keepdim=True).shape\n",
    "# a = torch.arange(4.)\n",
    "# a\n",
    "# torch.quantile(a, 0.6, interpolation='linear')\n",
    "# torch.quantile(a, 0.6, interpolation='lower')\n",
    "# torch.quantile(a, 0.6, interpolation='higher')\n",
    "# torch.quantile(a, 0.6, interpolation='midpoint')\n",
    "# torch.quantile(a, 0.6, interpolation='nearest')\n",
    "torch.quantile(a, 0.4, interpolation='nearest')"
   ]
  },
  {
   "attachments": {},
   "cell_type": "markdown",
   "id": "fc1b78f0",
   "metadata": {},
   "source": [
    "## nanquantile\n",
    "\n",
    "**定义**：  \n",
    "torch.nanquantile(input, q, dim=None, keepdim=False, *, interpolation='linear', out=None) → Tensor\n",
    "\n",
    "**参数**：  \n",
    "- input (Tensor) – the input tensor.  输入张量\n",
    "\n",
    "- q (float or Tensor) – a scalar or 1D tensor of values in the range [0, 1].  范围为[0,1]的标量或一维张量\n",
    "\n",
    "- dim (int) – the dimension to reduce.  要缩减的维度\n",
    "\n",
    "- keepdim (bool) – whether the output tensor has dim retained or not.  输出张量是否保留dim\n",
    "\n",
    "- interpolation (str) – interpolation method to use when the desired quantile lies between two data points. Can be linear, lower, higher, midpoint and nearest. Default is linear.  当所需分位数位于两个数据点之间时使用的插值方法。\n",
    "\n",
    "- out (Tensor, optional) – the output tensor.  输出张量。"
   ]
  },
  {
   "cell_type": "code",
   "execution_count": 148,
   "id": "f0bc3688",
   "metadata": {},
   "outputs": [
    {
     "data": {
      "text/plain": [
       "tensor([   nan, 1.5000])"
      ]
     },
     "execution_count": 148,
     "metadata": {},
     "output_type": "execute_result"
    }
   ],
   "source": [
    "import torch\n",
    "# t = torch.tensor([float('nan'), 1, 2])\n",
    "# t.quantile(0.5)\n",
    "# t.nanquantile(0.5)\n",
    "t = torch.tensor([[float('nan'), float('nan')], [1, 2]])\n",
    "# t\n",
    "# t.nanquantile(0.5, dim=0)\n",
    "t.nanquantile(0.5, dim=1)"
   ]
  },
  {
   "attachments": {},
   "cell_type": "markdown",
   "id": "84062574",
   "metadata": {},
   "source": [
    "## std\n",
    "求标准差\n",
    "\n",
    "**定义**：  \n",
    "torch.std(input, dim=None, *, correction=1, keepdim=False, out=None) → Tensor\n",
    "\n",
    "**参数**：  \n",
    "- input (Tensor) – the input tensor.  输入张量\n",
    "\n",
    "- dim (int or tuple of ints) – the dimension or dimensions to reduce.\n",
    "\n",
    "- correction (int) – 默认为贝塞尔修正，修正=1。\n",
    "\n",
    "- keepdim (bool) – whether the output tensor has dim retained or not.  输出张量是否保留dim。\n",
    "\n",
    "- out (Tensor, optional) – the output tensor.  输出张量\n"
   ]
  },
  {
   "cell_type": "code",
   "execution_count": 176,
   "id": "1eecbe8a",
   "metadata": {},
   "outputs": [
    {
     "name": "stdout",
     "output_type": "stream",
     "text": [
      "tensor([[1.0311],\n",
      "        [0.7477],\n",
      "        [1.2204],\n",
      "        [0.9087]])\n"
     ]
    },
    {
     "data": {
      "text/plain": [
       "tensor([1.0311, 0.7477, 1.2204, 0.9087])"
      ]
     },
     "execution_count": 176,
     "metadata": {},
     "output_type": "execute_result"
    }
   ],
   "source": [
    "import torch\n",
    "a = torch.tensor(\n",
    "    [[ 0.2035,  1.2959,  1.8101, -0.4644],\n",
    "     [ 1.5027, -0.3270,  0.5905,  0.6538],\n",
    "     [-1.5745,  1.3330, -0.5596, -0.6548],\n",
    "     [ 0.1264, -0.5080,  1.6420,  0.1992]])\n",
    "print(torch.std(a, dim=1, keepdim=True))\n",
    "\n",
    "(((a-a.mean(dim=1,keepdim=True))**2).sum(dim=1)/(4-1))**0.5"
   ]
  },
  {
   "attachments": {},
   "cell_type": "markdown",
   "id": "6af4db76",
   "metadata": {},
   "source": [
    "## std_mean\n",
    "\n",
    "求标准差和均值\n",
    "\n",
    "**定义**：  \n",
    "torch.std_mean(input, dim=None, *, correction=1, keepdim=False, out=None) → Tensor\n",
    "\n",
    "**参数**：  \n",
    "- input (Tensor) – the input tensor.  输入张量\n",
    "\n",
    "- dim (int or tuple of ints) – the dimension or dimensions to reduce.\n",
    "\n",
    "- correction (int) – 默认为贝塞尔修正，修正=1。\n",
    "\n",
    "- keepdim (bool) – whether the output tensor has dim retained or not.  输出张量是否保留dim。\n",
    "\n",
    "- out (Tensor, optional) – the output tensor.  输出张量\n"
   ]
  },
  {
   "cell_type": "code",
   "execution_count": 177,
   "id": "d4a5bbfc",
   "metadata": {},
   "outputs": [
    {
     "name": "stdout",
     "output_type": "stream",
     "text": [
      "(tensor([[1.0311],\n",
      "        [0.7477],\n",
      "        [1.2204],\n",
      "        [0.9087]]), tensor([[ 0.7113],\n",
      "        [ 0.6050],\n",
      "        [-0.3640],\n",
      "        [ 0.3649]]))\n"
     ]
    },
    {
     "data": {
      "text/plain": [
       "tensor([1.0311, 0.7477, 1.2204, 0.9087])"
      ]
     },
     "execution_count": 177,
     "metadata": {},
     "output_type": "execute_result"
    }
   ],
   "source": [
    "import torch\n",
    "a = torch.tensor(\n",
    "    [[ 0.2035,  1.2959,  1.8101, -0.4644],\n",
    "     [ 1.5027, -0.3270,  0.5905,  0.6538],\n",
    "     [-1.5745,  1.3330, -0.5596, -0.6548],\n",
    "     [ 0.1264, -0.5080,  1.6420,  0.1992]])\n",
    "print(torch.std_mean(a, dim=1, keepdim=True))\n",
    "\n",
    "(((a-a.mean(dim=1,keepdim=True))**2).sum(dim=1)/(4-1))**0.5"
   ]
  },
  {
   "attachments": {},
   "cell_type": "markdown",
   "id": "e79b96c4",
   "metadata": {},
   "source": [
    "## sum\n",
    "返回输入张量中所有元素的和。\n",
    "\n",
    "**定义**：  \n",
    "torch.sum(input, *, dtype=None) → Tensor\n",
    "\n",
    "**参数**：  \n",
    "- input (Tensor) – the input tensor.  输入张量\n",
    "\n",
    "- dtype (torch.dtype, optional) – the desired data type of returned tensor. If specified, the input tensor is casted to dtype before the operation is performed. This is useful for preventing data type overflows. Default: None.  返回张量的期望数据类型"
   ]
  },
  {
   "cell_type": "code",
   "execution_count": 178,
   "id": "d1e99de2",
   "metadata": {},
   "outputs": [
    {
     "name": "stdout",
     "output_type": "stream",
     "text": [
      "tensor([[ 2.5916,  0.4542, -0.6890]])\n"
     ]
    },
    {
     "data": {
      "text/plain": [
       "tensor(2.3568)"
      ]
     },
     "execution_count": 178,
     "metadata": {},
     "output_type": "execute_result"
    }
   ],
   "source": [
    "import torch\n",
    "a = torch.randn(1, 3)\n",
    "print(a)\n",
    "torch.sum(a)"
   ]
  },
  {
   "attachments": {},
   "cell_type": "markdown",
   "id": "4e8a47f8",
   "metadata": {},
   "source": [
    "## unique\n",
    "返回输入张量的唯一元素。\n",
    "\n",
    "**定义**：  \n",
    "torch.unique(input, sorted=True, return_inverse=False, return_counts=False, dim=None) → Tuple[Tensor, Tensor, Tensor]\n",
    "\n",
    "**参数**：  \n",
    "- input (Tensor) – the input tensor  输入张量\n",
    "\n",
    "- sorted (bool) – Whether to sort the unique elements in ascending order before returning as output.  是否对唯一的元素按升序排序，然后作为输出返回。\n",
    "\n",
    "- return_inverse (bool) – Whether to also return the indices for where elements in the original input ended up in the returned unique list.  是否也返回原始输入元素在返回的唯一列表中结束位置的索引。\n",
    "\n",
    "- return_counts (bool) – Whether to also return the counts for each unique element.  是否同时返回每个唯一元素的计数。\n",
    "\n",
    "- dim (int) – the dimension to apply unique. If None, the unique of the flattened input is returned. default: None  应用唯一的维度。如果为None，则返回扁平输入的唯一性。默认值:无"
   ]
  },
  {
   "cell_type": "code",
   "execution_count": 179,
   "id": "73f19979",
   "metadata": {},
   "outputs": [
    {
     "data": {
      "text/plain": [
       "tensor([1, 2, 3])"
      ]
     },
     "execution_count": 179,
     "metadata": {},
     "output_type": "execute_result"
    }
   ],
   "source": [
    "import torch\n",
    "output = torch.unique(torch.tensor([1, 3, 2, 3], dtype=torch.long))\n",
    "output\n",
    "\n",
    "# output, inverse_indices = torch.unique(\n",
    "#     torch.tensor([1, 3, 2, 3], dtype=torch.long), sorted=True, return_inverse=True)\n",
    "# output\n",
    "# inverse_indices\n",
    "\n",
    "# output, inverse_indices = torch.unique(\n",
    "#     torch.tensor([[1, 3], [2, 3]], dtype=torch.long), sorted=True, return_inverse=True)\n",
    "# output\n",
    "# inverse_indices"
   ]
  },
  {
   "attachments": {},
   "cell_type": "markdown",
   "id": "f054a9be",
   "metadata": {},
   "source": [
    "## unique_consecutive\n",
    "从每组连续的等效元素中除去除第一个元素以外的所有元素。\n",
    "\n",
    "**定义**：  \n",
    "torch.unique_consecutive(*args, **kwargs)\n",
    "\n",
    "**参数**：  \n",
    "- input (Tensor) – the input tensor  输入张量\n",
    "\n",
    "- return_inverse (bool) – Whether to also return the indices for where elements in the original input ended up in the returned unique list.  是否也返回原始输入元素在返回的唯一列表中结束位置的索引。\n",
    "\n",
    "- return_counts (bool) – Whether to also return the counts for each unique element.  是否同时返回每个唯一元素的计数。\n",
    "\n",
    "- dim (int) – the dimension to apply unique. If None, the unique of the flattened input is returned. default: None  应用唯一的维度。如果为None，则返回扁平输入的唯一性。默认值:无"
   ]
  },
  {
   "cell_type": "code",
   "execution_count": 180,
   "id": "2c79c0f7",
   "metadata": {},
   "outputs": [
    {
     "data": {
      "text/plain": [
       "tensor([1, 2, 3, 1, 2])"
      ]
     },
     "execution_count": 180,
     "metadata": {},
     "output_type": "execute_result"
    }
   ],
   "source": [
    "import torch\n",
    "x = torch.tensor([1, 1, 2, 2, 3, 1, 1, 2])\n",
    "output = torch.unique_consecutive(x)\n",
    "output\n",
    "\n",
    "# output, inverse_indices = torch.unique_consecutive(x, return_inverse=True)\n",
    "# output\n",
    "# inverse_indices\n",
    "\n",
    "# output, counts = torch.unique_consecutive(x, return_counts=True)\n",
    "# output\n",
    "# counts"
   ]
  },
  {
   "attachments": {},
   "cell_type": "markdown",
   "id": "cbcc212b",
   "metadata": {},
   "source": [
    "## var\n",
    "求方差\n",
    "\n",
    "**定义**：  \n",
    "torch.var(input, dim=None, *, correction=1, keepdim=False, out=None) → Tensor\n",
    "\n",
    "**参数**：  \n",
    "- input (Tensor) – the input tensor.  输入张量\n",
    "\n",
    "- dim (int or tuple of ints) – the dimension or dimensions to reduce.\n",
    "\n",
    "- correction (int) – 默认为贝塞尔修正，修正=1。\n",
    "\n",
    "- keepdim (bool) – whether the output tensor has dim retained or not.  输出张量是否保留dim。\n",
    "\n",
    "- out (Tensor, optional) – the output tensor.  输出张量\n"
   ]
  },
  {
   "cell_type": "code",
   "execution_count": 182,
   "id": "3eb1c410",
   "metadata": {},
   "outputs": [
    {
     "name": "stdout",
     "output_type": "stream",
     "text": [
      "tensor([[1.0631],\n",
      "        [0.5590],\n",
      "        [1.4893],\n",
      "        [0.8258]])\n"
     ]
    },
    {
     "data": {
      "text/plain": [
       "tensor([1.0631, 0.5590, 1.4893, 0.8258])"
      ]
     },
     "execution_count": 182,
     "metadata": {},
     "output_type": "execute_result"
    }
   ],
   "source": [
    "import torch\n",
    "a = torch.tensor(\n",
    "    [[ 0.2035,  1.2959,  1.8101, -0.4644],\n",
    "     [ 1.5027, -0.3270,  0.5905,  0.6538],\n",
    "     [-1.5745,  1.3330, -0.5596, -0.6548],\n",
    "     [ 0.1264, -0.5080,  1.6420,  0.1992]])\n",
    "print(torch.var(a, dim=1, keepdim=True))\n",
    "\n",
    "(((a-a.mean(dim=1,keepdim=True))**2).sum(dim=1)/(4-1))"
   ]
  },
  {
   "attachments": {},
   "cell_type": "markdown",
   "id": "0e0b17d0",
   "metadata": {},
   "source": [
    "## var_mean\n",
    "求方差\n",
    "\n",
    "**定义**：  \n",
    "torch.var_mean(input, dim=None, *, correction=1, keepdim=False, out=None) → Tensor\n",
    "\n",
    "**参数**：  \n",
    "- input (Tensor) – the input tensor.  输入张量\n",
    "\n",
    "- dim (int or tuple of ints) – the dimension or dimensions to reduce.\n",
    "\n",
    "- correction (int) – 默认为贝塞尔修正，修正=1。\n",
    "\n",
    "- keepdim (bool) – whether the output tensor has dim retained or not.  输出张量是否保留dim。\n",
    "\n",
    "- out (Tensor, optional) – the output tensor.  输出张量\n"
   ]
  },
  {
   "cell_type": "code",
   "execution_count": 183,
   "id": "a12c70fc",
   "metadata": {},
   "outputs": [
    {
     "name": "stdout",
     "output_type": "stream",
     "text": [
      "(tensor([[1.0631],\n",
      "        [0.5590],\n",
      "        [1.4893],\n",
      "        [0.8258]]), tensor([[ 0.7113],\n",
      "        [ 0.6050],\n",
      "        [-0.3640],\n",
      "        [ 0.3649]]))\n"
     ]
    },
    {
     "data": {
      "text/plain": [
       "tensor([1.0631, 0.5590, 1.4893, 0.8258])"
      ]
     },
     "execution_count": 183,
     "metadata": {},
     "output_type": "execute_result"
    }
   ],
   "source": [
    "import torch\n",
    "a = torch.tensor(\n",
    "    [[ 0.2035,  1.2959,  1.8101, -0.4644],\n",
    "     [ 1.5027, -0.3270,  0.5905,  0.6538],\n",
    "     [-1.5745,  1.3330, -0.5596, -0.6548],\n",
    "     [ 0.1264, -0.5080,  1.6420,  0.1992]])\n",
    "print(torch.var_mean(a, dim=1, keepdim=True))\n",
    "\n",
    "(((a-a.mean(dim=1,keepdim=True))**2).sum(dim=1)/(4-1))"
   ]
  },
  {
   "attachments": {},
   "cell_type": "markdown",
   "id": "089efe90",
   "metadata": {},
   "source": [
    "## count_nonzero\n",
    "计数张量输入中沿着给定dim的非零值的数量。如果没有指定dim，那么张量中所有的非零值都被计数。\n",
    "\n",
    "**定义**：  \n",
    "torch.count_nonzero(input, dim=None) → Tensor\n",
    "\n",
    "**参数**：  \n",
    "- input (Tensor) – the input tensor.  输入张量\n",
    "\n",
    "- dim (int or tuple of ints, optional) – Dim or tuple of dims along which to count non-zeros.  用于计数非零。"
   ]
  },
  {
   "cell_type": "code",
   "execution_count": 187,
   "id": "af98b270",
   "metadata": {},
   "outputs": [
    {
     "name": "stdout",
     "output_type": "stream",
     "text": [
      "tensor([[1., 0., 0.],\n",
      "        [0., 0., 0.],\n",
      "        [0., 0., 1.]])\n"
     ]
    },
    {
     "data": {
      "text/plain": [
       "tensor(2)"
      ]
     },
     "execution_count": 187,
     "metadata": {},
     "output_type": "execute_result"
    }
   ],
   "source": [
    "import torch\n",
    "x = torch.zeros(3,3)\n",
    "x[torch.randn(3,3) > 0.5] = 1\n",
    "print(x)\n",
    "torch.count_nonzero(x)\n",
    "# torch.count_nonzero(x, dim=0)"
   ]
  },
  {
   "attachments": {},
   "cell_type": "markdown",
   "id": "fbb0d1bd",
   "metadata": {},
   "source": [
    "# 对比操作(Comparison Ops)"
   ]
  },
  {
   "attachments": {},
   "cell_type": "markdown",
   "id": "09c1bb01",
   "metadata": {},
   "source": [
    "## allclose\n",
    "判读两个数组是否在误差范围内相等\n",
    "\n",
    "$$|{\\mathrm{input}}-{\\mathrm{other}}|\\leq{\\mathrm{atol}}+{\\mathrm{rtol}}\\times|{\\mathrm{other}}|$$\n",
    "\n",
    "**定义**：  \n",
    "torch.allclose(input, other, rtol=1e-05, atol=1e-08, equal_nan=False) → bool\n",
    "\n",
    "**参数**：  \n",
    "- input (Tensor) – first tensor to compare  第一个比较的张量\n",
    "\n",
    "- other (Tensor) – second tensor to compare  第2个比较的张量\n",
    "\n",
    "- atol (float, optional) – absolute tolerance. Default: 1e-08  绝对误差\n",
    "\n",
    "- rtol (float, optional) – relative tolerance. Default: 1e-05  相对误差\n",
    "\n",
    "- equal_nan (bool, optional) – if True, then two NaN s will be considered equal. Default: False  如果为True，则两个NaN将被视为相等。默认值:假"
   ]
  },
  {
   "cell_type": "code",
   "execution_count": 190,
   "id": "d737f955",
   "metadata": {},
   "outputs": [
    {
     "data": {
      "text/plain": [
       "True"
      ]
     },
     "execution_count": 190,
     "metadata": {},
     "output_type": "execute_result"
    }
   ],
   "source": [
    "import torch\n",
    "torch.allclose(torch.tensor([10000., 1e-07]), torch.tensor([10000.1, 1e-08]))\n",
    "torch.allclose(torch.tensor([10000., 1e-08]), torch.tensor([10000.1, 1e-09]))\n",
    "# torch.allclose(torch.tensor([1.0, float('nan')]), torch.tensor([1.0, float('nan')]))\n",
    "# torch.allclose(torch.tensor([1.0, float('nan')]), torch.tensor([1.0, float('nan')]), equal_nan=True)"
   ]
  },
  {
   "attachments": {},
   "cell_type": "markdown",
   "id": "060cdc99",
   "metadata": {},
   "source": [
    "## argsort\n",
    "返回沿着给定维度按值升序排序张量的索引。\n",
    "\n",
    "**定义**：  \n",
    "torch.argsort(input, dim=- 1, descending=False, stable=False) → Tensor\n",
    "\n",
    "**参数**：  \n",
    "- input (Tensor) – the input tensor.  输入张量\n",
    "\n",
    "- dim (int, optional) – the dimension to sort along  排序的维度\n",
    "\n",
    "- descending (bool, optional) – controls the sorting order (ascending or descending)  控制排序顺序(升序或降序)\n",
    "\n",
    "- stable (bool, optional) – controls the relative order of equivalent elements  控制相同元素的相对顺序"
   ]
  },
  {
   "cell_type": "code",
   "execution_count": 191,
   "id": "facb6e9d",
   "metadata": {},
   "outputs": [
    {
     "name": "stdout",
     "output_type": "stream",
     "text": [
      "tensor([[-0.1762, -1.3497,  0.0790,  0.0941],\n",
      "        [-0.2810,  0.4610, -0.2212,  0.1101],\n",
      "        [-1.3891, -0.4976,  0.1123, -0.4616],\n",
      "        [-0.2004, -2.0605, -0.0994, -0.4985]])\n"
     ]
    },
    {
     "data": {
      "text/plain": [
       "tensor([[1, 0, 2, 3],\n",
       "        [0, 2, 3, 1],\n",
       "        [0, 1, 3, 2],\n",
       "        [1, 3, 0, 2]])"
      ]
     },
     "execution_count": 191,
     "metadata": {},
     "output_type": "execute_result"
    }
   ],
   "source": [
    "import torch\n",
    "a = torch.randn(4, 4)\n",
    "print(a)\n",
    "torch.argsort(a, dim=1)"
   ]
  },
  {
   "attachments": {},
   "cell_type": "markdown",
   "id": "5cd9cf2a",
   "metadata": {},
   "source": [
    "## eq\n",
    "计算元素的相等性\n",
    "\n",
    "**定义**：  \n",
    "torch.eq(input, other, *, out=None) → Tensor\n",
    "\n",
    "**参数**：  \n",
    "- input (Tensor) – the input tensor.  输入张量\n",
    "\n",
    "- other (Tensor or float) – the tensor or value to compare  要比较的张量或值\n",
    "\n",
    "- out (Tensor, optional) – the output tensor.  输出张量\n"
   ]
  },
  {
   "cell_type": "code",
   "execution_count": 194,
   "id": "f8eb235d",
   "metadata": {},
   "outputs": [
    {
     "data": {
      "text/plain": [
       "tensor([[ True, False],\n",
       "        [False,  True]])"
      ]
     },
     "execution_count": 194,
     "metadata": {},
     "output_type": "execute_result"
    }
   ],
   "source": [
    "import torch\n",
    "torch.eq(torch.tensor([[1, 2], [3, 4]]), torch.tensor([[1, 1], [4, 4]]))\n"
   ]
  },
  {
   "attachments": {},
   "cell_type": "markdown",
   "id": "b2e98d42",
   "metadata": {},
   "source": [
    "## equal\n",
    "如果两个张量具有相同的大小和元素，则为True，否则为False。\n",
    "\n",
    "**定义**：  \n",
    "torch.equal(input, other) → bool"
   ]
  },
  {
   "cell_type": "code",
   "execution_count": 195,
   "id": "5270c7cf",
   "metadata": {},
   "outputs": [
    {
     "data": {
      "text/plain": [
       "True"
      ]
     },
     "execution_count": 195,
     "metadata": {},
     "output_type": "execute_result"
    }
   ],
   "source": [
    "import torch\n",
    "torch.equal(torch.tensor([1, 2]), torch.tensor([1, 2]))"
   ]
  },
  {
   "attachments": {},
   "cell_type": "markdown",
   "id": "7163a259",
   "metadata": {},
   "source": [
    "## ge/greater_equal\n",
    "input≥other\n",
    "\n",
    "**定义**：  \n",
    "torch.ge(input, other, *, out=None) → Tensor\n",
    "\n",
    "**参数**：  \n",
    "- input (Tensor) – the tensor to compare  要比较的张量\n",
    "\n",
    "- other (Tensor or float) – the tensor or value to compare  要比较的张量或值\n",
    "\n",
    "- out (Tensor, optional) – the output tensor.  输出张量\n"
   ]
  },
  {
   "cell_type": "code",
   "execution_count": 196,
   "id": "d36cfc15",
   "metadata": {},
   "outputs": [
    {
     "data": {
      "text/plain": [
       "tensor([[ True,  True],\n",
       "        [False,  True]])"
      ]
     },
     "execution_count": 196,
     "metadata": {},
     "output_type": "execute_result"
    }
   ],
   "source": [
    "import torch\n",
    "torch.ge(torch.tensor([[1, 2], [3, 4]]), torch.tensor([[1, 1], [4, 4]]))"
   ]
  },
  {
   "attachments": {},
   "cell_type": "markdown",
   "id": "5a429980",
   "metadata": {},
   "source": [
    "## gt/greater\n",
    "\n",
    "input>other \n",
    "\n",
    "**定义**：  \n",
    "torch.gt(input, other, *, out=None) → Tensor\n",
    "\n",
    "**参数**：  \n",
    "- input (Tensor) – the tensor to compare  要比较的张量\n",
    "\n",
    "- other (Tensor or float) – the tensor or value to compare  要比较的张量或值\n",
    "\n",
    "- out (Tensor, optional) – the output tensor.  输出张量"
   ]
  },
  {
   "cell_type": "code",
   "execution_count": 197,
   "id": "9611c938",
   "metadata": {},
   "outputs": [
    {
     "data": {
      "text/plain": [
       "tensor([[False,  True],\n",
       "        [False, False]])"
      ]
     },
     "execution_count": 197,
     "metadata": {},
     "output_type": "execute_result"
    }
   ],
   "source": [
    "import torch\n",
    "torch.gt(torch.tensor([[1, 2], [3, 4]]), torch.tensor([[1, 1], [4, 4]]))"
   ]
  },
  {
   "attachments": {},
   "cell_type": "markdown",
   "id": "1e387680",
   "metadata": {},
   "source": [
    "## isclose\n",
    "\n",
    "$$|{\\mathrm{input}}-{\\mathrm{other}}|\\leq{\\mathrm{atol}}+{\\mathrm{rtol}}\\times|{\\mathrm{other}}|$$\n",
    "\n",
    "**定义**：  \n",
    "torch.isclose(input, other, rtol=1e-05, atol=1e-08, equal_nan=False) → Tensor\n",
    "\n",
    "**参数**：  \n",
    "- input (Tensor) – first tensor to compare  第一个比较的张量\n",
    "\n",
    "- other (Tensor) – second tensor to compare  第2个比较的张量\n",
    "\n",
    "- atol (float, optional) – absolute tolerance. Default: 1e-08  绝对误差\n",
    "\n",
    "- rtol (float, optional) – relative tolerance. Default: 1e-05  相对误差\n",
    "\n",
    "- equal_nan (bool, optional) – if True, then two NaN s will be considered equal. Default: False  如果为True，则两个NaN将被视为相等。默认值:假"
   ]
  },
  {
   "cell_type": "code",
   "execution_count": 198,
   "id": "07bfcab9",
   "metadata": {},
   "outputs": [
    {
     "data": {
      "text/plain": [
       "tensor([ True, False, False])"
      ]
     },
     "execution_count": 198,
     "metadata": {},
     "output_type": "execute_result"
    }
   ],
   "source": [
    "import torch\n",
    "torch.isclose(torch.tensor((1., 2, 3)), torch.tensor((1 + 1e-10, 3, 4)))\n",
    "# torch.isclose(torch.tensor((float('inf'), 4)), torch.tensor((float('inf'), 6)), rtol=.5)"
   ]
  },
  {
   "attachments": {},
   "cell_type": "markdown",
   "id": "25c9d33f",
   "metadata": {},
   "source": [
    "## isfinite\n",
    "返回一个带有布尔元素的新张量，表示每个元素是否为有限元素。\n",
    "\n",
    "**定义**：  \n",
    "torch.isfinite(input) → Tensor\n",
    "\n",
    "**参数**：  \n",
    "- input (Tensor) – the input tensor.  输入张量"
   ]
  },
  {
   "cell_type": "code",
   "execution_count": 199,
   "id": "4b2400fd",
   "metadata": {},
   "outputs": [
    {
     "data": {
      "text/plain": [
       "tensor([ True, False,  True, False, False])"
      ]
     },
     "execution_count": 199,
     "metadata": {},
     "output_type": "execute_result"
    }
   ],
   "source": [
    "import torch\n",
    "torch.isfinite(torch.tensor([1, float('inf'), 2, float('-inf'), float('nan')]))"
   ]
  },
  {
   "attachments": {},
   "cell_type": "markdown",
   "id": "5da62867",
   "metadata": {},
   "source": [
    "## isin\n",
    "测试elements中的每个元素是否都在test_elements中。返回一个与元素形状相同的布尔张量，对于test_elements中的元素为True，否则为False。\n",
    "\n",
    "**定义**：  \n",
    "torch.isin(torch.tensor([[1, 2], [3, 4]]), torch.tensor([2, 3]))\n",
    "\n",
    "**参数**：  \n",
    "- elements (Tensor or Scalar) – Input elements  输入元素\n",
    "\n",
    "- test_elements (Tensor or Scalar) – Values against which to test for each input element  测试每个输入元素的值\n",
    "\n",
    "- assume_unique (bool, optional) – If True, assumes both elements and test_elements contain unique elements, which can speed up the calculation. Default: False  如果为True，则假设元素和test_elements都包含唯一元素，这样可以加快计算速度。默认值:假\n",
    "\n",
    "- invert (bool, optional) – If True, inverts the boolean return tensor, resulting in True values for elements not in test_elements. Default: False  如果为True，则反转布尔返回张量"
   ]
  },
  {
   "cell_type": "code",
   "execution_count": 200,
   "id": "9a9e3c28",
   "metadata": {},
   "outputs": [
    {
     "data": {
      "text/plain": [
       "tensor([[False,  True],\n",
       "        [ True, False]])"
      ]
     },
     "execution_count": 200,
     "metadata": {},
     "output_type": "execute_result"
    }
   ],
   "source": [
    "import torch\n",
    "torch.isin(torch.tensor([[1, 2], [3, 4]]), torch.tensor([2, 3]))"
   ]
  },
  {
   "attachments": {},
   "cell_type": "markdown",
   "id": "e30701aa",
   "metadata": {},
   "source": [
    "## isinf\n",
    "测试每个输入元素是否为无穷大(正无穷大或负无穷大)。\n",
    "\n",
    "**定义**：  \n",
    "torch.isinf(input) → Tensor\n",
    "\n",
    "**参数**：  \n",
    "- input (Tensor) – the input tensor.  输入张量"
   ]
  },
  {
   "cell_type": "code",
   "execution_count": 201,
   "id": "82b17607",
   "metadata": {},
   "outputs": [
    {
     "data": {
      "text/plain": [
       "tensor([False,  True, False,  True, False])"
      ]
     },
     "execution_count": 201,
     "metadata": {},
     "output_type": "execute_result"
    }
   ],
   "source": [
    "import torch\n",
    "torch.isinf(torch.tensor([1, float('inf'), 2, float('-inf'), float('nan')]))"
   ]
  },
  {
   "attachments": {},
   "cell_type": "markdown",
   "id": "3ddee0b7",
   "metadata": {},
   "source": [
    "## isposinf\n",
    "测试输入的每个元素是否为正无穷。\n",
    "\n",
    "**定义**：  \n",
    "torch.isposinf(input, *, out=None) → Tensor\n",
    "\n",
    "**参数**：  \n",
    "- input (Tensor) – the input tensor.  输入张量\n",
    "\n",
    "- out (Tensor, optional) – the output tensor.  输出张量\n"
   ]
  },
  {
   "cell_type": "code",
   "execution_count": 202,
   "id": "9b933469",
   "metadata": {},
   "outputs": [
    {
     "data": {
      "text/plain": [
       "tensor([False,  True, False])"
      ]
     },
     "execution_count": 202,
     "metadata": {},
     "output_type": "execute_result"
    }
   ],
   "source": [
    "import torch\n",
    "a = torch.tensor([-float('inf'), float('inf'), 1.2])\n",
    "torch.isposinf(a)"
   ]
  },
  {
   "attachments": {},
   "cell_type": "markdown",
   "id": "c568c149",
   "metadata": {},
   "source": [
    "## isneginf\n",
    "测试输入的每个元素是否为负无穷。\n",
    "\n",
    "**定义**：  \n",
    "torch.isneginf(input, *, out=None) → Tensor\n",
    "\n",
    "**参数**：  \n",
    "- input (Tensor) – the input tensor.  输入张量\n",
    "\n",
    "- out (Tensor, optional) – the output tensor.  输出张量\n"
   ]
  },
  {
   "cell_type": "code",
   "execution_count": 203,
   "id": "007ef746",
   "metadata": {},
   "outputs": [
    {
     "data": {
      "text/plain": [
       "tensor([ True, False, False])"
      ]
     },
     "execution_count": 203,
     "metadata": {},
     "output_type": "execute_result"
    }
   ],
   "source": [
    "import torch\n",
    "a = torch.tensor([-float('inf'), float('inf'), 1.2])\n",
    "torch.isneginf(a)"
   ]
  },
  {
   "attachments": {},
   "cell_type": "markdown",
   "id": "8929ab31",
   "metadata": {},
   "source": [
    "## isnan\n",
    "返回一个新的张量，其中布尔元素表示输入的每个元素是否为NaN。当复数值的实部和/或虚部都为NaN时，则将其视为NaN。\n",
    "\n",
    "**定义**：  \n",
    "torch.isnan(input) → Tensor\n",
    "\n",
    "**参数**：  \n",
    "- input (Tensor) – the input tensor.  输入张量"
   ]
  },
  {
   "cell_type": "code",
   "execution_count": 204,
   "id": "02461d06",
   "metadata": {},
   "outputs": [
    {
     "data": {
      "text/plain": [
       "tensor([False,  True, False])"
      ]
     },
     "execution_count": 204,
     "metadata": {},
     "output_type": "execute_result"
    }
   ],
   "source": [
    "import torch\n",
    "torch.isnan(torch.tensor([1, float('nan'), 2]))"
   ]
  },
  {
   "attachments": {},
   "cell_type": "markdown",
   "id": "1ab98965",
   "metadata": {},
   "source": [
    "## isreal\n",
    "返回一个新的张量，其中布尔元素表示输入的每个元素是否为实值。所有实值类型都被认为是实数。当复数值的虚部为0时，它们被认为是实数。\n",
    "\n",
    "**定义**：  \n",
    "torch.isreal(input) → Tensor\n",
    "\n",
    "**参数**：  \n",
    "- input (Tensor) – the input tensor.  输入张量"
   ]
  },
  {
   "cell_type": "code",
   "execution_count": 205,
   "id": "e87ba156",
   "metadata": {},
   "outputs": [
    {
     "data": {
      "text/plain": [
       "tensor([ True, False,  True])"
      ]
     },
     "execution_count": 205,
     "metadata": {},
     "output_type": "execute_result"
    }
   ],
   "source": [
    "import torch\n",
    "torch.isreal(torch.tensor([1, 1+1j, 2+0j]))"
   ]
  },
  {
   "attachments": {},
   "cell_type": "markdown",
   "id": "3c130c2b",
   "metadata": {},
   "source": [
    "## kthvalue\n",
    "第k个最小元素\n",
    "\n",
    "**定义**：  \n",
    "torch.kthvalue(input, k, dim=None, keepdim=False, *, out=None)\n",
    "\n",
    "**参数**：  \n",
    "- input (Tensor) – the input tensor.  输入张量\n",
    "\n",
    "- k (int) – k for the k-th smallest element  k表示第k个最小的元素\n",
    "\n",
    "- dim (int, optional) – the dimension to find the kth value along  寻找KTH值的维度\n",
    "\n",
    "- keepdim (bool) – whether the output tensor has dim retained or not.  输出张量是否保留dim。\n",
    "\n",
    "- out (Tensor, optional) – the output tensor.  输出张量\n"
   ]
  },
  {
   "cell_type": "code",
   "execution_count": 207,
   "id": "b65bad8c",
   "metadata": {},
   "outputs": [
    {
     "name": "stdout",
     "output_type": "stream",
     "text": [
      "tensor([1., 2., 3., 4., 5.])\n"
     ]
    },
    {
     "data": {
      "text/plain": [
       "torch.return_types.kthvalue(\n",
       "values=tensor(4.),\n",
       "indices=tensor(3))"
      ]
     },
     "execution_count": 207,
     "metadata": {},
     "output_type": "execute_result"
    }
   ],
   "source": [
    "import torch\n",
    "x = torch.arange(1., 6.)\n",
    "print(x)\n",
    "torch.kthvalue(x, 4)\n",
    "\n",
    "# x=torch.arange(1.,7.).resize_(2,3)\n",
    "# x\n",
    "# torch.kthvalue(x, 2, 0, True)"
   ]
  },
  {
   "attachments": {},
   "cell_type": "markdown",
   "id": "dc06d232",
   "metadata": {},
   "source": [
    "## le/less_equal\n",
    "input≤other \n",
    "\n",
    "**定义**：  \n",
    "torch.le(input, other, *, out=None) → Tensor\n",
    "\n",
    "**参数**：  \n",
    "- input (Tensor) – the tensor to compare  要比较的张量\n",
    "\n",
    "- other (Tensor or Scalar) – the tensor or value to compare  要比较的张量或值\n",
    " \n",
    "- out (Tensor, optional) – the output tensor.  输出张量\n"
   ]
  },
  {
   "cell_type": "code",
   "execution_count": 208,
   "id": "bc77c3b0",
   "metadata": {},
   "outputs": [
    {
     "data": {
      "text/plain": [
       "tensor([[ True, False],\n",
       "        [ True,  True]])"
      ]
     },
     "execution_count": 208,
     "metadata": {},
     "output_type": "execute_result"
    }
   ],
   "source": [
    "import torch\n",
    "torch.le(torch.tensor([[1, 2], [3, 4]]), torch.tensor([[1, 1], [4, 4]]))"
   ]
  },
  {
   "attachments": {},
   "cell_type": "markdown",
   "id": "b2cd4374",
   "metadata": {},
   "source": [
    "## lt/less\n",
    "input<other\n",
    "\n",
    "**定义**：  \n",
    "torch.lt(input, other, *, out=None) → Tensor\n",
    "\n",
    "**参数**：  \n",
    "- input (Tensor) – the tensor to compare  要比较的张量\n",
    "\n",
    "- other (Tensor or Scalar) – the tensor or value to compare  要比较的张量或值\n",
    " \n",
    "- out (Tensor, optional) – the output tensor.  输出张量"
   ]
  },
  {
   "cell_type": "code",
   "execution_count": 209,
   "id": "60a0280c",
   "metadata": {},
   "outputs": [
    {
     "data": {
      "text/plain": [
       "tensor([[False, False],\n",
       "        [ True, False]])"
      ]
     },
     "execution_count": 209,
     "metadata": {},
     "output_type": "execute_result"
    }
   ],
   "source": [
    "import torch\n",
    "torch.lt(torch.tensor([[1, 2], [3, 4]]), torch.tensor([[1, 1], [4, 4]]))"
   ]
  },
  {
   "attachments": {},
   "cell_type": "markdown",
   "id": "a131751b",
   "metadata": {},
   "source": [
    "## maximum\n",
    "计算输入和其他元素的元素最大值。\n",
    "\n",
    "**定义**：  \n",
    "torch.maximum(input, other, *, out=None) → Tensor\n",
    "\n",
    "**参数**：  \n",
    "- input (Tensor) – the input tensor.  输入张量\n",
    "\n",
    "- other (Tensor) – the second input tensor  第二个输入张量\n",
    "\n",
    "- out (Tensor, optional) – the output tensor.  输出张量\n"
   ]
  },
  {
   "cell_type": "code",
   "execution_count": 210,
   "id": "6af81d64",
   "metadata": {},
   "outputs": [
    {
     "data": {
      "text/plain": [
       "tensor([3, 2, 4])"
      ]
     },
     "execution_count": 210,
     "metadata": {},
     "output_type": "execute_result"
    }
   ],
   "source": [
    "import torch\n",
    "a = torch.tensor((1, 2, -1))\n",
    "b = torch.tensor((3, 0, 4))\n",
    "torch.maximum(a, b)"
   ]
  },
  {
   "attachments": {},
   "cell_type": "markdown",
   "id": "657e3ade",
   "metadata": {},
   "source": [
    "## minimum\n",
    "计算输入和其他元素的元素最小值。\n",
    "\n",
    "**定义**：  \n",
    "torch.minimum(input, other, *, out=None) → Tensor\n",
    "\n",
    "**参数**：  \n",
    "- input (Tensor) – the input tensor.  输入张量\n",
    "\n",
    "- other (Tensor) – the second input tensor  第二个输入张量\n",
    "\n",
    "- out (Tensor, optional) – the output tensor.  输出张量\n"
   ]
  },
  {
   "cell_type": "code",
   "execution_count": 211,
   "id": "b509858f",
   "metadata": {},
   "outputs": [
    {
     "data": {
      "text/plain": [
       "tensor([ 1,  0, -1])"
      ]
     },
     "execution_count": 211,
     "metadata": {},
     "output_type": "execute_result"
    }
   ],
   "source": [
    "import torch\n",
    "a = torch.tensor((1, 2, -1))\n",
    "b = torch.tensor((3, 0, 4))\n",
    "torch.minimum(a, b)"
   ]
  },
  {
   "attachments": {},
   "cell_type": "markdown",
   "id": "e9136949",
   "metadata": {},
   "source": [
    "## fmax\n",
    "这类似于torch.maximum()，只是它处理NaN的方式不同:如果正在比较的两个元素中有一个是NaN，则将非NaN元素作为最大值。只有当两个元素都是NaN时，才会传播NaN。\n",
    "\n",
    "**定义**：  \n",
    "torch.fmax(input, other, *, out=None) → Tensor\n",
    "\n",
    "**参数**：  \n",
    "- input (Tensor) – the input tensor.  输入张量\n",
    "\n",
    "- other (Tensor) – the second input tensor  第二个输入张量\n",
    "\n",
    "- out (Tensor, optional) – the output tensor.  输出张量"
   ]
  },
  {
   "cell_type": "code",
   "execution_count": 212,
   "id": "8152a1da",
   "metadata": {},
   "outputs": [
    {
     "data": {
      "text/plain": [
       "tensor([9.7000, 0.5000, 3.1000,    nan])"
      ]
     },
     "execution_count": 212,
     "metadata": {},
     "output_type": "execute_result"
    }
   ],
   "source": [
    "import torch\n",
    "a = torch.tensor([9.7, float('nan'), 3.1, float('nan')])\n",
    "b = torch.tensor([-2.2, 0.5, float('nan'), float('nan')])\n",
    "torch.fmax(a, b)"
   ]
  },
  {
   "attachments": {},
   "cell_type": "markdown",
   "id": "cd490d6a",
   "metadata": {},
   "source": [
    "## fmin\n",
    "这类似于torch.minimum()，只是它处理NaN的方式不同:如果正在比较的两个元素中有一个是NaN，则将非NaN元素作为最小值。只有当两个元素都是NaN时，才会传播NaN。\n",
    "\n",
    "**定义**：  \n",
    "torch.fmin(input, other, *, out=None) → Tensor\n",
    "\n",
    "**参数**：  \n",
    "- input (Tensor) – the input tensor.  输入张量\n",
    "\n",
    "- other (Tensor) – the second input tensor  第二个输入张量\n",
    "\n",
    "- out (Tensor, optional) – the output tensor.  输出张量"
   ]
  },
  {
   "cell_type": "code",
   "execution_count": 213,
   "id": "fc83ff0a",
   "metadata": {},
   "outputs": [
    {
     "data": {
      "text/plain": [
       "tensor([-9.3000,  0.1000,  2.1000,     nan])"
      ]
     },
     "execution_count": 213,
     "metadata": {},
     "output_type": "execute_result"
    }
   ],
   "source": [
    "import torch\n",
    "a = torch.tensor([2.2, float('nan'), 2.1, float('nan')])\n",
    "b = torch.tensor([-9.3, 0.1, float('nan'), float('nan')])\n",
    "torch.fmin(a, b)"
   ]
  },
  {
   "attachments": {},
   "cell_type": "markdown",
   "id": "eb4d7321",
   "metadata": {},
   "source": [
    "## ne/not_equal\n",
    "input≠other\n",
    "\n",
    "**定义**：  \n",
    "torch.ne(input, other, *, out=None) → Tensor\n",
    "\n",
    "**参数**：  \n",
    "- input (Tensor) – the tensor to compare  要比较的张量\n",
    "\n",
    "- other (Tensor or float) – the tensor or value to compare  要比较的张量或值\n",
    "\n",
    "- out (Tensor, optional) – the output tensor.  输出张量"
   ]
  },
  {
   "cell_type": "code",
   "execution_count": 214,
   "id": "c29169f5",
   "metadata": {},
   "outputs": [
    {
     "data": {
      "text/plain": [
       "tensor([[False,  True],\n",
       "        [ True, False]])"
      ]
     },
     "execution_count": 214,
     "metadata": {},
     "output_type": "execute_result"
    }
   ],
   "source": [
    "import torch\n",
    "torch.ne(torch.tensor([[1, 2], [3, 4]]), torch.tensor([[1, 1], [4, 4]]))"
   ]
  },
  {
   "attachments": {},
   "cell_type": "markdown",
   "id": "4863d9b1",
   "metadata": {},
   "source": [
    "## sort\n",
    "\n",
    "$$xxxx$$\n",
    "\n",
    "**定义**：  \n",
    "torch.sort(input, dim=- 1, descending=False, stable=False, *, out=None)\n",
    "\n",
    "**参数**：  \n",
    "- input (Tensor) – the input tensor.  输入张量\n",
    "\n",
    "- dim (int, optional) – the dimension to sort along  排序的维度\n",
    "\n",
    "- descending (bool, optional) – controls the sorting order (ascending or descending)  控制排序顺序(升序或降序)\n",
    "\n",
    "- stable (bool, optional) – makes the sorting routine stable, which guarantees that the order of equivalent elements is preserved.  稳定排序\n",
    "\n",
    "- out (Tensor, optional) – the output tensor.  输出张量\n"
   ]
  },
  {
   "cell_type": "code",
   "execution_count": 217,
   "id": "09af2a0d",
   "metadata": {},
   "outputs": [
    {
     "name": "stdout",
     "output_type": "stream",
     "text": [
      "tensor([[-2.1188,  0.0635, -1.4555, -0.0126],\n",
      "        [-0.1548, -0.0927,  2.5916,  0.4542],\n",
      "        [-0.6890, -0.9962,  0.1856,  0.1476]])\n"
     ]
    },
    {
     "data": {
      "text/plain": [
       "tensor([[-2.1188, -1.4555, -0.0126,  0.0635],\n",
       "        [-0.1548, -0.0927,  0.4542,  2.5916],\n",
       "        [-0.9962, -0.6890,  0.1476,  0.1856]])"
      ]
     },
     "execution_count": 217,
     "metadata": {},
     "output_type": "execute_result"
    }
   ],
   "source": [
    "import torch\n",
    "torch.manual_seed(666)\n",
    "x = torch.randn(3, 4)\n",
    "print(x)\n",
    "sorted, indices = torch.sort(x)\n",
    "sorted\n",
    "# indices\n",
    "\n",
    "# sorted, indices = torch.sort(x, 0)\n",
    "# sorted\n",
    "# indices\n",
    "# x = torch.tensor([0, 1] * 9)\n",
    "# x.sort()\n",
    "# x.sort(stable=True)"
   ]
  },
  {
   "attachments": {},
   "cell_type": "markdown",
   "id": "ff3fc67b",
   "metadata": {},
   "source": [
    "## topk\n",
    "返回给定输入张量沿给定维度的k个最大元素。\n",
    "\n",
    "\n",
    "\n",
    "**定义**：  \n",
    "torch.topk(input, k, dim=None, largest=True, sorted=True, *, out=None)\n",
    "\n",
    "**参数**：  \n",
    "- input (Tensor) – the input tensor.  输入张量\n",
    "\n",
    "- k (int) – the k in “top-k”   前k个元素\n",
    "\n",
    "- dim (int, optional) – the dimension to sort along  排序的维度\n",
    "\n",
    "- largest (bool, optional) – controls whether to return largest or smallest elements  控制是否返回最大或最小的元素\n",
    "\n",
    "- sorted (bool, optional) – controls whether to return the elements in sorted order  控制是否按排序顺序返回元素\n",
    "\n",
    "- out (Tensor, optional) – the output tensor.  输出张量\n"
   ]
  },
  {
   "cell_type": "code",
   "execution_count": 219,
   "id": "f220a9a0",
   "metadata": {},
   "outputs": [
    {
     "name": "stdout",
     "output_type": "stream",
     "text": [
      "tensor([1., 2., 3., 4., 5.])\n"
     ]
    },
    {
     "data": {
      "text/plain": [
       "torch.return_types.topk(\n",
       "values=tensor([5., 4., 3.]),\n",
       "indices=tensor([4, 3, 2]))"
      ]
     },
     "execution_count": 219,
     "metadata": {},
     "output_type": "execute_result"
    }
   ],
   "source": [
    "import torch\n",
    "x = torch.arange(1., 6.)\n",
    "print(x)\n",
    "torch.topk(x, 3)"
   ]
  },
  {
   "attachments": {},
   "cell_type": "markdown",
   "id": "d44ce207",
   "metadata": {},
   "source": [
    "## msort\n",
    "对输入张量的元素沿其第一个维度按值升序排序。\n",
    "equivalent to torch.sort(t, dim=0)[0]. \n",
    "\n",
    "\n",
    "**定义**：  \n",
    "torch.msort(input, *, out=None) → Tensor\n",
    "\n",
    "**参数**：  \n",
    "- input (Tensor) – the input tensor.  输入张量\n",
    "\n",
    "- out (Tensor, optional) – the output tensor.  输出张量"
   ]
  },
  {
   "cell_type": "code",
   "execution_count": 222,
   "id": "cb395d1a",
   "metadata": {},
   "outputs": [
    {
     "name": "stdout",
     "output_type": "stream",
     "text": [
      "tensor([[-2.1188,  0.0635, -1.4555, -0.0126],\n",
      "        [-0.1548, -0.0927,  2.5916,  0.4542],\n",
      "        [-0.6890, -0.9962,  0.1856,  0.1476]])\n"
     ]
    },
    {
     "data": {
      "text/plain": [
       "tensor([[-2.1188, -0.9962, -1.4555, -0.0126],\n",
       "        [-0.6890, -0.0927,  0.1856,  0.1476],\n",
       "        [-0.1548,  0.0635,  2.5916,  0.4542]])"
      ]
     },
     "execution_count": 222,
     "metadata": {},
     "output_type": "execute_result"
    }
   ],
   "source": [
    "import torch\n",
    "torch.manual_seed(666)\n",
    "t = torch.randn(3, 4)\n",
    "print(t)\n",
    "t\n",
    "torch.msort(t)"
   ]
  },
  {
   "cell_type": "markdown",
   "id": "6718e426",
   "metadata": {},
   "source": [
    "## xx\n",
    "\n",
    "$$xxxx$$\n",
    "\n",
    "**定义**：  \n",
    "\n",
    "\n",
    "**参数**：  \n",
    "- input (Tensor) – the input tensor.  输入张量\n",
    "\n",
    "- out (Tensor, optional) – the output tensor.  输出张量\n"
   ]
  },
  {
   "cell_type": "code",
   "execution_count": null,
   "id": "0aeb154e",
   "metadata": {},
   "outputs": [],
   "source": [
    "import torch\n"
   ]
  },
  {
   "cell_type": "markdown",
   "id": "a3c9f9a2",
   "metadata": {},
   "source": [
    "## xx\n",
    "\n",
    "$$xxxx$$\n",
    "\n",
    "**定义**：  \n",
    "\n",
    "\n",
    "**参数**：  \n",
    "- input (Tensor) – the input tensor.  输入张量\n",
    "\n",
    "- out (Tensor, optional) – the output tensor.  输出张量\n"
   ]
  },
  {
   "cell_type": "code",
   "execution_count": null,
   "id": "2c1799a2",
   "metadata": {},
   "outputs": [],
   "source": [
    "import torch\n"
   ]
  },
  {
   "cell_type": "markdown",
   "id": "9d5ee65f",
   "metadata": {},
   "source": [
    "## xx\n",
    "\n",
    "$$xxxx$$\n",
    "\n",
    "**定义**：  \n",
    "\n",
    "\n",
    "**参数**：  \n",
    "- input (Tensor) – the input tensor.  输入张量\n",
    "\n",
    "- out (Tensor, optional) – the output tensor.  输出张量\n"
   ]
  },
  {
   "cell_type": "code",
   "execution_count": null,
   "id": "f7a3b255",
   "metadata": {},
   "outputs": [],
   "source": [
    "import torch\n"
   ]
  },
  {
   "cell_type": "markdown",
   "id": "11f9f1aa",
   "metadata": {},
   "source": [
    "## xx\n",
    "\n",
    "$$xxxx$$\n",
    "\n",
    "**定义**：  \n",
    "\n",
    "\n",
    "**参数**：  \n",
    "- input (Tensor) – the input tensor.  输入张量\n",
    "\n",
    "- out (Tensor, optional) – the output tensor.  输出张量\n"
   ]
  },
  {
   "cell_type": "code",
   "execution_count": null,
   "id": "181a303a",
   "metadata": {},
   "outputs": [],
   "source": [
    "import torch\n"
   ]
  },
  {
   "cell_type": "markdown",
   "id": "ece7e9cd",
   "metadata": {},
   "source": [
    "## xx\n",
    "\n",
    "$$xxxx$$\n",
    "\n",
    "**定义**：  \n",
    "\n",
    "\n",
    "**参数**：  \n",
    "- input (Tensor) – the input tensor.  输入张量\n",
    "\n",
    "- out (Tensor, optional) – the output tensor.  输出张量\n"
   ]
  },
  {
   "cell_type": "code",
   "execution_count": null,
   "id": "46326552",
   "metadata": {},
   "outputs": [],
   "source": [
    "import torch\n"
   ]
  },
  {
   "cell_type": "markdown",
   "id": "fa250e09",
   "metadata": {},
   "source": [
    "## xx\n",
    "\n",
    "$$xxxx$$\n",
    "\n",
    "**定义**：  \n",
    "\n",
    "\n",
    "**参数**：  \n",
    "- input (Tensor) – the input tensor.  输入张量\n",
    "\n",
    "- out (Tensor, optional) – the output tensor.  输出张量\n"
   ]
  },
  {
   "cell_type": "code",
   "execution_count": null,
   "id": "e04e4a56",
   "metadata": {},
   "outputs": [],
   "source": [
    "import torch\n"
   ]
  },
  {
   "cell_type": "markdown",
   "id": "4ff3f6f1",
   "metadata": {},
   "source": [
    "## xx\n",
    "\n",
    "$$xxxx$$\n",
    "\n",
    "**定义**：  \n",
    "\n",
    "\n",
    "**参数**：  \n",
    "- input (Tensor) – the input tensor.  输入张量\n",
    "\n",
    "- out (Tensor, optional) – the output tensor.  输出张量\n"
   ]
  },
  {
   "cell_type": "code",
   "execution_count": null,
   "id": "8d03d069",
   "metadata": {},
   "outputs": [],
   "source": [
    "import torch\n"
   ]
  },
  {
   "cell_type": "markdown",
   "id": "c43534c1",
   "metadata": {},
   "source": [
    "## xx\n",
    "\n",
    "$$xxxx$$\n",
    "\n",
    "**定义**：  \n",
    "\n",
    "\n",
    "**参数**：  \n",
    "- input (Tensor) – the input tensor.  输入张量\n",
    "\n",
    "- out (Tensor, optional) – the output tensor.  输出张量\n"
   ]
  },
  {
   "cell_type": "code",
   "execution_count": null,
   "id": "97fd93bb",
   "metadata": {},
   "outputs": [],
   "source": [
    "import torch\n"
   ]
  },
  {
   "cell_type": "markdown",
   "id": "582e6faf",
   "metadata": {},
   "source": [
    "## xx\n",
    "\n",
    "$$xxxx$$\n",
    "\n",
    "**定义**：  \n",
    "\n",
    "\n",
    "**参数**：  \n",
    "- input (Tensor) – the input tensor.  输入张量\n",
    "\n",
    "- out (Tensor, optional) – the output tensor.  输出张量\n"
   ]
  },
  {
   "cell_type": "code",
   "execution_count": null,
   "id": "d66cbde1",
   "metadata": {},
   "outputs": [],
   "source": [
    "import torch\n"
   ]
  },
  {
   "cell_type": "markdown",
   "id": "f385a3d4",
   "metadata": {},
   "source": [
    "## xx\n",
    "\n",
    "$$xxxx$$\n",
    "\n",
    "**定义**：  \n",
    "\n",
    "\n",
    "**参数**：  \n",
    "- input (Tensor) – the input tensor.  输入张量\n",
    "\n",
    "- out (Tensor, optional) – the output tensor.  输出张量\n"
   ]
  },
  {
   "cell_type": "code",
   "execution_count": null,
   "id": "ac2da07d",
   "metadata": {},
   "outputs": [],
   "source": [
    "import torch\n"
   ]
  },
  {
   "cell_type": "markdown",
   "id": "e72fed39",
   "metadata": {},
   "source": [
    "## xx\n",
    "\n",
    "$$xxxx$$\n",
    "\n",
    "**定义**：  \n",
    "\n",
    "\n",
    "**参数**：  \n",
    "- input (Tensor) – the input tensor.  输入张量\n",
    "\n",
    "- out (Tensor, optional) – the output tensor.  输出张量\n"
   ]
  },
  {
   "cell_type": "code",
   "execution_count": null,
   "id": "6500a5c3",
   "metadata": {},
   "outputs": [],
   "source": [
    "import torch\n"
   ]
  },
  {
   "cell_type": "markdown",
   "id": "c78d7e8e",
   "metadata": {},
   "source": [
    "## xx\n",
    "\n",
    "$$xxxx$$\n",
    "\n",
    "**定义**：  \n",
    "\n",
    "\n",
    "**参数**：  \n",
    "- input (Tensor) – the input tensor.  输入张量\n",
    "\n",
    "- out (Tensor, optional) – the output tensor.  输出张量\n"
   ]
  },
  {
   "cell_type": "code",
   "execution_count": null,
   "id": "310fc7a6",
   "metadata": {},
   "outputs": [],
   "source": [
    "import torch\n"
   ]
  },
  {
   "cell_type": "markdown",
   "id": "472f5049",
   "metadata": {},
   "source": [
    "## xx\n",
    "\n",
    "$$xxxx$$\n",
    "\n",
    "**定义**：  \n",
    "\n",
    "\n",
    "**参数**：  \n",
    "- input (Tensor) – the input tensor.  输入张量\n",
    "\n",
    "- out (Tensor, optional) – the output tensor.  输出张量\n"
   ]
  },
  {
   "cell_type": "code",
   "execution_count": null,
   "id": "eb6ed5db",
   "metadata": {},
   "outputs": [],
   "source": [
    "import torch\n"
   ]
  },
  {
   "cell_type": "markdown",
   "id": "f832c1b5",
   "metadata": {},
   "source": [
    "## xx\n",
    "\n",
    "$$xxxx$$\n",
    "\n",
    "**定义**：  \n",
    "\n",
    "\n",
    "**参数**：  \n",
    "- input (Tensor) – the input tensor.  输入张量\n",
    "\n",
    "- out (Tensor, optional) – the output tensor.  输出张量\n"
   ]
  },
  {
   "cell_type": "code",
   "execution_count": null,
   "id": "aeb24726",
   "metadata": {},
   "outputs": [],
   "source": [
    "import torch\n"
   ]
  },
  {
   "cell_type": "markdown",
   "id": "5077adb5",
   "metadata": {},
   "source": [
    "## xx\n",
    "\n",
    "$$xxxx$$\n",
    "\n",
    "**定义**：  \n",
    "\n",
    "\n",
    "**参数**：  \n",
    "- input (Tensor) – the input tensor.  输入张量\n",
    "\n",
    "- out (Tensor, optional) – the output tensor.  输出张量\n"
   ]
  },
  {
   "cell_type": "code",
   "execution_count": null,
   "id": "9cfd08f2",
   "metadata": {},
   "outputs": [],
   "source": [
    "import torch\n"
   ]
  },
  {
   "cell_type": "markdown",
   "id": "f848b248",
   "metadata": {},
   "source": [
    "## xx\n",
    "\n",
    "$$xxxx$$\n",
    "\n",
    "**定义**：  \n",
    "\n",
    "\n",
    "**参数**：  \n",
    "- input (Tensor) – the input tensor.  输入张量\n",
    "\n",
    "- out (Tensor, optional) – the output tensor.  输出张量\n"
   ]
  },
  {
   "cell_type": "code",
   "execution_count": null,
   "id": "cc9a4d43",
   "metadata": {},
   "outputs": [],
   "source": [
    "import torch\n"
   ]
  },
  {
   "cell_type": "markdown",
   "id": "91c24a21",
   "metadata": {},
   "source": [
    "## xx\n",
    "\n",
    "$$xxxx$$\n",
    "\n",
    "**定义**：  \n",
    "\n",
    "\n",
    "**参数**：  \n",
    "- input (Tensor) – the input tensor.  输入张量\n",
    "\n",
    "- out (Tensor, optional) – the output tensor.  输出张量\n"
   ]
  },
  {
   "cell_type": "code",
   "execution_count": null,
   "id": "7289c4cf",
   "metadata": {},
   "outputs": [],
   "source": [
    "import torch\n"
   ]
  },
  {
   "cell_type": "markdown",
   "id": "767b1faf",
   "metadata": {},
   "source": [
    "## xx\n",
    "\n",
    "$$xxxx$$\n",
    "\n",
    "**定义**：  \n",
    "\n",
    "\n",
    "**参数**：  \n",
    "- input (Tensor) – the input tensor.  输入张量\n",
    "\n",
    "- out (Tensor, optional) – the output tensor.  输出张量\n"
   ]
  },
  {
   "cell_type": "code",
   "execution_count": null,
   "id": "e2c6364a",
   "metadata": {},
   "outputs": [],
   "source": [
    "import torch\n"
   ]
  },
  {
   "cell_type": "markdown",
   "id": "bd1a2e40",
   "metadata": {},
   "source": [
    "## xx\n",
    "\n",
    "$$xxxx$$\n",
    "\n",
    "**定义**：  \n",
    "\n",
    "\n",
    "**参数**：  \n",
    "- input (Tensor) – the input tensor.  输入张量\n",
    "\n",
    "- out (Tensor, optional) – the output tensor.  输出张量\n"
   ]
  },
  {
   "cell_type": "code",
   "execution_count": null,
   "id": "90786e14",
   "metadata": {},
   "outputs": [],
   "source": [
    "import torch\n"
   ]
  },
  {
   "cell_type": "markdown",
   "id": "7ed6e79f",
   "metadata": {},
   "source": [
    "## xx\n",
    "\n",
    "$$xxxx$$\n",
    "\n",
    "**定义**：  \n",
    "\n",
    "\n",
    "**参数**：  \n",
    "- input (Tensor) – the input tensor.  输入张量\n",
    "\n",
    "- out (Tensor, optional) – the output tensor.  输出张量\n"
   ]
  },
  {
   "cell_type": "code",
   "execution_count": null,
   "id": "e72b925c",
   "metadata": {},
   "outputs": [],
   "source": [
    "import torch\n"
   ]
  },
  {
   "cell_type": "markdown",
   "id": "b328ad24",
   "metadata": {},
   "source": [
    "## xx\n",
    "\n",
    "$$xxxx$$\n",
    "\n",
    "**定义**：  \n",
    "\n",
    "\n",
    "**参数**：  \n",
    "- input (Tensor) – the input tensor.  输入张量\n",
    "\n",
    "- out (Tensor, optional) – the output tensor.  输出张量\n"
   ]
  },
  {
   "cell_type": "code",
   "execution_count": null,
   "id": "17f0f73c",
   "metadata": {},
   "outputs": [],
   "source": [
    "import torch\n"
   ]
  },
  {
   "cell_type": "markdown",
   "id": "88336aa9",
   "metadata": {},
   "source": [
    "## xx\n",
    "\n",
    "$$xxxx$$\n",
    "\n",
    "**定义**：  \n",
    "\n",
    "\n",
    "**参数**：  \n",
    "- input (Tensor) – the input tensor.  输入张量\n",
    "\n",
    "- out (Tensor, optional) – the output tensor.  输出张量\n"
   ]
  },
  {
   "cell_type": "code",
   "execution_count": null,
   "id": "15399a71",
   "metadata": {},
   "outputs": [],
   "source": [
    "import torch\n"
   ]
  }
 ],
 "metadata": {
  "kernelspec": {
   "display_name": "Python 3.8.13 ('general38')",
   "language": "python",
   "name": "python3"
  },
  "language_info": {
   "codemirror_mode": {
    "name": "ipython",
    "version": 3
   },
   "file_extension": ".py",
   "mimetype": "text/x-python",
   "name": "python",
   "nbconvert_exporter": "python",
   "pygments_lexer": "ipython3",
   "version": "3.8.13"
  },
  "vscode": {
   "interpreter": {
    "hash": "4e00c79739f2fdf113306667eb0b8e68d4274855301e6df90bc305a954991b52"
   }
  }
 },
 "nbformat": 4,
 "nbformat_minor": 5
}
