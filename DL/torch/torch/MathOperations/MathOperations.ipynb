{
 "cells": [
  {
   "attachments": {},
   "cell_type": "markdown",
   "id": "6c202a11",
   "metadata": {},
   "source": [
    "[![](https://colab.research.google.com/assets/colab-badge.svg)](https://colab.research.google.com/github/itmorn/AI.handbook/blob/main/DL/torch/nn/MathOperations/MathOperations.ipynb)"
   ]
  },
  {
   "attachments": {},
   "cell_type": "markdown",
   "id": "a69d4294",
   "metadata": {},
   "source": [
    "# 按元素操作(Pointwise Ops)"
   ]
  },
  {
   "attachments": {},
   "cell_type": "markdown",
   "id": "14a8662b",
   "metadata": {},
   "source": [
    "## abs/absolute\n",
    "计算输入中每个元素的绝对值。\n",
    "$$\\text{out}_i=|\\text{input}_i|$$\n",
    "\n",
    "**定义**：  \n",
    "torch.abs(input, *, out=None) → Tensor\n",
    "\n",
    "**参数**：  \n",
    "- input (Tensor) – the input tensor.  输入张量\n",
    "\n",
    "- out (Tensor, optional) – the output tensor.  输出张量"
   ]
  },
  {
   "cell_type": "code",
   "execution_count": 1,
   "id": "43e9c6e4",
   "metadata": {},
   "outputs": [
    {
     "data": {
      "text/plain": [
       "tensor([1, 2, 3])"
      ]
     },
     "execution_count": 1,
     "metadata": {},
     "output_type": "execute_result"
    }
   ],
   "source": [
    "import torch\n",
    "\n",
    "torch.abs(torch.tensor([-1, -2, 3]))"
   ]
  },
  {
   "attachments": {},
   "cell_type": "markdown",
   "id": "90d8e03f",
   "metadata": {},
   "source": [
    "## acos/arccos\n",
    "计算输入中每个元素的逆余弦。\n",
    "\n",
    "$$\\text{out}_i=\\cos^{-1}(\\operatorname{input}_i)$$\n",
    "\n",
    "**定义**：  \n",
    "torch.acos(input, *, out=None) → Tensor\n",
    "\n",
    "**参数**：  \n",
    "- input (Tensor) – the input tensor.  输入张量\n",
    "\n",
    "- out (Tensor, optional) – the output tensor.  输出张量"
   ]
  },
  {
   "cell_type": "code",
   "execution_count": 7,
   "id": "049f8803",
   "metadata": {},
   "outputs": [
    {
     "name": "stdout",
     "output_type": "stream",
     "text": [
      "tensor([-0.3200,  0.1387, -3.0484, -0.4391])\n"
     ]
    },
    {
     "data": {
      "text/plain": [
       "tensor([1.8965, 1.4316,    nan, 2.0254])"
      ]
     },
     "execution_count": 7,
     "metadata": {},
     "output_type": "execute_result"
    }
   ],
   "source": [
    "import torch\n",
    "a = torch.randn(4)\n",
    "print(a)\n",
    "torch.acos(a)"
   ]
  },
  {
   "attachments": {},
   "cell_type": "markdown",
   "id": "6b2cf675",
   "metadata": {},
   "source": [
    "## acosh/arccosh\n",
    "返回输入元素的反双曲余弦的新张量。\n",
    "$$\\text{out}_i=\\cosh^{-1}(\\operatorname{input}_i)$$\n",
    "\n",
    "**定义**：  \n",
    "torch.acosh(input, *, out=None) → Tensor\n",
    "\n",
    "**参数**：  \n",
    "- input (Tensor) – the input tensor.  输入张量\n",
    "\n",
    "- out (Tensor, optional) – the output tensor.  输出张量"
   ]
  },
  {
   "cell_type": "code",
   "execution_count": 9,
   "id": "469bcb23",
   "metadata": {},
   "outputs": [
    {
     "data": {
      "text/plain": [
       "tensor([0.7808, 1.1149, 0.9426, 1.2994])"
      ]
     },
     "execution_count": 9,
     "metadata": {},
     "output_type": "execute_result"
    }
   ],
   "source": [
    "import torch\n",
    "a = torch.randn(4).uniform_(1, 2)\n",
    "a\n",
    "torch.acosh(a)"
   ]
  },
  {
   "attachments": {},
   "cell_type": "markdown",
   "id": "98dc0c8c",
   "metadata": {},
   "source": [
    "## add\n",
    "\n",
    "$$\\text{out}_i=\\text{input}_i+\\text{alpha}\\times\\text{other}_i$$\n",
    "\n",
    "**定义**：  \n",
    "torch.add(input, other, *, alpha=1, out=None) → Tensor\n",
    "\n",
    "**参数**：  \n",
    "- input (Tensor) – the input tensor.  输入张量\n",
    "\n",
    "- other (Tensor or Number) – the tensor or number to add to input.  要添加到输入中的张量或数字\n",
    "\n",
    "- alpha (Number) – the multiplier for other.  other的乘数\n",
    "\n",
    "- out (Tensor, optional) – the output tensor.  输出张量"
   ]
  },
  {
   "cell_type": "code",
   "execution_count": 15,
   "id": "94ad9cac",
   "metadata": {},
   "outputs": [
    {
     "name": "stdout",
     "output_type": "stream",
     "text": [
      "tensor([0, 1, 2, 3, 4, 5, 6, 7, 8, 9])\n"
     ]
    },
    {
     "data": {
      "text/plain": [
       "tensor([100, 101, 102, 103, 104, 105, 106, 107, 108, 109])"
      ]
     },
     "execution_count": 15,
     "metadata": {},
     "output_type": "execute_result"
    }
   ],
   "source": [
    "import torch\n",
    "a = torch.arange(10)\n",
    "print(a)\n",
    "torch.add(input=a, other=100)"
   ]
  },
  {
   "cell_type": "code",
   "execution_count": 16,
   "id": "9154a930",
   "metadata": {},
   "outputs": [
    {
     "data": {
      "text/plain": [
       "tensor([100, 101, 102, 103, 104, 105, 106, 107, 108, 109])"
      ]
     },
     "execution_count": 16,
     "metadata": {},
     "output_type": "execute_result"
    }
   ],
   "source": [
    "import torch\n",
    "a = torch.arange(10)\n",
    "b = torch.ones_like(a)\n",
    "torch.add(input=a, other=b, alpha=100)"
   ]
  },
  {
   "attachments": {},
   "cell_type": "markdown",
   "id": "380e8be3",
   "metadata": {},
   "source": [
    "## addcdiv\n",
    "执行tensor1与tensor2的逐元素除法，将结果乘以标量值并将其添加到输入中。\n",
    "\n",
    "$$\\text{out}_i=\\text{input}_i+\\text{value}\\times\\dfrac{\\text{tensor}1_i}{\\text{tensor}2_i}$$\n",
    "\n",
    "**定义**：  \n",
    "torch.addcdiv(input, tensor1, tensor2, *, value=1, out=None) → Tensor\n",
    "\n",
    "**参数**：  \n",
    "- input (Tensor) – the tensor to be added  要加的张量\n",
    "\n",
    "- tensor1 (Tensor) – the numerator tensor  分子张量\n",
    "\n",
    "- tensor2 (Tensor) – the denominator tensor  分母张量\n",
    "\n",
    "- value (Number, optional) – multiplier for tensor1 / tensor2.   tensor1 / tensor2的乘子\n",
    "\n",
    "- out (Tensor, optional) – the output tensor.  输出张量。"
   ]
  },
  {
   "cell_type": "code",
   "execution_count": 20,
   "id": "86b6d76a",
   "metadata": {},
   "outputs": [
    {
     "data": {
      "text/plain": [
       "tensor([[1.7674, 1.3758, 0.6647],\n",
       "        [1.2805, 1.1478, 0.7561],\n",
       "        [0.7085, 0.8800, 0.8634]])"
      ]
     },
     "execution_count": 20,
     "metadata": {},
     "output_type": "execute_result"
    }
   ],
   "source": [
    "import torch\n",
    "t = torch.randn(1, 3)\n",
    "t1 = torch.randn(3, 1)\n",
    "t2 = torch.randn(1, 3)\n",
    "torch.addcdiv(t, t1, t2, value=0.1)"
   ]
  },
  {
   "attachments": {},
   "cell_type": "markdown",
   "id": "0aa5db6f",
   "metadata": {},
   "source": [
    "## addcmul\n",
    "执行tensor1与tensor2的元素乘法，将结果乘以标量值并将其添加到输入中。\n",
    "$$\\text{out}_i=\\mathrm{input}_i+\\mathrm{value}\\times\\mathrm{tensor1}_i\\times\\mathrm{tensor2}_i$$\n",
    "\n",
    "**定义**：  \n",
    "torch.addcmul(input, tensor1, tensor2, *, value=1, out=None) → Tensor\n",
    "\n",
    "**参数**：  \n",
    "- input (Tensor) – the tensor to be added   要加的张量\n",
    "\n",
    "- tensor1 (Tensor) – the tensor to be multiplied  要乘的张量\n",
    "\n",
    "- tensor2 (Tensor) – the tensor to be multiplied  要乘的张量\n",
    "\n",
    "- value (Number, optional) – multiplier for tensor1∗tensor2.  tensor1∗tensor2的乘子\n",
    "\n",
    "- out (Tensor, optional) – the output tensor.  输出张量。"
   ]
  },
  {
   "cell_type": "code",
   "execution_count": 24,
   "id": "8393670a",
   "metadata": {},
   "outputs": [
    {
     "data": {
      "text/plain": [
       "tensor([[-1.5827, -0.7309,  2.5973],\n",
       "        [-1.6367, -0.8269,  2.6584],\n",
       "        [-1.6840, -0.9110,  2.7119]])"
      ]
     },
     "execution_count": 24,
     "metadata": {},
     "output_type": "execute_result"
    }
   ],
   "source": [
    "import torch\n",
    "t = torch.randn(1, 3)\n",
    "t1 = torch.randn(3, 1)\n",
    "t2 = torch.randn(1, 3)\n",
    "torch.addcmul(t, t1, t2, value=0.1)"
   ]
  },
  {
   "attachments": {},
   "cell_type": "markdown",
   "id": "776d450a",
   "metadata": {},
   "source": [
    "## angle\n",
    "计算给定输入张量的元素角度(弧度)。\n",
    "$$\\text{out}_i=angle(\\operatorname{input}_i)$$\n",
    "\n",
    "**定义**：  \n",
    "torch.angle(input, *, out=None) → Tensor\n",
    "\n",
    "**参数**：  \n",
    "- input (Tensor) – the input tensor.  输入张量\n",
    "\n",
    "- out (Tensor, optional) – the output tensor.  输出张量"
   ]
  },
  {
   "cell_type": "code",
   "execution_count": 25,
   "id": "e5c2b470",
   "metadata": {},
   "outputs": [
    {
     "data": {
      "text/plain": [
       "tensor([135.0001, 135.0001, -45.0000])"
      ]
     },
     "execution_count": 25,
     "metadata": {},
     "output_type": "execute_result"
    }
   ],
   "source": [
    "import torch\n",
    "torch.angle(torch.tensor([-1 + 1j, -2 + 2j, 3 - 3j]))*180/3.14159"
   ]
  },
  {
   "attachments": {},
   "cell_type": "markdown",
   "id": "95e64b5d",
   "metadata": {},
   "source": [
    "## asin/arcsin\n",
    "返回一个带有输入元素arcsin的新张量。\n",
    "\n",
    "$$\\text{out}_i=\\sin^{-1}(\\operatorname{input}_i)$$\n",
    "\n",
    "**定义**：  \n",
    "torch.asin(input, *, out=None) → Tensor\n",
    "\n",
    "**参数**：  \n",
    "- input (Tensor) – the input tensor.  输入张量\n",
    "\n",
    "- out (Tensor, optional) – the output tensor.  输出张量"
   ]
  },
  {
   "cell_type": "code",
   "execution_count": 27,
   "id": "ff87c5c4",
   "metadata": {},
   "outputs": [
    {
     "data": {
      "text/plain": [
       "tensor([   nan, 0.2574, 0.8200, 0.9444])"
      ]
     },
     "execution_count": 27,
     "metadata": {},
     "output_type": "execute_result"
    }
   ],
   "source": [
    "import torch\n",
    "a = torch.randn(4)\n",
    "torch.asin(a)"
   ]
  },
  {
   "attachments": {},
   "cell_type": "markdown",
   "id": "34562f3f",
   "metadata": {},
   "source": [
    "## asinh/arcsinh\n",
    "\n",
    "$$\\text{out}_i=\\sinh^{-1}(\\operatorname{input}_i)$$\n",
    "\n",
    "**定义**：  \n",
    "torch.asinh(input, *, out=None) → Tensor\n",
    "\n",
    "**参数**：  \n",
    "- input (Tensor) – the input tensor.  输入张量\n",
    "\n",
    "- out (Tensor, optional) – the output tensor.  输出张量"
   ]
  },
  {
   "cell_type": "code",
   "execution_count": 28,
   "id": "9aa78793",
   "metadata": {},
   "outputs": [
    {
     "data": {
      "text/plain": [
       "tensor([-0.1693,  1.0191, -0.1025, -0.0610])"
      ]
     },
     "execution_count": 28,
     "metadata": {},
     "output_type": "execute_result"
    }
   ],
   "source": [
    "import torch\n",
    "a = torch.randn(4)\n",
    "a\n",
    "torch.asinh(a)"
   ]
  },
  {
   "attachments": {},
   "cell_type": "markdown",
   "id": "a088b532",
   "metadata": {},
   "source": [
    "## atan/arctan\n",
    "\n",
    "\n",
    "返回一个带有输入元素arctan值的新张量。\n",
    "\n",
    "$$\\text{out}_i=\\tan^{-1}(\\operatorname{input}_i)$$\n",
    "\n",
    "**定义**：  \n",
    "torch.atan(input, *, out=None) → Tensor\n",
    "\n",
    "**参数**：  \n",
    "- input (Tensor) – the input tensor.  输入张量\n",
    "\n",
    "- out (Tensor, optional) – the output tensor.  输出张量"
   ]
  },
  {
   "cell_type": "code",
   "execution_count": 29,
   "id": "072ffeb1",
   "metadata": {},
   "outputs": [
    {
     "data": {
      "text/plain": [
       "tensor([ 0.7518, -0.7453, -0.4551,  0.6872])"
      ]
     },
     "execution_count": 29,
     "metadata": {},
     "output_type": "execute_result"
    }
   ],
   "source": [
    "import torch\n",
    "a = torch.randn(4)\n",
    "a\n",
    "torch.atan(a)"
   ]
  },
  {
   "attachments": {},
   "cell_type": "markdown",
   "id": "1d9b4753",
   "metadata": {},
   "source": [
    "## atanh/arctanh\n",
    "返回输入元素的反双曲正切的新张量。\n",
    "\n",
    "$$\\text{out}_i=\\tanh^{-1}(\\text{input}_i)$$\n",
    "\n",
    "**定义**：  \n",
    "torch.atanh(input, *, out=None) → Tensor\n",
    "\n",
    "**参数**：  \n",
    "- input (Tensor) – the input tensor.  输入张量\n",
    "\n",
    "- out (Tensor, optional) – the output tensor.  输出张量"
   ]
  },
  {
   "cell_type": "code",
   "execution_count": 30,
   "id": "6a497f8a",
   "metadata": {},
   "outputs": [
    {
     "data": {
      "text/plain": [
       "tensor([-0.0184, -0.6261, -1.1195, -0.7628])"
      ]
     },
     "execution_count": 30,
     "metadata": {},
     "output_type": "execute_result"
    }
   ],
   "source": [
    "import torch\n",
    "a = torch.randn(4).uniform_(-1, 1)\n",
    "a\n",
    "torch.atanh(a)"
   ]
  },
  {
   "attachments": {},
   "cell_type": "markdown",
   "id": "4dd6c76d",
   "metadata": {},
   "source": [
    "## atan2/arctan2\n",
    "\n",
    "$$\\operatorname{atan2}(y,x)=\\begin{cases}\\arctan(\\frac yx)&\\text{if }x>0,\\\\ \\arctan(\\frac yx)+\\pi&\\text{if }x<0\\text{ and }y\\ge0,\\\\\\arctan(\\frac yx)-\\pi&\\text{if }{x<0}\\text{ and }y<0,\\\\ +\\frac\\pi2&\\text{if }x=0\\text{ and }y>0,\\\\ -\\frac\\pi2&\\operatorname{if }x=0\\operatorname{ and }{y<0},\\\\ \\operatorname{undefined}&\\text{if }{x=0}\\text{ and }y=0.\\end{cases}$$\n",
    "\n",
    "https://stackoverflow.com/questions/35749246/python-atan-or-atan2-what-should-i-use\n",
    "\n",
    "**定义**：  \n",
    "torch.atan2(input, other, *, out=None) → Tensor\n",
    "\n",
    "**参数**：  \n",
    "- input (Tensor) – the first input tensor  第一个输入张量\n",
    "\n",
    "- other (Tensor) – the second input tensor  第二个输入张量\n",
    "\n",
    "- out (Tensor, optional) – the output tensor.  输出张量"
   ]
  },
  {
   "cell_type": "code",
   "execution_count": 31,
   "id": "814f2e36",
   "metadata": {},
   "outputs": [
    {
     "data": {
      "text/plain": [
       "tensor([-2.7770, -0.7276, -0.1640,  2.9073])"
      ]
     },
     "execution_count": 31,
     "metadata": {},
     "output_type": "execute_result"
    }
   ],
   "source": [
    "import torch\n",
    "a = torch.randn(4)\n",
    "a\n",
    "torch.atan2(a, torch.randn(4))"
   ]
  },
  {
   "attachments": {},
   "cell_type": "markdown",
   "id": "59d8e4f8",
   "metadata": {},
   "source": [
    "## bitwise_not\n",
    "计算给定输入张量的位NOT。输入张量必须为整型或布尔型。对于bool张量，它计算逻辑NOT。\n",
    "\n",
    "**定义**：  \n",
    "torch.bitwise_not(input, *, out=None) → Tensor\n",
    "\n",
    "**参数**：  \n",
    "- input (Tensor) – the input tensor.  输入张量\n",
    "\n",
    "- out (Tensor, optional) – the output tensor.  输出张量\n"
   ]
  },
  {
   "cell_type": "code",
   "execution_count": 47,
   "id": "14e4a805",
   "metadata": {},
   "outputs": [
    {
     "data": {
      "text/plain": [
       "tensor([255, 254, 253], dtype=torch.uint8)"
      ]
     },
     "execution_count": 47,
     "metadata": {},
     "output_type": "execute_result"
    }
   ],
   "source": [
    "import torch\n",
    "torch.bitwise_not(torch.tensor([0, 1, 2], dtype=torch.uint8))\n",
    "# 0000 0000 -> 1111 1111\n",
    "# 0000 0001 -> 1111 1110\n",
    "# 0000 0010 -> 1111 1101 "
   ]
  },
  {
   "attachments": {},
   "cell_type": "markdown",
   "id": "a7ce205a",
   "metadata": {},
   "source": [
    "## bitwise_and\n",
    "计算输入和其他的位与。输入张量必须为整型或布尔型。对于bool张量，它计算逻辑与。\n",
    "\n",
    "**定义**：  \n",
    "torch.bitwise_and(input, other, *, out=None) → Tensor\n",
    "\n",
    "**参数**：  \n",
    "- input – the first input tensor  第一个输入张量\n",
    "\n",
    "- other – the second input tensor  第二个输入张量\n",
    "\n",
    "- out (Tensor, optional) – the output tensor.  输出张量\n"
   ]
  },
  {
   "cell_type": "code",
   "execution_count": 48,
   "id": "1ff3b7d0",
   "metadata": {},
   "outputs": [
    {
     "data": {
      "text/plain": [
       "tensor([False,  True, False])"
      ]
     },
     "execution_count": 48,
     "metadata": {},
     "output_type": "execute_result"
    }
   ],
   "source": [
    "import torch\n",
    "torch.bitwise_and(torch.tensor([-1, -2, 3], dtype=torch.int8),\n",
    "                  torch.tensor([1, 0, 3], dtype=torch.int8))\n",
    "torch.bitwise_and(torch.tensor([True, True, False]),\n",
    "                  torch.tensor([False, True, False]))\n"
   ]
  },
  {
   "attachments": {},
   "cell_type": "markdown",
   "id": "46e8c006",
   "metadata": {},
   "source": [
    "## bitwise_or\n",
    "计算输入和其他的位或。输入张量必须为整型或布尔型。对于bool张量，它计算逻辑或。\n",
    "\n",
    "**定义**：  \n",
    "torch.bitwise_or(input, other, *, out=None) → Tensor\n",
    "\n",
    "**参数**：  \n",
    "- input – the first input tensor  第一个输入张量\n",
    "\n",
    "- other – the second input tensor  第二个输入张量\n",
    "\n",
    "- out (Tensor, optional) – the output tensor.  输出张量\n"
   ]
  },
  {
   "cell_type": "code",
   "execution_count": 49,
   "id": "5c42526a",
   "metadata": {},
   "outputs": [
    {
     "data": {
      "text/plain": [
       "tensor([ True,  True, False])"
      ]
     },
     "execution_count": 49,
     "metadata": {},
     "output_type": "execute_result"
    }
   ],
   "source": [
    "import torch\n",
    "torch.bitwise_or(torch.tensor([-1, -2, 3], dtype=torch.int8),\n",
    "                  torch.tensor([1, 0, 3], dtype=torch.int8))\n",
    "torch.bitwise_or(torch.tensor([True, True, False]),\n",
    "                  torch.tensor([False, True, False]))\n"
   ]
  },
  {
   "attachments": {},
   "cell_type": "markdown",
   "id": "de0cf418",
   "metadata": {},
   "source": [
    "## bitwise_xor\n",
    "计算输入和其他的位异或。输入张量必须为整型或布尔型。对于bool张量，它计算逻辑异或。\n",
    "\n",
    "**定义**：  \n",
    "torch.bitwise_xor(input, other, *, out=None) → Tensor\n",
    "\n",
    "**参数**：  \n",
    "- input – the first input tensor  第一个输入张量\n",
    "\n",
    "- other – the second input tensor  第二个输入张量\n",
    "\n",
    "- out (Tensor, optional) – the output tensor.  输出张量\n"
   ]
  },
  {
   "cell_type": "code",
   "execution_count": 50,
   "id": "3a14d165",
   "metadata": {},
   "outputs": [
    {
     "data": {
      "text/plain": [
       "tensor([ True, False, False])"
      ]
     },
     "execution_count": 50,
     "metadata": {},
     "output_type": "execute_result"
    }
   ],
   "source": [
    "import torch\n",
    "torch.bitwise_xor(torch.tensor([-1, -2, 3], dtype=torch.int8),\n",
    "                  torch.tensor([1, 0, 3], dtype=torch.int8))\n",
    "torch.bitwise_xor(torch.tensor([True, True, False]),\n",
    "                  torch.tensor([False, True, False]))\n"
   ]
  },
  {
   "attachments": {},
   "cell_type": "markdown",
   "id": "ebafae62",
   "metadata": {},
   "source": [
    "## bitwise_xor\n",
    "计算输入的左算术移位。输入张量必须是整型的。\n",
    "$$\\text{out}_i=\\text{input}_i<<\\text{other}_i$$\n",
    "\n",
    "**定义**：  \n",
    "torch.bitwise_left_shift(input, other, *, out=None) → Tensor\n",
    "\n",
    "**参数**：  \n",
    "- input – the first input tensor  第一个输入张量\n",
    "\n",
    "- other – the second input tensor  第二个输入张量\n",
    "\n",
    "- out (Tensor, optional) – the output tensor.  输出张量\n"
   ]
  },
  {
   "cell_type": "code",
   "execution_count": 51,
   "id": "74a73ff4",
   "metadata": {},
   "outputs": [
    {
     "data": {
      "text/plain": [
       "tensor([-2, -2, 24], dtype=torch.int8)"
      ]
     },
     "execution_count": 51,
     "metadata": {},
     "output_type": "execute_result"
    }
   ],
   "source": [
    "import torch\n",
    "print(3<<3)\n",
    "torch.bitwise_left_shift(torch.tensor([-1, -2, 3], dtype=torch.int8),\n",
    "                         torch.tensor([1, 0, 3], dtype=torch.int8))\n"
   ]
  },
  {
   "attachments": {},
   "cell_type": "markdown",
   "id": "cdf87c30",
   "metadata": {},
   "source": [
    "## bitwise_right_shift\n",
    "计算输入的右算术移位。输入张量必须是整型的。\n",
    "$$\\text{out}_i=\\text{input}_i>>\\text{other}_i$$\n",
    "\n",
    "**定义**：  \n",
    "torch.bitwise_right_shift(input, other, *, out=None) → Tensor\n",
    "\n",
    "**参数**：  \n",
    "- input – the first input tensor  第一个输入张量\n",
    "\n",
    "- other – the second input tensor  第二个输入张量\n",
    "\n",
    "- out (Tensor, optional) – the output tensor.  输出张量\n"
   ]
  },
  {
   "cell_type": "code",
   "execution_count": 55,
   "id": "f2abb7bd",
   "metadata": {},
   "outputs": [
    {
     "name": "stdout",
     "output_type": "stream",
     "text": [
      "3\n"
     ]
    },
    {
     "data": {
      "text/plain": [
       "tensor([-1, -7,  3], dtype=torch.int8)"
      ]
     },
     "execution_count": 55,
     "metadata": {},
     "output_type": "execute_result"
    }
   ],
   "source": [
    "import torch\n",
    "print(31 >> 3)\n",
    "torch.bitwise_right_shift(torch.tensor([-2, -7, 31], dtype=torch.int8),\n",
    "                          torch.tensor([1, 0, 3], dtype=torch.int8))"
   ]
  },
  {
   "attachments": {},
   "cell_type": "markdown",
   "id": "d5879828",
   "metadata": {},
   "source": [
    "## ceil\n",
    "向上取整\n",
    "\n",
    "$$\\text{out}_i=\\lceil\\operatorname{input}_i\\rceil$$\n",
    "\n",
    "**定义**：  \n",
    "torch.ceil(input, *, out=None) → Tensor\n",
    "\n",
    "**参数**：  \n",
    "- input (Tensor) – the input tensor.  输入张量\n",
    "\n",
    "- out (Tensor, optional) – the output tensor.  输出张量\n"
   ]
  },
  {
   "cell_type": "code",
   "execution_count": 57,
   "id": "4f44f202",
   "metadata": {},
   "outputs": [
    {
     "name": "stdout",
     "output_type": "stream",
     "text": [
      "tensor([-0.3689, -0.0410,  1.4594, -1.5169])\n"
     ]
    },
    {
     "data": {
      "text/plain": [
       "tensor([-0., -0.,  2., -1.])"
      ]
     },
     "execution_count": 57,
     "metadata": {},
     "output_type": "execute_result"
    }
   ],
   "source": [
    "import torch\n",
    "a = torch.randn(4)\n",
    "print(a)\n",
    "torch.ceil(a)"
   ]
  },
  {
   "attachments": {},
   "cell_type": "markdown",
   "id": "5a97b265",
   "metadata": {},
   "source": [
    "## clamp/clip\n",
    "夹住.  \n",
    "将输入的所有元素固定在[min, max]范围内\n",
    "\n",
    "$$y_i=\\min(\\max(x_i,\\min\\text{value}_i),\\max\\text{value}_i)$$\n",
    "\n",
    "**定义**：  \n",
    "torch.clamp(input, min=None, max=None, *, out=None) → Tensor\n",
    "\n",
    "**参数**：  \n",
    "- input (Tensor) – the input tensor.  输入张量\n",
    "\n",
    "- min (Number or Tensor, optional) – lower-bound of the range to be clamped to  要夹紧的范围的下限\n",
    "\n",
    "- max (Number or Tensor, optional) – upper-bound of the range to be clamped to  要夹紧的范围的上限\n",
    "\n",
    "- out (Tensor, optional) – the output tensor.  输出张量\n"
   ]
  },
  {
   "cell_type": "code",
   "execution_count": 1,
   "id": "6538cbfa",
   "metadata": {},
   "outputs": [
    {
     "name": "stdout",
     "output_type": "stream",
     "text": [
      "tensor([-0.2149,  0.7258,  0.5111, -2.4046])\n",
      "tensor([-0.2149,  0.5000,  0.5000, -0.5000])\n",
      "tensor([-1.0000, -0.3333,  0.3333,  1.0000])\n"
     ]
    },
    {
     "data": {
      "text/plain": [
       "tensor([-0.2149,  0.7258,  0.5111,  1.0000])"
      ]
     },
     "execution_count": 1,
     "metadata": {},
     "output_type": "execute_result"
    }
   ],
   "source": [
    "import torch\n",
    "a = torch.randn(4)\n",
    "print(a)\n",
    "print(torch.clamp(a, min=-0.5, max=0.5))\n",
    "\n",
    "min = torch.linspace(-1, 1, steps=4)\n",
    "print(min)\n",
    "torch.clamp(a, min=min)"
   ]
  },
  {
   "attachments": {},
   "cell_type": "markdown",
   "id": "5e458645",
   "metadata": {},
   "source": [
    "## conj_physical\n",
    "计算给定输入张量的元素共轭。\n",
    "\n",
    "$$\\text{out}_i=conj(\\text{input}_i)$$\n",
    "\n",
    "**定义**：  \n",
    "torch.conj_physical(input, *, out=None) → Tensor\n",
    "\n",
    "**参数**：  \n",
    "- input (Tensor) – the input tensor.  输入张量\n",
    "\n",
    "- out (Tensor, optional) – the output tensor.  输出张量\n"
   ]
  },
  {
   "cell_type": "code",
   "execution_count": 2,
   "id": "51acf70e",
   "metadata": {},
   "outputs": [
    {
     "data": {
      "text/plain": [
       "tensor([-1.-1.j, -2.-2.j,  3.+3.j])"
      ]
     },
     "execution_count": 2,
     "metadata": {},
     "output_type": "execute_result"
    }
   ],
   "source": [
    "import torch\n",
    "torch.conj_physical(torch.tensor([-1 + 1j, -2 + 2j, 3 - 3j]))"
   ]
  },
  {
   "attachments": {},
   "cell_type": "markdown",
   "id": "1fc47410",
   "metadata": {},
   "source": [
    "## copysign\n",
    "用input的大小和other的符号创建一个新的浮点张量。\n",
    "$$\\operatorname{out}_i=\\begin{cases}-|\\operatorname{input}_i|&\\text{if other}_i\\leq-0.0\\\\ |\\operatorname{imput}_i|&\\text{if other}_i\\geq0.0\\end{cases}$$\n",
    "\n",
    "**定义**：  \n",
    "torch.copysign(input, other, *, out=None) → Tensor\n",
    "\n",
    "**参数**：  \n",
    "- input (Tensor) – the input tensor.  输入张量\n",
    "\n",
    "- out (Tensor, optional) – the output tensor.  输出张量\n"
   ]
  },
  {
   "cell_type": "code",
   "execution_count": 4,
   "id": "e86705d0",
   "metadata": {},
   "outputs": [
    {
     "name": "stdout",
     "output_type": "stream",
     "text": [
      "tensor([-0.2094, -0.7962,  0.0462,  0.0176])\n",
      "tensor([-0.3092, -0.5713,  0.0554, -0.6485])\n"
     ]
    },
    {
     "data": {
      "text/plain": [
       "tensor([-0.2094, -0.7962,  0.0462, -0.0176])"
      ]
     },
     "execution_count": 4,
     "metadata": {},
     "output_type": "execute_result"
    }
   ],
   "source": [
    "import torch\n",
    "a = torch.randn(4)\n",
    "print(a)\n",
    "b = torch.randn(4)\n",
    "print(b)\n",
    "\n",
    "torch.copysign(a, b)"
   ]
  },
  {
   "attachments": {},
   "cell_type": "markdown",
   "id": "d223c400",
   "metadata": {},
   "source": [
    "## cos\n",
    "\n",
    "$$\\text{out}_i=\\cos(\\text{input}_i)$$\n",
    "\n",
    "**定义**：  \n",
    "torch.cos(input, *, out=None) → Tensor\n",
    "\n",
    "**参数**：  \n",
    "- input (Tensor) – the input tensor.  输入张量\n",
    "\n",
    "- out (Tensor, optional) – the output tensor.  输出张量\n"
   ]
  },
  {
   "cell_type": "code",
   "execution_count": 7,
   "id": "7e708d4f",
   "metadata": {},
   "outputs": [
    {
     "data": {
      "text/plain": [
       "tensor([ 0.9805, -0.2416,  0.9493,  0.9866])"
      ]
     },
     "execution_count": 7,
     "metadata": {},
     "output_type": "execute_result"
    }
   ],
   "source": [
    "import torch\n",
    "a = torch.randn(4)\n",
    "torch.cos(a)"
   ]
  },
  {
   "attachments": {},
   "cell_type": "markdown",
   "id": "2c65a208",
   "metadata": {},
   "source": [
    "## cosh\n",
    "返回一个包含输入元素的双曲余弦的新张量。\n",
    "\n",
    "$$\\text{out}_i=\\cosh(\\operatorname{input}_i)$$\n",
    "\n",
    "**定义**：  \n",
    "torch.cosh(input, *, out=None) → Tensor\n",
    "\n",
    "**参数**：  \n",
    "- input (Tensor) – the input tensor.  输入张量\n",
    "\n",
    "- out (Tensor, optional) – the output tensor.  输出张量\n"
   ]
  },
  {
   "cell_type": "code",
   "execution_count": 8,
   "id": "8f455dcb",
   "metadata": {},
   "outputs": [
    {
     "data": {
      "text/plain": [
       "tensor([1.0995, 1.3152, 1.9244, 1.8898])"
      ]
     },
     "execution_count": 8,
     "metadata": {},
     "output_type": "execute_result"
    }
   ],
   "source": [
    "import torch\n",
    "a = torch.randn(4)\n",
    "torch.cosh(a)"
   ]
  },
  {
   "attachments": {},
   "cell_type": "markdown",
   "id": "7ed0c730",
   "metadata": {},
   "source": [
    "## deg2rad\n",
    "返回一个新的张量，其中输入的每个元素都从角度转换为弧度。\n",
    "\n",
    "**定义**：  \n",
    "torch.deg2rad(input, *, out=None) → Tensor\n",
    "\n",
    "**参数**：  \n",
    "- input (Tensor) – the input tensor.  输入张量\n",
    "\n",
    "- out (Tensor, optional) – the output tensor.  输出张量\n"
   ]
  },
  {
   "cell_type": "code",
   "execution_count": 9,
   "id": "e9a09507",
   "metadata": {},
   "outputs": [
    {
     "data": {
      "text/plain": [
       "tensor([[ 3.1416, -3.1416],\n",
       "        [ 6.2832, -6.2832],\n",
       "        [ 1.5708, -1.5708]])"
      ]
     },
     "execution_count": 9,
     "metadata": {},
     "output_type": "execute_result"
    }
   ],
   "source": [
    "import torch\n",
    "a = torch.tensor([[180.0, -180.0], [360.0, -360.0], [90.0, -90.0]])\n",
    "torch.deg2rad(a)"
   ]
  },
  {
   "attachments": {},
   "cell_type": "markdown",
   "id": "862f6ff4",
   "metadata": {},
   "source": [
    "## div/divide\n",
    "\n",
    "将输入输入的每个元素除以其他输入的相应元素。\n",
    "\n",
    "$$\\text{out}_i=\\dfrac{\\text{input}_i}{\\text{other}_i}$$\n",
    "\n",
    "**定义**：  \n",
    "torch.div(input, other, *, rounding_mode=None, out=None) → Tensor\n",
    "\n",
    "**参数**：  \n",
    "- input (Tensor) – the dividend 被除数\n",
    "\n",
    "- other (Tensor or Number) – the divisor 除数\n",
    "\n",
    "- out (Tensor, optional) – the output tensor.  输出张量\n",
    "\n",
    "- rounding_mode (str, optional) – None、trunc、floor "
   ]
  },
  {
   "cell_type": "code",
   "execution_count": 10,
   "id": "579a5049",
   "metadata": {},
   "outputs": [
    {
     "name": "stdout",
     "output_type": "stream",
     "text": [
      "tensor([ 0.7620,  2.5548, -0.5944, -0.7438,  0.9274])\n",
      "tensor([[-0.4620, -6.6051,  0.5676,  1.2639],\n",
      "        [ 0.2260, -3.4509, -1.2086,  6.8990],\n",
      "        [ 0.1322,  4.9764, -0.9564,  5.3484],\n",
      "        [-0.2278, -0.1068, -1.4678,  6.3938]])\n",
      "tensor([[-0., -6.,  0.,  1.],\n",
      "        [ 0., -3., -1.,  6.],\n",
      "        [ 0.,  4., -0.,  5.],\n",
      "        [-0., -0., -1.,  6.]])\n",
      "tensor([[-1., -7.,  0.,  1.],\n",
      "        [ 0., -4., -2.,  6.],\n",
      "        [ 0.,  4., -1.,  5.],\n",
      "        [-1., -1., -2.,  6.]])\n"
     ]
    }
   ],
   "source": [
    "x = torch.tensor([ 0.3810,  1.2774, -0.2972, -0.3719,  0.4637])\n",
    "print(torch.div(x, 0.5))\n",
    "\n",
    "a = torch.tensor([[-0.3711, -1.9353, -0.4605, -0.2917],\n",
    "                  [ 0.1815, -1.0111,  0.9805, -1.5923],\n",
    "                  [ 0.1062,  1.4581,  0.7759, -1.2344],\n",
    "                  [-0.1830, -0.0313,  1.1908, -1.4757]])\n",
    "b = torch.tensor([ 0.8032,  0.2930, -0.8113, -0.2308])\n",
    "print(torch.div(a, b))\n",
    "\n",
    "print(torch.div(a, b, rounding_mode='trunc'))\n",
    "\n",
    "print(torch.div(a, b, rounding_mode='floor'))"
   ]
  }
 ],
 "metadata": {
  "kernelspec": {
   "display_name": "Python 3.8.13 ('general38')",
   "language": "python",
   "name": "python3"
  },
  "language_info": {
   "codemirror_mode": {
    "name": "ipython",
    "version": 3
   },
   "file_extension": ".py",
   "mimetype": "text/x-python",
   "name": "python",
   "nbconvert_exporter": "python",
   "pygments_lexer": "ipython3",
   "version": "3.8.13"
  },
  "vscode": {
   "interpreter": {
    "hash": "4e00c79739f2fdf113306667eb0b8e68d4274855301e6df90bc305a954991b52"
   }
  }
 },
 "nbformat": 4,
 "nbformat_minor": 5
}
