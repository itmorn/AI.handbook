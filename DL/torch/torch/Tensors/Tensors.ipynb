{
 "cells": [
  {
   "attachments": {},
   "cell_type": "markdown",
   "id": "6c202a11",
   "metadata": {},
   "source": [
    "[![](https://colab.research.google.com/assets/colab-badge.svg)](https://colab.research.google.com/github/itmorn/AI.handbook/blob/main/DL/torch/torch/Tensors/Tensors.ipynb)"
   ]
  },
  {
   "attachments": {},
   "cell_type": "markdown",
   "id": "d24ca802",
   "metadata": {},
   "source": [
    "# is_tensor\n",
    "Returns True if obj is a PyTorch tensor.  \n",
    "\n",
    "如果obj是一个PyTorch张量，则返回True。"
   ]
  },
  {
   "cell_type": "code",
   "execution_count": 2,
   "id": "eb82e851",
   "metadata": {},
   "outputs": [
    {
     "data": {
      "text/plain": [
       "True"
      ]
     },
     "execution_count": 2,
     "metadata": {},
     "output_type": "execute_result"
    }
   ],
   "source": [
    "import torch\n",
    "\n",
    "x=torch.tensor([1,2,3])\n",
    "torch.is_tensor(x)"
   ]
  },
  {
   "attachments": {},
   "cell_type": "markdown",
   "id": "f89ca697",
   "metadata": {},
   "source": [
    "# is_storage\n",
    "\t\n",
    "Returns True if obj is a PyTorch storage object.  \n",
    "\n",
    "如果obj是PyTorch存储对象，则返回True。\n",
    "\n",
    "在PyTorch中，存储对象（torch.Storage）是一个比张量更底层的数据结构，用于存储和管理数据。与张量不同，存储对象不包含任何形状和维度信息，它们只是简单的一维数组。\n",
    "\n",
    "在实际应用中，存储对象可能不太常用，但它们在某些情况下可以提供性能优势。以下是一些常见的使用场景：\n",
    "\n",
    "1. 在使用自定义的数据类型或格式时，存储对象可以提供一种更灵活的数据存储方式。例如，如果要存储稀疏矩阵，则存储对象可以更有效地存储非零元素。\n",
    "\n",
    "2. 存储对象可以提供一种更高效的内存管理方式，特别是在处理大型数据集时。例如，在处理大型图像或音频数据时，使用存储对象可以更有效地管理内存和数据加载。\n",
    "\n",
    "3. 存储对象可以用于实现自定义张量操作，例如，可以将存储对象用于实现卷积和池化操作中的内部存储。\n",
    "\n",
    "总之，使用存储对象需要对PyTorch底层的内存管理和数据操作有一定的了解，但它们可以在某些情况下提供性能优势。通常情况下，如果不需要直接访问存储对象，则建议使用张量来管理数据。"
   ]
  },
  {
   "cell_type": "code",
   "execution_count": 7,
   "id": "c8ce252b",
   "metadata": {},
   "outputs": [
    {
     "name": "stdout",
     "output_type": "stream",
     "text": [
      "True\n",
      "False\n"
     ]
    }
   ],
   "source": [
    "import torch\n",
    "\n",
    "storage = torch.FloatStorage(10)\n",
    "print(torch.is_storage(storage))\n",
    "\n",
    "\n",
    "x=torch.tensor([1,2,3])\n",
    "print(torch.is_storage(x))"
   ]
  },
  {
   "attachments": {},
   "cell_type": "markdown",
   "id": "b7a46670",
   "metadata": {},
   "source": [
    "# is_complex\n",
    "\t\n",
    "Returns True if the data type of input is a complex data type i.e., one of torch.complex64, and torch.complex128.  \n",
    "\n",
    "如果输入数据的数据类型是复数类型，即torch.complex64或torch.complex128，则返回True。"
   ]
  },
  {
   "cell_type": "code",
   "execution_count": 9,
   "id": "8c9cffb8",
   "metadata": {},
   "outputs": [
    {
     "name": "stdout",
     "output_type": "stream",
     "text": [
      "True\n"
     ]
    }
   ],
   "source": [
    "import torch\n",
    "\n",
    "x = torch.tensor([1+2j, 3-4j], dtype=torch.complex128)\n",
    "\n",
    "print(torch.is_complex(x))  # True\n",
    "# 在这个例子中，我们创建了一个数据类型为torch.complex128的复数张量x，\n",
    "# 然后使用torch.is_complex()函数检查x的数据类型是否为复数类型，结果返回True。"
   ]
  },
  {
   "attachments": {},
   "cell_type": "markdown",
   "id": "1427cbf8",
   "metadata": {},
   "source": [
    "# is_conj\n",
    "\n",
    "Returns True if the input is a conjugated tensor, i.e. its conjugate bit is set to True.\n",
    "\n",
    "如果输入的张量是共轭张量，即其共轭标志位(conjugate bit)设置为True，则返回True。\n",
    "\n",
    "在数学中，一个复数的共轭是将其虚部变号，实部不变的一种操作。类似地，对于一个复数张量，将其每个元素共轭得到的新张量称为共轭张量(conjugate tensor)。\n",
    "\n",
    "在PyTorch中，使用torch.conj()函数可以求得一个张量的共轭张量。共轭张量在信号处理、光学等领域中有广泛的应用。"
   ]
  },
  {
   "cell_type": "code",
   "execution_count": 12,
   "id": "08dc70d2",
   "metadata": {},
   "outputs": [
    {
     "name": "stdout",
     "output_type": "stream",
     "text": [
      "False\n"
     ]
    },
    {
     "data": {
      "text/plain": [
       "tensor([1.-2.j, 3.+4.j], dtype=torch.complex128)"
      ]
     },
     "execution_count": 12,
     "metadata": {},
     "output_type": "execute_result"
    }
   ],
   "source": [
    "import torch\n",
    "\n",
    "x = torch.tensor([1+2j, 3-4j], dtype=torch.complex128)\n",
    "y = torch.conj(x)\n",
    "\n",
    "print(torch.is_conj(y))  # True\n",
    "y"
   ]
  },
  {
   "attachments": {},
   "cell_type": "markdown",
   "id": "f27322e0",
   "metadata": {},
   "source": [
    "# is_floating_point\n",
    "\t\n",
    "Returns True if the data type of input is a floating point data type i.e., one of torch.float64, torch.float32, torch.float16, and torch.bfloat16.\n",
    "\n",
    "如果输入数据的数据类型是浮点数类型，即torch.float64、torch.float32、torch.float16或torch.bfloat16之一，则返回True。"
   ]
  },
  {
   "cell_type": "code",
   "execution_count": 13,
   "id": "28910691",
   "metadata": {},
   "outputs": [
    {
     "name": "stdout",
     "output_type": "stream",
     "text": [
      "True\n",
      "False\n"
     ]
    }
   ],
   "source": [
    "import torch\n",
    "\n",
    "x = torch.tensor([1.0, 2.0, 3.0])\n",
    "y = torch.tensor([1, 2, 3])\n",
    "\n",
    "print(torch.is_floating_point(x))  # True\n",
    "print(torch.is_floating_point(y))  # False"
   ]
  },
  {
   "attachments": {},
   "cell_type": "markdown",
   "id": "4baa9990",
   "metadata": {},
   "source": [
    "# is_nonzero\n",
    "\t\n",
    "Returns True if the input is a single element tensor which is not equal to zero after type conversions.\n",
    "\n",
    "如果输入是一个单元素张量，并且在类型转换后不等于零，即不等于torch.tensor([0.])、torch.tensor([0])或torch.tensor([False])，则返回True。如果torch.numel()不等于1（即张量元素个数不为1），则抛出一个运行时错误。"
   ]
  },
  {
   "cell_type": "code",
   "execution_count": 14,
   "id": "b25cd10d",
   "metadata": {},
   "outputs": [
    {
     "name": "stdout",
     "output_type": "stream",
     "text": [
      "True\n",
      "False\n",
      "True\n"
     ]
    }
   ],
   "source": [
    "import torch\n",
    "\n",
    "x = torch.tensor([3], dtype=torch.float32)\n",
    "y = torch.tensor([0])\n",
    "z = torch.tensor([True])\n",
    "\n",
    "print(torch.is_nonzero(x))  # True\n",
    "print(torch.is_nonzero(y))  # False\n",
    "print(torch.is_nonzero(z))  # True"
   ]
  },
  {
   "attachments": {},
   "cell_type": "markdown",
   "id": "7c3de1b8",
   "metadata": {},
   "source": [
    "# set_default_dtype\n",
    "\t\n",
    "Sets the default floating point dtype to d.\n",
    "\n",
    "将默认的浮点数数据类型设置为d。支持输入torch.float32和torch.float64。其他数据类型可能会被接受但不会报错，但不受支持，可能不会按预期工作。"
   ]
  },
  {
   "attachments": {},
   "cell_type": "markdown",
   "id": "cc2d1549",
   "metadata": {},
   "source": [
    "# get_default_dtype\n",
    "\n",
    "Get the current default floating point torch.dtype.\n",
    "\n",
    "获取默认浮点数数据类型"
   ]
  },
  {
   "cell_type": "code",
   "execution_count": 6,
   "id": "47a9436d",
   "metadata": {},
   "outputs": [
    {
     "name": "stdout",
     "output_type": "stream",
     "text": [
      "torch.float32\n",
      "torch.float32\n",
      "torch.complex64\n",
      "==================================================\n",
      "torch.float64\n",
      "torch.float64\n",
      "torch.complex128\n"
     ]
    }
   ],
   "source": [
    "import torch\n",
    "\n",
    "torch.set_default_dtype(torch.float32) #默认\n",
    "print(torch.get_default_dtype())  # torch.float32\n",
    "print(torch.tensor([1.2, 3]).dtype)\n",
    "print(torch.tensor([1.2, 3j]).dtype)\n",
    "print(\"=\"*50)\n",
    "torch.set_default_dtype(torch.float64)\n",
    "print(torch.get_default_dtype())\n",
    "print(torch.tensor([1.2, 3]).dtype)\n",
    "print(torch.tensor([1.2, 3j]).dtype)"
   ]
  },
  {
   "attachments": {},
   "cell_type": "markdown",
   "id": "7d4620bc",
   "metadata": {},
   "source": [
    "# set_default_tensor_type\n",
    "\n",
    "Sets the default torch.Tensor type to floating point tensor type t.\n",
    "\n",
    "将默认的torch.Tensor类型设置为浮点数张量类型t。"
   ]
  },
  {
   "cell_type": "code",
   "execution_count": 2,
   "id": "86d33739",
   "metadata": {},
   "outputs": [
    {
     "name": "stdout",
     "output_type": "stream",
     "text": [
      "torch.float32\n",
      "torch.float64\n"
     ]
    }
   ],
   "source": [
    "import torch\n",
    "\n",
    "torch.set_default_tensor_type(torch.FloatTensor)\n",
    "print(torch.tensor([1.2, 3]).dtype)\n",
    "\n",
    "torch.set_default_tensor_type(torch.DoubleTensor)\n",
    "print(torch.tensor([1.2, 3]).dtype)\n"
   ]
  },
  {
   "attachments": {},
   "cell_type": "markdown",
   "id": "c1619fc6",
   "metadata": {},
   "source": [
    "# set_default_tensor_type和set_default_dtype的适用场景\n",
    "set_default_tensor_type()\n",
    "- 当你需要在不同设备上运行代码时，可以使用set_default_tensor_type()设置默认的张量类型。例如，如果你需要在GPU上训练模型，可以将默认的张量类型设置为torch.cuda.FloatTensor，这样在创建新的张量时将默认使用这种类型。\n",
    "\n",
    "- 当你需要在创建大量的张量时，可以使用set_default_tensor_type()设置默认的张量类型。例如，在生成大量数据集时，如果你需要使用GPU加速，可以将默认的张量类型设置为torch.cuda.FloatTensor。\n",
    "\n",
    "\n",
    "set_default_dtype()\n",
    "- 当你需要在执行数学运算时使用特定的数据类型时，可以使用set_default_dtype()设置默认的数据类型。例如，在数值计算中，float32通常足够精确，但在某些情况下，你可能需要更高的精度，这时你可以将默认的数据类型设置为float64。\n",
    "\n",
    "- 当你需要在创建张量时，使用与上下文匹配的默认数据类型时，可以使用set_default_dtype()设置默认的数据类型。例如，当你需要在不同计算机上运行相同的代码时，可以使用这个函数来确保数据类型在各种环境中的一致性。\n",
    "\n",
    "需要注意的是，这两个函数都是全局设置，会影响到整个程序，因此在使用它们时需要谨慎。"
   ]
  },
  {
   "attachments": {},
   "cell_type": "markdown",
   "id": "4f12ea84",
   "metadata": {},
   "source": [
    "# numel\n",
    "Returns the total number of elements in the input tensor.\n",
    "返回输入张量中元素的总数。"
   ]
  },
  {
   "cell_type": "code",
   "execution_count": 3,
   "id": "76964f12",
   "metadata": {},
   "outputs": [
    {
     "name": "stdout",
     "output_type": "stream",
     "text": [
      "6\n"
     ]
    }
   ],
   "source": [
    "import torch\n",
    "\n",
    "x = torch.randn(2, 3)\n",
    "num_elements = torch.numel(x)\n",
    "print(num_elements)  # 输出 6"
   ]
  },
  {
   "attachments": {},
   "cell_type": "markdown",
   "id": "b556ef02",
   "metadata": {},
   "source": [
    "# set_printoptions\n",
    "Set options for printing.\n",
    "\n",
    "torch.set_printoptions函数可以用于设置张量打印的选项，包括精度、格式等。"
   ]
  },
  {
   "cell_type": "code",
   "execution_count": 6,
   "id": "d6ed5a67",
   "metadata": {},
   "outputs": [
    {
     "name": "stdout",
     "output_type": "stream",
     "text": [
      "tensor([1.12])\n",
      "tensor([0, 1, 2,  ..., 7, 8, 9])\n",
      "tensor([1.1235])\n",
      "tensor([0, 1, 2, 3, 4, 5, 6, 7, 8, 9])\n"
     ]
    }
   ],
   "source": [
    "import torch\n",
    "\n",
    "# Limit the precision of elements\n",
    "torch.set_printoptions(precision=2)\n",
    "print(torch.tensor([1.12345]))\n",
    "\n",
    "# Limit the number of elements shown\n",
    "torch.set_printoptions(threshold=5)\n",
    "print(torch.arange(10))\n",
    "\n",
    "# Restore defaults\n",
    "torch.set_printoptions(profile='default')\n",
    "print(torch.tensor([1.12345]))\n",
    "print(torch.arange(10))\n"
   ]
  },
  {
   "attachments": {},
   "cell_type": "markdown",
   "id": "316e2812",
   "metadata": {},
   "source": [
    "# set_flush_denormal\n",
    "Disables denormal floating numbers on CPU.\n",
    "\n",
    "禁用CPU上的非规格化浮点数。\n",
    "\n",
    "在计算机科学中，非规格化浮点数是一种特殊的浮点数形式，其指数位为全0而尾数位非0。这种数通常表示接近于0的数值，但具有较低的精度和性能代价。禁用非规格化浮点数可以提高计算精度和效率。\n",
    "\n",
    "\n",
    " 当在CPU上执行大量的浮点计算时，将浮点数规范化为正常值可能会降低性能。 因此，禁用浮点数规范化可能会提高性能。 但是，请注意，禁用规范化可能会影响计算的精度，并且可能会导致不一致的行为。 因此，应该在使用之前进行仔细的测试和评估，确保其对应用程序的性能和精度产生积极的影响。\n"
   ]
  }
 ],
 "metadata": {
  "kernelspec": {
   "display_name": "Python 3.8.13 ('general38')",
   "language": "python",
   "name": "python3"
  },
  "language_info": {
   "codemirror_mode": {
    "name": "ipython",
    "version": 3
   },
   "file_extension": ".py",
   "mimetype": "text/x-python",
   "name": "python",
   "nbconvert_exporter": "python",
   "pygments_lexer": "ipython3",
   "version": "3.8.13"
  },
  "vscode": {
   "interpreter": {
    "hash": "4e00c79739f2fdf113306667eb0b8e68d4274855301e6df90bc305a954991b52"
   }
  }
 },
 "nbformat": 4,
 "nbformat_minor": 5
}
