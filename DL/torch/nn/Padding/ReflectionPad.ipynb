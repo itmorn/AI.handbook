{
 "cells": [
  {
   "attachments": {},
   "cell_type": "markdown",
   "id": "6c202a11",
   "metadata": {},
   "source": [
    "[![](https://colab.research.google.com/assets/colab-badge.svg)](https://colab.research.google.com/github/itmorn/AI.handbook/blob/main/DL/torch/nn/Padding/ReflectionPad.ipynb)"
   ]
  },
  {
   "cell_type": "markdown",
   "id": "14a8662b",
   "metadata": {},
   "source": [
    "# ReflectionPad2d\n",
    "Pads the input tensor using the reflection of the input boundary.    \n",
    "使用输入边界的镜像来填充输入张量。\n",
    "\n",
    "定义：        \n",
    "torch.nn.ReflectionPad2d(padding)\n",
    "\n",
    "参数:   \n",
    "padding (int, tuple): the size of the padding. \n",
    "填充的尺寸"
   ]
  },
  {
   "cell_type": "markdown",
   "id": "96e1d097",
   "metadata": {},
   "source": [
    "## 图解参数\n",
    "<p align=\"center\">\n",
    "<a href=\"https://raw.githubusercontent.com/itmorn/AI.handbook/main/DL/module/Padding/imgs/ReflectionPad.svg\">\n",
    "<img src=\"./imgs/ReflectionPad.svg\"\n",
    "    width=\"800\" /></a></p>"
   ]
  },
  {
   "cell_type": "code",
   "execution_count": 16,
   "id": "4b08cfc9",
   "metadata": {},
   "outputs": [
    {
     "name": "stdout",
     "output_type": "stream",
     "text": [
      "input:\n",
      " tensor([[[0., 1., 2.],\n",
      "         [3., 4., 5.],\n",
      "         [6., 7., 8.]]])\n",
      "output:\n",
      " tensor([[[8., 7., 6., 7., 8., 7., 6.],\n",
      "         [5., 4., 3., 4., 5., 4., 3.],\n",
      "         [2., 1., 0., 1., 2., 1., 0.],\n",
      "         [5., 4., 3., 4., 5., 4., 3.],\n",
      "         [8., 7., 6., 7., 8., 7., 6.],\n",
      "         [5., 4., 3., 4., 5., 4., 3.],\n",
      "         [2., 1., 0., 1., 2., 1., 0.]]])\n"
     ]
    }
   ],
   "source": [
    "import torch\n",
    "import torch.nn as nn\n",
    "\n",
    "m = nn.ReflectionPad2d(2)\n",
    "input = torch.arange(9, dtype=torch.float).reshape(1, 3, 3)\n",
    "print(\"input:\\n\",input)\n",
    "\n",
    "output = m(input)\n",
    "print(\"output:\\n\",output) "
   ]
  }
 ],
 "metadata": {
  "kernelspec": {
   "display_name": "Python 3.8.13 ('general38')",
   "language": "python",
   "name": "python3"
  },
  "language_info": {
   "codemirror_mode": {
    "name": "ipython",
    "version": 3
   },
   "file_extension": ".py",
   "mimetype": "text/x-python",
   "name": "python",
   "nbconvert_exporter": "python",
   "pygments_lexer": "ipython3",
   "version": "3.8.13"
  },
  "vscode": {
   "interpreter": {
    "hash": "4e00c79739f2fdf113306667eb0b8e68d4274855301e6df90bc305a954991b52"
   }
  }
 },
 "nbformat": 4,
 "nbformat_minor": 5
}
