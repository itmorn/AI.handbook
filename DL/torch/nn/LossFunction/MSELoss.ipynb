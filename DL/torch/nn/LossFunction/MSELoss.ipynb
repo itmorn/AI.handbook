{
 "cells": [
  {
   "attachments": {},
   "cell_type": "markdown",
   "id": "6c202a11",
   "metadata": {},
   "source": [
    "[![](https://colab.research.google.com/assets/colab-badge.svg)](https://colab.research.google.com/github/itmorn/AI.handbook/blob/main/DL/torch/nn/LossFunction/MSELoss.ipynb)"
   ]
  },
  {
   "attachments": {},
   "cell_type": "markdown",
   "id": "14a8662b",
   "metadata": {},
   "source": [
    "# MSELoss\n",
    "测量输入x和目标y中每个元素之间的均方误差(L2范数的平方)。\n",
    "\n",
    "\n",
    "**定义**：  \n",
    "torch.nn.MSELoss(reduction='mean')\n",
    "\n",
    "**参数**:  \n",
    "- reduction (str, optional) – Specifies the reduction to apply to the output: 'none' | 'mean' | 'sum'.   指定应用于输出的缩减:'none' | 'mean' | 'sum'。"
   ]
  },
  {
   "cell_type": "code",
   "execution_count": 2,
   "id": "d011221f",
   "metadata": {},
   "outputs": [
    {
     "name": "stdout",
     "output_type": "stream",
     "text": [
      "input:\n",
      " tensor([[-2.1188,  0.0635, -1.4555, -0.0126, -0.1548],\n",
      "        [-0.0927,  2.5916,  0.4542, -0.6890, -0.9962],\n",
      "        [ 0.1856,  0.1476,  0.8628,  0.2379, -0.5260]], requires_grad=True) \n",
      "\n",
      "target:\n",
      " tensor([[-0.1043, -0.5187,  0.1231,  0.0755,  0.7091],\n",
      "        [-1.0812, -0.6668, -0.8967,  0.7272,  1.4582],\n",
      "        [-0.0018,  0.6660,  1.4064, -0.1019, -0.1370]]) \n",
      "\n",
      "output:\n",
      " tensor(1.9972, grad_fn=<MseLossBackward0>) \n",
      "\n"
     ]
    },
    {
     "data": {
      "text/plain": [
       "tensor(1.9972, grad_fn=<MeanBackward0>)"
      ]
     },
     "execution_count": 2,
     "metadata": {},
     "output_type": "execute_result"
    }
   ],
   "source": [
    "# 调包计算\n",
    "import torch\n",
    "import torch.nn as nn\n",
    "torch.manual_seed(666)\n",
    "\n",
    "loss = nn.MSELoss(reduction='mean')\n",
    "\n",
    "input = torch.randn(3, 5, requires_grad=True)\n",
    "target = torch.randn(3, 5)\n",
    "print(\"input:\\n\", input, \"\\n\")\n",
    "print(\"target:\\n\", target, \"\\n\")\n",
    "\n",
    "output = loss(input, target)\n",
    "print(\"output:\\n\", output, \"\\n\")\n",
    "# output.backward()\n",
    "\n",
    "((input-target)**2).mean() #可以看到，和调包结果一致\n"
   ]
  }
 ],
 "metadata": {
  "kernelspec": {
   "display_name": "Python 3.8.13 ('general38')",
   "language": "python",
   "name": "python3"
  },
  "language_info": {
   "codemirror_mode": {
    "name": "ipython",
    "version": 3
   },
   "file_extension": ".py",
   "mimetype": "text/x-python",
   "name": "python",
   "nbconvert_exporter": "python",
   "pygments_lexer": "ipython3",
   "version": "3.8.13"
  },
  "vscode": {
   "interpreter": {
    "hash": "4e00c79739f2fdf113306667eb0b8e68d4274855301e6df90bc305a954991b52"
   }
  }
 },
 "nbformat": 4,
 "nbformat_minor": 5
}
