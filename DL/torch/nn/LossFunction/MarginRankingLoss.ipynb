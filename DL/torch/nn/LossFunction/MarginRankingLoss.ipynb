{
 "cells": [
  {
   "attachments": {},
   "cell_type": "markdown",
   "id": "6c202a11",
   "metadata": {},
   "source": [
    "[![](https://colab.research.google.com/assets/colab-badge.svg)](https://colab.research.google.com/github/itmorn/AI.handbook/blob/main/DL/torch/nn/LossFunction/MarginRankingLoss.ipynb)"
   ]
  },
  {
   "attachments": {},
   "cell_type": "markdown",
   "id": "14a8662b",
   "metadata": {},
   "source": [
    "# MarginRankingLoss\n",
    " 如果y = 1，那么它假设第一个输入的值应该比第二个输入的值更高(值更大)，反之亦然。\n",
    "\n",
    "$$\\text{loss}(x1, x2, y) = \\max(0, -y * (x1 - x2) + \\text{margin})$$\n",
    "\n",
    "\n",
    "**定义**：  \n",
    "torch.nn.MarginRankingLoss(margin=0.0, size_average=None, reduce=None, reduction='mean')\n",
    "\n",
    "**参数**:  \n",
    "- margin (float, optional) – Has a default value of 0.\n",
    "\n",
    "- reduction (str, optional) – Specifies the reduction to apply to the output: 'none' | 'mean' | 'sum'.   指定应用于输出的reduce方式:'none' | 'mean' | 'sum'。"
   ]
  },
  {
   "cell_type": "code",
   "execution_count": 18,
   "id": "d011221f",
   "metadata": {},
   "outputs": [
    {
     "name": "stdout",
     "output_type": "stream",
     "text": [
      "input1:\n",
      " tensor([-2.1188,  0.0635, -1.4555], requires_grad=True) \n",
      "\n",
      "input2:\n",
      " tensor([-0.0126, -0.1548, -0.0927], requires_grad=True) \n",
      "\n",
      "target:\n",
      " tensor([ 1.,  1., -1.]) \n",
      "\n",
      "output:\n",
      " tensor(1.2960, grad_fn=<MeanBackward0>) \n",
      "\n"
     ]
    },
    {
     "data": {
      "text/plain": [
       "tensor(1.2960, grad_fn=<MeanBackward0>)"
      ]
     },
     "execution_count": 18,
     "metadata": {},
     "output_type": "execute_result"
    }
   ],
   "source": [
    "import torch\n",
    "import torch.nn as nn\n",
    "torch.manual_seed(666)\n",
    "margin=1\n",
    "loss = nn.MarginRankingLoss(margin=margin)\n",
    "input1 = torch.randn(3, requires_grad=True) #一个batch中有3个样本\n",
    "input2 = torch.randn(3, requires_grad=True)\n",
    "target = torch.randn(3).sign()\n",
    "print(\"input1:\\n\", input1, \"\\n\")\n",
    "print(\"input2:\\n\", input2, \"\\n\")\n",
    "print(\"target:\\n\", target, \"\\n\")\n",
    "\n",
    "output = loss(input1, input2, target)\n",
    "print(\"output:\\n\", output, \"\\n\")\n",
    "\n",
    "(-target * (input1 - input2) + margin).clip(min=0).mean()"
   ]
  }
 ],
 "metadata": {
  "kernelspec": {
   "display_name": "Python 3.8.13 ('general38')",
   "language": "python",
   "name": "python3"
  },
  "language_info": {
   "codemirror_mode": {
    "name": "ipython",
    "version": 3
   },
   "file_extension": ".py",
   "mimetype": "text/x-python",
   "name": "python",
   "nbconvert_exporter": "python",
   "pygments_lexer": "ipython3",
   "version": "3.8.13"
  },
  "vscode": {
   "interpreter": {
    "hash": "4e00c79739f2fdf113306667eb0b8e68d4274855301e6df90bc305a954991b52"
   }
  }
 },
 "nbformat": 4,
 "nbformat_minor": 5
}
