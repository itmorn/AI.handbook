{
 "cells": [
  {
   "attachments": {},
   "cell_type": "markdown",
   "id": "6c202a11",
   "metadata": {},
   "source": [
    "[![](https://colab.research.google.com/assets/colab-badge.svg)](https://colab.research.google.com/github/itmorn/AI.handbook/blob/main/DL/torch/nn/LossFunction/HingeEmbeddingLoss.ipynb)"
   ]
  },
  {
   "attachments": {},
   "cell_type": "markdown",
   "id": "14a8662b",
   "metadata": {},
   "source": [
    "# HingeEmbeddingLoss\n",
    "评价两个向量的相似度，标签y=1是，表示应该相似，y=-1时表示应该疏远。x表示距离，如果y=1，距离越大损失越大；如果y=-1，距离越小损失越大。\n",
    "\n",
    "$$l_n = \\begin{cases}\n",
    "            x_n, & \\text{if}\\; y_n = 1,\\\\\n",
    "            \\max \\{0, margin - x_n\\}, & \\text{if}\\; y_n = -1,\n",
    "\\end{cases}$$\n",
    "\n",
    "\n",
    "**定义**：  \n",
    "torch.nn.HingeEmbeddingLoss(margin=1.0, size_average=None, reduce=None, reduction='mean')\n",
    "\n",
    "**参数**:  \n",
    "- margin (float, optional) – Has a default value of 1.\n",
    "\n",
    "- reduction (str, optional) – Specifies the reduction to apply to the output: 'none' | 'mean' | 'sum'.   指定应用于输出的缩减:'none' | 'mean' | 'sum'。\n"
   ]
  },
  {
   "cell_type": "code",
   "execution_count": 15,
   "id": "d011221f",
   "metadata": {},
   "outputs": [
    {
     "name": "stdout",
     "output_type": "stream",
     "text": [
      "input:\n",
      " tensor([-2.1188,  0.0635, -1.4555, -0.0126], requires_grad=True) \n",
      "\n",
      "target:\n",
      " tensor([-1., -1.,  1.,  1.]) \n",
      "\n",
      "loss:\n",
      " tensor(0.6468, grad_fn=<MeanBackward0>) \n",
      "\n"
     ]
    },
    {
     "data": {
      "text/plain": [
       "tensor(0.6468, grad_fn=<MeanBackward0>)"
      ]
     },
     "execution_count": 15,
     "metadata": {},
     "output_type": "execute_result"
    }
   ],
   "source": [
    "import torch\n",
    "import torch.nn as nn\n",
    "torch.manual_seed(666)\n",
    "margin=1\n",
    "loss = nn.HingeEmbeddingLoss(margin=margin)\n",
    "input = torch.randn(4, requires_grad=True) #N\n",
    "target = torch.randn(4).sign()\n",
    "print(\"input:\\n\", input, \"\\n\")\n",
    "print(\"target:\\n\", target, \"\\n\")\n",
    "\n",
    "print(\"loss:\\n\", loss(input,target), \"\\n\")\n",
    "\n",
    "zeros = torch.zeros_like(input)\n",
    "margin_clamp = (margin-input).clip(min=0)\n",
    "output_margin = torch.where(target != 1, margin_clamp, zeros)\n",
    "output_self = torch.where(target != -1, input, zeros)\n",
    "(output_margin + output_self).mean()"
   ]
  }
 ],
 "metadata": {
  "kernelspec": {
   "display_name": "Python 3.8.13 ('general38')",
   "language": "python",
   "name": "python3"
  },
  "language_info": {
   "codemirror_mode": {
    "name": "ipython",
    "version": 3
   },
   "file_extension": ".py",
   "mimetype": "text/x-python",
   "name": "python",
   "nbconvert_exporter": "python",
   "pygments_lexer": "ipython3",
   "version": "3.8.13"
  },
  "vscode": {
   "interpreter": {
    "hash": "4e00c79739f2fdf113306667eb0b8e68d4274855301e6df90bc305a954991b52"
   }
  }
 },
 "nbformat": 4,
 "nbformat_minor": 5
}
