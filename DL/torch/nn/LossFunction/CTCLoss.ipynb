{
 "cells": [
  {
   "attachments": {},
   "cell_type": "markdown",
   "id": "6c202a11",
   "metadata": {},
   "source": [
    "[![](https://colab.research.google.com/assets/colab-badge.svg)](https://colab.research.google.com/github/itmorn/AI.handbook/blob/main/DL/torch/nn/LossFunction/CTCLoss.ipynb)"
   ]
  },
  {
   "attachments": {},
   "cell_type": "markdown",
   "id": "14a8662b",
   "metadata": {},
   "source": [
    "# CTCLoss\n",
    "\n",
    "**定义**：  \n",
    "torch.nn.CTCLoss(blank=0, reduction='mean', zero_infinity=False)\n",
    "\n",
    "**参数**:  \n",
    "- blank (int, optional) – blank label. Default 0.  空类别的标签，默认是0\n",
    "\n",
    "- reduction (str, optional) – Specifies the reduction to apply to the output: 'none' | 'mean' | 'sum'. 'none': no reduction will be applied, 'mean': the output losses will be divided by the target lengths and then the mean over the batch is taken. Default: 'mean'  当有多个样本一起计算的时候，对多个loss进行reduce的方式\n",
    "\n",
    "- zero_infinity (bool, optional) – Whether to zero infinite losses and the associated gradients. Default: False Infinite losses mainly occur when the inputs are too short to be aligned to the targets.  是否将无限损失和相关梯度归零。默认值:False无限损失主要发生在输入太短而无法与目标对齐时。"
   ]
  },
  {
   "attachments": {},
   "cell_type": "markdown",
   "id": "d357f94a",
   "metadata": {},
   "source": [
    "# 图解CTCLoss的输入\n",
    "<p align=\"center\">\n",
    "<img src=\"./imgs/CTCLoss_input.svg\"\n",
    "    width=\"2000\" /></p>"
   ]
  },
  {
   "cell_type": "code",
   "execution_count": 108,
   "id": "d011221f",
   "metadata": {},
   "outputs": [
    {
     "name": "stdout",
     "output_type": "stream",
     "text": [
      "input:\n",
      " tensor([[-2.5501, -0.9828, -1.7815, -2.2131, -1.3097],\n",
      "        [-1.6865, -2.3959, -1.0816, -1.8824, -1.4591],\n",
      "        [-1.1462, -1.7807, -2.0790, -1.6667, -1.6109],\n",
      "        [-2.1791, -3.0886, -2.0956, -2.4411, -0.4601],\n",
      "        [-1.9573, -2.3131, -2.7964, -0.6376, -1.7705],\n",
      "        [-2.6371, -1.2972, -1.3879, -1.1645, -2.3702],\n",
      "        [-0.9790, -1.3483, -1.3424, -2.9789, -2.9458],\n",
      "        [-1.8011, -2.5198, -1.0987, -2.1566, -1.1861],\n",
      "        [-2.2219, -2.0857, -0.7027, -2.1847, -1.8351],\n",
      "        [-2.0254, -0.6508, -1.7142, -2.1643, -2.9660]], requires_grad=True) \n",
      "\n",
      "target:\n",
      " tensor([4, 4, 1, 3, 4, 1, 2]) \n",
      "\n"
     ]
    }
   ],
   "source": [
    "# 单个样本简单举例\n",
    "import torch\n",
    "import torch.nn as nn\n",
    "torch.manual_seed(666)\n",
    "\n",
    "# Target are to be un-padded and unbatched (effectively N=1)\n",
    "T = 10      # Input sequence length\n",
    "C = 5      # Number of classes (including blank)\n",
    "\n",
    "# Initialize random batch of input vectors, for *size = (T,C)\n",
    "input = torch.randn(T, C).log_softmax(1).detach().requires_grad_()\n",
    "input_lengths = torch.tensor(T, dtype=torch.long)\n",
    "\n",
    "# # Initialize random batch of targets (0 = blank, 1:C = classes)\n",
    "target_lengths = torch.randint(low=1, high=T, size=(), dtype=torch.long)\n",
    "target = torch.randint(low=1, high=C, size=(target_lengths,), dtype=torch.long)\n",
    "ctc_loss = nn.CTCLoss(blank=0, reduction='mean', zero_infinity=False)\n",
    "loss = ctc_loss(input, target, input_lengths, target_lengths)\n",
    "# loss.backward()\n",
    "print(\"input:\\n\", input, \"\\n\")\n",
    "print(\"target:\\n\", target, \"\\n\")\n"
   ]
  },
  {
   "attachments": {},
   "cell_type": "markdown",
   "id": "7c101dee",
   "metadata": {},
   "source": [
    "# 图解CTCLoss的计算\n",
    "\n",
    "要求1：不能跳过任何token\n",
    "<p align=\"center\"> <img src=\"./imgs/微信截图_20230223143030.png\" width=\"400\" /></p>\n",
    "<hr/>\n",
    "\n",
    "要求2：在不同位置，能走的方式是不同的。    \n",
    "\n",
    "- 最开始的时候可以走φ，也可以走第一个token.\n",
    "- 在token行的时候，可以走重复，可以走φ，还可以走next token.\n",
    "- 在φ行的时候收到要求1的限制，不能跳过token。\n",
    "<p align=\"center\"> <img src=\"./imgs/微信截图_20230223143043.png\" width=\"400\" /></p>\n",
    "<hr/>\n",
    "\n",
    "要求3：如果target中有连续重复的类别时，不能直接跳到下一个token，因为这会妨碍以后的去重（导致无法识别叠词）。    \n",
    "<p align=\"center\"> <img src=\"./imgs/微信截图_20230223143206.png\" width=\"400\" /></p>\n",
    "<hr/>\n",
    "\n",
    "合法序列举例：\n",
    "<p align=\"center\"> <img src=\"./imgs/微信截图_20230223143148.png\" width=\"400\" /></p>\n",
    "<hr/>\n",
    "\n",
    "下面展示实际计算的过程（为了简洁，我们举一个比较简单的例子）：\n",
    "<p align=\"center\">\n",
    "<img src=\"./imgs/CTCLoss.svg\"\n",
    "    width=\"700\" /></p>\n"
   ]
  },
  {
   "cell_type": "code",
   "execution_count": 118,
   "id": "c2da74c6",
   "metadata": {},
   "outputs": [
    {
     "name": "stdout",
     "output_type": "stream",
     "text": [
      "input:\n",
      " tensor([[-2.2892, -0.1069],\n",
      "        [-1.6550, -0.2121]], requires_grad=True) \n",
      "\n",
      "loss:\n",
      " tensor(0.0196, grad_fn=<MeanBackward0>) \n",
      "\n"
     ]
    }
   ],
   "source": [
    "# 调包计算\n",
    "import torch\n",
    "import torch.nn as nn\n",
    "torch.manual_seed(666)\n",
    "\n",
    "# Target are to be un-padded and unbatched (effectively N=1)\n",
    "T = 2      # Input sequence length\n",
    "C = 2      # Number of classes (including blank)\n",
    "\n",
    "# Initialize random batch of input vectors, for *size = (T,C)\n",
    "input = torch.randn(T, C).log_softmax(1).detach().requires_grad_()\n",
    "input_lengths = torch.tensor(T, dtype=torch.long)\n",
    "\n",
    "# # Initialize random batch of targets (0 = blank, 1:C = classes)\n",
    "target_lengths = torch.randint(low=1, high=T, size=(), dtype=torch.long)\n",
    "target = torch.randint(low=1, high=C, size=(target_lengths,), dtype=torch.long)\n",
    "ctc_loss = nn.CTCLoss(blank=0, reduction='mean', zero_infinity=False)\n",
    "loss = ctc_loss(input, target, input_lengths, target_lengths)\n",
    "loss.backward()\n",
    "\n",
    "\n",
    "print(\"input:\\n\", input, \"\\n\")\n",
    "print(\"loss:\\n\", loss, \"\\n\")\n",
    "\n",
    "# target\n"
   ]
  },
  {
   "cell_type": "code",
   "execution_count": 109,
   "id": "d17e6b09",
   "metadata": {},
   "outputs": [
    {
     "data": {
      "text/plain": [
       "0.01961900455208171"
      ]
     },
     "execution_count": 109,
     "metadata": {},
     "output_type": "execute_result"
    }
   ],
   "source": [
    "# 手工计算\n",
    "import math\n",
    "\n",
    "def logsumexp(*args):\n",
    "    \"\"\" Stable log sum exp. ref: https://zhuanlan.zhihu.com/p/153535799 \"\"\"\n",
    "    if all(a == -float(\"inf\") for a in args):\n",
    "        return -float(\"inf\")\n",
    "    a_max = max(args)\n",
    "    lsp = math.log(sum(math.exp(a - a_max)\n",
    "                    for a in args))\n",
    "    return a_max + lsp\n",
    "\n",
    "p_φ1 = -2.2892 -0.2121\n",
    "p_11 = -0.1069 -0.2121\n",
    "p_φ1_and_p_11 = logsumexp(p_φ1,p_11)\n",
    "\n",
    "p_1φ = -0.1069 -1.6550\n",
    "\n",
    "p_all = logsumexp(p_1φ,p_φ1_and_p_11)\n",
    "-p_all # 概率的相反数当做loss，可以看到和调包计算结果一致"
   ]
  },
  {
   "attachments": {},
   "cell_type": "markdown",
   "id": "73faafdd",
   "metadata": {},
   "source": [
    "# 参考资料\n",
    "https://www.youtube.com/watch?v=5SSVra6IJY4&list=PLJV_el3uVTsO07RpBYFsXg-bN5Lu0nhdG&index=7\n",
    "\n",
    "https://zhuanlan.zhihu.com/p/153535799"
   ]
  },
  {
   "cell_type": "code",
   "execution_count": 114,
   "id": "581e6075",
   "metadata": {},
   "outputs": [
    {
     "data": {
      "text/plain": [
       "tensor(18.0198, grad_fn=<MeanBackward0>)"
      ]
     },
     "execution_count": 114,
     "metadata": {},
     "output_type": "execute_result"
    }
   ],
   "source": [
    "# Target are to be un-padded and unbatched (effectively N=1)\n",
    "T = 50      # Input sequence length\n",
    "C = 20      # Number of classes (including blank)\n",
    "\n",
    "# Initialize random batch of input vectors, for *size = (T,C)\n",
    "input = torch.randn(T, C).log_softmax(1).detach().requires_grad_()\n",
    "input_lengths = torch.tensor(T, dtype=torch.long)\n",
    "\n",
    "# Initialize random batch of targets (0 = blank, 1:C = classes)\n",
    "target_lengths = torch.randint(low=1, high=T, size=(), dtype=torch.long)\n",
    "target = torch.randint(low=1, high=C, size=(target_lengths,), dtype=torch.long)\n",
    "ctc_loss = nn.CTCLoss()\n",
    "loss = ctc_loss(input, target, input_lengths, target_lengths)\n",
    "loss.backward()\n",
    "loss"
   ]
  }
 ],
 "metadata": {
  "kernelspec": {
   "display_name": "Python 3.8.13 ('general38')",
   "language": "python",
   "name": "python3"
  },
  "language_info": {
   "codemirror_mode": {
    "name": "ipython",
    "version": 3
   },
   "file_extension": ".py",
   "mimetype": "text/x-python",
   "name": "python",
   "nbconvert_exporter": "python",
   "pygments_lexer": "ipython3",
   "version": "3.8.13"
  },
  "vscode": {
   "interpreter": {
    "hash": "4e00c79739f2fdf113306667eb0b8e68d4274855301e6df90bc305a954991b52"
   }
  }
 },
 "nbformat": 4,
 "nbformat_minor": 5
}
