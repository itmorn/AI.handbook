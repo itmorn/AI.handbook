{
 "cells": [
  {
   "attachments": {},
   "cell_type": "markdown",
   "id": "6c202a11",
   "metadata": {},
   "source": [
    "[![](https://colab.research.google.com/assets/colab-badge.svg)](https://colab.research.google.com/github/itmorn/AI.handbook/blob/main/DL/torch/nn/LossFunction/CosineEmbeddingLoss.ipynb)"
   ]
  },
  {
   "attachments": {},
   "cell_type": "markdown",
   "id": "14a8662b",
   "metadata": {},
   "source": [
    "# CosineEmbeddingLoss\n",
    "评价两个向量的相似度，标签y=1是，表示应该相似，y=-1时表示应该疏远。\n",
    "\n",
    "$$\\text{loss}(x, y) =\n",
    "        \\begin{cases}\n",
    "        1 - \\cos(x_1, x_2), & \\text{if } y = 1 \\\\\n",
    "        \\max(0, \\cos(x_1, x_2) - \\text{margin}), & \\text{if } y = -1\n",
    "\\end{cases}$$\n",
    "\n",
    "\n",
    "**定义**：  \n",
    "torch.nn.CosineEmbeddingLoss(margin=0.0, size_average=None, reduce=None, reduction='mean')\n",
    "\n",
    "**参数**:  \n",
    "- margin (float, optional) – Should be a number from -1 to 1, 0 to 0.5 is suggested. If margin is missing, the default value is 0.\n",
    "\n",
    "参考 CrossEntropyLoss部分"
   ]
  },
  {
   "cell_type": "code",
   "execution_count": 20,
   "id": "d011221f",
   "metadata": {},
   "outputs": [
    {
     "name": "stdout",
     "output_type": "stream",
     "text": [
      "input1:\n",
      " tensor([[-2.1188,  0.0635, -1.4555, -0.0126, -0.1548],\n",
      "        [-0.0927,  2.5916,  0.4542, -0.6890, -0.9962],\n",
      "        [ 0.1856,  0.1476,  0.8628,  0.2379, -0.5260]], requires_grad=True) \n",
      "\n",
      "input2:\n",
      " tensor([[-0.1043, -0.5187,  0.1231,  0.0755,  0.7091],\n",
      "        [-1.0812, -0.6668, -0.8967,  0.7272,  1.4582],\n",
      "        [-0.0018,  0.6660,  1.4064, -0.1019, -0.1370]], requires_grad=True) \n",
      "\n",
      "target:\n",
      " tensor([-1.,  1.,  1.]) \n",
      "\n",
      "output:\n",
      " tensor(0.5986, grad_fn=<MeanBackward0>) \n",
      "\n"
     ]
    },
    {
     "data": {
      "text/plain": [
       "tensor([-0.6111,  0.8154], grad_fn=<IndexBackward0>)"
      ]
     },
     "execution_count": 20,
     "metadata": {},
     "output_type": "execute_result"
    }
   ],
   "source": [
    "import torch\n",
    "import torch.nn as nn\n",
    "torch.manual_seed(666)\n",
    "margin=1\n",
    "loss = nn.CosineEmbeddingLoss(margin=margin)\n",
    "input1 = torch.randn(3,5, requires_grad=True) #N,D\n",
    "input2 = torch.randn(3,5, requires_grad=True)\n",
    "target = torch.randn(3).sign()\n",
    "print(\"input1:\\n\", input1, \"\\n\")\n",
    "print(\"input2:\\n\", input2, \"\\n\")\n",
    "print(\"target:\\n\", target, \"\\n\")\n",
    "\n",
    "output = loss(input1, input2, target)\n",
    "print(\"output:\\n\", output, \"\\n\")\n",
    "\n",
    "prod_sum = (input1 * input2).sum(dim=1)\n",
    "mag_square1 = (input1 * input1).sum(dim=1)\n",
    "mag_square2 = (input2 * input2).sum(dim=1)\n",
    "denom = (mag_square1 * mag_square2).sqrt()\n",
    "cos = prod_sum / denom\n",
    "\n",
    "zeros = torch.zeros_like(cos)\n",
    "pos = 1 - cos\n",
    "neg = (cos - margin).clip(min=0)\n",
    "output_pos = torch.where(target == 1, pos, zeros)\n",
    "output_neg = torch.where(target == -1, neg, zeros)\n",
    "output = output_pos + output_neg\n",
    "output.mean()  # 和调包结果一致 "
   ]
  }
 ],
 "metadata": {
  "kernelspec": {
   "display_name": "Python 3.8.13 ('general38')",
   "language": "python",
   "name": "python3"
  },
  "language_info": {
   "codemirror_mode": {
    "name": "ipython",
    "version": 3
   },
   "file_extension": ".py",
   "mimetype": "text/x-python",
   "name": "python",
   "nbconvert_exporter": "python",
   "pygments_lexer": "ipython3",
   "version": "3.8.13"
  },
  "vscode": {
   "interpreter": {
    "hash": "4e00c79739f2fdf113306667eb0b8e68d4274855301e6df90bc305a954991b52"
   }
  }
 },
 "nbformat": 4,
 "nbformat_minor": 5
}
