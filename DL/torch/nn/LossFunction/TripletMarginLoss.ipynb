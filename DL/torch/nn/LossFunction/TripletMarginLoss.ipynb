{
 "cells": [
  {
   "attachments": {},
   "cell_type": "markdown",
   "id": "6c202a11",
   "metadata": {},
   "source": [
    "[![](https://colab.research.google.com/assets/colab-badge.svg)](https://colab.research.google.com/github/itmorn/AI.handbook/blob/main/DL/torch/nn/LossFunction/TripletMarginLoss.ipynb)"
   ]
  },
  {
   "attachments": {},
   "cell_type": "markdown",
   "id": "14a8662b",
   "metadata": {},
   "source": [
    "# TripletMarginLoss\n",
    "三元组损失. 由 a, p 和 n构成(anchor, positive 和 negative). 让a和p更近，a和n更远。典型应用场景：人脸识别\n",
    "\n",
    "$$L(a, p, n) = \\max \\{d(a_i, p_i) - d(a_i, n_i) + {\\rm margin}, 0\\}.$$\n",
    "$$其中，d(x_i, y_i) = \\left\\lVert {\\bf x}_i - {\\bf y}_i \\right\\rVert_p$$\n",
    "\n",
    "**定义**：  \n",
    "torch.nn.TripletMarginLoss(margin=1.0, p=2.0, eps=1e-06, swap=False, size_average=None, reduce=None, reduction='mean')\n",
    "\n",
    "**参数**:  \n",
    "- margin (float, optional) – Has a default value of 1.\n",
    "\n",
    "- p (int, optional) – The norm degree for pairwise distance. Default: 2\n",
    "\n",
    "- swap (bool, optional) – The distance swap is described in detail in the paper Learning shallow convolutional feature descriptors with triplet losses by V. Balntas, E. Riba et al. Default: False.\n",
    "在计算 TripletMarginLoss 时，我们通常使用一种称为 swap 的技巧来提高训练效果。swap 技巧是指对于每个 anchor，我们随机选择一个与之同类别的样本作为 positive，随机选择一个与之不同类别的样本作为 negative，然后计算损失函数。然后，我们再次对同一组三元组进行计算，但是这一次交换 anchor 和 positive 的位置，即 (positive, anchor, negative)，再次计算损失函数。最终的损失函数是这两次计算的损失函数的最大值。swap 技巧的作用是增加训练样本的多样性，以便网络可以更好地学习数据的分布情况。通过随机选择 positive 和 negative 样本，并交换 anchor 和 positive 的位置，可以增加训练样本的数量，并且可以使得网络更加鲁棒，从而提高训练效果。\n",
    "\n",
    "- reduction (str, optional) – Specifies the reduction to apply to the output: 'none' | 'mean' | 'sum'.   指定应用于输出的reduce方式:'none' | 'mean' | 'sum'。\n"
   ]
  },
  {
   "cell_type": "code",
   "execution_count": 14,
   "id": "d011221f",
   "metadata": {},
   "outputs": [
    {
     "name": "stdout",
     "output_type": "stream",
     "text": [
      "anchor:\n",
      " tensor([[-2.1188,  0.0635, -1.4555, -0.0126, -0.1548]], requires_grad=True) \n",
      "\n",
      "positive:\n",
      " tensor([[-0.0927,  2.5916,  0.4542, -0.6890, -0.9962]], requires_grad=True) \n",
      "\n",
      "negative:\n",
      " tensor([[ 0.1856,  0.1476,  0.8628,  0.2379, -0.5260]], requires_grad=True) \n",
      "\n",
      "loss:\n",
      " tensor(1.6122, grad_fn=<MeanBackward0>) \n",
      "\n"
     ]
    },
    {
     "data": {
      "text/plain": [
       "tensor([1.6122], grad_fn=<ClampBackward1>)"
      ]
     },
     "execution_count": 14,
     "metadata": {},
     "output_type": "execute_result"
    }
   ],
   "source": [
    "import torch\n",
    "import torch.nn as nn\n",
    "torch.manual_seed(666)\n",
    "margin=1.0\n",
    "eps = 0\n",
    "p=2\n",
    "triplet_loss = nn.TripletMarginLoss(margin=margin, p=p,eps=eps)\n",
    "anchor = torch.randn(1, 5, requires_grad=True) # N,D\n",
    "positive = torch.randn(1, 5, requires_grad=True)\n",
    "negative = torch.randn(1, 5, requires_grad=True)\n",
    "print(\"anchor:\\n\", anchor, \"\\n\")\n",
    "print(\"positive:\\n\", positive, \"\\n\")\n",
    "print(\"negative:\\n\", negative, \"\\n\")\n",
    "\n",
    "loss = triplet_loss(anchor, positive, negative)\n",
    "print(\"loss:\\n\", loss, \"\\n\")\n",
    "dist_pos = torch.pairwise_distance(anchor, positive, p, eps)  # ((anchor-positive)**p).sum()**(1/p)\n",
    "dist_neg  = torch.pairwise_distance(anchor, negative, p, eps)\n",
    "(margin + dist_pos - dist_neg).clip(min=0)"
   ]
  }
 ],
 "metadata": {
  "kernelspec": {
   "display_name": "Python 3.8.13 ('general38')",
   "language": "python",
   "name": "python3"
  },
  "language_info": {
   "codemirror_mode": {
    "name": "ipython",
    "version": 3
   },
   "file_extension": ".py",
   "mimetype": "text/x-python",
   "name": "python",
   "nbconvert_exporter": "python",
   "pygments_lexer": "ipython3",
   "version": "3.8.13"
  },
  "vscode": {
   "interpreter": {
    "hash": "4e00c79739f2fdf113306667eb0b8e68d4274855301e6df90bc305a954991b52"
   }
  }
 },
 "nbformat": 4,
 "nbformat_minor": 5
}
