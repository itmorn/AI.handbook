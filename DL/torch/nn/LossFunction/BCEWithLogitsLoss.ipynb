{
 "cells": [
  {
   "attachments": {},
   "cell_type": "markdown",
   "id": "6c202a11",
   "metadata": {},
   "source": [
    "[![](https://colab.research.google.com/assets/colab-badge.svg)](https://colab.research.google.com/github/itmorn/AI.handbook/blob/main/DL/torch/nn/LossFunction/BCEWithLogitsLoss.ipynb)"
   ]
  },
  {
   "attachments": {},
   "cell_type": "markdown",
   "id": "14a8662b",
   "metadata": {},
   "source": [
    "# BCEWithLogitsLoss\n",
    "创建一个标准来测量目标和输入概率之间的二进制交叉熵（Binary Cross Entropy）。\n",
    "\n",
    "**定义**：  \n",
    "torch.nn.BCEWithLogitsLoss(weight=None, size_average=None, reduce=None, reduction='mean', pos_weight=None)\n",
    "\n",
    "**参数**:  \n",
    "- weight (Tensor, optional) – a manual rescaling weight given to each class. If given, has to be a Tensor of size C  给每个类一个手动缩放的权重。如果给定，必须是一个大小为C的张量\n",
    "\n",
    "- reduction (str, optional) – Specifies the reduction to apply to the output: 'none' | 'mean' | 'sum'.   指定应用于输出的缩减:'none' | 'mean' | 'sum'。\n",
    "\n",
    "- pos_weight (Tensor, optional) – a weight of positive examples. Must be a vector with length equal to the number of classes.  正示例的权重。必须是长度等于类数的向量。"
   ]
  },
  {
   "cell_type": "code",
   "execution_count": 4,
   "id": "d011221f",
   "metadata": {},
   "outputs": [
    {
     "name": "stdout",
     "output_type": "stream",
     "text": [
      "input:\n",
      " tensor([-2.1188,  0.0635, -1.4555], requires_grad=True) \n",
      "\n",
      "target:\n",
      " tensor([0., 1., 1.]) \n",
      "\n",
      "loss:\n",
      " tensor(0.8135, grad_fn=<BinaryCrossEntropyWithLogitsBackward0>) \n",
      "\n",
      "pred_hand:\n",
      " tensor([0.1073, 0.5159, 0.1892], grad_fn=<SigmoidBackward0>) 可以看到和pred一致\n",
      "\n",
      "loss_hand:\n",
      " tensor(0.8135, grad_fn=<NegBackward0>) 可以看到和loss一致\n",
      "\n"
     ]
    }
   ],
   "source": [
    "import torch\n",
    "import torch.nn as nn\n",
    "torch.manual_seed(666)\n",
    "\n",
    "loss = nn.BCEWithLogitsLoss()\n",
    "input = torch.randn(3, requires_grad=True)\n",
    "print(\"input:\\n\", input, \"\\n\")\n",
    "\n",
    "target = torch.empty(3).random_(2)\n",
    "print(\"target:\\n\", target, \"\\n\")\n",
    "\n",
    "loss = loss(input, target)\n",
    "loss.backward()\n",
    "print(\"loss:\\n\", loss, \"\\n\")\n",
    "\n",
    "# // Binary cross entropy tensor is defined by the equation:\n",
    "# https://github.com/pytorch/pytorch/blob/c0fa0669f66b697995389cc80dea8990b792de16/aten/src/ATen/native/Loss.cpp\n",
    "# // L = -w (y ln(x) + (1-y) ln(1-x))\n",
    "\n",
    "x = input.sigmoid()\n",
    "print(\"pred_hand:\\n\", x, \"可以看到和pred一致\\n\")\n",
    "print(\"loss_hand:\\n\", -(x.log()*target+(1-x).log()*(1-target)).mean(), \"可以看到和loss一致\\n\")\n",
    "\n",
    "# 其实就是比BCELoss()少了一个Sigmoid()"
   ]
  }
 ],
 "metadata": {
  "kernelspec": {
   "display_name": "Python 3.8.13 ('general38')",
   "language": "python",
   "name": "python3"
  },
  "language_info": {
   "codemirror_mode": {
    "name": "ipython",
    "version": 3
   },
   "file_extension": ".py",
   "mimetype": "text/x-python",
   "name": "python",
   "nbconvert_exporter": "python",
   "pygments_lexer": "ipython3",
   "version": "3.8.13"
  },
  "vscode": {
   "interpreter": {
    "hash": "4e00c79739f2fdf113306667eb0b8e68d4274855301e6df90bc305a954991b52"
   }
  }
 },
 "nbformat": 4,
 "nbformat_minor": 5
}
