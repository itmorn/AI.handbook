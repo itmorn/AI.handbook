{
 "cells": [
  {
   "attachments": {},
   "cell_type": "markdown",
   "id": "6c202a11",
   "metadata": {},
   "source": [
    "[![](https://colab.research.google.com/assets/colab-badge.svg)](https://colab.research.google.com/github/itmorn/AI.handbook/blob/main/DL/torch/nn/LossFunction/MultiMarginLoss.ipynb)"
   ]
  },
  {
   "attachments": {},
   "cell_type": "markdown",
   "id": "14a8662b",
   "metadata": {},
   "source": [
    "# MultiMarginLoss\n",
    "用于多分类的合页损失\n",
    "\n",
    "比如预测值为[0.1, 0.2, 0.4, 0.8]，每个值表示预测为某个类别的概率，如果使用合页损失，就意味着还想要让0.8比其他的数更大（假设3是target）\n",
    "\n",
    "$$\\text{loss}(x, y) = \\frac{\\sum_i \\max(0, \\text{margin} - x[y] + x[i])^p}{\\text{x.size}(0)}$$\n",
    "y是真实标签的索引，x表示预测为某个类别的概率\n",
    "\n",
    "**定义**：  \n",
    "torch.nn.MultiMarginLoss(p=1, margin=1.0, weight=None, size_average=None, reduce=None, reduction='mean')\n",
    "\n",
    "**参数**:  \n",
    "- p (int, optional) – Has a default value of 1. 1 and 2 are the only supported values.\n",
    "\n",
    "- margin (float, optional) – Has a default value of 1.\n",
    "\n",
    "参考 CrossEntropyLoss部分"
   ]
  },
  {
   "cell_type": "code",
   "execution_count": 12,
   "id": "d011221f",
   "metadata": {},
   "outputs": [
    {
     "name": "stdout",
     "output_type": "stream",
     "text": [
      "loss:\n",
      " tensor(0.3250) \n",
      "\n"
     ]
    },
    {
     "data": {
      "text/plain": [
       "0.32499999999999996"
      ]
     },
     "execution_count": 12,
     "metadata": {},
     "output_type": "execute_result"
    }
   ],
   "source": [
    "import torch\n",
    "import torch.nn as nn\n",
    "torch.manual_seed(666)\n",
    "margin = 1\n",
    "loss = nn.MultiMarginLoss(margin=margin)\n",
    "x = torch.tensor([0.1, 0.2, 0.4, 0.8])  # x表示预测为某个类别的概率\n",
    "y = torch.tensor([3])  # y是真实标签的索引\n",
    "print(\"loss:\\n\", loss(x, y), \"\\n\")\n",
    "# https://github.com/pytorch/pytorch/blob/c0fa0669f66b697995389cc80dea8990b792de16/aten/src/ATen/native/LossMultiMargin.cpp#L37\n",
    "((margin-(0.8-0.1)) + (margin-(0.8-0.2)) + (margin-(0.8-0.4)))/len(x)"
   ]
  }
 ],
 "metadata": {
  "kernelspec": {
   "display_name": "Python 3.8.13 ('general38')",
   "language": "python",
   "name": "python3"
  },
  "language_info": {
   "codemirror_mode": {
    "name": "ipython",
    "version": 3
   },
   "file_extension": ".py",
   "mimetype": "text/x-python",
   "name": "python",
   "nbconvert_exporter": "python",
   "pygments_lexer": "ipython3",
   "version": "3.8.13"
  },
  "vscode": {
   "interpreter": {
    "hash": "4e00c79739f2fdf113306667eb0b8e68d4274855301e6df90bc305a954991b52"
   }
  }
 },
 "nbformat": 4,
 "nbformat_minor": 5
}
