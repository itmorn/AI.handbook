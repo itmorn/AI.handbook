{
 "cells": [
  {
   "attachments": {},
   "cell_type": "markdown",
   "id": "6c202a11",
   "metadata": {},
   "source": [
    "[![](https://colab.research.google.com/assets/colab-badge.svg)](https://colab.research.google.com/github/itmorn/AI.handbook/blob/main/DL/torch/nn/LossFunction/NLLLoss.ipynb)"
   ]
  },
  {
   "attachments": {},
   "cell_type": "markdown",
   "id": "14a8662b",
   "metadata": {},
   "source": [
    "# NLLLoss\n",
    "CrossEntropyLoss = softmax变换 + log变换 + NLLLoss计算\n",
    "\n",
    "**定义**：  \n",
    "torch.nn.NLLLoss(weight=None, size_average=None, ignore_index=- 100, reduce=None, reduction='mean')\n",
    "\n",
    "**参数**:  \n",
    "- weight (Tensor, optional) – a manual rescaling weight given to each class. If given, has to be a Tensor of size C  给每个类一个手动缩放的权重。如果给定，必须是一个大小为C的张量\n",
    "\n",
    "- ignore_index (int, optional) – Specifies a target value that is ignored and does not contribute to the input gradient. When size_average is True, the loss is averaged over non-ignored targets. Note that ignore_index is only applicable when the target contains class indices.  指定一个目标值，该目标值被忽略，不影响输入梯度。\n",
    "\n",
    "- reduction (str, optional) – Specifies the reduction to apply to the output: 'none' | 'mean' | 'sum'.   指定应用于输出的reduce方式:'none' | 'mean' | 'sum'。"
   ]
  },
  {
   "cell_type": "code",
   "execution_count": 1,
   "id": "d011221f",
   "metadata": {},
   "outputs": [
    {
     "name": "stdout",
     "output_type": "stream",
     "text": [
      "cross_loss(input, target):\n",
      " tensor(1.1192, grad_fn=<NllLossBackward0>) \n",
      "\n",
      "nllloss(predict, target):\n",
      " tensor(1.1192, grad_fn=<NllLossBackward0>) \n",
      "\n"
     ]
    }
   ],
   "source": [
    "import torch\n",
    "import torch.nn as nn\n",
    "torch.manual_seed(666)\n",
    "\n",
    "cross_loss  = nn.CrossEntropyLoss(reduction='mean')\n",
    "nllloss  = nn.NLLLoss()\n",
    "\n",
    "N = 1\n",
    "C = 5 #num_classes\n",
    "input = torch.randn(N, C, requires_grad=True)\n",
    "\n",
    "target = torch.empty(N, dtype=torch.long).random_(5)  # nllloss仅支持target是类别索引的方式\n",
    "\n",
    "print(\"cross_loss(input, target):\\n\", cross_loss(input, target), \"\\n\")\n",
    "\n",
    "input2 = torch.log(torch.softmax(input, dim=-1))\n",
    "print(\"nllloss(predict, target):\\n\", nllloss(input2, target), \"\\n\")\n",
    "\n",
    "# CrossEntropyLoss = softmax变换 + log变换 + NLLLoss计算"
   ]
  }
 ],
 "metadata": {
  "kernelspec": {
   "display_name": "Python 3.8.13 ('general38')",
   "language": "python",
   "name": "python3"
  },
  "language_info": {
   "codemirror_mode": {
    "name": "ipython",
    "version": 3
   },
   "file_extension": ".py",
   "mimetype": "text/x-python",
   "name": "python",
   "nbconvert_exporter": "python",
   "pygments_lexer": "ipython3",
   "version": "3.8.13"
  },
  "vscode": {
   "interpreter": {
    "hash": "4e00c79739f2fdf113306667eb0b8e68d4274855301e6df90bc305a954991b52"
   }
  }
 },
 "nbformat": 4,
 "nbformat_minor": 5
}
