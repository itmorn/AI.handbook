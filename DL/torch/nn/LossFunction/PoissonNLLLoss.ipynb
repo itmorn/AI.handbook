{
 "cells": [
  {
   "attachments": {},
   "cell_type": "markdown",
   "id": "6c202a11",
   "metadata": {},
   "source": [
    "[![](https://colab.research.google.com/assets/colab-badge.svg)](https://colab.research.google.com/github/itmorn/AI.handbook/blob/main/DL/torch/nn/LossFunction/PoissonNLLLoss.ipynb)"
   ]
  },
  {
   "attachments": {},
   "cell_type": "markdown",
   "id": "14a8662b",
   "metadata": {},
   "source": [
    "# PoissonNLLLoss\n",
    "\n",
    "**定义**：  \n",
    "torch.nn.PoissonNLLLoss(log_input=True, full=False, size_average=None, eps=1e-08, reduce=None, reduction='mean')\n",
    "**参数**:  \n",
    "参考 CrossEntropyLoss部分"
   ]
  },
  {
   "cell_type": "code",
   "execution_count": 7,
   "id": "d011221f",
   "metadata": {},
   "outputs": [
    {
     "name": "stdout",
     "output_type": "stream",
     "text": [
      "log_input:\n",
      " tensor([[-2.1188,  0.0635],\n",
      "        [-1.4555, -0.0126],\n",
      "        [-0.1548, -0.0927],\n",
      "        [ 2.5916,  0.4542],\n",
      "        [-0.6890, -0.9962]], requires_grad=True) \n",
      "\n",
      "target:\n",
      " tensor([[ 0.1856,  0.1476],\n",
      "        [ 0.8628,  0.2379],\n",
      "        [-0.5260, -0.1043],\n",
      "        [-0.5187,  0.1231],\n",
      "        [ 0.0755,  0.7091]]) \n",
      "\n",
      "loss:\n",
      " tensor(2.3570, grad_fn=<MeanBackward0>) \n",
      "\n"
     ]
    },
    {
     "data": {
      "text/plain": [
       "tensor(2.3570, grad_fn=<MeanBackward0>)"
      ]
     },
     "execution_count": 7,
     "metadata": {},
     "output_type": "execute_result"
    }
   ],
   "source": [
    "import torch\n",
    "import torch.nn as nn\n",
    "torch.manual_seed(666)\n",
    "\n",
    "loss = nn.PoissonNLLLoss()\n",
    "log_input = torch.randn(5, 2, requires_grad=True)\n",
    "print(\"log_input:\\n\", log_input, \"\\n\")\n",
    "\n",
    "target = torch.randn(5, 2)\n",
    "print(\"target:\\n\", target, \"\\n\")\n",
    "\n",
    "loss = loss(log_input, target)\n",
    "loss.backward()\n",
    "print(\"loss:\\n\", loss, \"\\n\")\n",
    "\n",
    "\n",
    "# loss = at::exp(input) - target * input;\n",
    "(log_input.exp()-target * log_input).mean()\n"
   ]
  }
 ],
 "metadata": {
  "kernelspec": {
   "display_name": "Python 3.8.13 ('general38')",
   "language": "python",
   "name": "python3"
  },
  "language_info": {
   "codemirror_mode": {
    "name": "ipython",
    "version": 3
   },
   "file_extension": ".py",
   "mimetype": "text/x-python",
   "name": "python",
   "nbconvert_exporter": "python",
   "pygments_lexer": "ipython3",
   "version": "3.8.13"
  },
  "vscode": {
   "interpreter": {
    "hash": "4e00c79739f2fdf113306667eb0b8e68d4274855301e6df90bc305a954991b52"
   }
  }
 },
 "nbformat": 4,
 "nbformat_minor": 5
}
