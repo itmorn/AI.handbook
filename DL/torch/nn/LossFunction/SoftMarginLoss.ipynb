{
 "cells": [
  {
   "attachments": {},
   "cell_type": "markdown",
   "id": "6c202a11",
   "metadata": {},
   "source": [
    "[![](https://colab.research.google.com/assets/colab-badge.svg)](https://colab.research.google.com/github/itmorn/AI.handbook/blob/main/DL/torch/nn/LossFunction/SoftMarginLoss.ipynb)"
   ]
  },
  {
   "attachments": {},
   "cell_type": "markdown",
   "id": "14a8662b",
   "metadata": {},
   "source": [
    "# SoftMarginLoss\n",
    "创建一个标准，优化输入张量x和目标张量y(包含1或-1)之间的两类分类逻辑损失。\n",
    "\n",
    "\n",
    "一般来说，如果你的分类问题是二分类问题，即每个样本只能属于两个类别之一，那么可以使用SoftMarginLoss作为损失函数。例如，在肿瘤分类问题中，每个病例只能被归类为恶性或良性。\n",
    "\n",
    "如果你的分类问题是多分类问题，即每个样本可以属于多个类别之一，那么可以使用CrossEntropyLoss作为损失函数。例如，在手写数字识别问题中，每个图像可能是0到9之间的任意数字。\n",
    "\n",
    "需要注意的是，SoftMarginLoss在训练期间对于错误预测的惩罚更大，因此对于二分类问题可能更加适用。另一方面，CrossEntropyLoss对所有预测的类别进行了考虑，因此在多分类问题中更为适用。\n",
    "\n",
    "\n",
    "$$\\text{loss}(x, y) = \\sum_i \\frac{\\log(1 + \\exp(-y[i]*x[i]))}{\\text{x.nelement}()}$$\n",
    "\n",
    "**定义**：  \n",
    "torch.nn.SoftMarginLoss(size_average=None, reduce=None, reduction='mean')\n",
    "\n",
    "**参数**:  \n",
    "- reduction (str, optional) – Specifies the reduction to apply to the output: 'none' | 'mean' | 'sum'.   指定应用于输出的缩减:'none' | 'mean' | 'sum'。"
   ]
  },
  {
   "cell_type": "code",
   "execution_count": 6,
   "id": "647cbe2d",
   "metadata": {},
   "outputs": [
    {
     "name": "stdout",
     "output_type": "stream",
     "text": [
      "SoftMarginLoss: 0.33774515986442566\n"
     ]
    },
    {
     "data": {
      "text/plain": [
       "tensor(0.3377)"
      ]
     },
     "execution_count": 6,
     "metadata": {},
     "output_type": "execute_result"
    }
   ],
   "source": [
    "import torch\n",
    "import torch.nn as nn\n",
    "\n",
    "# 定义数据和预测值\n",
    "x = torch.tensor([[1.5, -0.5]])\n",
    "y = torch.tensor([1, -1])\n",
    "\n",
    "# 定义SoftMarginLoss\n",
    "criterion = nn.SoftMarginLoss()\n",
    "\n",
    "# 计算损失\n",
    "loss = criterion(x, y)\n",
    "\n",
    "print('SoftMarginLoss:', loss.item())\n",
    "\n",
    "output = torch.log1p(torch.exp(-x * y))\n",
    "output.mean()"
   ]
  }
 ],
 "metadata": {
  "kernelspec": {
   "display_name": "Python 3.8.13 ('general38')",
   "language": "python",
   "name": "python3"
  },
  "language_info": {
   "codemirror_mode": {
    "name": "ipython",
    "version": 3
   },
   "file_extension": ".py",
   "mimetype": "text/x-python",
   "name": "python",
   "nbconvert_exporter": "python",
   "pygments_lexer": "ipython3",
   "version": "3.8.13"
  },
  "vscode": {
   "interpreter": {
    "hash": "4e00c79739f2fdf113306667eb0b8e68d4274855301e6df90bc305a954991b52"
   }
  }
 },
 "nbformat": 4,
 "nbformat_minor": 5
}
