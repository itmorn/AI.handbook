{
 "cells": [
  {
   "attachments": {},
   "cell_type": "markdown",
   "id": "6c202a11",
   "metadata": {},
   "source": [
    "[![](https://colab.research.google.com/assets/colab-badge.svg)](https://colab.research.google.com/github/itmorn/AI.handbook/blob/main/DL/torch/nn/LossFunction/BCELoss.ipynb)"
   ]
  },
  {
   "attachments": {},
   "cell_type": "markdown",
   "id": "14a8662b",
   "metadata": {},
   "source": [
    "# BCELoss\n",
    "BCELoss 的全称为二元交叉熵损失函数（Binary Cross Entropy Loss），是用于二分类问题中的常用损失函数之一。\n",
    "\n",
    "具体而言，给定一个样本的预测值 a 和真实标签 y，BCELoss 可以表示为以下公式：\n",
    "\n",
    "BCELoss = -[y * log(a) + (1-y) * log(1-a)]\n",
    "\n",
    "其中，y_pred 表示模型对样本的预测概率，y_true 表示样本的真实标签，取值为 0 或 1。如果 y_true 为 1，则仅剩下第一项为 y_true * log(y_pred)，反之则仅剩下第二项为 (1-y_true) * log(1-y_pred)。该损失函数的值越小，说明模型的预测结果与真实标签越接近。\n",
    "\n",
    "\n",
    "**定义**：  \n",
    "torch.nn.BCELoss(weight=None, size_average=None, reduce=None, reduction='mean')\n",
    "\n",
    "**参数**:  \n",
    "- weight (Tensor, optional) – a manual rescaling weight given to each class. If given, has to be a Tensor of size C  给每个类一个手动缩放的权重。如果给定，必须是一个大小为C的张量\n",
    "\n",
    "- reduction (str, optional) – Specifies the reduction to apply to the output: 'none' | 'mean' | 'sum'.   指定应用于输出的缩减:'none' | 'mean' | 'sum'。"
   ]
  },
  {
   "attachments": {},
   "cell_type": "markdown",
   "id": "39469c94",
   "metadata": {},
   "source": [
    "# 图解BCELoss的输入\n",
    "<p align=\"center\">\n",
    "<img src=\"./imgs/BCE.svg\"\n",
    "    width=\"1000\" /></p>"
   ]
  },
  {
   "cell_type": "code",
   "execution_count": 4,
   "id": "d011221f",
   "metadata": {},
   "outputs": [
    {
     "name": "stdout",
     "output_type": "stream",
     "text": [
      "input:\n",
      " tensor([-2.1188,  0.0635, -1.4555], requires_grad=True) \n",
      "\n",
      "target:\n",
      " tensor([0., 1., 1.]) \n",
      "\n",
      "bceLoss_:\n",
      " tensor(0.8135, grad_fn=<BinaryCrossEntropyBackward0>) \n",
      "\n",
      "==================================================\n",
      "loss_hand:\n",
      " tensor(0.8135, grad_fn=<NegBackward0>) 可以看到和loss一致\n",
      "\n"
     ]
    }
   ],
   "source": [
    "import torch\n",
    "import torch.nn as nn\n",
    "torch.manual_seed(666)\n",
    "\n",
    "input = torch.randn(3, requires_grad=True)\n",
    "print(\"input:\\n\", input, \"\\n\")\n",
    "\n",
    "target = torch.empty(3).random_(2)\n",
    "print(\"target:\\n\", target, \"\\n\")\n",
    "\n",
    "m = nn.Sigmoid()\n",
    "bceLoss = nn.BCELoss()\n",
    "\n",
    "bceLoss_ = bceLoss(m(input), target)\n",
    "print(\"bceLoss_:\\n\", bceLoss_, \"\\n\")\n",
    "print(\"=\"*50)\n",
    "\n",
    "# // Binary cross entropy tensor is defined by the equation:\n",
    "# https://github.com/pytorch/pytorch/blob/c0fa0669f66b697995389cc80dea8990b792de16/aten/src/ATen/native/Loss.cpp\n",
    "# // L = -w (y ln(x) + (1-y) ln(1-x))\n",
    "x = input.sigmoid()\n",
    "print(\"loss_hand:\\n\", -(x.log()*target+(1-x).log()*(1-target)).mean(), \"可以看到和loss一致\\n\")\n",
    "\n"
   ]
  }
 ],
 "metadata": {
  "kernelspec": {
   "display_name": "Python 3.8.13 ('general38')",
   "language": "python",
   "name": "python3"
  },
  "language_info": {
   "codemirror_mode": {
    "name": "ipython",
    "version": 3
   },
   "file_extension": ".py",
   "mimetype": "text/x-python",
   "name": "python",
   "nbconvert_exporter": "python",
   "pygments_lexer": "ipython3",
   "version": "3.8.13"
  },
  "vscode": {
   "interpreter": {
    "hash": "4e00c79739f2fdf113306667eb0b8e68d4274855301e6df90bc305a954991b52"
   }
  }
 },
 "nbformat": 4,
 "nbformat_minor": 5
}
