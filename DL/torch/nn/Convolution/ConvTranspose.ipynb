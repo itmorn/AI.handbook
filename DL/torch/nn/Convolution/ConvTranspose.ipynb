{
 "cells": [
  {
   "cell_type": "markdown",
   "id": "36e625b5",
   "metadata": {},
   "source": [
    "[![](https://colab.research.google.com/assets/colab-badge.svg)](https://colab.research.google.com/github/itmorn/AI.handbook/blob/main/DL/module/Convolution/ConvTranspose.ipynb)"
   ]
  },
  {
   "cell_type": "markdown",
   "id": "46fba405",
   "metadata": {},
   "source": [
    "# ConvTranspose1d \n",
    "对由多个输入平面组成的输入图像应用1维转置卷积。\n",
    "\n",
    "padding (int or tuple, optional): ``dilation * (kernel_size - 1) - padding`` zero-padding will be added to both sides of the input. Default: 0\n",
    "output_padding (int or tuple, optional): Additional size added to one side\n",
    "    of the output shape. Default: 0\n",
    "\n",
    "定义：   \n",
    "torch.nn.ConvTranspose1d(in_channels, out_channels, kernel_size, stride=1, padding=0, output_padding=0, groups=1, bias=True, dilation=1, padding_mode='zeros', device=None, dtype=None)\n",
    "\n",
    "参数：  \n",
    "in_channels (int): Number of channels in the input image\n",
    "输入图像中的通道数\n",
    "\n",
    "out_channels (int): Number of channels produced by the convolution\n",
    "卷积产生的通道数\n",
    "\n",
    "kernel_size (int or tuple): Size of the convolving kernel\n",
    "卷积核的大小\n",
    "\n",
    "stride (int or tuple, optional): Stride of the convolution. Default: 1\n",
    "卷积步幅。默认值:1\n",
    "\n",
    "padding (int or tuple, optional): ``dilation * (kernel_size - 1) - padding`` zero-padding will be added to both sides of the input. Default: 0\n",
    "输入框两边的添加的Padding尺寸。默认值:0\n",
    "\n",
    "padding_mode (str, optional): ``'zeros'``, ``'reflect'``, ``'replicate'`` or ``'circular'``. Default: ``'zeros'``\n",
    "添加Padding的方式\n",
    "\n",
    "dilation (int or tuple, optional): Spacing between kernel elements. Default: 1\n",
    "卷积核元素之间的间距\n",
    "\n",
    "groups (int, optional): Number of blocked connections from input channels to output channels. Default: 1\n",
    "分组卷积\n",
    "\n",
    "bias (bool, optional): If ``True``, adds a learnable bias to the output. Default: ``True``\n",
    "添加一个可学习的偏置项\n",
    "\n"
   ]
  },
  {
   "cell_type": "markdown",
   "id": "e3792a63",
   "metadata": {},
   "source": [
    "## 图解padding=0, dilation=1, stride=1\n",
    "<p align=\"center\">\n",
    "<a href=\"https://raw.githubusercontent.com/itmorn/AI.handbook/main/DL/module/Convolution/imgsConvTranspose/convTranspose1d.svg\">\n",
    "<img src=\"./imgsConvTranspose/convTranspose1d.svg\"\n",
    "    width=\"2000\" /></a></p>"
   ]
  },
  {
   "cell_type": "code",
   "execution_count": 36,
   "id": "ab6f647d",
   "metadata": {},
   "outputs": [
    {
     "name": "stdout",
     "output_type": "stream",
     "text": [
      "input: tensor([[-2.1188,  0.0635, -1.4555]])\n",
      "\n",
      "m.weight: Parameter containing:\n",
      "tensor([[[ 0.0846, -0.5682, -0.2863]]], requires_grad=True)\n",
      "\n",
      "output: tensor([[-0.1792,  1.2093,  0.4475,  0.8089,  0.4168]],\n",
      "       grad_fn=<SqueezeBackward1>)\n",
      "-0.17925047999999996 1.20927426 0.44739643999999995 0.8088350500000001 0.41670965\n"
     ]
    }
   ],
   "source": [
    "# padding=0, dilation=1, stride=1\n",
    "import torch\n",
    "import torch.nn as nn\n",
    "torch.manual_seed(666)\n",
    "\n",
    "# batch_size = 2 # batch_size不指定默认是1\n",
    "C_in = 1 # in_channels一般用C_in或C代替\n",
    "L = 3 # sequence_length\n",
    "# input = torch.randn(batch_size, in_channels, L)\n",
    "input = torch.randn(C_in, L)\n",
    "print(\"input:\",input)\n",
    "\n",
    "m = nn.ConvTranspose1d(in_channels=C_in, out_channels=1, kernel_size=3, stride=1, padding=0,\n",
    "              dilation=1, groups=1, bias=False, padding_mode='zeros', device=None, dtype=None)\n",
    "\n",
    "print(\"\\nm.weight:\",m.weight)\n",
    "\n",
    "output = m(input)\n",
    "print(\"\\noutput:\",output)\n",
    "\n",
    "\n",
    "import numpy as np\n",
    "input_part1 = np.array([0, 0, -2.1188])\n",
    "input_part2 = np.array([0, -2.1188, 0.0635])\n",
    "input_part3 = np.array([-2.1188, 0.0635, -1.4555])\n",
    "input_part4 = np.array([0.0635, -1.4555, 0])\n",
    "input_part5 = np.array([-1.4555, 0, 0])\n",
    "\n",
    "kernel = np.array([-0.2863, -0.5682, 0.0846])\n",
    "\n",
    "print(np.sum(input_part1*kernel), np.sum(input_part2*kernel),\n",
    "      np.sum(input_part3*kernel), np.sum(input_part4*kernel), np.sum(input_part5*kernel))\n",
    "# 结果和图上会有些许差异，主要是四舍五入所导致的误差"
   ]
  },
  {
   "cell_type": "markdown",
   "id": "f810e65d",
   "metadata": {},
   "source": [
    "## 图解padding=1, dilation=1, stride=1\n",
    "<p align=\"center\">\n",
    "<a href=\"https://raw.githubusercontent.com/itmorn/AI.handbook/main/DL/module/Convolution/imgsConvTranspose/convTranspose1d.svg\">\n",
    "<img src=\"./imgsConvTranspose/convTranspose1d.svg\"\n",
    "    width=\"2000\" /></a></p>"
   ]
  },
  {
   "cell_type": "code",
   "execution_count": 40,
   "id": "33d65225",
   "metadata": {},
   "outputs": [
    {
     "name": "stdout",
     "output_type": "stream",
     "text": [
      "input: tensor([[-2.1188,  0.0635, -1.4555]])\n",
      "\n",
      "m.weight: Parameter containing:\n",
      "tensor([[[ 0.0846, -0.5682, -0.2863]]], requires_grad=True)\n",
      "\n",
      "output: tensor([[1.2093, 0.4475, 0.8089]], grad_fn=<SqueezeBackward1>)\n",
      "1.20927426 0.44739643999999995 0.8088350500000001\n"
     ]
    }
   ],
   "source": [
    "# padding=1, dilation=1, stride=1\n",
    "import numpy as np\n",
    "import torch\n",
    "import torch.nn as nn\n",
    "torch.manual_seed(666)\n",
    "\n",
    "C_in = 1  # in_channels一般用C_in或C代替\n",
    "L = 3  # sequence_length\n",
    "input = torch.randn(C_in, L)\n",
    "print(\"input:\", input)\n",
    "\n",
    "m = nn.ConvTranspose1d(in_channels=C_in, out_channels=1, kernel_size=3, stride=1, padding=1,\n",
    "                       dilation=1, groups=1, bias=False, padding_mode='zeros', device=None, dtype=None)\n",
    "\n",
    "print(\"\\nm.weight:\", m.weight)\n",
    "\n",
    "output = m(input)\n",
    "print(\"\\noutput:\", output)\n",
    "\n",
    "\n",
    "# input_part1 = np.array([0, 0, -2.1188])\n",
    "input_part2 = np.array([0, -2.1188, 0.0635])\n",
    "input_part3 = np.array([-2.1188, 0.0635, -1.4555])\n",
    "input_part4 = np.array([0.0635, -1.4555, 0])\n",
    "# input_part5 = np.array([-1.4555, 0, 0])\n",
    "\n",
    "kernel = np.array([-0.2863, -0.5682, 0.0846])\n",
    "\n",
    "print(\n",
    "#     np.sum(input_part1*kernel),\n",
    "    np.sum(input_part2*kernel),\n",
    "    np.sum(input_part3*kernel),\n",
    "    np.sum(input_part4*kernel),\n",
    "#     np.sum(input_part5*kernel)\n",
    ")\n",
    "# 结果和图上会有些许差异，主要是四舍五入所导致的误差\n"
   ]
  },
  {
   "cell_type": "markdown",
   "id": "b4d34a50",
   "metadata": {},
   "source": [
    "## 图解padding=0, dilation=2, stride=1\n",
    "<p align=\"center\">\n",
    "<a href=\"https://raw.githubusercontent.com/itmorn/AI.handbook/main/DL/module/Convolution/imgsConvTranspose/convTranspose1d.svg\">\n",
    "<img src=\"./imgsConvTranspose/convTranspose1d.svg\"\n",
    "    width=\"2000\" /></a></p>"
   ]
  },
  {
   "cell_type": "code",
   "execution_count": 51,
   "id": "b37b4fa0",
   "metadata": {},
   "outputs": [
    {
     "name": "stdout",
     "output_type": "stream",
     "text": [
      "input: tensor([[-2.1188,  0.0635, -1.4555]])\n",
      "\n",
      "m.weight: Parameter containing:\n",
      "tensor([[[ 0.0846, -0.5682, -0.2863]]], requires_grad=True)\n",
      "\n",
      "output: tensor([[-0.1792,  0.0054,  1.0809, -0.0361,  1.4337, -0.0182,  0.4168]],\n",
      "       grad_fn=<SqueezeBackward1>)\n",
      "-0.17925047999999996 0.0053720999999999994 1.08076686 -0.0360807 1.43362754 -0.01818005 0.41670965\n"
     ]
    }
   ],
   "source": [
    "# padding=0, dilation=2, stride=1\n",
    "import numpy as np\n",
    "import torch\n",
    "import torch.nn as nn\n",
    "torch.manual_seed(666)\n",
    "\n",
    "C_in = 1  # in_channels一般用C_in或C代替\n",
    "L = 3  # sequence_length\n",
    "input = torch.randn(C_in, L)\n",
    "print(\"input:\", input)\n",
    "\n",
    "m = nn.ConvTranspose1d(in_channels=C_in, out_channels=1, kernel_size=3, stride=1, padding=0,\n",
    "                       dilation=2, groups=1, bias=False, padding_mode='zeros', device=None, dtype=None)\n",
    "\n",
    "print(\"\\nm.weight:\", m.weight)\n",
    "\n",
    "output = m(input)\n",
    "print(\"\\noutput:\", output)\n",
    "\n",
    "\n",
    "input_part1 = np.array([0, 0, -2.1188])\n",
    "input_part2 = np.array([0, 0, 0.0635])\n",
    "input_part3 = np.array([0, -2.1188, -1.4555])\n",
    "input_part4 = np.array([0,0.0635, 0])\n",
    "input_part5 = np.array([-2.1188,-1.4555, 0])\n",
    "input_part6 = np.array([0.0635,0, 0])\n",
    "input_part7 = np.array([-1.4555,0, 0])\n",
    "\n",
    "kernel = np.array([-0.2863, -0.5682, 0.0846])\n",
    "\n",
    "print(\n",
    "    np.sum(input_part1*kernel),\n",
    "    np.sum(input_part2*kernel),\n",
    "    np.sum(input_part3*kernel),\n",
    "    np.sum(input_part4*kernel),\n",
    "    np.sum(input_part5*kernel),\n",
    "    np.sum(input_part6*kernel),\n",
    "    np.sum(input_part7*kernel)\n",
    ")\n",
    "# 结果和图上会有些许差异，主要是四舍五入所导致的误差\n"
   ]
  },
  {
   "cell_type": "markdown",
   "id": "e68e35ab",
   "metadata": {},
   "source": [
    "## 图解padding=0, dilation=1, stride=2\n",
    "<p align=\"center\">\n",
    "<a href=\"https://raw.githubusercontent.com/itmorn/AI.handbook/main/DL/module/Convolution/imgsConvTranspose/convTranspose1d.svg\">\n",
    "<img src=\"./imgsConvTranspose/convTranspose1d.svg\"\n",
    "    width=\"2000\" /></a></p>"
   ]
  },
  {
   "cell_type": "code",
   "execution_count": 53,
   "id": "71a37d94",
   "metadata": {},
   "outputs": [
    {
     "name": "stdout",
     "output_type": "stream",
     "text": [
      "input: tensor([[-2.1188,  0.0635, -1.4555]])\n",
      "\n",
      "m.weight: Parameter containing:\n",
      "tensor([[[ 0.0846, -0.5682, -0.2863]]], requires_grad=True)\n",
      "\n",
      "output: tensor([[-0.1792,  1.2040,  0.6121, -0.0361, -0.1413,  0.8270,  0.4168]],\n",
      "       grad_fn=<SqueezeBackward1>)\n",
      "-0.17925047999999996 1.20390216 0.6119845399999999 -0.0360807 -0.14131534999999998 0.8270151000000001 0.41670965\n"
     ]
    }
   ],
   "source": [
    "# padding=0, dilation=1, stride=2\n",
    "import numpy as np\n",
    "import torch\n",
    "import torch.nn as nn\n",
    "torch.manual_seed(666)\n",
    "\n",
    "C_in = 1  # in_channels一般用C_in或C代替\n",
    "L = 3  # sequence_length\n",
    "input = torch.randn(C_in, L)\n",
    "print(\"input:\", input)\n",
    "\n",
    "m = nn.ConvTranspose1d(in_channels=C_in, out_channels=1, kernel_size=3, stride=2, padding=0,\n",
    "                       dilation=1, groups=1, bias=False, padding_mode='zeros', device=None, dtype=None)\n",
    "\n",
    "print(\"\\nm.weight:\", m.weight)\n",
    "\n",
    "output = m(input)\n",
    "print(\"\\noutput:\", output)\n",
    "\n",
    "\n",
    "input_part1 = np.array([0, 0, -2.1188])\n",
    "input_part2 = np.array([0, -2.1188, 0])\n",
    "input_part3 = np.array([-2.1188, 0, 0.0635])\n",
    "input_part4 = np.array([0, 0.0635, 0])\n",
    "input_part5 = np.array([0.0635, 0, -1.4555])\n",
    "input_part6 = np.array([0, -1.4555, 0])\n",
    "input_part7 = np.array([-1.4555, 0, 0])\n",
    "\n",
    "kernel = np.array([-0.2863, -0.5682, 0.0846])\n",
    "\n",
    "print(\n",
    "    np.sum(input_part1*kernel),\n",
    "    np.sum(input_part2*kernel),\n",
    "    np.sum(input_part3*kernel),\n",
    "    np.sum(input_part4*kernel),\n",
    "    np.sum(input_part5*kernel),\n",
    "    np.sum(input_part6*kernel),\n",
    "    np.sum(input_part7*kernel)\n",
    ")\n",
    "# 结果和图上会有些许差异，主要是四舍五入所导致的误差\n"
   ]
  },
  {
   "cell_type": "markdown",
   "id": "b8b51657",
   "metadata": {},
   "source": [
    "# ConvTranspose2d\n",
    "和ConvTranspose1d同理，部分原理可参考Conv部分"
   ]
  },
  {
   "cell_type": "markdown",
   "id": "86d60ddd",
   "metadata": {},
   "source": [
    "# ConvTranspose3d\n",
    "和ConvTranspose1d同理，部分原理可参考Conv部分的原理"
   ]
  },
  {
   "cell_type": "markdown",
   "id": "78102bae",
   "metadata": {},
   "source": [
    "# 参考资料\n",
    "\n",
    "[《人工智能导论：模型与算法》](https://item.jd.com/12653461.html)\n",
    "\n",
    "[《统计学习方法》](https://item.jd.com/12522197.html)\n",
    "\n",
    "[《机器学习》](https://item.jd.com/12762673.html)\n",
    "\n",
    "[FIVE KEY ASSUMPTIONS OF LINEAR REGRESSION ALGORITHM](https://dataaspirant.com/assumptions-of-linear-regression-algorithm/)"
   ]
  }
 ],
 "metadata": {
  "kernelspec": {
   "display_name": "Python 3.8.13 ('general38')",
   "language": "python",
   "name": "python3"
  },
  "language_info": {
   "codemirror_mode": {
    "name": "ipython",
    "version": 3
   },
   "file_extension": ".py",
   "mimetype": "text/x-python",
   "name": "python",
   "nbconvert_exporter": "python",
   "pygments_lexer": "ipython3",
   "version": "3.8.13"
  },
  "vscode": {
   "interpreter": {
    "hash": "4e00c79739f2fdf113306667eb0b8e68d4274855301e6df90bc305a954991b52"
   }
  }
 },
 "nbformat": 4,
 "nbformat_minor": 5
}
