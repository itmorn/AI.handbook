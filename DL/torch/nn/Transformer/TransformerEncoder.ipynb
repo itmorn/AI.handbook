{
 "cells": [
  {
   "attachments": {},
   "cell_type": "markdown",
   "id": "6c202a11",
   "metadata": {},
   "source": [
    "[![](https://colab.research.google.com/assets/colab-badge.svg)](https://colab.research.google.com/github/itmorn/AI.handbook/blob/main/DL/torch/nn/Transformer/TransformerEncoder.ipynb)"
   ]
  },
  {
   "attachments": {},
   "cell_type": "markdown",
   "id": "14a8662b",
   "metadata": {},
   "source": [
    "# TransformerEncoder\n",
    "TransformerEncoder是N个TransformerEncoderLayer的堆叠. \n",
    "\n",
    "**定义**：  \n",
    "torch.nn.TransformerEncoder(encoder_layer, num_layers, norm=None, enable_nested_tensor=True, mask_check=True)\n",
    "\n",
    "**参数**:  \n",
    "- encoder_layer – an instance of the TransformerEncoderLayer() class (required).  需要一个TransformerEncoderLayer对象\n",
    "\n",
    "- num_layers – the number of sub-encoder-layers in the encoder (required).  堆叠多少层\n",
    "\n",
    "- norm – the layer normalization component (optional).   对最后的输出做norm的方式，默认是无\n",
    "\n",
    "- enable_nested_tensor – if True, input will automatically convert to nested tensor (and convert back on output). This will improve the overall performance of TransformerEncoder when padding rate is high. Default: True (enabled).  enable_nested_tensor 是一个 PyTorch 中的特性，可以让用户在处理深度嵌套的张量时更加方便。"
   ]
  },
  {
   "attachments": {},
   "cell_type": "markdown",
   "id": "39ed56e0",
   "metadata": {},
   "source": [
    "# 图解TransformerEncoder\n",
    "<p align=\"center\">\n",
    "<img src=\"./imgs/transformer.jpg\"\n",
    "    width=\"700\" /></p>\n",
    "左边编码器的“N×”就是“num_layers×”"
   ]
  },
  {
   "cell_type": "code",
   "execution_count": 2,
   "id": "d011221f",
   "metadata": {},
   "outputs": [
    {
     "name": "stdout",
     "output_type": "stream",
     "text": [
      "out:\n",
      " tensor([[[-0.5283,  1.6856, -0.9027, -0.2546]],\n",
      "\n",
      "        [[-1.5478,  1.2401,  0.0562,  0.2514]],\n",
      "\n",
      "        [[ 1.5052,  0.0712, -0.2949, -1.2815]]],\n",
      "       grad_fn=<NativeLayerNormBackward0>) \n",
      "\n",
      "out:\n",
      " tensor([[[-0.5283,  1.6856, -0.9027, -0.2546]],\n",
      "\n",
      "        [[-1.5478,  1.2401,  0.0562,  0.2514]],\n",
      "\n",
      "        [[ 1.5052,  0.0712, -0.2949, -1.2815]]],\n",
      "       grad_fn=<NativeLayerNormBackward0>) \n",
      "\n"
     ]
    }
   ],
   "source": [
    "# 单个样本简单举例\n",
    "import torch\n",
    "import torch.nn as nn\n",
    "\n",
    "torch.manual_seed(666)\n",
    "d_model = 4\n",
    "encoder_layer = nn.TransformerEncoderLayer(d_model=d_model, nhead=2,dim_feedforward=2048,dropout=0.0)\n",
    "src = torch.rand(3, 1, d_model)  # L, N, E\n",
    "out = encoder_layer(src)\n",
    "print(\"out:\\n\", out, \"\\n\")\n",
    "\n",
    "transformer_encoder = nn.TransformerEncoder(encoder_layer, num_layers=1)\n",
    "out = transformer_encoder(src)\n",
    "print(\"out:\\n\", out, \"\\n\") # 可以看到，当TransformerEncoder的num_layers=1时，结果和TransformerEncoderLayer是一致的。"
   ]
  }
 ],
 "metadata": {
  "kernelspec": {
   "display_name": "Python 3.8.13 ('general38')",
   "language": "python",
   "name": "python3"
  },
  "language_info": {
   "codemirror_mode": {
    "name": "ipython",
    "version": 3
   },
   "file_extension": ".py",
   "mimetype": "text/x-python",
   "name": "python",
   "nbconvert_exporter": "python",
   "pygments_lexer": "ipython3",
   "version": "3.8.13"
  },
  "vscode": {
   "interpreter": {
    "hash": "4e00c79739f2fdf113306667eb0b8e68d4274855301e6df90bc305a954991b52"
   }
  }
 },
 "nbformat": 4,
 "nbformat_minor": 5
}
