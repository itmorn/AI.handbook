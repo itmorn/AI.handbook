{
 "cells": [
  {
   "attachments": {},
   "cell_type": "markdown",
   "id": "36e625b5",
   "metadata": {},
   "source": [
    "[![](https://colab.research.google.com/assets/colab-badge.svg)](https://colab.research.google.com/github/itmorn/AI.handbook/blob/main/DL/torch/nn/DistanceFunction/PairwiseDistance.ipynb)"
   ]
  },
  {
   "attachments": {},
   "cell_type": "markdown",
   "id": "998d1914",
   "metadata": {},
   "source": [
    "# PairwiseDistance\n",
    "计算输入向量之间或输入矩阵列之间的成对距离。\n",
    "\n",
    "\n",
    "**公式**：   \n",
    "$$\\mathrm{dist}\\left(x, y\\right) = \\left\\Vert x-y + \\epsilon e \\right\\Vert_p,$$\n",
    "where $e$ is the vector of ones and the $p$-norm is given by:\n",
    "$$\\Vert x \\Vert _p = \\left( \\sum_{i=1}^n  \\vert x_i \\vert ^ p \\right) ^ {1/p}$$\n",
    "\n",
    "**定义**：   \n",
    "torch.nn.CosineSimilarity(dim=1, eps=1e-08)\n",
    "\n",
    "**参数**：  \n",
    "- p (real, optional) – the norm degree. Can be negative. Default: 2  标准度。可以是负的。默认值:2\n",
    "\n",
    "- eps (float, optional) – Small value to avoid division by zero. Default: 1e-6  小值，避免被0整除。默认值:1e-6\n",
    "\n",
    "- keepdim (bool, optional) – Determines whether or not to keep the vector dimension. Default: False  决定是否保留向量维度。默认值:False"
   ]
  },
  {
   "cell_type": "code",
   "execution_count": 10,
   "id": "4d397699",
   "metadata": {},
   "outputs": [
    {
     "name": "stdout",
     "output_type": "stream",
     "text": [
      "input1:\n",
      " tensor([[-2.1188,  0.0635, -1.4555],\n",
      "        [-0.0126, -0.1548, -0.0927],\n",
      "        [ 2.5916,  0.4542, -0.6890],\n",
      "        [-0.9962,  0.1856,  0.1476],\n",
      "        [ 0.8628,  0.2379, -0.5260]]) \n",
      "\n",
      "input2:\n",
      " tensor([[-0.1043, -0.5187,  0.1231],\n",
      "        [ 0.0755,  0.7091, -1.0812],\n",
      "        [-0.6668, -0.8967,  0.7272],\n",
      "        [ 1.4582, -0.0018,  0.6660],\n",
      "        [ 1.4064, -0.1019, -0.1370]]) \n",
      "\n",
      "output:\n",
      " tensor([2.6247, 1.3158, 3.8010, 2.5155, 0.7498]) \n",
      "\n"
     ]
    },
    {
     "data": {
      "text/plain": [
       "tensor([2.6247, 1.3158, 3.8010, 2.5155, 0.7498])"
      ]
     },
     "execution_count": 10,
     "metadata": {},
     "output_type": "execute_result"
    }
   ],
   "source": [
    "# 调包计算\n",
    "import torch\n",
    "import torch.nn as nn\n",
    "torch.manual_seed(666)\n",
    "input1 = torch.randn(5, 3)\n",
    "input2 = torch.randn(5, 3)\n",
    "print(\"input1:\\n\", input1, \"\\n\")\n",
    "print(\"input2:\\n\", input2, \"\\n\")\n",
    "\n",
    "p=2\n",
    "pdist = nn.PairwiseDistance(p=p)\n",
    "output = pdist(input1, input2)\n",
    "\n",
    "print(\"output:\\n\", output, \"\\n\")\n",
    "\n",
    "# # 手工计算\n",
    "((input1-input2+1e-8).abs()**p).sum(dim=1)**(1/p) # 可以看到和调包结果一致"
   ]
  },
  {
   "attachments": {},
   "cell_type": "markdown",
   "id": "78102bae",
   "metadata": {},
   "source": [
    "# 参考资料\n",
    "[Understanding LSTM Networks](https://colah.github.io/posts/2015-08-Understanding-LSTMs/)"
   ]
  }
 ],
 "metadata": {
  "kernelspec": {
   "display_name": "Python 3.8.13 ('general38')",
   "language": "python",
   "name": "python3"
  },
  "language_info": {
   "codemirror_mode": {
    "name": "ipython",
    "version": 3
   },
   "file_extension": ".py",
   "mimetype": "text/x-python",
   "name": "python",
   "nbconvert_exporter": "python",
   "pygments_lexer": "ipython3",
   "version": "3.8.13"
  },
  "vscode": {
   "interpreter": {
    "hash": "4e00c79739f2fdf113306667eb0b8e68d4274855301e6df90bc305a954991b52"
   }
  }
 },
 "nbformat": 4,
 "nbformat_minor": 5
}
