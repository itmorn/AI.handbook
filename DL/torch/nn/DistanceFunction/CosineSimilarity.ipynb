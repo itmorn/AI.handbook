{
 "cells": [
  {
   "attachments": {},
   "cell_type": "markdown",
   "id": "36e625b5",
   "metadata": {},
   "source": [
    "[![](https://colab.research.google.com/assets/colab-badge.svg)](https://colab.research.google.com/github/itmorn/AI.handbook/blob/main/DL/torch/nn/DistanceFunction/CosineSimilarity.ipynb)"
   ]
  },
  {
   "attachments": {},
   "cell_type": "markdown",
   "id": "998d1914",
   "metadata": {},
   "source": [
    "# CosineSimilarity\n",
    "\n",
    "**公式**：   \n",
    "$$\\text{similarity} = \\dfrac{x_1 \\cdot x_2}{\\max(\\Vert x_1 \\Vert _2 \\cdot \\Vert x_2 \\Vert _2, \\epsilon)}.$$\n",
    "\n",
    "**定义**：   \n",
    "torch.nn.CosineSimilarity(dim=1, eps=1e-08)\n",
    "\n",
    "**参数**：  \n",
    "- dim (int, optional) – Dimension where cosine similarity is computed. Default: 1  计算余弦相似度的维度。默认值:1\n",
    "\n",
    "- eps (float, optional) – Small value to avoid division by zero. Default: 1e-8  避免被0整除。默认值:1 e-8\n",
    "\n"
   ]
  },
  {
   "cell_type": "code",
   "execution_count": 23,
   "id": "4d397699",
   "metadata": {},
   "outputs": [
    {
     "name": "stdout",
     "output_type": "stream",
     "text": [
      "input1:\n",
      " tensor([[-2.1188,  0.0635, -1.4555],\n",
      "        [-0.0126, -0.1548, -0.0927],\n",
      "        [ 2.5916,  0.4542, -0.6890],\n",
      "        [-0.9962,  0.1856,  0.1476],\n",
      "        [ 0.8628,  0.2379, -0.5260]]) \n",
      "\n",
      "input2:\n",
      " tensor([[-0.1043, -0.5187,  0.1231],\n",
      "        [ 0.0755,  0.7091, -1.0812],\n",
      "        [-0.6668, -0.8967,  0.7272],\n",
      "        [ 1.4582, -0.0018,  0.6660],\n",
      "        [ 1.4064, -0.1019, -0.1370]]) \n",
      "\n",
      "output:\n",
      " tensor([ 0.0063, -0.0447, -0.7270, -0.8252,  0.8576]) \n",
      "\n"
     ]
    },
    {
     "data": {
      "text/plain": [
       "tensor([ 0.0063, -0.0447, -0.7270, -0.8252,  0.8576])"
      ]
     },
     "execution_count": 23,
     "metadata": {},
     "output_type": "execute_result"
    }
   ],
   "source": [
    "# 调包计算\n",
    "import torch\n",
    "import torch.nn as nn\n",
    "torch.manual_seed(666)\n",
    "input1 = torch.randn(5, 3)\n",
    "input2 = torch.randn(5, 3)\n",
    "print(\"input1:\\n\", input1, \"\\n\")\n",
    "print(\"input2:\\n\", input2, \"\\n\")\n",
    "\n",
    "cos = nn.CosineSimilarity(dim=1, eps=1e-8)\n",
    "output = cos(input1, input2)\n",
    "print(\"output:\\n\", output, \"\\n\")\n",
    "\n",
    "# 手工计算\n",
    "fenzi = (input1*input2).sum(dim=1)\n",
    "fenmu = ((input1**2).sum(dim=1)**0.5)*((input2**2).sum(dim=1)**0.5)\n",
    "fenmu[fenmu<1e-8]=1e-8\n",
    "fenzi/fenmu # 可以看到和调包结果一致"
   ]
  },
  {
   "attachments": {},
   "cell_type": "markdown",
   "id": "78102bae",
   "metadata": {},
   "source": [
    "# 参考资料\n",
    "[Understanding LSTM Networks](https://colah.github.io/posts/2015-08-Understanding-LSTMs/)"
   ]
  }
 ],
 "metadata": {
  "kernelspec": {
   "display_name": "Python 3.8.13 ('general38')",
   "language": "python",
   "name": "python3"
  },
  "language_info": {
   "codemirror_mode": {
    "name": "ipython",
    "version": 3
   },
   "file_extension": ".py",
   "mimetype": "text/x-python",
   "name": "python",
   "nbconvert_exporter": "python",
   "pygments_lexer": "ipython3",
   "version": "3.8.13"
  },
  "vscode": {
   "interpreter": {
    "hash": "4e00c79739f2fdf113306667eb0b8e68d4274855301e6df90bc305a954991b52"
   }
  }
 },
 "nbformat": 4,
 "nbformat_minor": 5
}
