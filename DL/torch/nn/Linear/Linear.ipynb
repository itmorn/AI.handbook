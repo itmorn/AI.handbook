{
 "cells": [
  {
   "attachments": {},
   "cell_type": "markdown",
   "id": "36e625b5",
   "metadata": {},
   "source": [
    "[![](https://colab.research.google.com/assets/colab-badge.svg)](https://colab.research.google.com/github/itmorn/AI.handbook/blob/main/DL/torch/nn/Recurrent/Linear.ipynb)"
   ]
  },
  {
   "attachments": {},
   "cell_type": "markdown",
   "id": "998d1914",
   "metadata": {},
   "source": [
    "# Linear\n",
    "全连接层，对输入做线性变换。\n",
    "\n",
    "**定义**：   \n",
    "torch.nn.Linear(in_features, out_features, bias=True, device=None, dtype=None)\n",
    "\n",
    "**公式**：   \n",
    "对输入数据应用线性变换:\n",
    "$$y = xA^T + b$$\n",
    "\n",
    "\n",
    "**参数**：  \n",
    "- in_features (int) – size of each input sample  每个输入样本的大小\n",
    "\n",
    "- out_features (int) – size of each output sample  每个输出样本的大小\n",
    "\n",
    "- bias (bool) – If set to False, the layer will not learn an additive bias. Default: True  如果设置为False，该层将不会学习偏置项。默认值:True\n"
   ]
  },
  {
   "attachments": {},
   "cell_type": "markdown",
   "id": "2a421b60",
   "metadata": {},
   "source": [
    "# 图解\n",
    "<p align=\"center\">\n",
    "<img src=\"./imgs/Linear.svg\"\n",
    "    width=\"700\" /></p>"
   ]
  },
  {
   "cell_type": "code",
   "execution_count": 6,
   "id": "4d397699",
   "metadata": {},
   "outputs": [
    {
     "name": "stdout",
     "output_type": "stream",
     "text": [
      "input:\n",
      " tensor([-2.1188,  0.0635, -1.4555, -0.0126, -0.1548]) \n",
      "\n",
      "weight:\n",
      " Parameter containing:\n",
      "tensor([[ 0.3385,  0.0252, -0.0035,  0.4286,  0.0731],\n",
      "        [-0.0112, -0.3891,  0.2242, -0.2116, -0.1177]], requires_grad=True) \n",
      "\n",
      "bias:\n",
      " Parameter containing:\n",
      "tensor([0.0031, 0.3657], requires_grad=True) \n",
      "\n",
      "output:\n",
      " tensor([-0.7241,  0.0593], grad_fn=<AddBackward0>) \n",
      "\n"
     ]
    }
   ],
   "source": [
    "# 调包计算\n",
    "import torch\n",
    "import torch.nn as nn\n",
    "torch.manual_seed(666)\n",
    "\n",
    "in_features = 5\n",
    "out_features = 2 \n",
    "\n",
    "input = torch.randn(in_features) \n",
    "print(\"input:\\n\", input, \"\\n\")\n",
    "\n",
    "m = nn.Linear(in_features=in_features,out_features=out_features,bias=True)\n",
    "\n",
    "print(\"weight:\\n\", m.weight, \"\\n\")\n",
    "print(\"bias:\\n\", m.bias, \"\\n\")\n",
    "\n",
    "\n",
    "output = m(input)\n",
    "print(\"output:\\n\", output, \"\\n\")\n"
   ]
  },
  {
   "cell_type": "code",
   "execution_count": 12,
   "id": "cec7c582",
   "metadata": {},
   "outputs": [
    {
     "data": {
      "text/plain": [
       "tensor([[-0.7241,  0.0593]])"
      ]
     },
     "execution_count": 12,
     "metadata": {},
     "output_type": "execute_result"
    }
   ],
   "source": [
    "# 手工计算\n",
    "import torch\n",
    "input = torch.tensor([[-2.1188,  0.0635, -1.4555, -0.0126, -0.1548]])\n",
    "weight = torch.tensor([[0.3385,  0.0252, -0.0035,  0.4286,  0.0731],\n",
    "                       [-0.0112, -0.3891,  0.2242, -0.2116, -0.1177]]).T\n",
    "bias = torch.tensor([[0.0031, 0.3657]])\n",
    "torch.mm(input,weight)+bias #可以看到 结果是一致的"
   ]
  },
  {
   "attachments": {},
   "cell_type": "markdown",
   "id": "78102bae",
   "metadata": {},
   "source": [
    "# 参考资料\n",
    "[Understanding LSTM Networks](https://colah.github.io/posts/2015-08-Understanding-LSTMs/)"
   ]
  }
 ],
 "metadata": {
  "kernelspec": {
   "display_name": "Python 3.8.13 ('general38')",
   "language": "python",
   "name": "python3"
  },
  "language_info": {
   "codemirror_mode": {
    "name": "ipython",
    "version": 3
   },
   "file_extension": ".py",
   "mimetype": "text/x-python",
   "name": "python",
   "nbconvert_exporter": "python",
   "pygments_lexer": "ipython3",
   "version": "3.8.13"
  },
  "vscode": {
   "interpreter": {
    "hash": "4e00c79739f2fdf113306667eb0b8e68d4274855301e6df90bc305a954991b52"
   }
  }
 },
 "nbformat": 4,
 "nbformat_minor": 5
}
