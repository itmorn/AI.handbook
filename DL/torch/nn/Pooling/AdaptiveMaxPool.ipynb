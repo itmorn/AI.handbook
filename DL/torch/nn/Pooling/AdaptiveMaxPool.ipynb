{
 "cells": [
  {
   "attachments": {},
   "cell_type": "markdown",
   "id": "6c202a11",
   "metadata": {},
   "source": [
    "[![](https://colab.research.google.com/assets/colab-badge.svg)](https://colab.research.google.com/github/itmorn/AI.handbook/blob/main/DL/torch/nn/Pooling/AdaptiveMaxPool.ipynb)"
   ]
  },
  {
   "cell_type": "markdown",
   "id": "14a8662b",
   "metadata": {},
   "source": [
    "# AdaptiveMaxPool2d\n",
    "Applies a 2D adaptive max pooling over an input signal composed of several input planes.  \n",
    "对由多个输入平面组成的输入信号上应用二维自适应最大池化。用户只需要指定一个输出尺寸，该算子会自动采用池化策略。\n",
    " \n",
    "定义：        \n",
    "torch.nn.AdaptiveMaxPool2d(output_size, return_indices=False)\n",
    "\n",
    "参数:   \n",
    "output_size: the target output size of the image.  \n",
    "张量的输出尺寸\n",
    "\n",
    "return_indices: if ``True``, will return the indices along with the outputs. Useful to pass to nn.MaxUnpool2d. Default: ``False``  \n",
    "返回索引"
   ]
  },
  {
   "cell_type": "code",
   "execution_count": 3,
   "id": "4b08cfc9",
   "metadata": {},
   "outputs": [
    {
     "name": "stdout",
     "output_type": "stream",
     "text": [
      "input:\n",
      " tensor([[[ 1.,  2.,  3.,  4.],\n",
      "         [ 5.,  6.,  7.,  8.],\n",
      "         [ 9., 10., 11., 12.],\n",
      "         [13., 14., 15., 16.]]])\n",
      "output:\n",
      " tensor([[[ 6.,  7.,  8.],\n",
      "         [10., 11., 12.],\n",
      "         [14., 15., 16.]]])\n"
     ]
    }
   ],
   "source": [
    "import torch\n",
    "import torch.nn as nn\n",
    "torch.manual_seed(666)\n",
    "\n",
    "input = torch.Tensor([[[ 1,  2,  3,  4],\n",
    "   \t\t\t\t\t  [  5,  6,  7,  8],\n",
    "   \t\t\t\t\t  [  9, 10, 11, 12],\n",
    "   \t\t\t\t\t  [ 13, 14, 15, 16]]])\n",
    "print(\"input:\\n\",input)\n",
    "\n",
    "m = nn.AdaptiveMaxPool2d(output_size=3)\n",
    "\n",
    "output = m(input)\n",
    "print(\"output:\\n\",output) "
   ]
  }
 ],
 "metadata": {
  "kernelspec": {
   "display_name": "Python 3.8.13 ('general38')",
   "language": "python",
   "name": "python3"
  },
  "language_info": {
   "codemirror_mode": {
    "name": "ipython",
    "version": 3
   },
   "file_extension": ".py",
   "mimetype": "text/x-python",
   "name": "python",
   "nbconvert_exporter": "python",
   "pygments_lexer": "ipython3",
   "version": "3.8.13"
  },
  "vscode": {
   "interpreter": {
    "hash": "4e00c79739f2fdf113306667eb0b8e68d4274855301e6df90bc305a954991b52"
   }
  }
 },
 "nbformat": 4,
 "nbformat_minor": 5
}
