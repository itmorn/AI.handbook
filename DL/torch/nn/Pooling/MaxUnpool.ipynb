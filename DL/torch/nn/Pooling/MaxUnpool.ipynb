{
 "cells": [
  {
   "cell_type": "markdown",
   "id": "6c202a11",
   "metadata": {},
   "source": [
    "[![](https://colab.research.google.com/assets/colab-badge.svg)](https://colab.research.google.com/github/itmorn/AI.handbook/blob/main/DL/module/Pooling/MaxUnpool.ipynb)"
   ]
  },
  {
   "cell_type": "markdown",
   "id": "14a8662b",
   "metadata": {},
   "source": [
    "# MaxUnpool2d\n",
    "Computes a partial inverse of MaxPool2d.\n",
    "MaxPool2d is not fully invertible, since the non-maximal values are lost.\n",
    "MaxUnpool2d takes in as input the output of MaxPool2d including the indices of the maximal values and computes a partial inverse in which all non-maximal values are set to zero.\n",
    "\n",
    "MaxPool2d的逆计算，主要是用来恢复池化之前形状的。\n",
    "MaxPool2d不是完全可逆的，因为非最大值会丢失。\n",
    "MaxUnpool2d将MaxPool2d的输出作为输入，包括最大值的索引，并计算部分逆，其中所有非最大值都设置为零。\n",
    "\n",
    "定义：       \n",
    "torch.nn.MaxUnpool2d(kernel_size, stride=None, padding=0)\n",
    "\n",
    "参数：  \n",
    "kernel_size (int or tuple): Size of the max pooling window.\n",
    "\n",
    "stride (int or tuple): Stride of the max pooling window. It is set to :attr:`kernel_size` by default.\n",
    "\n",
    "padding (int or tuple): Padding that was added to the input\n"
   ]
  },
  {
   "cell_type": "markdown",
   "id": "f18b8acf",
   "metadata": {},
   "source": [
    "## 图解参数\n",
    "\n",
    "<p align=\"center\">\n",
    "<a href=\"https://raw.githubusercontent.com/itmorn/AI.handbook/main/DL/module/Pooling/imgsMaxUnpool/MaxUnpool.svg\">\n",
    "<img src=\"./imgsMaxUnpool/MaxUnpool.svg\"\n",
    "    width=\"2000\" /></a></p>"
   ]
  },
  {
   "cell_type": "code",
   "execution_count": 12,
   "id": "a6df8cb5",
   "metadata": {},
   "outputs": [
    {
     "name": "stdout",
     "output_type": "stream",
     "text": [
      "input:\n",
      " tensor([[[[ 1.,  2.,  3.,  4.,  5.],\n",
      "          [ 6.,  7.,  8.,  9., 10.],\n",
      "          [11., 12., 13., 14., 15.],\n",
      "          [16., 17., 18., 19., 20.]]]])\n",
      "output_pool:\n",
      " tensor([[[[ 7.,  9.],\n",
      "          [17., 19.]]]])\n",
      "unpool:\n",
      " tensor([[[[ 0.,  0.,  0.,  0.,  0.],\n",
      "          [ 0.,  7.,  0.,  9.,  0.],\n",
      "          [ 0.,  0.,  0.,  0.,  0.],\n",
      "          [ 0., 17.,  0., 19.,  0.]]]])\n"
     ]
    }
   ],
   "source": [
    "import torch\n",
    "import torch.nn as nn\n",
    "\n",
    "input = torch.torch.tensor([[[[1.,  2.,  3., 4., 5.],\n",
    "                              [6.,  7.,  8., 9., 10.],\n",
    "                              [11., 12., 13., 14., 15.],\n",
    "                              [16., 17., 18., 19., 20.]]]])\n",
    "print(\"input:\\n\", input)\n",
    "\n",
    "pool = nn.MaxPool2d(kernel_size=2, stride=2, return_indices=True)\n",
    "output_pool, indices_pool = pool(input)\n",
    "print(\"output_pool:\\n\", output_pool)\n",
    "\n",
    "unpool = nn.MaxUnpool2d(kernel_size=2, stride=2)\n",
    "output_unpool = unpool(output_pool, indices_pool, output_size=input.size())\n",
    "print(\"unpool:\\n\", output_unpool)"
   ]
  },
  {
   "cell_type": "markdown",
   "id": "0dc20f67",
   "metadata": {},
   "source": [
    "# MaxUnpool1d 、 MaxUnpool3d 和 MaxUnpool2d 类似\n",
    "部分原理可参考Conv部分（里面有针对1、2、3维更详细的图解）  \n",
    "[![](https://colab.research.google.com/assets/colab-badge.svg)](https://colab.research.google.com/github/itmorn/AI.handbook/blob/main/DL/module/Convolution/Conv.ipynb)"
   ]
  }
 ],
 "metadata": {
  "kernelspec": {
   "display_name": "Python 3.8.13 ('general38')",
   "language": "python",
   "name": "python3"
  },
  "language_info": {
   "codemirror_mode": {
    "name": "ipython",
    "version": 3
   },
   "file_extension": ".py",
   "mimetype": "text/x-python",
   "name": "python",
   "nbconvert_exporter": "python",
   "pygments_lexer": "ipython3",
   "version": "3.8.13"
  },
  "vscode": {
   "interpreter": {
    "hash": "4e00c79739f2fdf113306667eb0b8e68d4274855301e6df90bc305a954991b52"
   }
  }
 },
 "nbformat": 4,
 "nbformat_minor": 5
}
