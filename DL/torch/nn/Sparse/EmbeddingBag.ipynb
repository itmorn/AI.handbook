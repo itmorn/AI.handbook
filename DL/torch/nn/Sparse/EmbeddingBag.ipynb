{
 "cells": [
  {
   "attachments": {},
   "cell_type": "markdown",
   "id": "36e625b5",
   "metadata": {},
   "source": [
    "[![](https://colab.research.google.com/assets/colab-badge.svg)](https://colab.research.google.com/github/itmorn/AI.handbook/blob/main/DL/torch/nn/Sparse/EmbeddingBag.ipynb)"
   ]
  },
  {
   "attachments": {},
   "cell_type": "markdown",
   "id": "14a8662b",
   "metadata": {},
   "source": [
    "# EmbeddingBag\n",
    "在Embedding的基础上做一些reduce操作\n",
    "\n",
    "**定义**：   \n",
    "torch.nn.EmbeddingBag(num_embeddings, embedding_dim, max_norm=None, norm_type=2.0, scale_grad_by_freq=False, mode='mean', sparse=False, _weight=None, include_last_offset=False, padding_idx=None, device=None, dtype=None)\n",
    "\n",
    "**参数**（这里只列举Embedding之外的）：   \n",
    "- mode (str, optional) – \"sum\", \"mean\" or \"max\". Specifies the way to reduce the bag. \"sum\" computes the weighted sum, taking per_sample_weights into consideration. \"mean\" computes the average of the values in the bag, \"max\" computes the max value over each bag. Default: \"mean\"  汇总的时候采用的方式\n",
    "\n"
   ]
  },
  {
   "attachments": {},
   "cell_type": "markdown",
   "id": "38fd4b85",
   "metadata": {},
   "source": [
    "# 图解建表查表\n",
    "    \n",
    "<p align=\"center\">\n",
    "<img src=\"./imgs/EmbeddingBag.svg\"\n",
    "    width=\"1000\" /></p>\n"
   ]
  },
  {
   "cell_type": "code",
   "execution_count": 44,
   "id": "8a5a4e07",
   "metadata": {},
   "outputs": [
    {
     "name": "stdout",
     "output_type": "stream",
     "text": [
      "embedding_sum.weight:\n",
      " Parameter containing:\n",
      "tensor([[-2.1188,  0.0635, -1.4555],\n",
      "        [-0.0126, -0.1548, -0.0927],\n",
      "        [ 2.5916,  0.4542, -0.6890],\n",
      "        [-0.9962,  0.1856,  0.1476],\n",
      "        [ 0.8628,  0.2379, -0.5260]], requires_grad=True) \n",
      "\n",
      "input:\n",
      " tensor([3, 4, 1, 2, 0]) \n",
      "\n",
      "offsets group example:\n",
      " tensor([[-0.1333,  0.4235, -0.3784],\n",
      "        [-0.0126, -0.1548, -0.0927],\n",
      "        [ 0.4728,  0.5177, -2.1445]], grad_fn=<EmbeddingBagBackward0>) \n",
      "\n"
     ]
    }
   ],
   "source": [
    "# 调包计算\n",
    "import torch\n",
    "import torch.nn as nn\n",
    "torch.manual_seed(666)\n",
    "embedding_sum = nn.EmbeddingBag(num_embeddings=5, embedding_dim=3, mode='sum')\n",
    "print(\"embedding_sum.weight:\\n\", embedding_sum.weight, \"\\n\")\n",
    "\n",
    "input = torch.tensor([3,4,1,2,0], dtype=torch.long)\n",
    "print(\"input:\\n\", input, \"\\n\")\n",
    "\n",
    "offsets = torch.tensor([0,2,3], dtype=torch.long)\n",
    "print(\"offsets group example:\\n\", embedding_sum(input, offsets), \"\\n\")\n",
    "\n"
   ]
  }
 ],
 "metadata": {
  "kernelspec": {
   "display_name": "Python 3.8.13 ('general38')",
   "language": "python",
   "name": "python3"
  },
  "language_info": {
   "codemirror_mode": {
    "name": "ipython",
    "version": 3
   },
   "file_extension": ".py",
   "mimetype": "text/x-python",
   "name": "python",
   "nbconvert_exporter": "python",
   "pygments_lexer": "ipython3",
   "version": "3.8.13"
  },
  "vscode": {
   "interpreter": {
    "hash": "4e00c79739f2fdf113306667eb0b8e68d4274855301e6df90bc305a954991b52"
   }
  }
 },
 "nbformat": 4,
 "nbformat_minor": 5
}
