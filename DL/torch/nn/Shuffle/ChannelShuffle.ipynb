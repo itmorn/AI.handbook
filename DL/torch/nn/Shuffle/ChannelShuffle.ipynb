{
 "cells": [
  {
   "attachments": {},
   "cell_type": "markdown",
   "id": "6c202a11",
   "metadata": {},
   "source": [
    "[![](https://colab.research.google.com/assets/colab-badge.svg)](https://colab.research.google.com/github/itmorn/AI.handbook/blob/main/DL/torch/nn/Shuffle/ChannelShuffle.ipynb)"
   ]
  },
  {
   "attachments": {},
   "cell_type": "markdown",
   "id": "14a8662b",
   "metadata": {},
   "source": [
    "# ChannelShuffle\n",
    "当使用组卷积时，通道之间是没有交互信息的，可以使用ChannelShuffle来解决，比如ShuffleNet、MobileNet和EfficientNet等。\n",
    "\n",
    "**定义**：  \n",
    "torch.nn.ChannelShuffle(groups)\n",
    "\n",
    "**参数**:  \n",
    "- groups (int) – number of groups to divide channels in."
   ]
  },
  {
   "attachments": {},
   "cell_type": "markdown",
   "id": "39ed56e0",
   "metadata": {},
   "source": [
    "# 图解ChannelShuffle\n",
    "<p align=\"center\">\n",
    "<img src=\"./ChannelShuffle.svg\"\n",
    "    width=\"1000\" /></p>"
   ]
  },
  {
   "cell_type": "code",
   "execution_count": 44,
   "id": "d011221f",
   "metadata": {},
   "outputs": [
    {
     "name": "stdout",
     "output_type": "stream",
     "text": [
      "input:\n",
      " tensor([[[[ 0,  1],\n",
      "          [ 2,  3]],\n",
      "\n",
      "         [[ 4,  5],\n",
      "          [ 6,  7]],\n",
      "\n",
      "         [[ 8,  9],\n",
      "          [10, 11]],\n",
      "\n",
      "         [[12, 13],\n",
      "          [14, 15]]]]) \n",
      "\n",
      "output:\n",
      " tensor([[[[ 0,  1],\n",
      "          [ 2,  3]],\n",
      "\n",
      "         [[ 8,  9],\n",
      "          [10, 11]],\n",
      "\n",
      "         [[ 4,  5],\n",
      "          [ 6,  7]],\n",
      "\n",
      "         [[12, 13],\n",
      "          [14, 15]]]]) \n",
      "\n"
     ]
    }
   ],
   "source": [
    "# 单个样本简单举例\n",
    "import torch\n",
    "import torch.nn as nn\n",
    "torch.manual_seed(666)\n",
    "\n",
    "input = torch.arange(4*2*2).reshape(1, 4, 2, 2)\n",
    "# input = torch.randn(1, 4, 2, 2)\n",
    "print(\"input:\\n\", input, \"\\n\")\n",
    "\n",
    "channel_shuffle = nn.ChannelShuffle(groups=2)\n",
    "\n",
    "output = channel_shuffle(input)\n",
    "print(\"output:\\n\", output, \"\\n\")\n"
   ]
  }
 ],
 "metadata": {
  "kernelspec": {
   "display_name": "Python 3.8.13 ('general38')",
   "language": "python",
   "name": "python3"
  },
  "language_info": {
   "codemirror_mode": {
    "name": "ipython",
    "version": 3
   },
   "file_extension": ".py",
   "mimetype": "text/x-python",
   "name": "python",
   "nbconvert_exporter": "python",
   "pygments_lexer": "ipython3",
   "version": "3.8.13"
  },
  "vscode": {
   "interpreter": {
    "hash": "4e00c79739f2fdf113306667eb0b8e68d4274855301e6df90bc305a954991b52"
   }
  }
 },
 "nbformat": 4,
 "nbformat_minor": 5
}
