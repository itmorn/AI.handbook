{
 "cells": [
  {
   "attachments": {},
   "cell_type": "markdown",
   "id": "6c202a11",
   "metadata": {},
   "source": [
    "[![](https://colab.research.google.com/assets/colab-badge.svg)](https://colab.research.google.com/github/itmorn/AI.handbook/blob/main/DL/torch/nn/Vision/Upsample.ipynb)"
   ]
  },
  {
   "attachments": {},
   "cell_type": "markdown",
   "id": "14a8662b",
   "metadata": {},
   "source": [
    "# Upsample\n",
    "上采样\n",
    "\n",
    "**定义**：  \n",
    "torch.nn.Upsample(size=None, scale_factor=None, mode='nearest', align_corners=None, recompute_scale_factor=None)\n",
    "\n",
    "**参数**:  \n",
    "- size (int or Tuple[int] or Tuple[int, int] or Tuple[int, int, int], optional) – output spatial sizes  输出空间大小\n",
    "\n",
    "- scale_factor (float or Tuple[float] or Tuple[float, float] or Tuple[float, float, float], optional) – multiplier for spatial size. Has to match input size if it is a tuple.  空间大小的乘数\n",
    "\n",
    "- align_corners (bool, optional) – if True, the corner pixels of the input and output tensors are aligned, and thus preserving the values at those pixels. This only has effect when mode is 'linear', 'bilinear', 'bicubic', or 'trilinear'. Default: False  如果为True，输入和输出张量的角像素是对齐的，从而保留这些像素的值。这只在模式为“线性”、“双线性”、“双三线性”时才有效。默认值:假\n",
    "\n",
    "注意：align_corners的方式，一般来说不会影响到最终模型的效果，参考https://github.com/pytorch/vision/issues/1708"
   ]
  },
  {
   "attachments": {},
   "cell_type": "markdown",
   "id": "4fe386c7",
   "metadata": {},
   "source": [
    "# 图解PixelShuffle和PixelUnshuffle\n",
    "<p align=\"center\">\n",
    "<img src=\"./imgs/align_corners.svg\"\n",
    "    width=\"2000\" /></p>"
   ]
  },
  {
   "cell_type": "code",
   "execution_count": 2,
   "id": "d011221f",
   "metadata": {},
   "outputs": [
    {
     "name": "stdout",
     "output_type": "stream",
     "text": [
      "input:\n",
      " tensor([[[[2., 6., 4., 3.],\n",
      "          [4., 0., 7., 6.],\n",
      "          [8., 8., 7., 5.],\n",
      "          [9., 0., 3., 1.]]]]) \n",
      "\n",
      "nearest:\n",
      " tensor([[[[2., 2., 6., 6., 4., 4., 3., 3.],\n",
      "          [2., 2., 6., 6., 4., 4., 3., 3.],\n",
      "          [4., 4., 0., 0., 7., 7., 6., 6.],\n",
      "          [4., 4., 0., 0., 7., 7., 6., 6.],\n",
      "          [8., 8., 8., 8., 7., 7., 5., 5.],\n",
      "          [8., 8., 8., 8., 7., 7., 5., 5.],\n",
      "          [9., 9., 0., 0., 3., 3., 1., 1.],\n",
      "          [9., 9., 0., 0., 3., 3., 1., 1.]]]]) \n",
      "\n",
      "bilinear:\n",
      " tensor([[[[2.0000, 3.0000, 5.0000, 5.5000, 4.5000, 3.7500, 3.2500, 3.0000],\n",
      "          [2.5000, 3.0000, 4.0000, 4.5625, 4.6875, 4.5000, 4.0000, 3.7500],\n",
      "          [3.5000, 3.0000, 2.0000, 2.6875, 5.0625, 6.0000, 5.5000, 5.2500],\n",
      "          [5.0000, 4.2500, 2.7500, 3.2500, 5.7500, 6.6875, 6.0625, 5.7500],\n",
      "          [7.0000, 6.7500, 6.2500, 6.2500, 6.7500, 6.5625, 5.6875, 5.2500],\n",
      "          [8.2500, 7.6875, 6.5625, 6.0000, 6.0000, 5.5000, 4.5000, 4.0000],\n",
      "          [8.7500, 7.0625, 3.6875, 2.5000, 3.5000, 3.5000, 2.5000, 2.0000],\n",
      "          [9.0000, 6.7500, 2.2500, 0.7500, 2.2500, 2.5000, 1.5000, 1.0000]]]]) \n",
      "\n",
      "bilinear:\n",
      " tensor([[[[2.0000, 3.7143, 5.4286, 5.4286, 4.5714, 3.8571, 3.4286, 3.0000],\n",
      "          [2.8571, 3.1020, 3.3469, 3.9592, 4.7551, 5.1429, 4.7143, 4.2857],\n",
      "          [3.7143, 2.4898, 1.2653, 2.4898, 4.9388, 6.4286, 6.0000, 5.5714],\n",
      "          [5.1429, 3.9184, 2.6939, 3.6327, 5.6531, 6.8163, 6.2653, 5.7143],\n",
      "          [6.8571, 6.3673, 5.8776, 6.0816, 6.6327, 6.7551, 6.0204, 5.2857],\n",
      "          [8.1429, 7.5918, 7.0408, 6.7347, 6.5510, 6.1429, 5.2857, 4.4286],\n",
      "          [8.5714, 6.3673, 4.1633, 3.7959, 4.3469, 4.4286, 3.5714, 2.7143],\n",
      "          [9.0000, 5.1429, 1.2857, 0.8571, 2.1429, 2.7143, 1.8571, 1.0000]]]]) \n",
      "\n"
     ]
    }
   ],
   "source": [
    "# 单个样本简单举例\n",
    "import torch\n",
    "import torch.nn as nn\n",
    "torch.manual_seed(66666)\n",
    "\n",
    "input = torch.randint(0,10,(1,1,4,4)).float()\n",
    "print(\"input:\\n\", input, \"\\n\")\n",
    "\n",
    "m = nn.Upsample(scale_factor=2, mode='nearest')\n",
    "print(\"nearest:\\n\", m(input), \"\\n\")\n",
    "\n",
    "m = nn.Upsample(scale_factor=2, mode='bilinear', align_corners=False)\n",
    "print(\"bilinear:\\n\", m(input), \"\\n\")\n",
    "\n",
    "m = nn.Upsample(scale_factor=2, mode='bilinear', align_corners=True)\n",
    "print(\"bilinear:\\n\", m(input), \"\\n\")"
   ]
  },
  {
   "attachments": {},
   "cell_type": "markdown",
   "id": "e641a2a3",
   "metadata": {},
   "source": [
    "# UpsamplingBilinear2d\n",
    "It is equivalent to nn.functional.interpolate(..., mode='bilinear', align_corners=True)"
   ]
  },
  {
   "attachments": {},
   "cell_type": "markdown",
   "id": "4c9e0a63",
   "metadata": {},
   "source": [
    "# UpsamplingNearest2d\n",
    "等价于nn.Upsample(..., mode='nearest')\n",
    "\n",
    "input = torch.arange(1, 5, dtype=torch.float32).view(1, 1, 2, 2)\n",
    "input\n",
    "tensor([[[[1., 2.],\n",
    "          [3., 4.]]]])\n",
    "\n",
    "m = nn.UpsamplingNearest2d(scale_factor=2)\n",
    "m(input)\n",
    "tensor([[[[1., 1., 2., 2.],\n",
    "          [1., 1., 2., 2.],\n",
    "          [3., 3., 4., 4.],\n",
    "          [3., 3., 4., 4.]]]])"
   ]
  },
  {
   "attachments": {},
   "cell_type": "markdown",
   "id": "6e4f40fd",
   "metadata": {},
   "source": [
    "# 参考资料\n",
    "https://www.bilibili.com/video/BV1Xy4y1i7hy\n",
    "\n",
    "https://discuss.pytorch.org/t/what-we-should-use-align-corners-false/22663/9"
   ]
  }
 ],
 "metadata": {
  "kernelspec": {
   "display_name": "Python 3.8.13 ('general38')",
   "language": "python",
   "name": "python3"
  },
  "language_info": {
   "codemirror_mode": {
    "name": "ipython",
    "version": 3
   },
   "file_extension": ".py",
   "mimetype": "text/x-python",
   "name": "python",
   "nbconvert_exporter": "python",
   "pygments_lexer": "ipython3",
   "version": "3.8.13"
  },
  "vscode": {
   "interpreter": {
    "hash": "4e00c79739f2fdf113306667eb0b8e68d4274855301e6df90bc305a954991b52"
   }
  }
 },
 "nbformat": 4,
 "nbformat_minor": 5
}
