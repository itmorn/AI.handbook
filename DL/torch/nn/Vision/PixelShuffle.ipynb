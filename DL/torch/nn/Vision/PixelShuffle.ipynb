{
 "cells": [
  {
   "attachments": {},
   "cell_type": "markdown",
   "id": "6c202a11",
   "metadata": {},
   "source": [
    "[![](https://colab.research.google.com/assets/colab-badge.svg)](https://colab.research.google.com/github/itmorn/AI.handbook/blob/main/DL/torch/nn/Vision/PixelShuffle.ipynb)"
   ]
  },
  {
   "attachments": {},
   "cell_type": "markdown",
   "id": "14a8662b",
   "metadata": {},
   "source": [
    "# PixelShuffle\n",
    "PixelShuffle是PyTorch中的一种视觉层，它可以将一个高通道、低分辨率的输入张量转换成一个低通道、高分辨率的输出张量，从而可以用于超分辨率图像重建等任务。\n",
    "\n",
    "可以将( * , C × r^2, H, W) 转为 (*, C, H × r, W × r).其中r是一个缩放因子。\n",
    "\n",
    "**定义**：  \n",
    "torch.nn.PixelShuffle(upscale_factor)\n",
    "\n",
    "**参数**:  \n",
    "- upscale_factor (int) – factor to increase spatial resolution by  增加空间分辨率的缩放因子。"
   ]
  },
  {
   "attachments": {},
   "cell_type": "markdown",
   "id": "22adbb96",
   "metadata": {},
   "source": [
    "# PixelUnshuffle\n",
    "PixelShuffle的逆向操作。可以将一个低通道、高分辨率的输入张量转换成一个高通道、低分辨率的输出张量。PixelUnshuffle的作用类似于图像降采样，通常用于图像压缩等任务。\n",
    "\n",
    "**定义**：  \n",
    "torch.nn.PixelUnshuffle(downscale_factor)\n",
    "\n",
    "**参数**:  \n",
    "- downscale_factor (int) – factor to decrease spatial resolution by  降低空间分辨率的缩放因子。"
   ]
  },
  {
   "attachments": {},
   "cell_type": "markdown",
   "id": "d357f94a",
   "metadata": {},
   "source": [
    "# 图解PixelShuffle和PixelUnshuffle\n",
    "<p align=\"center\">\n",
    "<img src=\"./imgs/PixelShuffle.svg\"\n",
    "    width=\"1000\" /></p>"
   ]
  },
  {
   "cell_type": "code",
   "execution_count": 1,
   "id": "d011221f",
   "metadata": {},
   "outputs": [
    {
     "name": "stdout",
     "output_type": "stream",
     "text": [
      "input:\n",
      " tensor([[[[-0.7747,  0.7926],\n",
      "          [-0.0062, -0.4377]],\n",
      "\n",
      "         [[ 0.4657, -0.1880],\n",
      "          [-0.8975,  0.4169]],\n",
      "\n",
      "         [[-0.3840,  0.0394],\n",
      "          [ 0.4869, -0.1476]],\n",
      "\n",
      "         [[-0.4459, -0.0336],\n",
      "          [ 0.0221, -0.0550]]]]) \n",
      "\n",
      "output_shuffle:\n",
      " tensor([[[[-0.7747,  0.4657,  0.7926, -0.1880],\n",
      "          [-0.3840, -0.4459,  0.0394, -0.0336],\n",
      "          [-0.0062, -0.8975, -0.4377,  0.4169],\n",
      "          [ 0.4869,  0.0221, -0.1476, -0.0550]]]]) \n",
      "\n",
      "output_unshuffle:\n",
      " tensor([[[[-0.7747,  0.7926],\n",
      "          [-0.0062, -0.4377]],\n",
      "\n",
      "         [[ 0.4657, -0.1880],\n",
      "          [-0.8975,  0.4169]],\n",
      "\n",
      "         [[-0.3840,  0.0394],\n",
      "          [ 0.4869, -0.1476]],\n",
      "\n",
      "         [[-0.4459, -0.0336],\n",
      "          [ 0.0221, -0.0550]]]]) \n",
      "\n"
     ]
    }
   ],
   "source": [
    "# 单个样本简单举例\n",
    "import torch\n",
    "import torch.nn as nn\n",
    "torch.manual_seed(666)\n",
    "\n",
    "pixel_shuffle = nn.PixelShuffle(upscale_factor=2)\n",
    "input = torch.randn(1, 4, 2, 2)\n",
    "print(\"input:\\n\", input, \"\\n\")\n",
    "output_shuffle = pixel_shuffle(input)\n",
    "print(\"output_shuffle:\\n\", output_shuffle, \"\\n\")\n",
    "\n",
    "pixel_unshuffle = nn.PixelUnshuffle(downscale_factor=2)\n",
    "output_unshuffle = pixel_unshuffle(output_shuffle)\n",
    "print(\"output_unshuffle:\\n\", output_unshuffle, \"\\n\")"
   ]
  }
 ],
 "metadata": {
  "kernelspec": {
   "display_name": "Python 3.8.13 ('general38')",
   "language": "python",
   "name": "python3"
  },
  "language_info": {
   "codemirror_mode": {
    "name": "ipython",
    "version": 3
   },
   "file_extension": ".py",
   "mimetype": "text/x-python",
   "name": "python",
   "nbconvert_exporter": "python",
   "pygments_lexer": "ipython3",
   "version": "3.8.13"
  },
  "vscode": {
   "interpreter": {
    "hash": "4e00c79739f2fdf113306667eb0b8e68d4274855301e6df90bc305a954991b52"
   }
  }
 },
 "nbformat": 4,
 "nbformat_minor": 5
}
