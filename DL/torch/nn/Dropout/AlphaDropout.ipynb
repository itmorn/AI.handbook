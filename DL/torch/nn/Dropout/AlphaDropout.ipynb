{
 "cells": [
  {
   "attachments": {},
   "cell_type": "markdown",
   "id": "36e625b5",
   "metadata": {},
   "source": [
    "[![](https://colab.research.google.com/assets/colab-badge.svg)](https://colab.research.google.com/github/itmorn/AI.handbook/blob/main/DL/torch/nn/Dropout/AlphaDropout.ipynb)"
   ]
  },
  {
   "attachments": {},
   "cell_type": "markdown",
   "id": "14a8662b",
   "metadata": {},
   "source": [
    "# AlphaDropout\n",
    "\n",
    "这个是配合SELU激活函数用的一种Dropout Technique，在论文[Self-Normalizing Neural Networks](https://arxiv.org/pdf/1706.02515.pdf)中有提到。\n",
    "\n",
    "先挖个坑，这里的理论着实有点繁琐，单纯的介绍数值运算是没有太大意义的。"
   ]
  },
  {
   "attachments": {},
   "cell_type": "markdown",
   "id": "1154b863",
   "metadata": {},
   "source": [
    "# 参考资料\n",
    "https://github.com/pytorch/pytorch/blob/6faa6c68e8b76fb68f3a2b2783685102d0e87c00/aten/src/ATen/native/Dropout.cpp#L78\n",
    "\n",
    "https://towardsdatascience.com/selu-make-fnns-great-again-snn-8d61526802a9\n",
    "\n",
    "https://www.bilibili.com/video/BV1Qx411V75S/?vd_source=a0ed88162ba357c3f44aa427ad89574b\n",
    "\n"
   ]
  }
 ],
 "metadata": {
  "kernelspec": {
   "display_name": "Python 3.8.13 ('general38')",
   "language": "python",
   "name": "python3"
  },
  "language_info": {
   "codemirror_mode": {
    "name": "ipython",
    "version": 3
   },
   "file_extension": ".py",
   "mimetype": "text/x-python",
   "name": "python",
   "nbconvert_exporter": "python",
   "pygments_lexer": "ipython3",
   "version": "3.8.13"
  },
  "vscode": {
   "interpreter": {
    "hash": "4e00c79739f2fdf113306667eb0b8e68d4274855301e6df90bc305a954991b52"
   }
  }
 },
 "nbformat": 4,
 "nbformat_minor": 5
}
