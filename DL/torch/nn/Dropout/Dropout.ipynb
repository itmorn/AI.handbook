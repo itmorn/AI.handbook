{
 "cells": [
  {
   "attachments": {},
   "cell_type": "markdown",
   "id": "36e625b5",
   "metadata": {},
   "source": [
    "[![](https://colab.research.google.com/assets/colab-badge.svg)](https://colab.research.google.com/github/itmorn/AI.handbook/blob/main/DL/torch/nn/Dropout/Dropout.ipynb)"
   ]
  },
  {
   "attachments": {},
   "cell_type": "markdown",
   "id": "14a8662b",
   "metadata": {},
   "source": [
    "# Dropout\n",
    "在训练过程中，使用来自伯努利分布的样本，以概率p随机归零输入张量的一些元素。  \n",
    "这已被证明是一种有效的技术正则化和防止神经元的共适应，参考论文[Improving neural networks by preventing co-adaptation of feature detectors](https://arxiv.org/abs/1207.0580)。  \n",
    "此外，在训练期间，输出将按$\\frac{1}{1-p}$缩放；在评估过程中，模块只计算一个恒等函数。\n",
    "\n",
    "**定义**：   \n",
    "torch.nn.Dropout(p=0.5, inplace=False)\n",
    "\n",
    "**参数**：  \n",
    "- p (float) – probability of an element to be zeroed. Default: 0.5  一个元素被归零的概率。默认值:0.5\n",
    "\n",
    "- inplace (bool) – If set to True, will do this operation in-place. Default: False  如果设置为True，将就地执行此操作。默认值:False"
   ]
  },
  {
   "attachments": {},
   "cell_type": "markdown",
   "id": "38fd4b85",
   "metadata": {},
   "source": [
    "# 图解前向过程\n",
    "    \n",
    "<p align=\"center\">\n",
    "<img src=\"./imgs/Dropout.svg\"\n",
    "    width=\"2000\" /></p>\n"
   ]
  },
  {
   "cell_type": "code",
   "execution_count": 46,
   "id": "8a5a4e07",
   "metadata": {},
   "outputs": [
    {
     "name": "stdout",
     "output_type": "stream",
     "text": [
      "input:\n",
      " tensor([[-2.1188,  0.0635, -1.4555],\n",
      "        [-0.0126, -0.1548, -0.0927],\n",
      "        [ 2.5916,  0.4542, -0.6890],\n",
      "        [-0.9962,  0.1856,  0.1476]]) \n",
      "\n",
      "output:\n",
      " tensor([[-3.5313,  0.1059, -2.4258],\n",
      "        [-0.0209, -0.2581, -0.1546],\n",
      "        [ 4.3193,  0.0000, -1.1484],\n",
      "        [-1.6603,  0.0000,  0.2461]]) \n",
      "\n",
      "由output还原input:\n",
      " tensor([[-2.1188,  0.0635, -1.4555],\n",
      "        [-0.0126, -0.1548, -0.0927],\n",
      "        [ 2.5916,  0.0000, -0.6890],\n",
      "        [-0.9962,  0.0000,  0.1476]]) 可以看到将输出还原为输入（有值的位置）\n",
      "\n",
      "output:\n",
      " tensor([[-2.1188,  0.0635, -1.4555],\n",
      "        [-0.0126, -0.1548, -0.0927],\n",
      "        [ 2.5916,  0.4542, -0.6890],\n",
      "        [-0.9962,  0.1856,  0.1476]]) 评估阶段，Dropout不改变输入的值\n",
      "\n"
     ]
    }
   ],
   "source": [
    "# 调包计算\n",
    "import torch\n",
    "import torch.nn as nn\n",
    "torch.manual_seed(666)\n",
    "input = torch.randn(4, 3)\n",
    "\n",
    "p=0.4\n",
    "m = nn.Dropout(p=p)\n",
    "print(\"input:\\n\", input, \"\\n\")\n",
    "\n",
    "m.train()\n",
    "output = m(input)\n",
    "print(\"output:\\n\", output, \"\\n\")\n",
    "print(\"由output还原input:\\n\", output*(1-p), \"可以看到将输出还原为输入（有值的位置）\\n\")\n",
    "\n",
    "m.eval()\n",
    "output = m(input)\n",
    "print(\"output:\\n\", output, \"评估阶段，Dropout不改变输入的值\\n\")"
   ]
  }
 ],
 "metadata": {
  "kernelspec": {
   "display_name": "Python 3.8.13 ('general38')",
   "language": "python",
   "name": "python3"
  },
  "language_info": {
   "codemirror_mode": {
    "name": "ipython",
    "version": 3
   },
   "file_extension": ".py",
   "mimetype": "text/x-python",
   "name": "python",
   "nbconvert_exporter": "python",
   "pygments_lexer": "ipython3",
   "version": "3.8.13"
  },
  "vscode": {
   "interpreter": {
    "hash": "4e00c79739f2fdf113306667eb0b8e68d4274855301e6df90bc305a954991b52"
   }
  }
 },
 "nbformat": 4,
 "nbformat_minor": 5
}
