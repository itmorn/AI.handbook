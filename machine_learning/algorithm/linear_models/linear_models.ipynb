{
 "cells": [
  {
   "cell_type": "markdown",
   "id": "36e625b5",
   "metadata": {},
   "source": [
    "[![](https://colab.research.google.com/assets/colab-badge.svg)](https://colab.research.google.com/github/itmorn/AI.handbook/blob/main/machine_learning/algorithm/linear_models/linear_models.ipynb)"
   ]
  },
  {
   "cell_type": "markdown",
   "id": "87b3bbdf",
   "metadata": {},
   "source": [
    "# 线性模型引题\n",
    "在日常生活中，有很多场景都藏着线性模型(Linear Models)的影子，或者说，都可以尝试使用线性模型来建模，比如：\n",
    "- 孩子的身高$y$ 和 父母平均身高$x$的关系。\n",
    "- 森林受火灾影响程度$y$ 和 当时气温$x^{(1)}$、风力$x^{(2)}$的关系。\n",
    "- 肿瘤为恶性的概率$y$ 和 肿瘤尺寸$x$的关系。\n",
    "\n",
    "![](./imgs/Galton_height.png)"
   ]
  },
  {
   "cell_type": "markdown",
   "id": "e90416c9",
   "metadata": {},
   "source": [
    "# 线性模型的基本形式——线性回归\n",
    "**回归(regression)** 一词最早由英国著名生物学家兼统计学家Galton提出(1886年)，他当时是在研究孩子的身高和父母平均身高的关系，最终他得出的线性回归(linear regression)模型为：\n",
    "<center>  \n",
    "\n",
    "$\\hat{y}(x)=33.73+0.516x$\n",
    "</center>\n",
    "\n",
    "其中，33.73为截距，0.516为斜率，都属于该模型的参数。  \n",
    "\n",
    "将影响预测值的因素扩展到n个：  \n",
    "$\\hat{y}(x) = w_0 + w_1 x^{(1)} + ... + w_n x^{(n)}$  \n",
    "\n",
    "再进行向量化：  \n",
    "$\\hat{y}(x) = w_0 + \\mathbf{w} \\mathbf{x} $  \n"
   ]
  },
  {
   "cell_type": "markdown",
   "id": "6bf5fb05",
   "metadata": {},
   "source": [
    "# 线性模型的广义形式——广义线性模型\n",
    "在上述Galton的例子中，假设有一个样本为$(x_i,y_i)$，模型对该样本的预测值为$\\hat{y_i}$。\n",
    "我们可以发现，Galton在建模时，他是直接用 $x_i$ 去拟合 $y_i$ 的值。\n",
    "\n",
    "那么，我们是否可以用$x_i$ 去拟合 一些$y_i$ 的衍生物呢？比如说：  \n",
    "$ln(\\hat{y}(x)) = w_0 + \\mathbf{w} \\mathbf{x}$  \n",
    "\n",
    "当然可以，这其实就是“对数线性回归”(log-linear regression)。究其本质，就是**在线性回归的基础上加了一个非线性函数映射**，这样的模型，我们称为“广义线性模型”(generalized linear model)\n",
    "\n"
   ]
  },
  {
   "cell_type": "markdown",
   "id": "0a3f5910",
   "metadata": {},
   "source": [
    "# 未来内容安排\n",
    "未来我们会深入讲解很多线性模型，比如，普通最小二乘回归、Lasso回归、Ridge回归，以及能做分类任务的Logistic回归等。至于非线性模型，我们也会讲很多，比如树模型、概率模型等。\n"
   ]
  }
 ],
 "metadata": {
  "kernelspec": {
   "display_name": "Python 3.8.13 ('general38')",
   "language": "python",
   "name": "python3"
  },
  "language_info": {
   "codemirror_mode": {
    "name": "ipython",
    "version": 3
   },
   "file_extension": ".py",
   "mimetype": "text/x-python",
   "name": "python",
   "nbconvert_exporter": "python",
   "pygments_lexer": "ipython3",
   "version": "3.8.13"
  },
  "vscode": {
   "interpreter": {
    "hash": "4e00c79739f2fdf113306667eb0b8e68d4274855301e6df90bc305a954991b52"
   }
  }
 },
 "nbformat": 4,
 "nbformat_minor": 5
}
