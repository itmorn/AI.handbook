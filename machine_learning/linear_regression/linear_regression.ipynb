{
 "cells": [
  {
   "cell_type": "markdown",
   "id": "36e625b5",
   "metadata": {},
   "source": [
    "[![](https://colab.research.google.com/assets/colab-badge.svg)](https://colab.research.google.com/github/itmorn/AI.handbook/blob/main/machine_learning/linear_regression/linear_regression.ipynb)"
   ]
  },
  {
   "cell_type": "markdown",
   "id": "87b3bbdf",
   "metadata": {},
   "source": [
    "# why线性模型"
   ]
  },
  {
   "cell_type": "markdown",
   "id": "e90416c9",
   "metadata": {},
   "source": [
    "# 线性模型的基本形式——线性回归"
   ]
  },
  {
   "cell_type": "markdown",
   "id": "6bf5fb05",
   "metadata": {},
   "source": [
    "# 线性模型的广义形式——广义线性模型"
   ]
  },
  {
   "cell_type": "markdown",
   "id": "0cafa7bd",
   "metadata": {},
   "source": [
    "# 线性模型的五个基本假设"
   ]
  },
  {
   "cell_type": "markdown",
   "id": "43bffd68",
   "metadata": {},
   "source": [
    "## 假设1：线性关系"
   ]
  },
  {
   "cell_type": "markdown",
   "id": "a7699c34",
   "metadata": {},
   "source": [
    "## 假设2："
   ]
  },
  {
   "cell_type": "markdown",
   "id": "78102bae",
   "metadata": {},
   "source": [
    "# 参考资料\n",
    "\n",
    "[《人工智能导论：模型与算法》](https://item.jd.com/12653461.html)\n",
    "\n",
    "[《统计学习方法》](https://item.jd.com/12522197.html)\n",
    "\n",
    "[《机器学习》](https://item.jd.com/12762673.html)\n",
    "\n",
    "[FIVE KEY ASSUMPTIONS OF LINEAR REGRESSION ALGORITHM](https://dataaspirant.com/assumptions-of-linear-regression-algorithm/)"
   ]
  }
 ],
 "metadata": {
  "kernelspec": {
   "display_name": "Python 3.8.13 ('general38')",
   "language": "python",
   "name": "python3"
  },
  "language_info": {
   "codemirror_mode": {
    "name": "ipython",
    "version": 3
   },
   "file_extension": ".py",
   "mimetype": "text/x-python",
   "name": "python",
   "nbconvert_exporter": "python",
   "pygments_lexer": "ipython3",
   "version": "3.8.13"
  },
  "vscode": {
   "interpreter": {
    "hash": "4e00c79739f2fdf113306667eb0b8e68d4274855301e6df90bc305a954991b52"
   }
  }
 },
 "nbformat": 4,
 "nbformat_minor": 5
}
